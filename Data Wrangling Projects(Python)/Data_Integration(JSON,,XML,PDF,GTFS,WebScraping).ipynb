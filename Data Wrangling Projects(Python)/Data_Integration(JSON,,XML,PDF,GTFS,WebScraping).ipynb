{
 "cells": [
  {
   "cell_type": "markdown",
   "metadata": {
    "id": "yQKSYu3x3IjG"
   },
   "source": [
    "# FIT5196 Assessment 3\n",
    "#### Student Name: Pichaphop Sunthornjittanon\n",
    "#### Student ID: 31258301\n",
    "\n",
    "Date: 29/10/21\n",
    " ##############################\n",
    "\n",
    "Environment: Python 3.6.0 and Google Colab (Table of Contents are provided for Google Colab)\n",
    "\n",
    "# Introduction\n",
    "\n",
    "For this assessment, you are required to write Python code to integrate several datasets into one\n",
    "single schema and find and fix possible problems in the data."
   ]
  },
  {
   "cell_type": "markdown",
   "metadata": {
    "id": "F3lZYu-F3i5F"
   },
   "source": [
    "# Importing libraries & Mounting Google Drive"
   ]
  },
  {
   "cell_type": "code",
   "execution_count": 291,
   "metadata": {
    "colab": {
     "base_uri": "https://localhost:8080/"
    },
    "id": "oTqBXzpwgNZf",
    "outputId": "d70b1ab4-bb88-4a9f-f9a3-d15dbc222cfb"
   },
   "outputs": [
    {
     "name": "stdout",
     "output_type": "stream",
     "text": [
      "Requirement already satisfied: pdfminer.six==20181108 in /usr/local/lib/python3.7/dist-packages (20181108)\n",
      "Requirement already satisfied: sortedcontainers in /usr/local/lib/python3.7/dist-packages (from pdfminer.six==20181108) (2.4.0)\n",
      "Requirement already satisfied: pycryptodome in /usr/local/lib/python3.7/dist-packages (from pdfminer.six==20181108) (3.11.0)\n",
      "Requirement already satisfied: six in /usr/local/lib/python3.7/dist-packages (from pdfminer.six==20181108) (1.15.0)\n",
      "Requirement already satisfied: pyshp in /usr/local/lib/python3.7/dist-packages (2.1.3)\n"
     ]
    }
   ],
   "source": [
    "# Download pdfminer\n",
    "!pip install pdfminer.six==20181108\n",
    "\n",
    "# Download pyshp for shapefile \n",
    "!pip install pyshp\n",
    "\n",
    "# Use for import pdf file\n",
    "from io import StringIO\n",
    "from pdfminer.converter import TextConverter\n",
    "from pdfminer.layout import LAParams\n",
    "from pdfminer.pdfdocument import PDFDocument\n",
    "from pdfminer.pdfinterp import PDFResourceManager, PDFPageInterpreter\n",
    "from pdfminer.pdfpage import PDFPage\n",
    "from pdfminer.pdfparser import PDFParser\n",
    "\n",
    "# Use for dealing with dataframe\n",
    "import pandas as pd\n",
    "\n",
    "# Use for dealing with XML and  HTML files\n",
    "from bs4 import BeautifulSoup\n",
    "\n",
    "# Use for dealing with JSON files\n",
    "import json\n",
    "\n",
    "# Use for dealing with shapefiles\n",
    "import shapefile\n",
    "\n",
    "# Use for dealing with array\n",
    "import numpy as np\n",
    "\n",
    "# Use for drawing polygon\n",
    "from matplotlib.patches import Polygon\n",
    "\n",
    "# Use for converting string into list\n",
    "import ast\n",
    "\n",
    "# Use for dealing with regular expression\n",
    "import re\n",
    "\n",
    "# Use for dealing with datetime format\n",
    "import datetime\n",
    "\n",
    "# Use for opening URL\n",
    "from urllib.request import urlopen\n",
    "\n",
    "# Use for ploting\n",
    "import matplotlib.pyplot as plt \n",
    "\n",
    "# Use for preprocessing (scaling/standadising)\n",
    "from sklearn import preprocessing\n",
    "\n",
    "# Use for mathematic operation (log)\n",
    "import math\n",
    "\n",
    "# Use for preprocessing (power transformation)\n",
    "from sklearn.preprocessing import PowerTransformer\n",
    "\n",
    "# Use for linear regression\n",
    "from sklearn.linear_model import LinearRegression\n",
    "\n",
    "# Use for train test split\n",
    "from sklearn.model_selection import train_test_split\n",
    "\n",
    "# Use for calculating r square\n",
    "from sklearn.metrics import r2_score\n",
    "\n",
    "# Use for calculating mean squared error\n",
    "from sklearn.metrics import mean_squared_error"
   ]
  },
  {
   "cell_type": "code",
   "execution_count": 292,
   "metadata": {
    "colab": {
     "base_uri": "https://localhost:8080/"
    },
    "id": "7hZ36hMb4ACv",
    "outputId": "8e556c43-2a92-4d97-b586-13ade34469a4"
   },
   "outputs": [
    {
     "name": "stdout",
     "output_type": "stream",
     "text": [
      "Drive already mounted at /content/drive; to attempt to forcibly remount, call drive.mount(\"/content/drive\", force_remount=True).\n"
     ]
    }
   ],
   "source": [
    "# Mount Google Drive in the colab environment\n",
    "from google.colab import drive\n",
    "\n",
    "drive.mount('/content/drive') "
   ]
  },
  {
   "cell_type": "markdown",
   "metadata": {
    "id": "nCsnj07rxt2O"
   },
   "source": [
    "# Task 1: Data Integration (55%)\n",
    "\n",
    "In this task, you are required to integrate the input datasets from several sources into one dataset with the following schema(in the specification)."
   ]
  },
  {
   "cell_type": "markdown",
   "metadata": {
    "id": "jjNRI9vFVa_A"
   },
   "source": [
    "## 1.Getting **property_id,lat,lon and addr_street attributes** from xml and json files"
   ]
  },
  {
   "cell_type": "markdown",
   "metadata": {
    "id": "QiCHNxhYyVYN"
   },
   "source": [
    "In this section, our objective is to get data that contains following fields namely property_id, lat, lon and addr_street.\n",
    "\n",
    "To do that, we can get these attributes from the given xml and json files(31258301.xml and 31258301.json). Therefore, 3 sub-steps were performed, which are :\n",
    "\n",
    "1.1  Load 31258301.xml\n",
    "\n",
    "1.2  Load 31258301.json \n",
    "\n",
    "1.3 Integrate 2 XML and JSON data sources (location_xml_df and location_json_df)"
   ]
  },
  {
   "cell_type": "markdown",
   "metadata": {
    "id": "d68ZbnpoVqH2"
   },
   "source": [
    "### 1.1 Load  31258301.xml\n",
    "\n",
    "\n",
    "\n"
   ]
  },
  {
   "cell_type": "markdown",
   "metadata": {
    "id": "zFKj6Q2t1Fi0"
   },
   "source": [
    "We use BeautifulSoup to parse XML data and extract attributes by utilising Beautifulsoups methods. After that, we put extracted attributes into dataframe"
   ]
  },
  {
   "cell_type": "code",
   "execution_count": 293,
   "metadata": {
    "id": "itwwP4ztFh8a"
   },
   "outputs": [],
   "source": [
    "##### Load 31258301.xml (file) #####\n",
    "\n",
    "# Import 31258301.xml \n",
    "btree = BeautifulSoup(open(\"/content/drive/Shareddrives/FIT5196-s2-2021-tutorials/Assessment 3/student_data/xml/31258301.xml\"),\"lxml\") \n",
    "\n",
    "# Extract information in each column\n",
    "property_id = [feature.string for feature in btree.find_all('property_id')]\n",
    "lat = [feature.string for feature in btree.find_all('lat')]\n",
    "lng = [feature.string for feature in btree.find_all('lng')]\n",
    "addr_street = [feature.string for feature in btree.find_all('addr_street')]\n",
    "\n",
    "# Initialise dictionary\n",
    "dataDict = {}\n",
    "\n",
    "# Add each data to dictionary\n",
    "dataDict['property_id'] = property_id\n",
    "dataDict['lat'] = lat\n",
    "dataDict['lng'] = lng\n",
    "dataDict['addr_street'] = addr_street\n",
    "\n",
    "# Convert dictionary to dataframe\n",
    "location_xml_df = pd.DataFrame(dataDict)\n"
   ]
  },
  {
   "cell_type": "code",
   "execution_count": 294,
   "metadata": {
    "colab": {
     "base_uri": "https://localhost:8080/",
     "height": 204
    },
    "id": "33gObMLrl4y0",
    "outputId": "9e38a6ba-47c8-4df8-cdfb-8656fc824a19"
   },
   "outputs": [
    {
     "data": {
      "text/html": [
       "<div>\n",
       "<style scoped>\n",
       "    .dataframe tbody tr th:only-of-type {\n",
       "        vertical-align: middle;\n",
       "    }\n",
       "\n",
       "    .dataframe tbody tr th {\n",
       "        vertical-align: top;\n",
       "    }\n",
       "\n",
       "    .dataframe thead th {\n",
       "        text-align: right;\n",
       "    }\n",
       "</style>\n",
       "<table border=\"1\" class=\"dataframe\">\n",
       "  <thead>\n",
       "    <tr style=\"text-align: right;\">\n",
       "      <th></th>\n",
       "      <th>property_id</th>\n",
       "      <th>lat</th>\n",
       "      <th>lng</th>\n",
       "      <th>addr_street</th>\n",
       "    </tr>\n",
       "  </thead>\n",
       "  <tbody>\n",
       "    <tr>\n",
       "      <th>0</th>\n",
       "      <td>37646</td>\n",
       "      <td>-37.64603043</td>\n",
       "      <td>145.03019709999995</td>\n",
       "      <td>61 Davisson Street</td>\n",
       "    </tr>\n",
       "    <tr>\n",
       "      <th>1</th>\n",
       "      <td>37431</td>\n",
       "      <td>-37.655946</td>\n",
       "      <td>145.030604</td>\n",
       "      <td>403 Dalton Road</td>\n",
       "    </tr>\n",
       "    <tr>\n",
       "      <th>2</th>\n",
       "      <td>85591</td>\n",
       "      <td>-37.887565</td>\n",
       "      <td>145.006124</td>\n",
       "      <td>38 Orrong Road</td>\n",
       "    </tr>\n",
       "    <tr>\n",
       "      <th>3</th>\n",
       "      <td>77423</td>\n",
       "      <td>-37.92820800000001</td>\n",
       "      <td>145.184814</td>\n",
       "      <td>11 Southampton Drive</td>\n",
       "    </tr>\n",
       "    <tr>\n",
       "      <th>4</th>\n",
       "      <td>40541</td>\n",
       "      <td>-37.714607</td>\n",
       "      <td>145.032462</td>\n",
       "      <td>4 Bunker Avenue</td>\n",
       "    </tr>\n",
       "  </tbody>\n",
       "</table>\n",
       "</div>"
      ],
      "text/plain": [
       "  property_id                 lat                 lng           addr_street\n",
       "0       37646        -37.64603043  145.03019709999995    61 Davisson Street\n",
       "1       37431          -37.655946          145.030604       403 Dalton Road\n",
       "2       85591          -37.887565          145.006124        38 Orrong Road\n",
       "3       77423  -37.92820800000001          145.184814  11 Southampton Drive\n",
       "4       40541          -37.714607          145.032462       4 Bunker Avenue"
      ]
     },
     "execution_count": 294,
     "metadata": {},
     "output_type": "execute_result"
    }
   ],
   "source": [
    "# Show first 5 rows of location_xml_df\n",
    "location_xml_df.head()"
   ]
  },
  {
   "cell_type": "code",
   "execution_count": 295,
   "metadata": {
    "colab": {
     "base_uri": "https://localhost:8080/"
    },
    "id": "gJp4fFCQUW3v",
    "outputId": "bce2b489-d2a9-46ad-aa1e-692eafa81735"
   },
   "outputs": [
    {
     "name": "stdout",
     "output_type": "stream",
     "text": [
      "<class 'pandas.core.frame.DataFrame'>\n",
      "RangeIndex: 1159 entries, 0 to 1158\n",
      "Data columns (total 4 columns):\n",
      " #   Column       Non-Null Count  Dtype \n",
      "---  ------       --------------  ----- \n",
      " 0   property_id  1159 non-null   object\n",
      " 1   lat          1159 non-null   object\n",
      " 2   lng          1159 non-null   object\n",
      " 3   addr_street  1159 non-null   object\n",
      "dtypes: object(4)\n",
      "memory usage: 36.3+ KB\n"
     ]
    }
   ],
   "source": [
    "# Print information about location_xml_df to see data structure \n",
    "location_xml_df.info()"
   ]
  },
  {
   "cell_type": "markdown",
   "metadata": {
    "id": "DhjbtlJXWquQ"
   },
   "source": [
    "### 1.2 Load  31258301.json"
   ]
  },
  {
   "cell_type": "markdown",
   "metadata": {
    "id": "qc0UrdV5H0zv"
   },
   "source": [
    "We simply use pd.read_json to import json file into location_json_df dataframe"
   ]
  },
  {
   "cell_type": "code",
   "execution_count": 296,
   "metadata": {
    "id": "0tO6yt8nvoIJ"
   },
   "outputs": [],
   "source": [
    "# code to read the json file (Alternative way)\n",
    "# with open('/content/drive/Shareddrives/FIT5196-s2-2021-tutorials/Assessment 3/student_data/json/31258301.json') as json_file:\n",
    "#     data = json.load(json_file)\n",
    "\n",
    "# location_json_df = pd.json_normalize(data)\n",
    "\n",
    "# Load 31258301.json into location_json_df\n",
    "location_json_df = pd.read_json('/content/drive/Shareddrives/FIT5196-s2-2021-tutorials/Assessment 3/student_data/json/31258301.json')\n"
   ]
  },
  {
   "cell_type": "code",
   "execution_count": 297,
   "metadata": {
    "colab": {
     "base_uri": "https://localhost:8080/",
     "height": 204
    },
    "id": "kGnZCVs7lnw4",
    "outputId": "6f5993f3-c257-4809-e94e-dc8fa16fc98d"
   },
   "outputs": [
    {
     "data": {
      "text/html": [
       "<div>\n",
       "<style scoped>\n",
       "    .dataframe tbody tr th:only-of-type {\n",
       "        vertical-align: middle;\n",
       "    }\n",
       "\n",
       "    .dataframe tbody tr th {\n",
       "        vertical-align: top;\n",
       "    }\n",
       "\n",
       "    .dataframe thead th {\n",
       "        text-align: right;\n",
       "    }\n",
       "</style>\n",
       "<table border=\"1\" class=\"dataframe\">\n",
       "  <thead>\n",
       "    <tr style=\"text-align: right;\">\n",
       "      <th></th>\n",
       "      <th>property_id</th>\n",
       "      <th>lat</th>\n",
       "      <th>lng</th>\n",
       "      <th>addr_street</th>\n",
       "    </tr>\n",
       "  </thead>\n",
       "  <tbody>\n",
       "    <tr>\n",
       "      <th>0</th>\n",
       "      <td>67795</td>\n",
       "      <td>-37.762158</td>\n",
       "      <td>145.357421</td>\n",
       "      <td>Lot,4 Old Gippsland Road</td>\n",
       "    </tr>\n",
       "    <tr>\n",
       "      <th>1</th>\n",
       "      <td>17632</td>\n",
       "      <td>-37.698235</td>\n",
       "      <td>144.932258</td>\n",
       "      <td>70 Hilda Street</td>\n",
       "    </tr>\n",
       "    <tr>\n",
       "      <th>2</th>\n",
       "      <td>44106</td>\n",
       "      <td>-37.708801</td>\n",
       "      <td>145.098601</td>\n",
       "      <td>108 Nell Street</td>\n",
       "    </tr>\n",
       "    <tr>\n",
       "      <th>3</th>\n",
       "      <td>40410</td>\n",
       "      <td>-37.711241</td>\n",
       "      <td>145.055039</td>\n",
       "      <td>33 Grange Boulevard</td>\n",
       "    </tr>\n",
       "    <tr>\n",
       "      <th>4</th>\n",
       "      <td>92456</td>\n",
       "      <td>-37.979576</td>\n",
       "      <td>145.062678</td>\n",
       "      <td>85 Collins Street</td>\n",
       "    </tr>\n",
       "  </tbody>\n",
       "</table>\n",
       "</div>"
      ],
      "text/plain": [
       "   property_id        lat         lng               addr_street\n",
       "0        67795 -37.762158  145.357421  Lot,4 Old Gippsland Road\n",
       "1        17632 -37.698235  144.932258           70 Hilda Street\n",
       "2        44106 -37.708801  145.098601           108 Nell Street\n",
       "3        40410 -37.711241  145.055039       33 Grange Boulevard\n",
       "4        92456 -37.979576  145.062678         85 Collins Street"
      ]
     },
     "execution_count": 297,
     "metadata": {},
     "output_type": "execute_result"
    }
   ],
   "source": [
    "# Show first 5 rows of location_xml_df\n",
    "location_json_df.head()"
   ]
  },
  {
   "cell_type": "code",
   "execution_count": 298,
   "metadata": {
    "colab": {
     "base_uri": "https://localhost:8080/"
    },
    "id": "ST9RrJS-UdDm",
    "outputId": "4ba1a773-2fc5-4879-ee6e-3d6e2bc0cd5c"
   },
   "outputs": [
    {
     "name": "stdout",
     "output_type": "stream",
     "text": [
      "<class 'pandas.core.frame.DataFrame'>\n",
      "RangeIndex: 1163 entries, 0 to 1162\n",
      "Data columns (total 4 columns):\n",
      " #   Column       Non-Null Count  Dtype  \n",
      "---  ------       --------------  -----  \n",
      " 0   property_id  1163 non-null   int64  \n",
      " 1   lat          1163 non-null   float64\n",
      " 2   lng          1163 non-null   float64\n",
      " 3   addr_street  1163 non-null   object \n",
      "dtypes: float64(2), int64(1), object(1)\n",
      "memory usage: 36.5+ KB\n"
     ]
    }
   ],
   "source": [
    "# Print information about location_json_df to see data structure \n",
    "location_json_df.info()"
   ]
  },
  {
   "cell_type": "markdown",
   "metadata": {
    "id": "Uyxt2zliXWUs"
   },
   "source": [
    "### 1.3 Integrate 2 XML and JSON data sources (location_xml_df and location_json_df)"
   ]
  },
  {
   "cell_type": "markdown",
   "metadata": {
    "id": "tqUnwO10GcFh"
   },
   "source": [
    "As we can can see from the previous two data frame information, column data types of both table are not consistent.Before integrating them, converting datatype to appropriate format is performed beforehand. We will change datatype in location_xml_df columns to be consistent as location_json_df"
   ]
  },
  {
   "cell_type": "code",
   "execution_count": 299,
   "metadata": {
    "colab": {
     "base_uri": "https://localhost:8080/"
    },
    "id": "l7KhJ1wlX2Mj",
    "outputId": "bff0f739-48f5-4bd7-e88a-86058857856c"
   },
   "outputs": [
    {
     "name": "stdout",
     "output_type": "stream",
     "text": [
      "<class 'pandas.core.frame.DataFrame'>\n",
      "RangeIndex: 1159 entries, 0 to 1158\n",
      "Data columns (total 4 columns):\n",
      " #   Column       Non-Null Count  Dtype  \n",
      "---  ------       --------------  -----  \n",
      " 0   property_id  1159 non-null   int64  \n",
      " 1   lat          1159 non-null   float64\n",
      " 2   lng          1159 non-null   float64\n",
      " 3   addr_street  1159 non-null   object \n",
      "dtypes: float64(2), int64(1), object(1)\n",
      "memory usage: 36.3+ KB\n"
     ]
    }
   ],
   "source": [
    "# Convert datatype in location_xml_df\n",
    "location_xml_df['property_id'] = location_xml_df['property_id'].astype(int)\n",
    "location_xml_df['lat'] = location_xml_df['lat'].astype(float)\n",
    "location_xml_df['lng'] = location_xml_df['lng'].astype(float)\n",
    "location_xml_df.info()"
   ]
  },
  {
   "cell_type": "markdown",
   "metadata": {
    "id": "Qrvk_ivRHSRT"
   },
   "source": [
    "Once both dataframes have same data types, we combine them together using append method and create the variable name **final_df**\n",
    "\n",
    "* Remark : We will use final_df as a final dataframe before writing to csv output.In each section, new attributes will be added into final_df"
   ]
  },
  {
   "cell_type": "code",
   "execution_count": 300,
   "metadata": {
    "id": "EH_EkZI6Y7Y4"
   },
   "outputs": [],
   "source": [
    "# Combine 2 dataframe (location_xml_df and location_json_df) and create final_df\n",
    "final_df = location_xml_df.append(location_json_df,ignore_index=True)\n",
    "\n",
    "# Round lat and lng to 6 decimal places\n",
    "final_df['lat'] = round(final_df['lat'],6)\n",
    "final_df['lng'] = round(final_df['lng'],6)"
   ]
  },
  {
   "cell_type": "markdown",
   "metadata": {
    "id": "MXPk1fEKcuVX"
   },
   "source": [
    "After combining two data frame together, it is a good practice to check duplication among combined data. As a result, there are duplication in this data"
   ]
  },
  {
   "cell_type": "code",
   "execution_count": 301,
   "metadata": {
    "colab": {
     "base_uri": "https://localhost:8080/",
     "height": 793
    },
    "id": "ERqqBj7Gce89",
    "outputId": "041a06dc-ab0b-4b40-f245-2399144b19cb"
   },
   "outputs": [
    {
     "data": {
      "text/html": [
       "<div>\n",
       "<style scoped>\n",
       "    .dataframe tbody tr th:only-of-type {\n",
       "        vertical-align: middle;\n",
       "    }\n",
       "\n",
       "    .dataframe tbody tr th {\n",
       "        vertical-align: top;\n",
       "    }\n",
       "\n",
       "    .dataframe thead th {\n",
       "        text-align: right;\n",
       "    }\n",
       "</style>\n",
       "<table border=\"1\" class=\"dataframe\">\n",
       "  <thead>\n",
       "    <tr style=\"text-align: right;\">\n",
       "      <th></th>\n",
       "      <th>property_id</th>\n",
       "      <th>lat</th>\n",
       "      <th>lng</th>\n",
       "      <th>addr_street</th>\n",
       "    </tr>\n",
       "  </thead>\n",
       "  <tbody>\n",
       "    <tr>\n",
       "      <th>62</th>\n",
       "      <td>1008</td>\n",
       "      <td>-37.796477</td>\n",
       "      <td>144.897762</td>\n",
       "      <td>41 Geelong Road</td>\n",
       "    </tr>\n",
       "    <tr>\n",
       "      <th>1780</th>\n",
       "      <td>1008</td>\n",
       "      <td>-37.796477</td>\n",
       "      <td>144.897762</td>\n",
       "      <td>41 Geelong Road</td>\n",
       "    </tr>\n",
       "    <tr>\n",
       "      <th>1416</th>\n",
       "      <td>9221</td>\n",
       "      <td>-37.857510</td>\n",
       "      <td>144.717901</td>\n",
       "      <td>1 Huntley Terrace</td>\n",
       "    </tr>\n",
       "    <tr>\n",
       "      <th>1357</th>\n",
       "      <td>9221</td>\n",
       "      <td>-37.857510</td>\n",
       "      <td>144.717901</td>\n",
       "      <td>1 Huntley Terrace</td>\n",
       "    </tr>\n",
       "    <tr>\n",
       "      <th>901</th>\n",
       "      <td>11138</td>\n",
       "      <td>-37.783114</td>\n",
       "      <td>144.935049</td>\n",
       "      <td>140-142 Mt Alexander Road</td>\n",
       "    </tr>\n",
       "    <tr>\n",
       "      <th>2098</th>\n",
       "      <td>11138</td>\n",
       "      <td>-37.783114</td>\n",
       "      <td>144.935049</td>\n",
       "      <td>140-142 Mt Alexander Road</td>\n",
       "    </tr>\n",
       "    <tr>\n",
       "      <th>958</th>\n",
       "      <td>14118</td>\n",
       "      <td>-37.759359</td>\n",
       "      <td>144.905041</td>\n",
       "      <td>24 Aberfeldie Street</td>\n",
       "    </tr>\n",
       "    <tr>\n",
       "      <th>892</th>\n",
       "      <td>14118</td>\n",
       "      <td>-37.759359</td>\n",
       "      <td>144.905041</td>\n",
       "      <td>24 Aberfeldie Street</td>\n",
       "    </tr>\n",
       "    <tr>\n",
       "      <th>2279</th>\n",
       "      <td>17632</td>\n",
       "      <td>-37.698235</td>\n",
       "      <td>144.932258</td>\n",
       "      <td>70 Hilda Street</td>\n",
       "    </tr>\n",
       "    <tr>\n",
       "      <th>1160</th>\n",
       "      <td>17632</td>\n",
       "      <td>-37.698235</td>\n",
       "      <td>144.932258</td>\n",
       "      <td>70 Hilda Street</td>\n",
       "    </tr>\n",
       "    <tr>\n",
       "      <th>1155</th>\n",
       "      <td>17632</td>\n",
       "      <td>-37.698235</td>\n",
       "      <td>144.932258</td>\n",
       "      <td>70 Hilda Street</td>\n",
       "    </tr>\n",
       "    <tr>\n",
       "      <th>1353</th>\n",
       "      <td>19449</td>\n",
       "      <td>-37.665088</td>\n",
       "      <td>144.935938</td>\n",
       "      <td>460 Barry Road</td>\n",
       "    </tr>\n",
       "    <tr>\n",
       "      <th>255</th>\n",
       "      <td>19449</td>\n",
       "      <td>-37.665088</td>\n",
       "      <td>144.935938</td>\n",
       "      <td>460 Barry Road</td>\n",
       "    </tr>\n",
       "    <tr>\n",
       "      <th>785</th>\n",
       "      <td>19515</td>\n",
       "      <td>-37.675060</td>\n",
       "      <td>144.905524</td>\n",
       "      <td>1 Redan Court</td>\n",
       "    </tr>\n",
       "    <tr>\n",
       "      <th>1114</th>\n",
       "      <td>19515</td>\n",
       "      <td>-37.675060</td>\n",
       "      <td>144.905524</td>\n",
       "      <td>1 Redan Court</td>\n",
       "    </tr>\n",
       "    <tr>\n",
       "      <th>2145</th>\n",
       "      <td>19515</td>\n",
       "      <td>-37.675060</td>\n",
       "      <td>144.905524</td>\n",
       "      <td>1 Redan Court</td>\n",
       "    </tr>\n",
       "    <tr>\n",
       "      <th>444</th>\n",
       "      <td>19585</td>\n",
       "      <td>-37.671379</td>\n",
       "      <td>144.893938</td>\n",
       "      <td>14 Gatehouse Drive</td>\n",
       "    </tr>\n",
       "    <tr>\n",
       "      <th>911</th>\n",
       "      <td>19585</td>\n",
       "      <td>-37.671379</td>\n",
       "      <td>144.893938</td>\n",
       "      <td>14 Gatehouse Drive</td>\n",
       "    </tr>\n",
       "    <tr>\n",
       "      <th>1515</th>\n",
       "      <td>20017</td>\n",
       "      <td>-37.796028</td>\n",
       "      <td>144.972621</td>\n",
       "      <td>11 Pitt Street</td>\n",
       "    </tr>\n",
       "    <tr>\n",
       "      <th>2120</th>\n",
       "      <td>20017</td>\n",
       "      <td>-37.796028</td>\n",
       "      <td>144.972621</td>\n",
       "      <td>11 Pitt Street</td>\n",
       "    </tr>\n",
       "    <tr>\n",
       "      <th>2160</th>\n",
       "      <td>22369</td>\n",
       "      <td>-37.747563</td>\n",
       "      <td>144.967898</td>\n",
       "      <td>24 Hatton Grove</td>\n",
       "    </tr>\n",
       "    <tr>\n",
       "      <th>1278</th>\n",
       "      <td>22369</td>\n",
       "      <td>-37.747563</td>\n",
       "      <td>144.967898</td>\n",
       "      <td>24 Hatton Grove</td>\n",
       "    </tr>\n",
       "    <tr>\n",
       "      <th>1317</th>\n",
       "      <td>33600</td>\n",
       "      <td>-37.720016</td>\n",
       "      <td>145.024628</td>\n",
       "      <td>11 Charlton  Crescent</td>\n",
       "    </tr>\n",
       "    <tr>\n",
       "      <th>1720</th>\n",
       "      <td>33600</td>\n",
       "      <td>-37.720016</td>\n",
       "      <td>145.024628</td>\n",
       "      <td>11 Charlton  Crescent</td>\n",
       "    </tr>\n",
       "  </tbody>\n",
       "</table>\n",
       "</div>"
      ],
      "text/plain": [
       "      property_id        lat         lng                addr_street\n",
       "62           1008 -37.796477  144.897762            41 Geelong Road\n",
       "1780         1008 -37.796477  144.897762            41 Geelong Road\n",
       "1416         9221 -37.857510  144.717901          1 Huntley Terrace\n",
       "1357         9221 -37.857510  144.717901          1 Huntley Terrace\n",
       "901         11138 -37.783114  144.935049  140-142 Mt Alexander Road\n",
       "2098        11138 -37.783114  144.935049  140-142 Mt Alexander Road\n",
       "958         14118 -37.759359  144.905041       24 Aberfeldie Street\n",
       "892         14118 -37.759359  144.905041       24 Aberfeldie Street\n",
       "2279        17632 -37.698235  144.932258            70 Hilda Street\n",
       "1160        17632 -37.698235  144.932258            70 Hilda Street\n",
       "1155        17632 -37.698235  144.932258            70 Hilda Street\n",
       "1353        19449 -37.665088  144.935938             460 Barry Road\n",
       "255         19449 -37.665088  144.935938             460 Barry Road\n",
       "785         19515 -37.675060  144.905524              1 Redan Court\n",
       "1114        19515 -37.675060  144.905524              1 Redan Court\n",
       "2145        19515 -37.675060  144.905524              1 Redan Court\n",
       "444         19585 -37.671379  144.893938         14 Gatehouse Drive\n",
       "911         19585 -37.671379  144.893938         14 Gatehouse Drive\n",
       "1515        20017 -37.796028  144.972621             11 Pitt Street\n",
       "2120        20017 -37.796028  144.972621             11 Pitt Street\n",
       "2160        22369 -37.747563  144.967898            24 Hatton Grove\n",
       "1278        22369 -37.747563  144.967898            24 Hatton Grove\n",
       "1317        33600 -37.720016  145.024628      11 Charlton  Crescent\n",
       "1720        33600 -37.720016  145.024628      11 Charlton  Crescent"
      ]
     },
     "execution_count": 301,
     "metadata": {},
     "output_type": "execute_result"
    }
   ],
   "source": [
    "# Explore for potential duplication\n",
    "final_df[final_df.duplicated('property_id',keep = False)].sort_values('property_id').head(24)"
   ]
  },
  {
   "cell_type": "markdown",
   "metadata": {
    "id": "Ug-WemcMJt0O"
   },
   "source": [
    "After we found duplication and explore duplicate pattern, we can simply remove them and keep only first elements in the data."
   ]
  },
  {
   "cell_type": "code",
   "execution_count": 302,
   "metadata": {
    "id": "OGmE0LykguWc"
   },
   "outputs": [],
   "source": [
    "# Deduplicate\n",
    "final_df.drop_duplicates('property_id',keep ='first',inplace= True)\n",
    "final_df.reset_index(inplace= True,drop=True)"
   ]
  },
  {
   "cell_type": "code",
   "execution_count": 303,
   "metadata": {
    "colab": {
     "base_uri": "https://localhost:8080/"
    },
    "id": "KgoFsVYqKOpt",
    "outputId": "b2a72dc1-09fb-4341-a5ef-167f57418ca2"
   },
   "outputs": [
    {
     "name": "stdout",
     "output_type": "stream",
     "text": [
      "<class 'pandas.core.frame.DataFrame'>\n",
      "RangeIndex: 2286 entries, 0 to 2285\n",
      "Data columns (total 4 columns):\n",
      " #   Column       Non-Null Count  Dtype  \n",
      "---  ------       --------------  -----  \n",
      " 0   property_id  2286 non-null   int64  \n",
      " 1   lat          2286 non-null   float64\n",
      " 2   lng          2286 non-null   float64\n",
      " 3   addr_street  2286 non-null   object \n",
      "dtypes: float64(2), int64(1), object(1)\n",
      "memory usage: 71.6+ KB\n"
     ]
    }
   ],
   "source": [
    "# Info of final_df\n",
    "final_df.info()"
   ]
  },
  {
   "cell_type": "code",
   "execution_count": 304,
   "metadata": {
    "colab": {
     "base_uri": "https://localhost:8080/",
     "height": 297
    },
    "id": "jJzkCltZKVe3",
    "outputId": "3eb47f1f-e4f3-40c7-e313-899378572610"
   },
   "outputs": [
    {
     "data": {
      "text/html": [
       "<div>\n",
       "<style scoped>\n",
       "    .dataframe tbody tr th:only-of-type {\n",
       "        vertical-align: middle;\n",
       "    }\n",
       "\n",
       "    .dataframe tbody tr th {\n",
       "        vertical-align: top;\n",
       "    }\n",
       "\n",
       "    .dataframe thead th {\n",
       "        text-align: right;\n",
       "    }\n",
       "</style>\n",
       "<table border=\"1\" class=\"dataframe\">\n",
       "  <thead>\n",
       "    <tr style=\"text-align: right;\">\n",
       "      <th></th>\n",
       "      <th>property_id</th>\n",
       "      <th>lat</th>\n",
       "      <th>lng</th>\n",
       "    </tr>\n",
       "  </thead>\n",
       "  <tbody>\n",
       "    <tr>\n",
       "      <th>count</th>\n",
       "      <td>2286.000000</td>\n",
       "      <td>2286.000000</td>\n",
       "      <td>2286.000000</td>\n",
       "    </tr>\n",
       "    <tr>\n",
       "      <th>mean</th>\n",
       "      <td>48112.740157</td>\n",
       "      <td>-37.804515</td>\n",
       "      <td>145.043286</td>\n",
       "    </tr>\n",
       "    <tr>\n",
       "      <th>std</th>\n",
       "      <td>27859.320327</td>\n",
       "      <td>0.097457</td>\n",
       "      <td>0.135191</td>\n",
       "    </tr>\n",
       "    <tr>\n",
       "      <th>min</th>\n",
       "      <td>10.000000</td>\n",
       "      <td>-38.077245</td>\n",
       "      <td>144.637373</td>\n",
       "    </tr>\n",
       "    <tr>\n",
       "      <th>25%</th>\n",
       "      <td>24447.750000</td>\n",
       "      <td>-37.861441</td>\n",
       "      <td>144.950020</td>\n",
       "    </tr>\n",
       "    <tr>\n",
       "      <th>50%</th>\n",
       "      <td>47695.500000</td>\n",
       "      <td>-37.797992</td>\n",
       "      <td>145.035437</td>\n",
       "    </tr>\n",
       "    <tr>\n",
       "      <th>75%</th>\n",
       "      <td>72120.500000</td>\n",
       "      <td>-37.739245</td>\n",
       "      <td>145.125618</td>\n",
       "    </tr>\n",
       "    <tr>\n",
       "      <th>max</th>\n",
       "      <td>97059.000000</td>\n",
       "      <td>-37.570559</td>\n",
       "      <td>145.374847</td>\n",
       "    </tr>\n",
       "  </tbody>\n",
       "</table>\n",
       "</div>"
      ],
      "text/plain": [
       "        property_id          lat          lng\n",
       "count   2286.000000  2286.000000  2286.000000\n",
       "mean   48112.740157   -37.804515   145.043286\n",
       "std    27859.320327     0.097457     0.135191\n",
       "min       10.000000   -38.077245   144.637373\n",
       "25%    24447.750000   -37.861441   144.950020\n",
       "50%    47695.500000   -37.797992   145.035437\n",
       "75%    72120.500000   -37.739245   145.125618\n",
       "max    97059.000000   -37.570559   145.374847"
      ]
     },
     "execution_count": 304,
     "metadata": {},
     "output_type": "execute_result"
    }
   ],
   "source": [
    "# Print final_df statistics \n",
    "final_df.describe()"
   ]
  },
  {
   "cell_type": "markdown",
   "metadata": {
    "id": "uZ7xILdOKor8"
   },
   "source": [
    "As a result, we get property_id,lat,lon and addr_street from xml and json files"
   ]
  },
  {
   "cell_type": "markdown",
   "metadata": {
    "id": "GOlEcnk4qioR"
   },
   "source": [
    "## 2.Getting **suburb attribute** from Vic_suburd_boundary shapefiles"
   ]
  },
  {
   "cell_type": "markdown",
   "metadata": {
    "id": "Tgn4LT_NLyPQ"
   },
   "source": [
    "Next, we want to add surburb attribute into final_df dataframe. To do that, we utilise 3 given shapefile from Vic_suburd_boundary directory. Four steps were performed, which are\n",
    "\n",
    "2.1 Load 3 shapefiles from Vic_suburd_boundary directory\n",
    "\n",
    "2.2 Create list of tuple (Suburb name, Polygon object)\n",
    "\n",
    "2.3 Find suburbs of given latitudes & lontitudes and add them back to final_df"
   ]
  },
  {
   "cell_type": "markdown",
   "metadata": {
    "id": "OwoMDquJq4jA"
   },
   "source": [
    "### 2.1 Load 3 shapefiles from Vic_suburd_boundary directory"
   ]
  },
  {
   "cell_type": "markdown",
   "metadata": {
    "id": "OunhQoRkRrCk"
   },
   "source": [
    "First, we load three shape files using shapefile.Reader, then stores records and shapes into recs and shapes variables respectively"
   ]
  },
  {
   "cell_type": "code",
   "execution_count": 305,
   "metadata": {
    "id": "X4JJ6TfpgmM4"
   },
   "outputs": [],
   "source": [
    "# Read shape file (3 files)\n",
    "sf = shapefile.Reader(\"/content/drive/Shareddrives/FIT5196-s2-2021-tutorials/Assessment 3/supplementary_data/vic_suburb_bounadry/VIC_LOCALITY_POLYGON_shp\") \n",
    "recs = sf.records()\n",
    "shapes = sf.shapes()"
   ]
  },
  {
   "cell_type": "markdown",
   "metadata": {
    "id": "iCAIVxpNN9BQ"
   },
   "source": [
    "### 2.2 Create list of tuple (Suburb name, Polygon object)"
   ]
  },
  {
   "cell_type": "markdown",
   "metadata": {
    "id": "UChGFgrmR8N-"
   },
   "source": [
    "Next, we extract suburb name from recs and Polygon object from shapes (will use for identifying suburb of given lat and lon) stored in list of tuple format"
   ]
  },
  {
   "cell_type": "code",
   "execution_count": 306,
   "metadata": {
    "id": "qUD63N2DoWo1"
   },
   "outputs": [],
   "source": [
    "# Get the length of shapes\n",
    "Nshp = len(shapes)\n",
    "\n",
    "# Initialise ptchs list\n",
    "ptchs= []\n",
    "\n",
    "# for each nshp\n",
    "for nshp in range(Nshp): \n",
    "    pts     = np.array(shapes[nshp].points)\n",
    "    prt     = shapes[nshp].parts\n",
    "    par     = list(prt) + [pts.shape[0]]\n",
    "\n",
    "    for pij in range(len(prt)): \n",
    "        ptchs.append((recs[nshp][6],Polygon(pts[par[pij]:par[pij+1]])))\n"
   ]
  },
  {
   "cell_type": "code",
   "execution_count": 307,
   "metadata": {
    "colab": {
     "base_uri": "https://localhost:8080/"
    },
    "id": "p5X4CxlwNYqB",
    "outputId": "9689adc9-00f2-4e76-f746-a120e68b2c8e"
   },
   "outputs": [
    {
     "data": {
      "text/plain": [
       "[('UNDERBOOL', <matplotlib.patches.Polygon at 0x7f82bd41cf10>),\n",
       " ('NURRAN', <matplotlib.patches.Polygon at 0x7f82a1f6f290>),\n",
       " ('WOORNDOO', <matplotlib.patches.Polygon at 0x7f82bd41f350>),\n",
       " ('DEPTFORD', <matplotlib.patches.Polygon at 0x7f82bd41f3d0>),\n",
       " ('YANAC', <matplotlib.patches.Polygon at 0x7f82bd41f690>)]"
      ]
     },
     "execution_count": 307,
     "metadata": {},
     "output_type": "execute_result"
    }
   ],
   "source": [
    "# Show sample of ptchs list\n",
    "ptchs[0:5]"
   ]
  },
  {
   "cell_type": "markdown",
   "metadata": {
    "id": "R6Nu8pxuOcQr"
   },
   "source": [
    "### 2.3 Find suburbs of given latitudes & lontitudes and add them back to final_df"
   ]
  },
  {
   "cell_type": "markdown",
   "metadata": {
    "id": "aHXbKBPeTaS9"
   },
   "source": [
    "In this part, we traverse across final_df in each row to get lat and lon. We use lat and lon in each row to find suburb that lat and lon belong to using ptchs (list of tuple) that we created in previous section. Once, we identified suburb in each row, we add to suburb list and used that list to add back to final_df. \n",
    "\n",
    "Remark: If there is no suburb for the given lat and lon, default value is assigned (not available)"
   ]
  },
  {
   "cell_type": "code",
   "execution_count": 308,
   "metadata": {
    "id": "qvCx_5z5rgX3"
   },
   "outputs": [],
   "source": [
    "# Initialise suburb list and prev_list_len\n",
    "suburbs_list = []\n",
    "prev_list_len = len(suburbs_list)\n",
    "\n",
    "# In each iteration find the suburb that lat & lon belong to\n",
    "for index,row in final_df.iterrows():\n",
    "\n",
    "\n",
    "  for i in range(len(ptchs)):\n",
    "      if ptchs[i][1].contains_point((float(row['lng']),float(row['lat']))):\n",
    "          suburbs_list.append(ptchs[i][0])\n",
    "\n",
    "  # Find current iteration suburbs_list length\n",
    "  cur_list_len = len(suburbs_list)\n",
    "\n",
    "  # If lat/lng cannot be found from the given Polygon add default value(not available) to the list\n",
    "  if cur_list_len == prev_list_len :\n",
    "    suburbs_list.append(\"not available\")\n",
    "\n",
    "  # create previous iteration suburbs_list length\n",
    "  prev_list_len = cur_list_len"
   ]
  },
  {
   "cell_type": "code",
   "execution_count": 309,
   "metadata": {
    "id": "gEQTXfSLuqdi"
   },
   "outputs": [],
   "source": [
    "# Add suburb to final_df\n",
    "final_df['suburb'] = suburbs_list"
   ]
  },
  {
   "cell_type": "code",
   "execution_count": 310,
   "metadata": {
    "colab": {
     "base_uri": "https://localhost:8080/",
     "height": 204
    },
    "id": "_N59XaTXRWx8",
    "outputId": "f82beecf-56eb-4e04-c27a-b6684ec2ac93"
   },
   "outputs": [
    {
     "data": {
      "text/html": [
       "<div>\n",
       "<style scoped>\n",
       "    .dataframe tbody tr th:only-of-type {\n",
       "        vertical-align: middle;\n",
       "    }\n",
       "\n",
       "    .dataframe tbody tr th {\n",
       "        vertical-align: top;\n",
       "    }\n",
       "\n",
       "    .dataframe thead th {\n",
       "        text-align: right;\n",
       "    }\n",
       "</style>\n",
       "<table border=\"1\" class=\"dataframe\">\n",
       "  <thead>\n",
       "    <tr style=\"text-align: right;\">\n",
       "      <th></th>\n",
       "      <th>property_id</th>\n",
       "      <th>lat</th>\n",
       "      <th>lng</th>\n",
       "      <th>addr_street</th>\n",
       "      <th>suburb</th>\n",
       "    </tr>\n",
       "  </thead>\n",
       "  <tbody>\n",
       "    <tr>\n",
       "      <th>0</th>\n",
       "      <td>37646</td>\n",
       "      <td>-37.646030</td>\n",
       "      <td>145.030197</td>\n",
       "      <td>61 Davisson Street</td>\n",
       "      <td>EPPING</td>\n",
       "    </tr>\n",
       "    <tr>\n",
       "      <th>1</th>\n",
       "      <td>37431</td>\n",
       "      <td>-37.655946</td>\n",
       "      <td>145.030604</td>\n",
       "      <td>403 Dalton Road</td>\n",
       "      <td>EPPING</td>\n",
       "    </tr>\n",
       "    <tr>\n",
       "      <th>2</th>\n",
       "      <td>85591</td>\n",
       "      <td>-37.887565</td>\n",
       "      <td>145.006124</td>\n",
       "      <td>38 Orrong Road</td>\n",
       "      <td>ELSTERNWICK</td>\n",
       "    </tr>\n",
       "    <tr>\n",
       "      <th>3</th>\n",
       "      <td>77423</td>\n",
       "      <td>-37.928208</td>\n",
       "      <td>145.184814</td>\n",
       "      <td>11 Southampton Drive</td>\n",
       "      <td>MULGRAVE</td>\n",
       "    </tr>\n",
       "    <tr>\n",
       "      <th>4</th>\n",
       "      <td>40541</td>\n",
       "      <td>-37.714607</td>\n",
       "      <td>145.032462</td>\n",
       "      <td>4 Bunker Avenue</td>\n",
       "      <td>KINGSBURY</td>\n",
       "    </tr>\n",
       "  </tbody>\n",
       "</table>\n",
       "</div>"
      ],
      "text/plain": [
       "   property_id        lat         lng           addr_street       suburb\n",
       "0        37646 -37.646030  145.030197    61 Davisson Street       EPPING\n",
       "1        37431 -37.655946  145.030604       403 Dalton Road       EPPING\n",
       "2        85591 -37.887565  145.006124        38 Orrong Road  ELSTERNWICK\n",
       "3        77423 -37.928208  145.184814  11 Southampton Drive     MULGRAVE\n",
       "4        40541 -37.714607  145.032462       4 Bunker Avenue    KINGSBURY"
      ]
     },
     "execution_count": 310,
     "metadata": {},
     "output_type": "execute_result"
    }
   ],
   "source": [
    "# Show first 5 rows\n",
    "final_df.head()"
   ]
  },
  {
   "cell_type": "code",
   "execution_count": 311,
   "metadata": {
    "colab": {
     "base_uri": "https://localhost:8080/"
    },
    "id": "g64QXO7kznuv",
    "outputId": "1fe1c36a-dfac-4a48-df77-f6f1e2cd3d63"
   },
   "outputs": [
    {
     "name": "stdout",
     "output_type": "stream",
     "text": [
      "<class 'pandas.core.frame.DataFrame'>\n",
      "RangeIndex: 2286 entries, 0 to 2285\n",
      "Data columns (total 5 columns):\n",
      " #   Column       Non-Null Count  Dtype  \n",
      "---  ------       --------------  -----  \n",
      " 0   property_id  2286 non-null   int64  \n",
      " 1   lat          2286 non-null   float64\n",
      " 2   lng          2286 non-null   float64\n",
      " 3   addr_street  2286 non-null   object \n",
      " 4   suburb       2286 non-null   object \n",
      "dtypes: float64(2), int64(1), object(2)\n",
      "memory usage: 89.4+ KB\n"
     ]
    }
   ],
   "source": [
    "# Show final_df info\n",
    "final_df.info()"
   ]
  },
  {
   "cell_type": "markdown",
   "metadata": {
    "id": "UPmqrUt3vY6P"
   },
   "source": [
    "## 3.Getting **LGA attribute** from Lga_to_suburb.pdf"
   ]
  },
  {
   "cell_type": "markdown",
   "metadata": {
    "id": "ngOMU7pTdDkh"
   },
   "source": [
    "In this section, our objective is to find LGA from the Lga_to_suburb.pdf.\n",
    "The process is divided into 3 sub-tasks, which are :\n",
    "\n",
    "3.1 Load the Lga_to_suburb.pdf into raw text file\n",
    "\n",
    "3.2 Use regular expression to extract LGA and suburb\n",
    "\n",
    "3.3 Pre-process the data to get lga master\n",
    "\n",
    "3.4 Left join lga_master on final_df to get lga for each property_id"
   ]
  },
  {
   "cell_type": "markdown",
   "metadata": {
    "id": "PzqdguIjd_WT"
   },
   "source": [
    "### 3.1 Load the Lga_to_suburb.pdf into raw text file"
   ]
  },
  {
   "cell_type": "markdown",
   "metadata": {
    "id": "lf7VQtz8hg5v"
   },
   "source": [
    "First, we import pdf into raw text file using pdfminer (reference is provided)"
   ]
  },
  {
   "cell_type": "code",
   "execution_count": 312,
   "metadata": {
    "id": "BVTb25plgWqB"
   },
   "outputs": [],
   "source": [
    "# Import PDF File\n",
    "# Reference : https://pdfminersix.readthedocs.io/en/latest/tutorial/composable.html\n",
    "\n",
    "output_string = StringIO()\n",
    "with open('/content/drive/Shareddrives/FIT5196-s2-2021-tutorials/Assessment 3/supplementary_data/lga_to_suburb.pdf', 'rb') as in_file:\n",
    "    parser = PDFParser(in_file)\n",
    "    doc = PDFDocument(parser)\n",
    "    rsrcmgr = PDFResourceManager()\n",
    "    device = TextConverter(rsrcmgr, output_string, laparams=LAParams())\n",
    "    interpreter = PDFPageInterpreter(rsrcmgr, device)\n",
    "    for page in PDFPage.create_pages(doc):\n",
    "        interpreter.process_page(page)\n",
    "\n",
    "# Store the raw data from PDF in raw_text\n",
    "raw_text = output_string.getvalue()"
   ]
  },
  {
   "cell_type": "markdown",
   "metadata": {
    "id": "WRv8elYZeFsq"
   },
   "source": [
    "### 3.2 Use regular expression to extract LGA and suburb"
   ]
  },
  {
   "cell_type": "markdown",
   "metadata": {
    "id": "IlQUJ0yPh08B"
   },
   "source": [
    "Then, we use regluar expression to get LGA (everything before :) and Suburb (everything after :) and strip them to get rid of white spaces"
   ]
  },
  {
   "cell_type": "code",
   "execution_count": 313,
   "metadata": {
    "id": "oVj6YkdEwGib"
   },
   "outputs": [],
   "source": [
    "# Use regular expression to extract LGA and their suberb\n",
    "LGA = re.findall(r\"(.*):\",raw_text)\n",
    "suburb = re.findall(r\":(.*)\",raw_text)\n",
    "\n",
    "# Strip the data\n",
    "LGA = list(map(lambda x: x.strip(),LGA))\n",
    "suburb = list(map(lambda x: x.strip(),suburb))"
   ]
  },
  {
   "cell_type": "code",
   "execution_count": 314,
   "metadata": {
    "colab": {
     "base_uri": "https://localhost:8080/"
    },
    "id": "vk9Ntm7eegn4",
    "outputId": "7aac8092-cb22-4fd7-b5f3-69eb5ed224a1"
   },
   "outputs": [
    {
     "name": "stdout",
     "output_type": "stream",
     "text": [
      "['BANYULE', 'BRIMBANK']\n",
      "[\"['Abbotsford', 'Airport West', 'Albert Park', 'Alphington']\", \"['Altona', 'Altona North', 'Armadale', 'Ascot Vale']\"]\n"
     ]
    }
   ],
   "source": [
    "# Print sample of LGA and suburb lists\n",
    "print(LGA[0:2])\n",
    "print(suburb[0:2])"
   ]
  },
  {
   "cell_type": "markdown",
   "metadata": {
    "id": "o0gXko7Ne8C3"
   },
   "source": [
    "### 3.3 Pre-process the data and add lga to final_df"
   ]
  },
  {
   "cell_type": "markdown",
   "metadata": {
    "id": "dzvgPPJNiMfR"
   },
   "source": [
    "We create new LGA_master dataframe, which contains lga and suburb. The suburb itself is still in string format, which starts with [ and end with ].Therefore, we convert suburb columns into list and explode them to get LGA_master. After that we change suburb cases into upper in order to be consistent with the previous sections"
   ]
  },
  {
   "cell_type": "code",
   "execution_count": 315,
   "metadata": {
    "id": "uS7331Huy3jr"
   },
   "outputs": [],
   "source": [
    "# Create LGA_master df, which contains data about suburb and LGA\n",
    "LGA_master = pd.DataFrame()\n",
    "LGA_master[\"lga\"] = LGA\n",
    "LGA_master[\"suburb\"] = suburb\n",
    "\n",
    "# Change datatype in suburb column into list\n",
    "LGA_master[\"suburb\"] = LGA_master['suburb'].apply(lambda x:ast.literal_eval(x))\n",
    "\n",
    "# Explode the suburb column\n",
    "LGA_master = LGA_master.explode('suburb').reset_index(drop = True)\n",
    "\n",
    "# Change the suburb names to upper cases\n",
    "LGA_master[\"suburb\"] = LGA_master[\"suburb\"].apply(lambda x: x.upper())"
   ]
  },
  {
   "cell_type": "markdown",
   "metadata": {
    "id": "sTPaQN9IfYDO"
   },
   "source": [
    "### 3.4 Left join lga_master with final_df to get lga for each property_id"
   ]
  },
  {
   "cell_type": "markdown",
   "metadata": {
    "id": "Rg8adLiSjSKz"
   },
   "source": [
    "Finally, we perform left join with the final_df with LGA_master to get LGA attribute and do some basic checking (head and info) "
   ]
  },
  {
   "cell_type": "code",
   "execution_count": 316,
   "metadata": {
    "id": "ODCVMu25opTe"
   },
   "outputs": [],
   "source": [
    "# Left join on the final df with LGA master to get LGA\n",
    "final_df = final_df.merge(LGA_master,left_on ='suburb',right_on ='suburb',how = 'left')"
   ]
  },
  {
   "cell_type": "code",
   "execution_count": 317,
   "metadata": {
    "colab": {
     "base_uri": "https://localhost:8080/"
    },
    "id": "qy8euyT9giaI",
    "outputId": "982eae47-add1-4d0c-b248-c4076992d4d4"
   },
   "outputs": [
    {
     "name": "stdout",
     "output_type": "stream",
     "text": [
      "The number of na in LGA in final_df : 0\n"
     ]
    }
   ],
   "source": [
    "# Check for na\n",
    "print('The number of na in LGA in final_df :',final_df['lga'].isna().sum())\n",
    "\n",
    "# If lga is na, fill with default value (not available)\n",
    "final_df['lga'].fillna('not available',inplace = True)"
   ]
  },
  {
   "cell_type": "code",
   "execution_count": 318,
   "metadata": {
    "colab": {
     "base_uri": "https://localhost:8080/",
     "height": 204
    },
    "id": "NnawcP18xQep",
    "outputId": "60419ea6-c1de-4aa0-e943-62f683d5fadc"
   },
   "outputs": [
    {
     "data": {
      "text/html": [
       "<div>\n",
       "<style scoped>\n",
       "    .dataframe tbody tr th:only-of-type {\n",
       "        vertical-align: middle;\n",
       "    }\n",
       "\n",
       "    .dataframe tbody tr th {\n",
       "        vertical-align: top;\n",
       "    }\n",
       "\n",
       "    .dataframe thead th {\n",
       "        text-align: right;\n",
       "    }\n",
       "</style>\n",
       "<table border=\"1\" class=\"dataframe\">\n",
       "  <thead>\n",
       "    <tr style=\"text-align: right;\">\n",
       "      <th></th>\n",
       "      <th>property_id</th>\n",
       "      <th>lat</th>\n",
       "      <th>lng</th>\n",
       "      <th>addr_street</th>\n",
       "      <th>suburb</th>\n",
       "      <th>lga</th>\n",
       "    </tr>\n",
       "  </thead>\n",
       "  <tbody>\n",
       "    <tr>\n",
       "      <th>0</th>\n",
       "      <td>37646</td>\n",
       "      <td>-37.646030</td>\n",
       "      <td>145.030197</td>\n",
       "      <td>61 Davisson Street</td>\n",
       "      <td>EPPING</td>\n",
       "      <td>FRANKSTON</td>\n",
       "    </tr>\n",
       "    <tr>\n",
       "      <th>1</th>\n",
       "      <td>37431</td>\n",
       "      <td>-37.655946</td>\n",
       "      <td>145.030604</td>\n",
       "      <td>403 Dalton Road</td>\n",
       "      <td>EPPING</td>\n",
       "      <td>FRANKSTON</td>\n",
       "    </tr>\n",
       "    <tr>\n",
       "      <th>2</th>\n",
       "      <td>85591</td>\n",
       "      <td>-37.887565</td>\n",
       "      <td>145.006124</td>\n",
       "      <td>38 Orrong Road</td>\n",
       "      <td>ELSTERNWICK</td>\n",
       "      <td>MORELAND</td>\n",
       "    </tr>\n",
       "    <tr>\n",
       "      <th>3</th>\n",
       "      <td>77423</td>\n",
       "      <td>-37.928208</td>\n",
       "      <td>145.184814</td>\n",
       "      <td>11 Southampton Drive</td>\n",
       "      <td>MULGRAVE</td>\n",
       "      <td>MACEDON RANGES</td>\n",
       "    </tr>\n",
       "    <tr>\n",
       "      <th>4</th>\n",
       "      <td>40541</td>\n",
       "      <td>-37.714607</td>\n",
       "      <td>145.032462</td>\n",
       "      <td>4 Bunker Avenue</td>\n",
       "      <td>KINGSBURY</td>\n",
       "      <td>ALPINE</td>\n",
       "    </tr>\n",
       "  </tbody>\n",
       "</table>\n",
       "</div>"
      ],
      "text/plain": [
       "   property_id        lat  ...       suburb             lga\n",
       "0        37646 -37.646030  ...       EPPING       FRANKSTON\n",
       "1        37431 -37.655946  ...       EPPING       FRANKSTON\n",
       "2        85591 -37.887565  ...  ELSTERNWICK        MORELAND\n",
       "3        77423 -37.928208  ...     MULGRAVE  MACEDON RANGES\n",
       "4        40541 -37.714607  ...    KINGSBURY          ALPINE\n",
       "\n",
       "[5 rows x 6 columns]"
      ]
     },
     "execution_count": 318,
     "metadata": {},
     "output_type": "execute_result"
    }
   ],
   "source": [
    "# Show first 5 rows\n",
    "final_df.head()"
   ]
  },
  {
   "cell_type": "code",
   "execution_count": 319,
   "metadata": {
    "colab": {
     "base_uri": "https://localhost:8080/"
    },
    "id": "Z9SY47lNIF7e",
    "outputId": "192cf36c-c8fb-4a45-fd97-eca78c9f73b1"
   },
   "outputs": [
    {
     "name": "stdout",
     "output_type": "stream",
     "text": [
      "<class 'pandas.core.frame.DataFrame'>\n",
      "Int64Index: 2286 entries, 0 to 2285\n",
      "Data columns (total 6 columns):\n",
      " #   Column       Non-Null Count  Dtype  \n",
      "---  ------       --------------  -----  \n",
      " 0   property_id  2286 non-null   int64  \n",
      " 1   lat          2286 non-null   float64\n",
      " 2   lng          2286 non-null   float64\n",
      " 3   addr_street  2286 non-null   object \n",
      " 4   suburb       2286 non-null   object \n",
      " 5   lga          2286 non-null   object \n",
      "dtypes: float64(2), int64(1), object(3)\n",
      "memory usage: 125.0+ KB\n"
     ]
    }
   ],
   "source": [
    "# Show final_df info\n",
    "final_df.info()"
   ]
  },
  {
   "cell_type": "markdown",
   "metadata": {
    "id": "34vKo2Z4VmyZ"
   },
   "source": [
    "## 4.Getting **closest_train_station** and **distance_to_closest_train** from GFTS files"
   ]
  },
  {
   "cell_type": "markdown",
   "metadata": {
    "id": "_RlD4eRToDUc"
   },
   "source": [
    "In this section, we want to get closest_train_station and distance_to_closest from GFTS files. The steps are :\n",
    "\n",
    "4.1 Load GFTS data (same as 5.1)\n",
    "\n",
    "4.2 Explore GFTS data (same as 5.2)\n",
    "\n",
    "4.3 Find the minimum distance from each property to the closest train station\n",
    "\n",
    "4.4 Add closest_train_station and distance_to_closest to final_df\n"
   ]
  },
  {
   "cell_type": "markdown",
   "metadata": {
    "id": "udC6hA3fp3Jd"
   },
   "source": [
    "### 4.1 Load GFTS data "
   ]
  },
  {
   "cell_type": "markdown",
   "metadata": {
    "id": "XDJj_tuip_AZ"
   },
   "source": [
    "First, we have to load all of GFTS data, which is in text file format seperating with comma"
   ]
  },
  {
   "cell_type": "code",
   "execution_count": 320,
   "metadata": {
    "id": "YaxlFwBtfsI_"
   },
   "outputs": [],
   "source": [
    "# Load GFTS data\n",
    "agency_df = pd.read_table(\"/content/drive/Shareddrives/FIT5196-s2-2021-tutorials/Assessment 3/supplementary_data/Vic_GTFS_data /metropolitan/agency.txt\",sep = ',')\n",
    "calendar_df  = pd.read_table(\"/content/drive/Shareddrives/FIT5196-s2-2021-tutorials/Assessment 3/supplementary_data/Vic_GTFS_data /metropolitan/calendar.txt\",sep = ',')\n",
    "calendar_dates_df  = pd.read_table(\"/content/drive/Shareddrives/FIT5196-s2-2021-tutorials/Assessment 3/supplementary_data/Vic_GTFS_data /metropolitan/calendar_dates.txt\",sep = ',')\n",
    "routes_df  = pd.read_table(\"/content/drive/Shareddrives/FIT5196-s2-2021-tutorials/Assessment 3/supplementary_data/Vic_GTFS_data /metropolitan/routes.txt\",sep = ',')\n",
    "shapes_df  = pd.read_table(\"/content/drive/Shareddrives/FIT5196-s2-2021-tutorials/Assessment 3/supplementary_data/Vic_GTFS_data /metropolitan/shapes.txt\",sep = ',')\n",
    "stop_times_df  = pd.read_table(\"/content/drive/Shareddrives/FIT5196-s2-2021-tutorials/Assessment 3/supplementary_data/Vic_GTFS_data /metropolitan/stop_times.txt\",sep = ',')\n",
    "stops_df  = pd.read_table(\"/content/drive/Shareddrives/FIT5196-s2-2021-tutorials/Assessment 3/supplementary_data/Vic_GTFS_data /metropolitan/stops.txt\",sep = ',')\n",
    "trips_df  = pd.read_table(\"/content/drive/Shareddrives/FIT5196-s2-2021-tutorials/Assessment 3/supplementary_data/Vic_GTFS_data /metropolitan/trips.txt\",sep = ',')"
   ]
  },
  {
   "cell_type": "markdown",
   "metadata": {
    "id": "5rLz8QqPqPd7"
   },
   "source": [
    "### 4.2 Explore GFTS data "
   ]
  },
  {
   "cell_type": "markdown",
   "metadata": {
    "id": "jCIQbsepqVet"
   },
   "source": [
    "After loading all data, we do some data exploration in each data frame. In this part, we will use only stop_df, which contains data about stop_ids, stop names and their latitude/ lontitude. For other dataframes, some will be used in the next section (section 5) "
   ]
  },
  {
   "cell_type": "code",
   "execution_count": 321,
   "metadata": {
    "colab": {
     "base_uri": "https://localhost:8080/",
     "height": 80
    },
    "id": "_kuD8wW92OBL",
    "outputId": "96e15d43-0c3f-436b-c9c5-87730b911c49"
   },
   "outputs": [
    {
     "data": {
      "text/html": [
       "<div>\n",
       "<style scoped>\n",
       "    .dataframe tbody tr th:only-of-type {\n",
       "        vertical-align: middle;\n",
       "    }\n",
       "\n",
       "    .dataframe tbody tr th {\n",
       "        vertical-align: top;\n",
       "    }\n",
       "\n",
       "    .dataframe thead th {\n",
       "        text-align: right;\n",
       "    }\n",
       "</style>\n",
       "<table border=\"1\" class=\"dataframe\">\n",
       "  <thead>\n",
       "    <tr style=\"text-align: right;\">\n",
       "      <th></th>\n",
       "      <th>agency_id</th>\n",
       "      <th>agency_name</th>\n",
       "      <th>agency_url</th>\n",
       "      <th>agency_timezone</th>\n",
       "      <th>agency_lang</th>\n",
       "    </tr>\n",
       "  </thead>\n",
       "  <tbody>\n",
       "    <tr>\n",
       "      <th>0</th>\n",
       "      <td>1</td>\n",
       "      <td>PTV</td>\n",
       "      <td>http://www.ptv.vic.gov.au</td>\n",
       "      <td>Australia/Melbourne</td>\n",
       "      <td>EN</td>\n",
       "    </tr>\n",
       "  </tbody>\n",
       "</table>\n",
       "</div>"
      ],
      "text/plain": [
       "   agency_id agency_name  ...      agency_timezone agency_lang\n",
       "0          1         PTV  ...  Australia/Melbourne          EN\n",
       "\n",
       "[1 rows x 5 columns]"
      ]
     },
     "execution_count": 321,
     "metadata": {},
     "output_type": "execute_result"
    }
   ],
   "source": [
    "# Look at agency_df first few rows\n",
    "agency_df.head()"
   ]
  },
  {
   "cell_type": "code",
   "execution_count": 322,
   "metadata": {
    "colab": {
     "base_uri": "https://localhost:8080/",
     "height": 204
    },
    "id": "l4ZoJMD42Mz_",
    "outputId": "0e836c55-43d4-4ae0-bba0-5df4adb55453"
   },
   "outputs": [
    {
     "data": {
      "text/html": [
       "<div>\n",
       "<style scoped>\n",
       "    .dataframe tbody tr th:only-of-type {\n",
       "        vertical-align: middle;\n",
       "    }\n",
       "\n",
       "    .dataframe tbody tr th {\n",
       "        vertical-align: top;\n",
       "    }\n",
       "\n",
       "    .dataframe thead th {\n",
       "        text-align: right;\n",
       "    }\n",
       "</style>\n",
       "<table border=\"1\" class=\"dataframe\">\n",
       "  <thead>\n",
       "    <tr style=\"text-align: right;\">\n",
       "      <th></th>\n",
       "      <th>service_id</th>\n",
       "      <th>monday</th>\n",
       "      <th>tuesday</th>\n",
       "      <th>wednesday</th>\n",
       "      <th>thursday</th>\n",
       "      <th>friday</th>\n",
       "      <th>saturday</th>\n",
       "      <th>sunday</th>\n",
       "      <th>start_date</th>\n",
       "      <th>end_date</th>\n",
       "    </tr>\n",
       "  </thead>\n",
       "  <tbody>\n",
       "    <tr>\n",
       "      <th>0</th>\n",
       "      <td>T2</td>\n",
       "      <td>0</td>\n",
       "      <td>0</td>\n",
       "      <td>0</td>\n",
       "      <td>0</td>\n",
       "      <td>0</td>\n",
       "      <td>1</td>\n",
       "      <td>0</td>\n",
       "      <td>20151009</td>\n",
       "      <td>20151011</td>\n",
       "    </tr>\n",
       "    <tr>\n",
       "      <th>1</th>\n",
       "      <td>UJ</td>\n",
       "      <td>0</td>\n",
       "      <td>0</td>\n",
       "      <td>0</td>\n",
       "      <td>0</td>\n",
       "      <td>0</td>\n",
       "      <td>0</td>\n",
       "      <td>1</td>\n",
       "      <td>20151009</td>\n",
       "      <td>20151011</td>\n",
       "    </tr>\n",
       "    <tr>\n",
       "      <th>2</th>\n",
       "      <td>T6</td>\n",
       "      <td>0</td>\n",
       "      <td>0</td>\n",
       "      <td>0</td>\n",
       "      <td>0</td>\n",
       "      <td>1</td>\n",
       "      <td>0</td>\n",
       "      <td>0</td>\n",
       "      <td>20151009</td>\n",
       "      <td>20151011</td>\n",
       "    </tr>\n",
       "    <tr>\n",
       "      <th>3</th>\n",
       "      <td>T5</td>\n",
       "      <td>1</td>\n",
       "      <td>1</td>\n",
       "      <td>1</td>\n",
       "      <td>1</td>\n",
       "      <td>0</td>\n",
       "      <td>0</td>\n",
       "      <td>0</td>\n",
       "      <td>20151012</td>\n",
       "      <td>20151015</td>\n",
       "    </tr>\n",
       "    <tr>\n",
       "      <th>4</th>\n",
       "      <td>T2_1</td>\n",
       "      <td>0</td>\n",
       "      <td>0</td>\n",
       "      <td>0</td>\n",
       "      <td>0</td>\n",
       "      <td>0</td>\n",
       "      <td>1</td>\n",
       "      <td>0</td>\n",
       "      <td>20151016</td>\n",
       "      <td>20151018</td>\n",
       "    </tr>\n",
       "  </tbody>\n",
       "</table>\n",
       "</div>"
      ],
      "text/plain": [
       "  service_id  monday  tuesday  ...  sunday  start_date  end_date\n",
       "0         T2       0        0  ...       0    20151009  20151011\n",
       "1         UJ       0        0  ...       1    20151009  20151011\n",
       "2         T6       0        0  ...       0    20151009  20151011\n",
       "3         T5       1        1  ...       0    20151012  20151015\n",
       "4       T2_1       0        0  ...       0    20151016  20151018\n",
       "\n",
       "[5 rows x 10 columns]"
      ]
     },
     "execution_count": 322,
     "metadata": {},
     "output_type": "execute_result"
    }
   ],
   "source": [
    "# Look at calendar_df first few rows\n",
    "calendar_df.head()"
   ]
  },
  {
   "cell_type": "code",
   "execution_count": 323,
   "metadata": {
    "colab": {
     "base_uri": "https://localhost:8080/",
     "height": 111
    },
    "id": "KKOkUeEI3V54",
    "outputId": "1ce04ff5-8bc1-4ee3-cfe0-f034313d2754"
   },
   "outputs": [
    {
     "data": {
      "text/html": [
       "<div>\n",
       "<style scoped>\n",
       "    .dataframe tbody tr th:only-of-type {\n",
       "        vertical-align: middle;\n",
       "    }\n",
       "\n",
       "    .dataframe tbody tr th {\n",
       "        vertical-align: top;\n",
       "    }\n",
       "\n",
       "    .dataframe thead th {\n",
       "        text-align: right;\n",
       "    }\n",
       "</style>\n",
       "<table border=\"1\" class=\"dataframe\">\n",
       "  <thead>\n",
       "    <tr style=\"text-align: right;\">\n",
       "      <th></th>\n",
       "      <th>service_id</th>\n",
       "      <th>date</th>\n",
       "      <th>exception_type</th>\n",
       "    </tr>\n",
       "  </thead>\n",
       "  <tbody>\n",
       "    <tr>\n",
       "      <th>0</th>\n",
       "      <td>T0</td>\n",
       "      <td>20151103</td>\n",
       "      <td>2</td>\n",
       "    </tr>\n",
       "    <tr>\n",
       "      <th>1</th>\n",
       "      <td>T0+a5</td>\n",
       "      <td>20151103</td>\n",
       "      <td>2</td>\n",
       "    </tr>\n",
       "  </tbody>\n",
       "</table>\n",
       "</div>"
      ],
      "text/plain": [
       "  service_id      date  exception_type\n",
       "0         T0  20151103               2\n",
       "1      T0+a5  20151103               2"
      ]
     },
     "execution_count": 323,
     "metadata": {},
     "output_type": "execute_result"
    }
   ],
   "source": [
    "# Look at calendar_dates_df first few rows\n",
    "calendar_dates_df.head()"
   ]
  },
  {
   "cell_type": "code",
   "execution_count": 324,
   "metadata": {
    "colab": {
     "base_uri": "https://localhost:8080/",
     "height": 204
    },
    "id": "SgVRRdDV2TsB",
    "outputId": "5fba149c-c6c5-4386-cf51-b2e2804620bc"
   },
   "outputs": [
    {
     "data": {
      "text/html": [
       "<div>\n",
       "<style scoped>\n",
       "    .dataframe tbody tr th:only-of-type {\n",
       "        vertical-align: middle;\n",
       "    }\n",
       "\n",
       "    .dataframe tbody tr th {\n",
       "        vertical-align: top;\n",
       "    }\n",
       "\n",
       "    .dataframe thead th {\n",
       "        text-align: right;\n",
       "    }\n",
       "</style>\n",
       "<table border=\"1\" class=\"dataframe\">\n",
       "  <thead>\n",
       "    <tr style=\"text-align: right;\">\n",
       "      <th></th>\n",
       "      <th>route_id</th>\n",
       "      <th>agency_id</th>\n",
       "      <th>route_short_name</th>\n",
       "      <th>route_long_name</th>\n",
       "      <th>route_type</th>\n",
       "    </tr>\n",
       "  </thead>\n",
       "  <tbody>\n",
       "    <tr>\n",
       "      <th>0</th>\n",
       "      <td>2-ALM-B-mjp-1</td>\n",
       "      <td>1</td>\n",
       "      <td>Alamein</td>\n",
       "      <td>Alamein - City (Flinders Street)</td>\n",
       "      <td>2</td>\n",
       "    </tr>\n",
       "    <tr>\n",
       "      <th>1</th>\n",
       "      <td>2-ALM-C-mjp-1</td>\n",
       "      <td>1</td>\n",
       "      <td>Alamein</td>\n",
       "      <td>Alamein - City (Flinders Street)</td>\n",
       "      <td>2</td>\n",
       "    </tr>\n",
       "    <tr>\n",
       "      <th>2</th>\n",
       "      <td>2-ALM-D-mjp-1</td>\n",
       "      <td>1</td>\n",
       "      <td>Alamein</td>\n",
       "      <td>Alamein - City (Flinders Street)</td>\n",
       "      <td>2</td>\n",
       "    </tr>\n",
       "    <tr>\n",
       "      <th>3</th>\n",
       "      <td>2-ALM-E-mjp-1</td>\n",
       "      <td>1</td>\n",
       "      <td>Alamein</td>\n",
       "      <td>Alamein - City (Flinders Street)</td>\n",
       "      <td>2</td>\n",
       "    </tr>\n",
       "    <tr>\n",
       "      <th>4</th>\n",
       "      <td>2-ALM-F-mjp-1</td>\n",
       "      <td>1</td>\n",
       "      <td>Alamein</td>\n",
       "      <td>Alamein - City (Flinders Street)</td>\n",
       "      <td>2</td>\n",
       "    </tr>\n",
       "  </tbody>\n",
       "</table>\n",
       "</div>"
      ],
      "text/plain": [
       "        route_id  agency_id  ...                   route_long_name route_type\n",
       "0  2-ALM-B-mjp-1          1  ...  Alamein - City (Flinders Street)          2\n",
       "1  2-ALM-C-mjp-1          1  ...  Alamein - City (Flinders Street)          2\n",
       "2  2-ALM-D-mjp-1          1  ...  Alamein - City (Flinders Street)          2\n",
       "3  2-ALM-E-mjp-1          1  ...  Alamein - City (Flinders Street)          2\n",
       "4  2-ALM-F-mjp-1          1  ...  Alamein - City (Flinders Street)          2\n",
       "\n",
       "[5 rows x 5 columns]"
      ]
     },
     "execution_count": 324,
     "metadata": {},
     "output_type": "execute_result"
    }
   ],
   "source": [
    "# Look at routes_df first few rows\n",
    "routes_df.head()"
   ]
  },
  {
   "cell_type": "code",
   "execution_count": 325,
   "metadata": {
    "colab": {
     "base_uri": "https://localhost:8080/",
     "height": 204
    },
    "id": "IPKnEXtL2XLe",
    "outputId": "9f9efbbf-d344-4104-c3ed-43acd55b84c5"
   },
   "outputs": [
    {
     "data": {
      "text/html": [
       "<div>\n",
       "<style scoped>\n",
       "    .dataframe tbody tr th:only-of-type {\n",
       "        vertical-align: middle;\n",
       "    }\n",
       "\n",
       "    .dataframe tbody tr th {\n",
       "        vertical-align: top;\n",
       "    }\n",
       "\n",
       "    .dataframe thead th {\n",
       "        text-align: right;\n",
       "    }\n",
       "</style>\n",
       "<table border=\"1\" class=\"dataframe\">\n",
       "  <thead>\n",
       "    <tr style=\"text-align: right;\">\n",
       "      <th></th>\n",
       "      <th>shape_id</th>\n",
       "      <th>shape_pt_lat</th>\n",
       "      <th>shape_pt_lon</th>\n",
       "      <th>shape_pt_sequence</th>\n",
       "      <th>shape_dist_traveled</th>\n",
       "    </tr>\n",
       "  </thead>\n",
       "  <tbody>\n",
       "    <tr>\n",
       "      <th>0</th>\n",
       "      <td>2-ain-mjp-1.1.H</td>\n",
       "      <td>-37.818631</td>\n",
       "      <td>144.951994</td>\n",
       "      <td>1</td>\n",
       "      <td>0.000000</td>\n",
       "    </tr>\n",
       "    <tr>\n",
       "      <th>1</th>\n",
       "      <td>2-ain-mjp-1.1.H</td>\n",
       "      <td>-37.817425</td>\n",
       "      <td>144.951050</td>\n",
       "      <td>2</td>\n",
       "      <td>157.543645</td>\n",
       "    </tr>\n",
       "    <tr>\n",
       "      <th>2</th>\n",
       "      <td>2-ain-mjp-1.1.H</td>\n",
       "      <td>-37.817241</td>\n",
       "      <td>144.950828</td>\n",
       "      <td>3</td>\n",
       "      <td>185.827916</td>\n",
       "    </tr>\n",
       "    <tr>\n",
       "      <th>3</th>\n",
       "      <td>2-ain-mjp-1.1.H</td>\n",
       "      <td>-37.816327</td>\n",
       "      <td>144.950047</td>\n",
       "      <td>4</td>\n",
       "      <td>308.469671</td>\n",
       "    </tr>\n",
       "    <tr>\n",
       "      <th>4</th>\n",
       "      <td>2-ain-mjp-1.1.H</td>\n",
       "      <td>-37.816127</td>\n",
       "      <td>144.949950</td>\n",
       "      <td>5</td>\n",
       "      <td>332.239399</td>\n",
       "    </tr>\n",
       "  </tbody>\n",
       "</table>\n",
       "</div>"
      ],
      "text/plain": [
       "          shape_id  shape_pt_lat  ...  shape_pt_sequence  shape_dist_traveled\n",
       "0  2-ain-mjp-1.1.H    -37.818631  ...                  1             0.000000\n",
       "1  2-ain-mjp-1.1.H    -37.817425  ...                  2           157.543645\n",
       "2  2-ain-mjp-1.1.H    -37.817241  ...                  3           185.827916\n",
       "3  2-ain-mjp-1.1.H    -37.816327  ...                  4           308.469671\n",
       "4  2-ain-mjp-1.1.H    -37.816127  ...                  5           332.239399\n",
       "\n",
       "[5 rows x 5 columns]"
      ]
     },
     "execution_count": 325,
     "metadata": {},
     "output_type": "execute_result"
    }
   ],
   "source": [
    "# Look at shapes_df first few rows\n",
    "shapes_df.head()"
   ]
  },
  {
   "cell_type": "code",
   "execution_count": 326,
   "metadata": {
    "colab": {
     "base_uri": "https://localhost:8080/",
     "height": 204
    },
    "id": "f5kD-kN-2YqD",
    "outputId": "b690a91a-5910-4d40-d7cc-f916299b82a2"
   },
   "outputs": [
    {
     "data": {
      "text/html": [
       "<div>\n",
       "<style scoped>\n",
       "    .dataframe tbody tr th:only-of-type {\n",
       "        vertical-align: middle;\n",
       "    }\n",
       "\n",
       "    .dataframe tbody tr th {\n",
       "        vertical-align: top;\n",
       "    }\n",
       "\n",
       "    .dataframe thead th {\n",
       "        text-align: right;\n",
       "    }\n",
       "</style>\n",
       "<table border=\"1\" class=\"dataframe\">\n",
       "  <thead>\n",
       "    <tr style=\"text-align: right;\">\n",
       "      <th></th>\n",
       "      <th>trip_id</th>\n",
       "      <th>arrival_time</th>\n",
       "      <th>departure_time</th>\n",
       "      <th>stop_id</th>\n",
       "      <th>stop_sequence</th>\n",
       "      <th>stop_headsign</th>\n",
       "      <th>pickup_type</th>\n",
       "      <th>drop_off_type</th>\n",
       "      <th>shape_dist_traveled</th>\n",
       "    </tr>\n",
       "  </thead>\n",
       "  <tbody>\n",
       "    <tr>\n",
       "      <th>0</th>\n",
       "      <td>17182517.T2.2-ALM-B-mjp-1.1.H</td>\n",
       "      <td>04:57:00</td>\n",
       "      <td>04:57:00</td>\n",
       "      <td>19847</td>\n",
       "      <td>1</td>\n",
       "      <td>NaN</td>\n",
       "      <td>0</td>\n",
       "      <td>0</td>\n",
       "      <td>0.000000</td>\n",
       "    </tr>\n",
       "    <tr>\n",
       "      <th>1</th>\n",
       "      <td>17182517.T2.2-ALM-B-mjp-1.1.H</td>\n",
       "      <td>04:58:00</td>\n",
       "      <td>04:58:00</td>\n",
       "      <td>19848</td>\n",
       "      <td>2</td>\n",
       "      <td>NaN</td>\n",
       "      <td>0</td>\n",
       "      <td>0</td>\n",
       "      <td>723.017818</td>\n",
       "    </tr>\n",
       "    <tr>\n",
       "      <th>2</th>\n",
       "      <td>17182517.T2.2-ALM-B-mjp-1.1.H</td>\n",
       "      <td>05:00:00</td>\n",
       "      <td>05:00:00</td>\n",
       "      <td>19849</td>\n",
       "      <td>3</td>\n",
       "      <td>NaN</td>\n",
       "      <td>0</td>\n",
       "      <td>0</td>\n",
       "      <td>1951.735072</td>\n",
       "    </tr>\n",
       "    <tr>\n",
       "      <th>3</th>\n",
       "      <td>17182517.T2.2-ALM-B-mjp-1.1.H</td>\n",
       "      <td>05:02:00</td>\n",
       "      <td>05:02:00</td>\n",
       "      <td>19850</td>\n",
       "      <td>4</td>\n",
       "      <td>NaN</td>\n",
       "      <td>0</td>\n",
       "      <td>0</td>\n",
       "      <td>2899.073349</td>\n",
       "    </tr>\n",
       "    <tr>\n",
       "      <th>4</th>\n",
       "      <td>17182517.T2.2-ALM-B-mjp-1.1.H</td>\n",
       "      <td>05:04:00</td>\n",
       "      <td>05:04:00</td>\n",
       "      <td>19851</td>\n",
       "      <td>5</td>\n",
       "      <td>NaN</td>\n",
       "      <td>0</td>\n",
       "      <td>0</td>\n",
       "      <td>3927.090952</td>\n",
       "    </tr>\n",
       "  </tbody>\n",
       "</table>\n",
       "</div>"
      ],
      "text/plain": [
       "                         trip_id  ... shape_dist_traveled\n",
       "0  17182517.T2.2-ALM-B-mjp-1.1.H  ...            0.000000\n",
       "1  17182517.T2.2-ALM-B-mjp-1.1.H  ...          723.017818\n",
       "2  17182517.T2.2-ALM-B-mjp-1.1.H  ...         1951.735072\n",
       "3  17182517.T2.2-ALM-B-mjp-1.1.H  ...         2899.073349\n",
       "4  17182517.T2.2-ALM-B-mjp-1.1.H  ...         3927.090952\n",
       "\n",
       "[5 rows x 9 columns]"
      ]
     },
     "execution_count": 326,
     "metadata": {},
     "output_type": "execute_result"
    }
   ],
   "source": [
    "# Look at stop_times_df first few rows\n",
    "stop_times_df.head()"
   ]
  },
  {
   "cell_type": "code",
   "execution_count": 327,
   "metadata": {
    "colab": {
     "base_uri": "https://localhost:8080/",
     "height": 204
    },
    "id": "myFqjGHy2Z5T",
    "outputId": "b2beaf0d-0f3d-49e2-a559-f4cbe9beb269"
   },
   "outputs": [
    {
     "data": {
      "text/html": [
       "<div>\n",
       "<style scoped>\n",
       "    .dataframe tbody tr th:only-of-type {\n",
       "        vertical-align: middle;\n",
       "    }\n",
       "\n",
       "    .dataframe tbody tr th {\n",
       "        vertical-align: top;\n",
       "    }\n",
       "\n",
       "    .dataframe thead th {\n",
       "        text-align: right;\n",
       "    }\n",
       "</style>\n",
       "<table border=\"1\" class=\"dataframe\">\n",
       "  <thead>\n",
       "    <tr style=\"text-align: right;\">\n",
       "      <th></th>\n",
       "      <th>stop_id</th>\n",
       "      <th>stop_name</th>\n",
       "      <th>stop_short_name</th>\n",
       "      <th>stop_lat</th>\n",
       "      <th>stop_lon</th>\n",
       "    </tr>\n",
       "  </thead>\n",
       "  <tbody>\n",
       "    <tr>\n",
       "      <th>0</th>\n",
       "      <td>15351</td>\n",
       "      <td>Sunbury Railway Station</td>\n",
       "      <td>Sunbury</td>\n",
       "      <td>-37.579091</td>\n",
       "      <td>144.727319</td>\n",
       "    </tr>\n",
       "    <tr>\n",
       "      <th>1</th>\n",
       "      <td>15353</td>\n",
       "      <td>Diggers Rest Railway Station</td>\n",
       "      <td>Diggers Rest</td>\n",
       "      <td>-37.627017</td>\n",
       "      <td>144.719922</td>\n",
       "    </tr>\n",
       "    <tr>\n",
       "      <th>2</th>\n",
       "      <td>19827</td>\n",
       "      <td>Stony Point Railway Station</td>\n",
       "      <td>Crib Point</td>\n",
       "      <td>-38.374235</td>\n",
       "      <td>145.221837</td>\n",
       "    </tr>\n",
       "    <tr>\n",
       "      <th>3</th>\n",
       "      <td>19828</td>\n",
       "      <td>Crib Point Railway Station</td>\n",
       "      <td>Crib Point</td>\n",
       "      <td>-38.366123</td>\n",
       "      <td>145.204043</td>\n",
       "    </tr>\n",
       "    <tr>\n",
       "      <th>4</th>\n",
       "      <td>19829</td>\n",
       "      <td>Morradoo Railway Station</td>\n",
       "      <td>Crib Point</td>\n",
       "      <td>-38.354033</td>\n",
       "      <td>145.189602</td>\n",
       "    </tr>\n",
       "  </tbody>\n",
       "</table>\n",
       "</div>"
      ],
      "text/plain": [
       "   stop_id                     stop_name stop_short_name   stop_lat    stop_lon\n",
       "0    15351       Sunbury Railway Station         Sunbury -37.579091  144.727319\n",
       "1    15353  Diggers Rest Railway Station    Diggers Rest -37.627017  144.719922\n",
       "2    19827   Stony Point Railway Station      Crib Point -38.374235  145.221837\n",
       "3    19828    Crib Point Railway Station      Crib Point -38.366123  145.204043\n",
       "4    19829      Morradoo Railway Station      Crib Point -38.354033  145.189602"
      ]
     },
     "execution_count": 327,
     "metadata": {},
     "output_type": "execute_result"
    }
   ],
   "source": [
    "# Look at stop_df first few rows\n",
    "stops_df.head()"
   ]
  },
  {
   "cell_type": "code",
   "execution_count": 328,
   "metadata": {
    "colab": {
     "base_uri": "https://localhost:8080/",
     "height": 204
    },
    "id": "CWIgaGtt2bc7",
    "outputId": "71202e7f-a895-444a-ba2b-d9fd5f9c0946"
   },
   "outputs": [
    {
     "data": {
      "text/html": [
       "<div>\n",
       "<style scoped>\n",
       "    .dataframe tbody tr th:only-of-type {\n",
       "        vertical-align: middle;\n",
       "    }\n",
       "\n",
       "    .dataframe tbody tr th {\n",
       "        vertical-align: top;\n",
       "    }\n",
       "\n",
       "    .dataframe thead th {\n",
       "        text-align: right;\n",
       "    }\n",
       "</style>\n",
       "<table border=\"1\" class=\"dataframe\">\n",
       "  <thead>\n",
       "    <tr style=\"text-align: right;\">\n",
       "      <th></th>\n",
       "      <th>route_id</th>\n",
       "      <th>service_id</th>\n",
       "      <th>trip_id</th>\n",
       "      <th>shape_id</th>\n",
       "      <th>trip_headsign</th>\n",
       "      <th>direction_id</th>\n",
       "    </tr>\n",
       "  </thead>\n",
       "  <tbody>\n",
       "    <tr>\n",
       "      <th>0</th>\n",
       "      <td>2-ALM-F-mjp-1</td>\n",
       "      <td>T0</td>\n",
       "      <td>17067982.T0.2-ALM-F-mjp-1.1.H</td>\n",
       "      <td>2-ALM-F-mjp-1.1.H</td>\n",
       "      <td>City (Flinders Street)</td>\n",
       "      <td>0</td>\n",
       "    </tr>\n",
       "    <tr>\n",
       "      <th>1</th>\n",
       "      <td>2-ALM-F-mjp-1</td>\n",
       "      <td>T0</td>\n",
       "      <td>17067988.T0.2-ALM-F-mjp-1.1.H</td>\n",
       "      <td>2-ALM-F-mjp-1.1.H</td>\n",
       "      <td>City (Flinders Street)</td>\n",
       "      <td>0</td>\n",
       "    </tr>\n",
       "    <tr>\n",
       "      <th>2</th>\n",
       "      <td>2-ALM-F-mjp-1</td>\n",
       "      <td>T0</td>\n",
       "      <td>17067992.T0.2-ALM-F-mjp-1.1.H</td>\n",
       "      <td>2-ALM-F-mjp-1.1.H</td>\n",
       "      <td>City (Flinders Street)</td>\n",
       "      <td>0</td>\n",
       "    </tr>\n",
       "    <tr>\n",
       "      <th>3</th>\n",
       "      <td>2-ALM-F-mjp-1</td>\n",
       "      <td>T0</td>\n",
       "      <td>17067999.T0.2-ALM-F-mjp-1.1.H</td>\n",
       "      <td>2-ALM-F-mjp-1.1.H</td>\n",
       "      <td>City (Flinders Street)</td>\n",
       "      <td>0</td>\n",
       "    </tr>\n",
       "    <tr>\n",
       "      <th>4</th>\n",
       "      <td>2-ALM-F-mjp-1</td>\n",
       "      <td>T0</td>\n",
       "      <td>17068003.T0.2-ALM-F-mjp-1.1.H</td>\n",
       "      <td>2-ALM-F-mjp-1.1.H</td>\n",
       "      <td>City (Flinders Street)</td>\n",
       "      <td>0</td>\n",
       "    </tr>\n",
       "  </tbody>\n",
       "</table>\n",
       "</div>"
      ],
      "text/plain": [
       "        route_id service_id  ...           trip_headsign direction_id\n",
       "0  2-ALM-F-mjp-1         T0  ...  City (Flinders Street)            0\n",
       "1  2-ALM-F-mjp-1         T0  ...  City (Flinders Street)            0\n",
       "2  2-ALM-F-mjp-1         T0  ...  City (Flinders Street)            0\n",
       "3  2-ALM-F-mjp-1         T0  ...  City (Flinders Street)            0\n",
       "4  2-ALM-F-mjp-1         T0  ...  City (Flinders Street)            0\n",
       "\n",
       "[5 rows x 6 columns]"
      ]
     },
     "execution_count": 328,
     "metadata": {},
     "output_type": "execute_result"
    }
   ],
   "source": [
    "# Look at trips_df first few rows\n",
    "trips_df.head()"
   ]
  },
  {
   "cell_type": "markdown",
   "metadata": {
    "id": "LAOP-U-1rVi3"
   },
   "source": [
    "### 4.3 Find the minimum distance from each property to the closest train station and get the clostest train station id and distance to closest train station"
   ]
  },
  {
   "cell_type": "markdown",
   "metadata": {
    "id": "nLa_jBs-t2-j"
   },
   "source": [
    "In this part, we initially obtain property latitude and lontitude (convert to radian) and calculate Haversine distance differences to each train station. Then, we add the clostest train station id and distance to closest train  station (those that give us the minimum Haversine differences) to the lists "
   ]
  },
  {
   "cell_type": "code",
   "execution_count": 329,
   "metadata": {
    "id": "3rO3e6-g_3Hm"
   },
   "outputs": [],
   "source": [
    "\n",
    "# source : https://stackoverflow.com/questions/33029396/using-pandas-to-calculate-distance-between-coordinates-from-imported-csv\n",
    "# source : https://en.wikipedia.org/wiki/Haversine_formula\n",
    "\n",
    "# Use 6378 km as radius of earth\n",
    "R = 6378\n",
    "\n",
    "# Initialise placeholders\n",
    "clostest_train_station_id_list =[]\n",
    "distance_to_closest_train_station_list =[]\n",
    "\n",
    "# for each row in final_df\n",
    "for prop_index,prop_row in final_df.iterrows():\n",
    "\n",
    "  # get latitude and lontitude in each property (convert to radian)\n",
    "  prop_lat = np.radians(prop_row['lat'])\n",
    "  prop_lng = np.radians(prop_row['lng'])\n",
    " \n",
    " # Initialise stop_list\n",
    "  stop_dist_list =[]\n",
    "\n",
    " # for each train stop\n",
    "  for stop_index,stop_row in stops_df.iterrows():\n",
    "\n",
    "    # get latitude and lontitude in each train stop (convert to radian)\n",
    "    stop_lat = np.radians(stop_row['stop_lat'])\n",
    "    stop_lng = np.radians(stop_row['stop_lon'])\n",
    "\n",
    "    # Find lat and lon differences for train stop and property \n",
    "    diff_lat = stop_lat-prop_lat\n",
    "    diff_lng = stop_lng-prop_lng\n",
    "\n",
    "    # Use Haversine formula \n",
    "    in_sqroot = np.sin(diff_lat/2) **2 + np.cos(prop_lat) * np.cos(stop_lat) * np.sin(diff_lng/2)**2\n",
    "    d = 2 * R * np.arcsin(np.sqrt(in_sqroot))\n",
    "\n",
    "    stop_dist_list.append(d)\n",
    "  \n",
    "  # Find the minimum distance from property to the train station\n",
    "  min_distance = min(stop_dist_list)\n",
    "\n",
    "  # Find the train station has minimum distance\n",
    "  min_distance_index = stop_dist_list.index(min_distance)\n",
    "  min_stop_id = stops_df.loc[min_distance_index,'stop_id']\n",
    "\n",
    "  # Append min_distance and min_stop_id to the lists\n",
    "  distance_to_closest_train_station_list.append(min_distance)\n",
    "  clostest_train_station_id_list.append(min_stop_id)\n",
    "\n",
    "\n"
   ]
  },
  {
   "cell_type": "markdown",
   "metadata": {
    "id": "7hPuRPCqw_jE"
   },
   "source": [
    "### 4.4 Add closest_train_station and distance_to_closest to final_df"
   ]
  },
  {
   "cell_type": "markdown",
   "metadata": {
    "id": "U9TsQw3gzvJk"
   },
   "source": [
    "Once we get distance_to_closest_train_station and closest_train_station_id, we add these to final_df"
   ]
  },
  {
   "cell_type": "code",
   "execution_count": 330,
   "metadata": {
    "id": "fezmdJzYMjir"
   },
   "outputs": [],
   "source": [
    "# Add these attributes to the final_df\n",
    "final_df['distance_to_closest_train_station'] = distance_to_closest_train_station_list\n",
    "final_df['closest_train_station_id'] = clostest_train_station_id_list"
   ]
  },
  {
   "cell_type": "code",
   "execution_count": 331,
   "metadata": {
    "colab": {
     "base_uri": "https://localhost:8080/",
     "height": 204
    },
    "id": "p3JaouZxxMAD",
    "outputId": "08c03a55-8aee-43f0-91a1-9d4a47d1a3ee"
   },
   "outputs": [
    {
     "data": {
      "text/html": [
       "<div>\n",
       "<style scoped>\n",
       "    .dataframe tbody tr th:only-of-type {\n",
       "        vertical-align: middle;\n",
       "    }\n",
       "\n",
       "    .dataframe tbody tr th {\n",
       "        vertical-align: top;\n",
       "    }\n",
       "\n",
       "    .dataframe thead th {\n",
       "        text-align: right;\n",
       "    }\n",
       "</style>\n",
       "<table border=\"1\" class=\"dataframe\">\n",
       "  <thead>\n",
       "    <tr style=\"text-align: right;\">\n",
       "      <th></th>\n",
       "      <th>property_id</th>\n",
       "      <th>lat</th>\n",
       "      <th>lng</th>\n",
       "      <th>addr_street</th>\n",
       "      <th>suburb</th>\n",
       "      <th>lga</th>\n",
       "      <th>distance_to_closest_train_station</th>\n",
       "      <th>closest_train_station_id</th>\n",
       "    </tr>\n",
       "  </thead>\n",
       "  <tbody>\n",
       "    <tr>\n",
       "      <th>0</th>\n",
       "      <td>37646</td>\n",
       "      <td>-37.646030</td>\n",
       "      <td>145.030197</td>\n",
       "      <td>61 Davisson Street</td>\n",
       "      <td>EPPING</td>\n",
       "      <td>FRANKSTON</td>\n",
       "      <td>0.707690</td>\n",
       "      <td>20005</td>\n",
       "    </tr>\n",
       "    <tr>\n",
       "      <th>1</th>\n",
       "      <td>37431</td>\n",
       "      <td>-37.655946</td>\n",
       "      <td>145.030604</td>\n",
       "      <td>403 Dalton Road</td>\n",
       "      <td>EPPING</td>\n",
       "      <td>FRANKSTON</td>\n",
       "      <td>0.398435</td>\n",
       "      <td>20005</td>\n",
       "    </tr>\n",
       "    <tr>\n",
       "      <th>2</th>\n",
       "      <td>85591</td>\n",
       "      <td>-37.887565</td>\n",
       "      <td>145.006124</td>\n",
       "      <td>38 Orrong Road</td>\n",
       "      <td>ELSTERNWICK</td>\n",
       "      <td>MORELAND</td>\n",
       "      <td>0.555686</td>\n",
       "      <td>19954</td>\n",
       "    </tr>\n",
       "    <tr>\n",
       "      <th>3</th>\n",
       "      <td>77423</td>\n",
       "      <td>-37.928208</td>\n",
       "      <td>145.184814</td>\n",
       "      <td>11 Southampton Drive</td>\n",
       "      <td>MULGRAVE</td>\n",
       "      <td>MACEDON RANGES</td>\n",
       "      <td>3.633629</td>\n",
       "      <td>19913</td>\n",
       "    </tr>\n",
       "    <tr>\n",
       "      <th>4</th>\n",
       "      <td>40541</td>\n",
       "      <td>-37.714607</td>\n",
       "      <td>145.032462</td>\n",
       "      <td>4 Bunker Avenue</td>\n",
       "      <td>KINGSBURY</td>\n",
       "      <td>ALPINE</td>\n",
       "      <td>2.154261</td>\n",
       "      <td>20009</td>\n",
       "    </tr>\n",
       "  </tbody>\n",
       "</table>\n",
       "</div>"
      ],
      "text/plain": [
       "   property_id  ...  closest_train_station_id\n",
       "0        37646  ...                     20005\n",
       "1        37431  ...                     20005\n",
       "2        85591  ...                     19954\n",
       "3        77423  ...                     19913\n",
       "4        40541  ...                     20009\n",
       "\n",
       "[5 rows x 8 columns]"
      ]
     },
     "execution_count": 331,
     "metadata": {},
     "output_type": "execute_result"
    }
   ],
   "source": [
    "# Show first 5 rows\n",
    "final_df.head()"
   ]
  },
  {
   "cell_type": "code",
   "execution_count": 332,
   "metadata": {
    "colab": {
     "base_uri": "https://localhost:8080/"
    },
    "id": "7mWrSIcsybwK",
    "outputId": "f9b2dead-03fc-41a2-c72e-8e7904bb71f2"
   },
   "outputs": [
    {
     "name": "stdout",
     "output_type": "stream",
     "text": [
      "The number of na in distance_to_closest_train_station in final_df : 0\n",
      "The number of na in closest_train_station_id in final_df : 0\n"
     ]
    }
   ],
   "source": [
    "# Check for na\n",
    "print('The number of na in distance_to_closest_train_station in final_df :',final_df['distance_to_closest_train_station'].isna().sum())\n",
    "print('The number of na in closest_train_station_id in final_df :',final_df['closest_train_station_id'].isna().sum())\n",
    "\n",
    "# If distance_to_closest_train_station is na, fill with default value (0)\n",
    "final_df['distance_to_closest_train_station'].fillna(0,inplace = True)\n",
    "\n",
    "# If closest_train_station_id is na, fill with default value (not available)\n",
    "final_df['closest_train_station_id'].fillna(0,inplace = True)"
   ]
  },
  {
   "cell_type": "code",
   "execution_count": 333,
   "metadata": {
    "colab": {
     "base_uri": "https://localhost:8080/"
    },
    "id": "KDl5EuyYxcFz",
    "outputId": "8ffc3460-525f-4224-e1fb-81a46de0e650"
   },
   "outputs": [
    {
     "name": "stdout",
     "output_type": "stream",
     "text": [
      "<class 'pandas.core.frame.DataFrame'>\n",
      "Int64Index: 2286 entries, 0 to 2285\n",
      "Data columns (total 8 columns):\n",
      " #   Column                             Non-Null Count  Dtype  \n",
      "---  ------                             --------------  -----  \n",
      " 0   property_id                        2286 non-null   int64  \n",
      " 1   lat                                2286 non-null   float64\n",
      " 2   lng                                2286 non-null   float64\n",
      " 3   addr_street                        2286 non-null   object \n",
      " 4   suburb                             2286 non-null   object \n",
      " 5   lga                                2286 non-null   object \n",
      " 6   distance_to_closest_train_station  2286 non-null   float64\n",
      " 7   closest_train_station_id           2286 non-null   int64  \n",
      "dtypes: float64(3), int64(2), object(3)\n",
      "memory usage: 160.7+ KB\n"
     ]
    }
   ],
   "source": [
    "# Show info\n",
    "final_df.info()"
   ]
  },
  {
   "cell_type": "markdown",
   "metadata": {
    "id": "jM_FWChoz7c2"
   },
   "source": [
    "## 5.Getting **travel_min_to_MC** and **distance_journey_flag** from GFTS files"
   ]
  },
  {
   "cell_type": "markdown",
   "metadata": {
    "id": "19ftarJ5Rxkn"
   },
   "source": [
    "In this part, we want to get travel_min_to_MC and distance_journey_flag from GFTS files. The steps are :\n",
    "\n",
    "5.1 Load GFTS data (done in 4.1)\n",
    "\n",
    "5.2 Explore GFTS data (done in 4.2)\n",
    "\n",
    "5.3 Find stop_id of Melbourne Central Railway Station from stops_df\n",
    "\n",
    "5.4 Find all trip_ids that pass Melbourn Central Station from stop_times_df\n",
    "\n",
    "5.5 Find all trip_ids that pass Melbourn Central Station and operate on weekdays from trips_df\n",
    "\n",
    "5.6 Find all trip_ids that pass Melbourn Central Station, operate on weekdays and are in beween 7 and 9 am from stop_times_df\n",
    "\n",
    "5.7 Filter stop_times_df dataframe that satisfies all conditions above (trip_id is in final_trip_id)\n",
    "\n",
    "5.8 Create new dataframe cen_mel_arrival_time that has information about times that train arrived at Melbourn Central station in each trip_id (using dataframe from 5.7)\n",
    "\n",
    "5.9 Create final_stop_time_df, which is the filter_stop_times_df left join with cen_mel_arrival_time in order to calculate travel minute in each station to Melbourn Central station\n",
    "\n",
    "5.10 Calculate average travel_min_to_MC group by stop_id\n",
    "\n",
    "5.11 Left join travel_min_to_MC_df on final_df to get travel_min_to_MC for each property_id\n",
    "\n",
    "5.12 Flag 1 if stop_id is in there is direct journey to Melbourn Central (stop_id is in travel_min_to_MC_df), 0 otherwise in stops_df\n",
    "\n",
    "5.13 Left join stops_df with flag on final_df to get travel_min_to_MC for each property_id to get direct_jouney_flag"
   ]
  },
  {
   "cell_type": "markdown",
   "metadata": {
    "id": "P2pNuzMz8Oam"
   },
   "source": [
    "### 5.1 Load GFTS data (done in 4.1)"
   ]
  },
  {
   "cell_type": "markdown",
   "metadata": {
    "id": "VVCSjtt_8Qvs"
   },
   "source": [
    "### 5.2 Explore GFTS data (done in 4.2)"
   ]
  },
  {
   "cell_type": "markdown",
   "metadata": {
    "id": "M5jhQlogLFRi"
   },
   "source": [
    "\n",
    "From data exploration, we will use\n",
    "\n",
    "stop_df -  To find stop_id of Melbourne Central Railway Station \n",
    "\n",
    "trips_df - To find trip_ids that are in weekdays\n",
    "\n",
    "stop_times_df - To find trips_id that pass Melbourn Central Station and departure time is between 7 and 9 pm"
   ]
  },
  {
   "cell_type": "markdown",
   "metadata": {
    "id": "FuurYmX1S-tL"
   },
   "source": [
    "### 5.3 Find stop_id of Melbourne Central Railway Station from stops_df"
   ]
  },
  {
   "cell_type": "markdown",
   "metadata": {
    "id": "SpLMqnFp_sD1"
   },
   "source": [
    "First, we want to get stop_id of Melbourn Central station, which can be obtained from stop_df"
   ]
  },
  {
   "cell_type": "code",
   "execution_count": 334,
   "metadata": {
    "colab": {
     "base_uri": "https://localhost:8080/"
    },
    "id": "WJj2WIk-IV9H",
    "outputId": "5b698c34-a1f7-40be-fc81-a9121dcfc502"
   },
   "outputs": [
    {
     "data": {
      "text/plain": [
       "19842"
      ]
     },
     "execution_count": 334,
     "metadata": {},
     "output_type": "execute_result"
    }
   ],
   "source": [
    "# Get the Melbourne Central Railway Station stop_id\n",
    "central_mel_stop_id = stops_df.loc[stops_df.stop_name.str.contains('Melbourne Central'),'stop_id'].values[0]\n",
    "central_mel_stop_id"
   ]
  },
  {
   "cell_type": "markdown",
   "metadata": {
    "id": "xcyjfZyvaO02"
   },
   "source": [
    "### 5.4 Find all trip_ids that pass Melbourn Central Station from stop_times_df"
   ]
  },
  {
   "cell_type": "markdown",
   "metadata": {
    "id": "3LOTUSOpAI2U"
   },
   "source": [
    "Create array of central_mel_trip_id that contains trip_ids, which pass Melbourn Central Station from stop_times_df"
   ]
  },
  {
   "cell_type": "code",
   "execution_count": 335,
   "metadata": {
    "id": "iPJQsKekYgTY"
   },
   "outputs": [],
   "source": [
    "# Find all trip_ids that pass Melbourn Central Station from stop_times_df\n",
    "central_mel_trip_id = stop_times_df.loc[stop_times_df.stop_id == central_mel_stop_id,'trip_id'].unique()"
   ]
  },
  {
   "cell_type": "markdown",
   "metadata": {
    "id": "ln-pyJTfcliy"
   },
   "source": [
    "### 5.5 Find all trip_ids that pass Melbourn Central Station and operate on weekdays from trips_df"
   ]
  },
  {
   "cell_type": "markdown",
   "metadata": {
    "id": "JBeaU5CwAcXN"
   },
   "source": [
    "We can find operation days of service_id from calendar_df so that we can exclude those that operate during the weekend. Then, we look at trips_df dataframe, which contains service_id and trip_id. \n",
    "\n",
    "In trips_df, we extract travel_ids, which operate during the weekday (obtain from calendar_df) and pass Melbourn Central station (trip_id that is in central_mel_trip_id)"
   ]
  },
  {
   "cell_type": "code",
   "execution_count": 336,
   "metadata": {
    "id": "KZk9YTWhpoP-"
   },
   "outputs": [],
   "source": [
    "# Exclude service ID that did not operate on weekday \n",
    "weekday_calendar_df = calendar_df[~((calendar_df.monday==0)&(calendar_df.tuesday==0)&(calendar_df.wednesday==0)&(calendar_df.thursday==0)&(calendar_df.friday==0))]\n",
    "\n",
    "# Create service_id array\n",
    "weekday_service_id = weekday_calendar_df['service_id'].unique()\n"
   ]
  },
  {
   "cell_type": "code",
   "execution_count": 337,
   "metadata": {
    "id": "xNVDReHojl0X"
   },
   "outputs": [],
   "source": [
    "# Get trip IDs that pass Melbourn Central Station\n",
    "central_mel_trips_df = trips_df[trips_df.trip_id.isin(central_mel_trip_id)]\n",
    "\n",
    "# Get trip IDs that have service_ids which operate during weekdays\n",
    "central_mel_trips_df = central_mel_trips_df[central_mel_trips_df.service_id.isin(weekday_service_id)]\n",
    "central_mel_weekday_trips_id =central_mel_trips_df['trip_id'].unique()\n"
   ]
  },
  {
   "cell_type": "markdown",
   "metadata": {
    "id": "45feodgf0AI_"
   },
   "source": [
    "### 5.6 Find all trip_ids that pass Melbourn Central Station, operate on weekdays and are in beween 7 and 9 am from stop_times_df"
   ]
  },
  {
   "cell_type": "markdown",
   "metadata": {
    "id": "u9SJu9EEBw0Z"
   },
   "source": [
    "Furthermore, we want only travel_IDs that have department time between 7 and 9 am so we start from filtering travel_IDs in stop_times_df\n",
    "\n",
    "Next, we also want trip_ids that are in central_mel_weekday_trips_id generated in the previous section. After this task, we will get final_trip_id array, which is list of trip_id that we want to use"
   ]
  },
  {
   "cell_type": "code",
   "execution_count": 338,
   "metadata": {
    "id": "e0AKEi6gacfL"
   },
   "outputs": [],
   "source": [
    "# Filter stop_time data which has departure time between 7 to 9 am\n",
    "central_mel_stop_times = stop_times_df[(stop_times_df.departure_time >= '07:00:00') & (stop_times_df.departure_time <= '09:00:00')]\n",
    "\n",
    "\n",
    "# Get final_trip_id data which has trip_id that pass Central Melbourne and departure time is in weekday and between 7 and 9\n",
    "final_trip_id = central_mel_stop_times.loc[central_mel_stop_times.trip_id.isin(central_mel_weekday_trips_id),'trip_id'].unique()\n",
    "\n"
   ]
  },
  {
   "cell_type": "markdown",
   "metadata": {
    "id": "Ikl-i75Ycir9"
   },
   "source": [
    "### 5.7 Filter stop_times_df dataframe that satisfies all conditions above (trip_id is in final_trip_id) and create new data frame (filter_stop_times_df)"
   ]
  },
  {
   "cell_type": "markdown",
   "metadata": {
    "id": "PHFWeqF4lQaK"
   },
   "source": [
    "Then we filter stop_times_df using trip_ids that are in final_trip_id. In other word, trip_ids that satisfy all conditions above are selected. After that we sort the data by trip_id and departure_time. As a result, we will get data that contains each trip_id with arrival and departure time with stop_id shown in the table belown."
   ]
  },
  {
   "cell_type": "code",
   "execution_count": 339,
   "metadata": {
    "id": "YrbKVswlwWRF"
   },
   "outputs": [],
   "source": [
    "#  Filter stop_times_df dataframe that satisfies all conditions above (trip_id is in final_trip_id)\n",
    "filter_stop_times_df = stop_times_df[stop_times_df.trip_id.isin(final_trip_id)].sort_values(['trip_id','departure_time'])\n"
   ]
  },
  {
   "cell_type": "code",
   "execution_count": 340,
   "metadata": {
    "colab": {
     "base_uri": "https://localhost:8080/",
     "height": 204
    },
    "id": "xq4WVfTRl8ux",
    "outputId": "4ff2b52e-4f3c-4d6b-9fd8-7d99c2c70f28"
   },
   "outputs": [
    {
     "data": {
      "text/html": [
       "<div>\n",
       "<style scoped>\n",
       "    .dataframe tbody tr th:only-of-type {\n",
       "        vertical-align: middle;\n",
       "    }\n",
       "\n",
       "    .dataframe tbody tr th {\n",
       "        vertical-align: top;\n",
       "    }\n",
       "\n",
       "    .dataframe thead th {\n",
       "        text-align: right;\n",
       "    }\n",
       "</style>\n",
       "<table border=\"1\" class=\"dataframe\">\n",
       "  <thead>\n",
       "    <tr style=\"text-align: right;\">\n",
       "      <th></th>\n",
       "      <th>trip_id</th>\n",
       "      <th>arrival_time</th>\n",
       "      <th>departure_time</th>\n",
       "      <th>stop_id</th>\n",
       "      <th>stop_sequence</th>\n",
       "      <th>stop_headsign</th>\n",
       "      <th>pickup_type</th>\n",
       "      <th>drop_off_type</th>\n",
       "      <th>shape_dist_traveled</th>\n",
       "    </tr>\n",
       "  </thead>\n",
       "  <tbody>\n",
       "    <tr>\n",
       "      <th>109667</th>\n",
       "      <td>17067064.T0.2-EPP-F-mjp-1.8.R</td>\n",
       "      <td>06:14:00</td>\n",
       "      <td>06:14:00</td>\n",
       "      <td>45795</td>\n",
       "      <td>1</td>\n",
       "      <td>NaN</td>\n",
       "      <td>0</td>\n",
       "      <td>0</td>\n",
       "      <td>0.000000</td>\n",
       "    </tr>\n",
       "    <tr>\n",
       "      <th>109668</th>\n",
       "      <td>17067064.T0.2-EPP-F-mjp-1.8.R</td>\n",
       "      <td>06:17:00</td>\n",
       "      <td>06:17:00</td>\n",
       "      <td>20005</td>\n",
       "      <td>2</td>\n",
       "      <td>NaN</td>\n",
       "      <td>0</td>\n",
       "      <td>0</td>\n",
       "      <td>3282.530102</td>\n",
       "    </tr>\n",
       "    <tr>\n",
       "      <th>109669</th>\n",
       "      <td>17067064.T0.2-EPP-F-mjp-1.8.R</td>\n",
       "      <td>06:20:00</td>\n",
       "      <td>06:20:00</td>\n",
       "      <td>20006</td>\n",
       "      <td>3</td>\n",
       "      <td>NaN</td>\n",
       "      <td>0</td>\n",
       "      <td>0</td>\n",
       "      <td>5233.080796</td>\n",
       "    </tr>\n",
       "    <tr>\n",
       "      <th>109670</th>\n",
       "      <td>17067064.T0.2-EPP-F-mjp-1.8.R</td>\n",
       "      <td>06:22:00</td>\n",
       "      <td>06:22:00</td>\n",
       "      <td>20007</td>\n",
       "      <td>4</td>\n",
       "      <td>NaN</td>\n",
       "      <td>0</td>\n",
       "      <td>0</td>\n",
       "      <td>6862.796736</td>\n",
       "    </tr>\n",
       "    <tr>\n",
       "      <th>109671</th>\n",
       "      <td>17067064.T0.2-EPP-F-mjp-1.8.R</td>\n",
       "      <td>06:24:00</td>\n",
       "      <td>06:24:00</td>\n",
       "      <td>20008</td>\n",
       "      <td>5</td>\n",
       "      <td>NaN</td>\n",
       "      <td>0</td>\n",
       "      <td>0</td>\n",
       "      <td>8491.838303</td>\n",
       "    </tr>\n",
       "  </tbody>\n",
       "</table>\n",
       "</div>"
      ],
      "text/plain": [
       "                              trip_id  ... shape_dist_traveled\n",
       "109667  17067064.T0.2-EPP-F-mjp-1.8.R  ...            0.000000\n",
       "109668  17067064.T0.2-EPP-F-mjp-1.8.R  ...         3282.530102\n",
       "109669  17067064.T0.2-EPP-F-mjp-1.8.R  ...         5233.080796\n",
       "109670  17067064.T0.2-EPP-F-mjp-1.8.R  ...         6862.796736\n",
       "109671  17067064.T0.2-EPP-F-mjp-1.8.R  ...         8491.838303\n",
       "\n",
       "[5 rows x 9 columns]"
      ]
     },
     "execution_count": 340,
     "metadata": {},
     "output_type": "execute_result"
    }
   ],
   "source": [
    "#  Show  first few rows\n",
    "filter_stop_times_df.head()"
   ]
  },
  {
   "cell_type": "markdown",
   "metadata": {
    "id": "zYIQj4SgDlYW"
   },
   "source": [
    "### 5.8 Create new dataframe (cen_mel_arrival_time)that has information about Melbourn Central station arrival time in each trip_id from filter_stop_times_df"
   ]
  },
  {
   "cell_type": "markdown",
   "metadata": {
    "id": "sl_zsSrQmo1_"
   },
   "source": [
    "Now, we get data,which has all trip_ids that pass Melbourn Central station, operate during weekday and are in between 7am and 9pm. Next, we want to find time used from each station to the Melbourn Central station. To do that we create new dataframe cen_mel_arrival_time which contains arrival_time when train arrived at Melbourn Central station in each trip_id"
   ]
  },
  {
   "cell_type": "code",
   "execution_count": 341,
   "metadata": {
    "id": "rUZwHoOZ5eX0"
   },
   "outputs": [],
   "source": [
    "# Find Central Melbourn station arrival time in each trip_id\n",
    "cen_mel_arrival_time = filter_stop_times_df.loc[filter_stop_times_df.stop_id ==central_mel_stop_id,['trip_id','arrival_time']]\n",
    "cen_mel_arrival_time= cen_mel_arrival_time.rename(columns ={'arrival_time':'central_mel_arrival_time'})"
   ]
  },
  {
   "cell_type": "markdown",
   "metadata": {
    "id": "lF8Hc2WuFj0l"
   },
   "source": [
    "### 5.9 Create final_stop_time_df, which is the filter_stop_times_df left join with cen_mel_arrival_time in order to calculate travel minute in each station to Melbourn Central station"
   ]
  },
  {
   "cell_type": "markdown",
   "metadata": {
    "id": "RtgZ7Xqzn4tv"
   },
   "source": [
    "Then, we join cen_mel_arrival_time dataframe back to the filter_stop_times_df because we want each row to have Melbourn central arrival time so we can calculate time used for traveling to Melbourn central in each trip_id and station_id. To do that, we convert departure_time and central_mel_arrival_time to datetime so we can use minus operation to find time differences. Finally, we get new column named travel_min_to_MC."
   ]
  },
  {
   "cell_type": "code",
   "execution_count": 342,
   "metadata": {
    "id": "9hO-oyoX4vd2"
   },
   "outputs": [],
   "source": [
    "# Left join cen_mel_arrival_time in filter_stop_times_df to get Central Melbourn station arrival time\n",
    "final_stop_time_df = filter_stop_times_df.merge(cen_mel_arrival_time,left_on= 'trip_id',right_on= 'trip_id',how ='left')\n",
    "\n",
    "# Change departure_time column to datetime datatype\n",
    "final_stop_time_df['departure_time'] =pd.to_datetime(final_stop_time_df['departure_time'])\n",
    "final_stop_time_df['central_mel_arrival_time'] =pd.to_datetime(final_stop_time_df['central_mel_arrival_time'])\n",
    "\n",
    "# Add travel min to Central Melbourn \n",
    "final_stop_time_df['travel_min_to_MC'] = (final_stop_time_df['central_mel_arrival_time'] - final_stop_time_df['departure_time']).astype('timedelta64[m]')\n",
    "\n",
    "# Exclude data that has travel_min_to_MC > 0 (stations after arriving Melbourn Central)\n",
    "final_stop_time_df = final_stop_time_df[final_stop_time_df['travel_min_to_MC']  >= 0].reset_index(drop = True)"
   ]
  },
  {
   "cell_type": "markdown",
   "metadata": {
    "id": "HB5iJxlZGubD"
   },
   "source": [
    "### 5.10 Calculate average travel_min_to_MC group by stop_id"
   ]
  },
  {
   "cell_type": "markdown",
   "metadata": {
    "id": "BB1EkjjMpPPh"
   },
   "source": [
    "As we want average travel minute to Melbourn Central station from each station, we perform group by each stop_id with average and get the final result we want. Also we round the data and convert into integer"
   ]
  },
  {
   "cell_type": "code",
   "execution_count": 343,
   "metadata": {
    "id": "GnCZxoFTAEb8"
   },
   "outputs": [],
   "source": [
    "# Calculate average travel_min_to_MC group by stop_id\n",
    "travel_min_to_MC_df = final_stop_time_df[['stop_id','travel_min_to_MC']].groupby('stop_id').mean().reset_index()\n",
    "\n",
    "# Round the number\n",
    "travel_min_to_MC_df['travel_min_to_MC'] = round(travel_min_to_MC_df['travel_min_to_MC']).astype(int)"
   ]
  },
  {
   "cell_type": "markdown",
   "metadata": {
    "id": "wQUplC1nHXZp"
   },
   "source": [
    "### 5.11 Left join travel_min_to_MC_df on final_df to get travel_min_to_MC for each property_id\n"
   ]
  },
  {
   "cell_type": "markdown",
   "metadata": {
    "id": "9UKSO5Pep9U3"
   },
   "source": [
    "\n",
    "At the end, we left join travel_min_to_MC_df to final_df to get for each property_id"
   ]
  },
  {
   "cell_type": "code",
   "execution_count": 344,
   "metadata": {
    "id": "CiM-V0lI_296"
   },
   "outputs": [],
   "source": [
    "# Left join the final df with travel_min_to_MC_df to get travel_min_to_MC\n",
    "final_df = final_df.merge(travel_min_to_MC_df,left_on ='closest_train_station_id',right_on ='stop_id',how = 'left')\n",
    "\n",
    "# Drop stop_id column\n",
    "final_df.drop(columns='stop_id',inplace = True)\n",
    "\n",
    "# Fill na with not available\n",
    "final_df['travel_min_to_MC'].fillna('Not available',inplace = True)"
   ]
  },
  {
   "cell_type": "markdown",
   "metadata": {
    "id": "-yhLzTiyIZZ2"
   },
   "source": [
    "### 5.12 Flag 1 if stop_id is in there is direct journey to Melbourn Central (stop_id is in travel_min_to_MC_df), 0 otherwise in stops_df"
   ]
  },
  {
   "cell_type": "markdown",
   "metadata": {
    "id": "Kj1XN8pFqXSq"
   },
   "source": [
    "For the direct_journey_flag column, we flag stop_ids in stop_df (Contain information about each train station) that are in travel_min_to_MC_df (have direct journey to MC with all conditions satisfy) with 1 and 0 otherwise. "
   ]
  },
  {
   "cell_type": "code",
   "execution_count": 345,
   "metadata": {
    "id": "YhHa11PkBklt"
   },
   "outputs": [],
   "source": [
    "# Flag 1 if stop_id is in there is direct journey to Melbourn Central (stop_id is in travel_min_to_MC_df), 0 otherwise in stops_df\n",
    "stops_df['direct_journey_flag']=np.where(stops_df['stop_id'].isin(travel_min_to_MC_df['stop_id']), 1,0) "
   ]
  },
  {
   "cell_type": "markdown",
   "metadata": {
    "id": "BIuhOn7tI50T"
   },
   "source": [
    "### 5.13 Left join stops_df with flag on final_df to get direct_jouney_flag"
   ]
  },
  {
   "cell_type": "markdown",
   "metadata": {
    "id": "DDIAAE1wrJcY"
   },
   "source": [
    "Then, we left join stops_df to final_df to get direct_journey_flag"
   ]
  },
  {
   "cell_type": "code",
   "execution_count": 346,
   "metadata": {
    "id": "nQVgho9uJQ3l"
   },
   "outputs": [],
   "source": [
    "# Left join the final df with stops_dfto get direct_jouney_flag\n",
    "final_df = final_df.merge(stops_df[['stop_id','direct_journey_flag']],left_on ='closest_train_station_id',right_on ='stop_id',how = 'left')\n",
    "\n",
    "# Drop stop_id column\n",
    "final_df.drop(columns='stop_id',inplace = True)\n",
    "\n"
   ]
  },
  {
   "cell_type": "code",
   "execution_count": 347,
   "metadata": {
    "colab": {
     "base_uri": "https://localhost:8080/",
     "height": 306
    },
    "id": "WZcSMTarL02S",
    "outputId": "f22ad685-bbab-4d1c-c35b-05eecb19b93f"
   },
   "outputs": [
    {
     "data": {
      "text/html": [
       "<div>\n",
       "<style scoped>\n",
       "    .dataframe tbody tr th:only-of-type {\n",
       "        vertical-align: middle;\n",
       "    }\n",
       "\n",
       "    .dataframe tbody tr th {\n",
       "        vertical-align: top;\n",
       "    }\n",
       "\n",
       "    .dataframe thead th {\n",
       "        text-align: right;\n",
       "    }\n",
       "</style>\n",
       "<table border=\"1\" class=\"dataframe\">\n",
       "  <thead>\n",
       "    <tr style=\"text-align: right;\">\n",
       "      <th></th>\n",
       "      <th>property_id</th>\n",
       "      <th>lat</th>\n",
       "      <th>lng</th>\n",
       "      <th>addr_street</th>\n",
       "      <th>suburb</th>\n",
       "      <th>lga</th>\n",
       "      <th>distance_to_closest_train_station</th>\n",
       "      <th>closest_train_station_id</th>\n",
       "      <th>travel_min_to_MC</th>\n",
       "      <th>direct_journey_flag</th>\n",
       "    </tr>\n",
       "  </thead>\n",
       "  <tbody>\n",
       "    <tr>\n",
       "      <th>0</th>\n",
       "      <td>37646</td>\n",
       "      <td>-37.646030</td>\n",
       "      <td>145.030197</td>\n",
       "      <td>61 Davisson Street</td>\n",
       "      <td>EPPING</td>\n",
       "      <td>FRANKSTON</td>\n",
       "      <td>0.707690</td>\n",
       "      <td>20005</td>\n",
       "      <td>51</td>\n",
       "      <td>1</td>\n",
       "    </tr>\n",
       "    <tr>\n",
       "      <th>1</th>\n",
       "      <td>37431</td>\n",
       "      <td>-37.655946</td>\n",
       "      <td>145.030604</td>\n",
       "      <td>403 Dalton Road</td>\n",
       "      <td>EPPING</td>\n",
       "      <td>FRANKSTON</td>\n",
       "      <td>0.398435</td>\n",
       "      <td>20005</td>\n",
       "      <td>51</td>\n",
       "      <td>1</td>\n",
       "    </tr>\n",
       "    <tr>\n",
       "      <th>2</th>\n",
       "      <td>85591</td>\n",
       "      <td>-37.887565</td>\n",
       "      <td>145.006124</td>\n",
       "      <td>38 Orrong Road</td>\n",
       "      <td>ELSTERNWICK</td>\n",
       "      <td>MORELAND</td>\n",
       "      <td>0.555686</td>\n",
       "      <td>19954</td>\n",
       "      <td>Not available</td>\n",
       "      <td>0</td>\n",
       "    </tr>\n",
       "    <tr>\n",
       "      <th>3</th>\n",
       "      <td>77423</td>\n",
       "      <td>-37.928208</td>\n",
       "      <td>145.184814</td>\n",
       "      <td>11 Southampton Drive</td>\n",
       "      <td>MULGRAVE</td>\n",
       "      <td>MACEDON RANGES</td>\n",
       "      <td>3.633629</td>\n",
       "      <td>19913</td>\n",
       "      <td>35</td>\n",
       "      <td>1</td>\n",
       "    </tr>\n",
       "    <tr>\n",
       "      <th>4</th>\n",
       "      <td>40541</td>\n",
       "      <td>-37.714607</td>\n",
       "      <td>145.032462</td>\n",
       "      <td>4 Bunker Avenue</td>\n",
       "      <td>KINGSBURY</td>\n",
       "      <td>ALPINE</td>\n",
       "      <td>2.154261</td>\n",
       "      <td>20009</td>\n",
       "      <td>41</td>\n",
       "      <td>1</td>\n",
       "    </tr>\n",
       "  </tbody>\n",
       "</table>\n",
       "</div>"
      ],
      "text/plain": [
       "   property_id        lat  ...  travel_min_to_MC direct_journey_flag\n",
       "0        37646 -37.646030  ...                51                   1\n",
       "1        37431 -37.655946  ...                51                   1\n",
       "2        85591 -37.887565  ...     Not available                   0\n",
       "3        77423 -37.928208  ...                35                   1\n",
       "4        40541 -37.714607  ...                41                   1\n",
       "\n",
       "[5 rows x 10 columns]"
      ]
     },
     "execution_count": 347,
     "metadata": {},
     "output_type": "execute_result"
    }
   ],
   "source": [
    "# Show first 5 rows\n",
    "final_df.head()"
   ]
  },
  {
   "cell_type": "code",
   "execution_count": 348,
   "metadata": {
    "colab": {
     "base_uri": "https://localhost:8080/"
    },
    "id": "o__z7I3cJTW5",
    "outputId": "e4b44b83-4ed3-450a-add2-bd9655861506"
   },
   "outputs": [
    {
     "name": "stdout",
     "output_type": "stream",
     "text": [
      "<class 'pandas.core.frame.DataFrame'>\n",
      "Int64Index: 2286 entries, 0 to 2285\n",
      "Data columns (total 10 columns):\n",
      " #   Column                             Non-Null Count  Dtype  \n",
      "---  ------                             --------------  -----  \n",
      " 0   property_id                        2286 non-null   int64  \n",
      " 1   lat                                2286 non-null   float64\n",
      " 2   lng                                2286 non-null   float64\n",
      " 3   addr_street                        2286 non-null   object \n",
      " 4   suburb                             2286 non-null   object \n",
      " 5   lga                                2286 non-null   object \n",
      " 6   distance_to_closest_train_station  2286 non-null   float64\n",
      " 7   closest_train_station_id           2286 non-null   int64  \n",
      " 8   travel_min_to_MC                   2286 non-null   object \n",
      " 9   direct_journey_flag                2286 non-null   int64  \n",
      "dtypes: float64(3), int64(3), object(4)\n",
      "memory usage: 196.5+ KB\n"
     ]
    }
   ],
   "source": [
    "# Show info\n",
    "final_df.info()"
   ]
  },
  {
   "cell_type": "markdown",
   "metadata": {
    "id": "ld7y1SDfXTsw"
   },
   "source": [
    "## 6.Getting **COVID cases data** from covidlive.com.au"
   ]
  },
  {
   "cell_type": "markdown",
   "metadata": {
    "id": "0Ab51E8rLf9E"
   },
   "source": [
    "In this section, we scrap data from the covidlive.com website. There are several steps, which are :\n",
    "\n",
    "6.1 Find all list of LGA and URL link of LGA daily cases from  https://covidlive.com.au/report/cases-by-lga/vic\n",
    "\n",
    "6.2 Extract COVID data from the URL link generated in 6.1\n",
    "\n",
    "6.3 Create COVID_df dataframe that contains COVID cases attributes and clean the data\n",
    "\n",
    "6.4 Left join on final_df with COVID_df to get COVID attributes\n"
   ]
  },
  {
   "cell_type": "markdown",
   "metadata": {
    "id": "2gDJuQwzMtcu"
   },
   "source": [
    "### 6.1 Find all list of LGA and URL link of LGA daily cases from  https://covidlive.com.au/report/cases-by-lga/vic"
   ]
  },
  {
   "cell_type": "markdown",
   "metadata": {
    "id": "KlaQCHd9tDGi"
   },
   "source": [
    "Since daily cases data is in different URL link, our first step is to get URL of each LGA daily cases with each LGA name. To do that we utilise BeautifulSoup library to read html file. We found all link in html that start with /vic/ and store in to LGA_COVID_link_list. Also, we store each LGA name into LGA_COVID_list"
   ]
  },
  {
   "cell_type": "code",
   "execution_count": 349,
   "metadata": {
    "id": "0Nb_LBvouQ2D"
   },
   "outputs": [],
   "source": [
    "# Open url that contains links of LGA daily cases\n",
    "lga_html =urlopen(\"https://covidlive.com.au/report/cases-by-lga/vic\") \n",
    "\n",
    "# Initialise beautifulsoup object\n",
    "lga_bsobj = BeautifulSoup(lga_html,'html.parser')\n",
    "\n",
    "# Initialise placeholders \n",
    "LGA_COVID_list = []\n",
    "LGA_COVID_link_list =[]\n",
    "\n",
    "# For each link we found in the html above, which starts with /vic/\n",
    "for link in lga_bsobj.findAll(\"a\", href=re.compile(\"^(/vic/)\")) :\n",
    "\n",
    "  # Get the name of LGA\n",
    "  LGA_COVID = link.text\n",
    "  \n",
    "  # Get the link of each LGA daily cases\n",
    "  LGA_COVID_link = link.attrs['href']\n",
    "\n",
    "  # Append those data into list\n",
    "  LGA_COVID_list.append(LGA_COVID)\n",
    "  LGA_COVID_link_list.append(LGA_COVID_link)\n"
   ]
  },
  {
   "cell_type": "markdown",
   "metadata": {
    "id": "MIJShLL0MzfN"
   },
   "source": [
    "### 6.2 Extract COVID data from the URL link generated in 6.1"
   ]
  },
  {
   "cell_type": "markdown",
   "metadata": {
    "id": "9ov1AUgwulj2"
   },
   "source": [
    "Once we get all URL links that we want to scrap, we then use for loop to open each URL and extract COVID data. As we explore the websites, the data is in table or in the 'tr' html tag and each row of the data is in 'td' html tag with date as a first column and covid cases as a 4th column. We wrote the code by using Beautifulsoup to follow those pattern. Once we did that, we will get dates and daily COVID cases in each LGA. However, daily COVID cases is in string format and they are aggregrated COVID in each day so we need to process data furthermore. To find daily new cases, we sort the data by date and use diff function to find differences between today's cases and yesterday's cases. Finally, our goal is to get sep_30_cases, last_14days_cases, last_30days_cases, last_60days_cases_list so we filter and do some processing and add them into lists we create as placeholders. "
   ]
  },
  {
   "cell_type": "code",
   "execution_count": 350,
   "metadata": {
    "id": "vO-KIzKRvNvX"
   },
   "outputs": [],
   "source": [
    "# Initialise placeholders \n",
    "last_14days_cases_list = []\n",
    "last_30days_cases_list = []\n",
    "last_60days_cases_list = []\n",
    "sep_30_cases_list =[]\n",
    "\n",
    "# for each index\n",
    "for index in range(0,len(LGA_COVID_link_list)):\n",
    "\n",
    "  # Open each daily LGA cases url \n",
    "  cases_html = urlopen(\"https://covidlive.com.au\"+LGA_COVID_link_list[index])\n",
    "\n",
    "  # Initialise beautifulsoup object\n",
    "  cases_bsobj = BeautifulSoup(cases_html,'html.parser')\n",
    "\n",
    "  # Initialise placeholders \n",
    "  covid_date_list = []\n",
    "  covid_cases_list =[]\n",
    "\n",
    "  # for each row in the table in each url\n",
    "  for tr in cases_bsobj.find_all('tr')[3:] :\n",
    "\n",
    "    # Extract date\n",
    "    covid_date = tr.find_all('td')[0].text\n",
    "\n",
    "    # Extract covid cases\n",
    "    covid_cases = tr.find_all('td')[3].text\n",
    "\n",
    "    # Append data to the list\n",
    "    covid_date_list.append(covid_date)\n",
    "    covid_cases = covid_cases_list.append(covid_cases)\n",
    "\n",
    "  # Create covid_each_df dateframe\n",
    "  covid_each_df = pd.DataFrame()\n",
    "  covid_each_df['date'] = covid_date_list\n",
    "  covid_each_df['cases'] = covid_cases_list\n",
    "\n",
    "  # Convert cases column to integer\n",
    "  covid_each_df['cases'] = covid_each_df['cases'].apply(lambda x: x.replace(',','')).astype(int)\n",
    "\n",
    "  # Convert date column to datetime\n",
    "  covid_each_df['date'] = covid_each_df['date'].apply(lambda x: x+' 2021')\n",
    "  covid_each_df['date'] = pd.to_datetime(covid_each_df['date'] ,format = '%d %b %Y')  \n",
    "\n",
    "  # Sort by date ascending\n",
    "  covid_each_df = covid_each_df.sort_values('date')\n",
    "\n",
    "  # Calculate daily new cases (total cases of current day - previous day = new cases)\n",
    "  covid_each_df['new_cases'] = covid_each_df['cases'].diff()\n",
    "\n",
    "  # Sort by date descending (easier to check with the website)\n",
    "  covid_each_df = covid_each_df.sort_values('date',ascending= False)\n",
    "\n",
    "  # If data is not complete, we fill all nan to them\n",
    "  if covid_each_df.loc[(covid_each_df['date']>='2021-08-01') & (covid_each_df['date']<='2021-09-29'),'new_cases'].count() != 60:\n",
    "    sep_30_cases = np.nan \n",
    "    last_14days_cases = np.nan \n",
    "    last_30days_cases = np.nan \n",
    "    last_60days_cases = np.nan \n",
    "  else: \n",
    "    # Get the new case on 2021-09-30\n",
    "    sep_30_cases = round(covid_each_df.loc[(covid_each_df['date']=='2021-09-30'),'new_cases'].sum())\n",
    "\n",
    "    # Calculate last n days cases of each LGA\n",
    "    last_14days_cases =round(covid_each_df.loc[(covid_each_df['date']>='2021-09-16') & (covid_each_df['date']<='2021-09-29'),'new_cases'].mean())\n",
    "    last_30days_cases = round(covid_each_df.loc[(covid_each_df['date']>='2021-08-31') & (covid_each_df['date']<='2021-09-29'),'new_cases'].mean())\n",
    "    last_60days_cases = round(covid_each_df.loc[(covid_each_df['date']>='2021-08-01') & (covid_each_df['date']<='2021-09-29'),'new_cases'].mean())\n",
    "  \n",
    "  # Append calculated data to the lists\n",
    "  sep_30_cases_list.append(sep_30_cases)\n",
    "  last_14days_cases_list.append(last_14days_cases)\n",
    "  last_30days_cases_list.append(last_30days_cases)\n",
    "  last_60days_cases_list.append(last_60days_cases)\n",
    "\n",
    "\n"
   ]
  },
  {
   "cell_type": "markdown",
   "metadata": {
    "id": "M-QGTwIgM4Wn"
   },
   "source": [
    "### 6.3 Create COVID_df dataframe that contains COVID cases attributes and clean the data"
   ]
  },
  {
   "cell_type": "markdown",
   "metadata": {
    "id": "KNe63tG60v0i"
   },
   "source": [
    "After we obtain COVID data from the websites, we create covid_df to check the data. We then convert lga to uppercases and strip with whitespace and fix the COLAC OTWAY to COLAC-OTWAY in order to be consistent to the final_df"
   ]
  },
  {
   "cell_type": "code",
   "execution_count": 351,
   "metadata": {
    "id": "Rt0sdNEO7XzD"
   },
   "outputs": [],
   "source": [
    "# Create dataframe and put data in\n",
    "covid_df = pd.DataFrame()\n",
    "covid_df['lga'] = LGA_COVID_list\n",
    "covid_df['30_sep_cases'] = sep_30_cases_list\n",
    "covid_df['last_14_days_cases'] = last_14days_cases_list\n",
    "covid_df['last_30_days_cases'] = last_30days_cases_list\n",
    "covid_df['last_60_days_cases'] = last_60days_cases_list\n",
    "\n",
    "# Change lga cases to upper and strip whitespace\n",
    "covid_df['lga'] = covid_df['lga'].apply(lambda x : x.upper().strip())\n",
    "\n",
    "# Change the name of lga (COLAC-OTWAY)to be consistent with other table (We found this after we join the table in the first time)\n",
    "covid_df.loc[covid_df.lga == 'COLAC OTWAY','lga'] = 'COLAC-OTWAY'"
   ]
  },
  {
   "cell_type": "markdown",
   "metadata": {
    "id": "8QneP-XRM8yC"
   },
   "source": [
    "### 6.4 Left join on final_df with COVID_df to get COVID attributes"
   ]
  },
  {
   "cell_type": "markdown",
   "metadata": {
    "id": "ImgHhaRD2Pam"
   },
   "source": [
    "Then, we left join covid_df to final_df to get COVID attributes"
   ]
  },
  {
   "cell_type": "code",
   "execution_count": 352,
   "metadata": {
    "id": "_at_UFDdTRQ5"
   },
   "outputs": [],
   "source": [
    "# Left join the final df with covid_df to get COVID data\n",
    "final_df = final_df.merge(covid_df,left_on ='lga',right_on ='lga',how = 'left')"
   ]
  },
  {
   "cell_type": "markdown",
   "metadata": {
    "id": "Ia2qJlez2Asp"
   },
   "source": [
    "## 7.Writing final CSV output"
   ]
  },
  {
   "cell_type": "markdown",
   "metadata": {
    "id": "R5xUmjjT2Yso"
   },
   "source": [
    "Finally, we rearrage data, which follows sample_output format and write 31258301_A3_solution.csv as an output"
   ]
  },
  {
   "cell_type": "code",
   "execution_count": 353,
   "metadata": {
    "id": "srJ7vVR6J7-p"
   },
   "outputs": [],
   "source": [
    "# Rearrange columns in the same order as sample output\n",
    "final_df= final_df[['property_id','lat','lng','addr_street','suburb','lga','closest_train_station_id','distance_to_closest_train_station','travel_min_to_MC',\n",
    "          'direct_journey_flag','30_sep_cases','last_14_days_cases','last_30_days_cases','last_60_days_cases']]"
   ]
  },
  {
   "cell_type": "code",
   "execution_count": 354,
   "metadata": {
    "colab": {
     "base_uri": "https://localhost:8080/",
     "height": 326
    },
    "id": "HCJXb8LGNBu8",
    "outputId": "46d69856-42d6-49a7-daa5-eedc646b9f42"
   },
   "outputs": [
    {
     "data": {
      "text/html": [
       "<div>\n",
       "<style scoped>\n",
       "    .dataframe tbody tr th:only-of-type {\n",
       "        vertical-align: middle;\n",
       "    }\n",
       "\n",
       "    .dataframe tbody tr th {\n",
       "        vertical-align: top;\n",
       "    }\n",
       "\n",
       "    .dataframe thead th {\n",
       "        text-align: right;\n",
       "    }\n",
       "</style>\n",
       "<table border=\"1\" class=\"dataframe\">\n",
       "  <thead>\n",
       "    <tr style=\"text-align: right;\">\n",
       "      <th></th>\n",
       "      <th>property_id</th>\n",
       "      <th>lat</th>\n",
       "      <th>lng</th>\n",
       "      <th>addr_street</th>\n",
       "      <th>suburb</th>\n",
       "      <th>lga</th>\n",
       "      <th>closest_train_station_id</th>\n",
       "      <th>distance_to_closest_train_station</th>\n",
       "      <th>travel_min_to_MC</th>\n",
       "      <th>direct_journey_flag</th>\n",
       "      <th>30_sep_cases</th>\n",
       "      <th>last_14_days_cases</th>\n",
       "      <th>last_30_days_cases</th>\n",
       "      <th>last_60_days_cases</th>\n",
       "    </tr>\n",
       "  </thead>\n",
       "  <tbody>\n",
       "    <tr>\n",
       "      <th>0</th>\n",
       "      <td>37646</td>\n",
       "      <td>-37.646030</td>\n",
       "      <td>145.030197</td>\n",
       "      <td>61 Davisson Street</td>\n",
       "      <td>EPPING</td>\n",
       "      <td>FRANKSTON</td>\n",
       "      <td>20005</td>\n",
       "      <td>0.707690</td>\n",
       "      <td>51</td>\n",
       "      <td>1</td>\n",
       "      <td>3.0</td>\n",
       "      <td>3.0</td>\n",
       "      <td>2.0</td>\n",
       "      <td>1.0</td>\n",
       "    </tr>\n",
       "    <tr>\n",
       "      <th>1</th>\n",
       "      <td>37431</td>\n",
       "      <td>-37.655946</td>\n",
       "      <td>145.030604</td>\n",
       "      <td>403 Dalton Road</td>\n",
       "      <td>EPPING</td>\n",
       "      <td>FRANKSTON</td>\n",
       "      <td>20005</td>\n",
       "      <td>0.398435</td>\n",
       "      <td>51</td>\n",
       "      <td>1</td>\n",
       "      <td>3.0</td>\n",
       "      <td>3.0</td>\n",
       "      <td>2.0</td>\n",
       "      <td>1.0</td>\n",
       "    </tr>\n",
       "    <tr>\n",
       "      <th>2</th>\n",
       "      <td>85591</td>\n",
       "      <td>-37.887565</td>\n",
       "      <td>145.006124</td>\n",
       "      <td>38 Orrong Road</td>\n",
       "      <td>ELSTERNWICK</td>\n",
       "      <td>MORELAND</td>\n",
       "      <td>19954</td>\n",
       "      <td>0.555686</td>\n",
       "      <td>Not available</td>\n",
       "      <td>0</td>\n",
       "      <td>111.0</td>\n",
       "      <td>55.0</td>\n",
       "      <td>48.0</td>\n",
       "      <td>25.0</td>\n",
       "    </tr>\n",
       "    <tr>\n",
       "      <th>3</th>\n",
       "      <td>77423</td>\n",
       "      <td>-37.928208</td>\n",
       "      <td>145.184814</td>\n",
       "      <td>11 Southampton Drive</td>\n",
       "      <td>MULGRAVE</td>\n",
       "      <td>MACEDON RANGES</td>\n",
       "      <td>19913</td>\n",
       "      <td>3.633629</td>\n",
       "      <td>35</td>\n",
       "      <td>1</td>\n",
       "      <td>1.0</td>\n",
       "      <td>1.0</td>\n",
       "      <td>1.0</td>\n",
       "      <td>0.0</td>\n",
       "    </tr>\n",
       "    <tr>\n",
       "      <th>4</th>\n",
       "      <td>40541</td>\n",
       "      <td>-37.714607</td>\n",
       "      <td>145.032462</td>\n",
       "      <td>4 Bunker Avenue</td>\n",
       "      <td>KINGSBURY</td>\n",
       "      <td>ALPINE</td>\n",
       "      <td>20009</td>\n",
       "      <td>2.154261</td>\n",
       "      <td>41</td>\n",
       "      <td>1</td>\n",
       "      <td>0.0</td>\n",
       "      <td>0.0</td>\n",
       "      <td>0.0</td>\n",
       "      <td>0.0</td>\n",
       "    </tr>\n",
       "  </tbody>\n",
       "</table>\n",
       "</div>"
      ],
      "text/plain": [
       "   property_id        lat  ...  last_30_days_cases last_60_days_cases\n",
       "0        37646 -37.646030  ...                 2.0                1.0\n",
       "1        37431 -37.655946  ...                 2.0                1.0\n",
       "2        85591 -37.887565  ...                48.0               25.0\n",
       "3        77423 -37.928208  ...                 1.0                0.0\n",
       "4        40541 -37.714607  ...                 0.0                0.0\n",
       "\n",
       "[5 rows x 14 columns]"
      ]
     },
     "execution_count": 354,
     "metadata": {},
     "output_type": "execute_result"
    }
   ],
   "source": [
    "# Show first 5 rows\n",
    "final_df.head()"
   ]
  },
  {
   "cell_type": "code",
   "execution_count": 355,
   "metadata": {
    "colab": {
     "base_uri": "https://localhost:8080/"
    },
    "id": "pBHVIGOVNF-e",
    "outputId": "0a38ebbf-3005-4488-ef74-719b16f3a013"
   },
   "outputs": [
    {
     "name": "stdout",
     "output_type": "stream",
     "text": [
      "<class 'pandas.core.frame.DataFrame'>\n",
      "Int64Index: 2286 entries, 0 to 2285\n",
      "Data columns (total 14 columns):\n",
      " #   Column                             Non-Null Count  Dtype  \n",
      "---  ------                             --------------  -----  \n",
      " 0   property_id                        2286 non-null   int64  \n",
      " 1   lat                                2286 non-null   float64\n",
      " 2   lng                                2286 non-null   float64\n",
      " 3   addr_street                        2286 non-null   object \n",
      " 4   suburb                             2286 non-null   object \n",
      " 5   lga                                2286 non-null   object \n",
      " 6   closest_train_station_id           2286 non-null   int64  \n",
      " 7   distance_to_closest_train_station  2286 non-null   float64\n",
      " 8   travel_min_to_MC                   2286 non-null   object \n",
      " 9   direct_journey_flag                2286 non-null   int64  \n",
      " 10  30_sep_cases                       2286 non-null   float64\n",
      " 11  last_14_days_cases                 2286 non-null   float64\n",
      " 12  last_30_days_cases                 2286 non-null   float64\n",
      " 13  last_60_days_cases                 2286 non-null   float64\n",
      "dtypes: float64(7), int64(3), object(4)\n",
      "memory usage: 267.9+ KB\n"
     ]
    }
   ],
   "source": [
    "# Show info\n",
    "final_df.info()"
   ]
  },
  {
   "cell_type": "code",
   "execution_count": 356,
   "metadata": {
    "id": "ItypUwE-Nipw"
   },
   "outputs": [],
   "source": [
    "# Writing CSV Output for A3 Dataset Solution\n",
    "final_df.to_csv('31258301_A3_solution.csv', index = False)"
   ]
  },
  {
   "cell_type": "markdown",
   "metadata": {
    "id": "5UG6JCOm2yGY"
   },
   "source": [
    "## 8.Summary"
   ]
  },
  {
   "cell_type": "markdown",
   "metadata": {
    "id": "BMYmWQQB3ARp"
   },
   "source": [
    "In conclusion, we perform several steps to integrate data in different sources and clean them into format we want. All steps are summarised below:\n",
    "\n",
    "1.   Getting property_id,lat,lon and addr_street attributes from xml and json files\n",
    "\n",
    "* 1.1 Load 31258301.xml\n",
    "* 1.2 Load 31258301.json\n",
    "* 1.3 Integrate 2 XML and JSON data sources (location_xml_df and location_json_df)\n",
    "\n",
    "\n",
    "2.   Getting suburb attribute from Vic_suburd_boundary shapefiles\n",
    "\n",
    "* 2.1 Load 3 shapefiles from Vic_suburd_boundary directory\n",
    "* 2.2 Create list of tuple (Suburb name, Polygon object)\n",
    "* 2.3 Find suburbs of given latitudes & lontitudes and add them back to final_df\n",
    "\n",
    "\n",
    "3.   Getting LGA attribute from Lga_to_suburb.pdf\n",
    "\n",
    "* 3.1 Load the Lga_to_suburb.pdf into raw text file\n",
    "* 3.2 Use regular expression to extract LGA and suburb\n",
    "* 3.3 Pre-process the data and add lga to final_df\n",
    "* 3.4 Left join lga_master with final_df to get lga for each property_id\n",
    "\n",
    "4.   Getting closest_train_station and distance_to_closest_train from GFTS files\n",
    "* 4.1 Load GFTS data\n",
    "* 4.2 Explore GFTS data\n",
    "* 4.3 Find the minimum distance from each property to the closest train station and get the clostest train station id and distance to closest train station\n",
    "* 4.4 Add closest_train_station and distance_to_closest to final_df\n",
    "\n",
    "5.   Getting travel_min_to_MC and distance_journey_flag from GFTS files\n",
    "* 5.1 Load GFTS data (done in 4.1)\n",
    "* 5.2 Explore GFTS data (done in 4.2)\n",
    "* 5.3 Find stop_id of Melbourne Central Railway Station from stops_df\n",
    "* 5.4 Find all trip_ids that pass Melbourn Central Station from stop_times_df\n",
    "* 5.5 Find all trip_ids that pass Melbourn Central Station and operate on weekdays from trips_df\n",
    "* 5.6 Find all trip_ids that pass Melbourn Central Station, operate on weekdays and are in beween 7 and 9 am from stop_times_df\n",
    "* 5.7 Filter stop_times_df dataframe that satisfies all conditions above (trip_id is in final_trip_id) and create new data frame (filter_stop_times_df)\n",
    "* 5.8 Create new dataframe (cen_mel_arrival_time)that has information about Melbourn Central station arrival time in each trip_id from filter_stop_times_df\n",
    "* 5.9 Create final_stop_time_df, which is the filter_stop_times_df left join with cen_mel_arrival_time in order to calculate travel minute in each station to Melbourn Central station\n",
    "* 5.10 Calculate average travel_min_to_MC group by stop_id\n",
    "* 5.11 Left join travel_min_to_MC_df on final_df to get travel_min_to_MC for each property_id\n",
    "* 5.12 Flag 1 if stop_id is in there is direct journey to Melbourn Central (stop_id is in travel_min_to_MC_df), 0 otherwise in stops_df\n",
    "* 5.13 Left join stops_df with flag on final_df to get direct_jouney_flag\n",
    "\n",
    "6.    Getting COVID cases data from covidlive.com.au\n",
    "* 6.1 Find all list of LGA and URL link of LGA daily cases from https://covidlive.com.au/report/cases-by-lga/vic\n",
    "* 6.2 Extract COVID data from the URL link generated in 6.1\n",
    "* 6.3 Create COVID_df dataframe that contains COVID cases attributes and clean the data\n",
    "* 6.4 Left join on final_df with COVID_df to get COVID attributes\n",
    "\n",
    "7.    Writing final CSV output\n"
   ]
  },
  {
   "cell_type": "markdown",
   "metadata": {
    "id": "DEoouBTPEzYB"
   },
   "source": [
    "# Task 2:  Data Reshaping (20%)\n",
    "\n",
    "In this task, you need to study the effect of different normalization/transformation methods (i.e.\n",
    "standardization, minmax normalization, log, power, box-cox transformation) on the columns\n",
    "scrapped from the covidlive.com.au website (i.e., 30_sep_cases, last_14_days_cases,\n",
    "last_30_days_cases, last_60_days_cases) and observe and explain their effect assuming we\n",
    "want to develop a linear model to predict the “30_sep_cases” using\n",
    "“last_14_days_cases”, “last_30_days_cases”, “last_60_days_cases” attributes. When\n",
    "reshaping the data, we have two main criteria. First, we want our features to be in the same\n",
    "scale and second, we want our features to have as much linear relationship as possible with the\n",
    "target variable (i.e., 30_sep_cases). You need to first explore the data to see if any scaling or\n",
    "transformation is necessary (if yes why? and if not, also why?) and then perform appropriate\n",
    "actions and document your results and observations."
   ]
  },
  {
   "cell_type": "markdown",
   "metadata": {
    "id": "rcPpm7J1foBf"
   },
   "source": [
    "## 1.Exploratory Data Analysis (EDA) on COVID Attributes"
   ]
  },
  {
   "cell_type": "markdown",
   "metadata": {
    "id": "C-kx8vKrWsWQ"
   },
   "source": [
    "Before we study the effect of different normalization/transformation methods on the COVID data (i.e., 30_sep_cases, last_14_days_cases, last_30_days_cases, last_60_days_cases), which we aim to use them to develop linear model to predict 30_sep_cases, it is a good practice to do  Exploratory Data Analysis (EDA) to explore characteristics of given data, namely their distribution and relationship among attributes. In this part, we will use histrogram,boxplot and scatterplot to visualise those characteristics."
   ]
  },
  {
   "cell_type": "code",
   "execution_count": 357,
   "metadata": {
    "id": "UOZNewbwF7cW"
   },
   "outputs": [],
   "source": [
    "# Create lm_df, which contains features that we want to use for model development\n",
    "lm_df = final_df[['30_sep_cases','last_14_days_cases','last_30_days_cases','last_60_days_cases']].copy()"
   ]
  },
  {
   "cell_type": "code",
   "execution_count": 358,
   "metadata": {
    "colab": {
     "base_uri": "https://localhost:8080/",
     "height": 297
    },
    "id": "Q_p6O864OeVF",
    "outputId": "fa3ef946-b36a-42f9-a811-f976da9e8048"
   },
   "outputs": [
    {
     "data": {
      "text/html": [
       "<div>\n",
       "<style scoped>\n",
       "    .dataframe tbody tr th:only-of-type {\n",
       "        vertical-align: middle;\n",
       "    }\n",
       "\n",
       "    .dataframe tbody tr th {\n",
       "        vertical-align: top;\n",
       "    }\n",
       "\n",
       "    .dataframe thead th {\n",
       "        text-align: right;\n",
       "    }\n",
       "</style>\n",
       "<table border=\"1\" class=\"dataframe\">\n",
       "  <thead>\n",
       "    <tr style=\"text-align: right;\">\n",
       "      <th></th>\n",
       "      <th>30_sep_cases</th>\n",
       "      <th>last_14_days_cases</th>\n",
       "      <th>last_30_days_cases</th>\n",
       "      <th>last_60_days_cases</th>\n",
       "    </tr>\n",
       "  </thead>\n",
       "  <tbody>\n",
       "    <tr>\n",
       "      <th>count</th>\n",
       "      <td>2286.000000</td>\n",
       "      <td>2286.000000</td>\n",
       "      <td>2286.000000</td>\n",
       "      <td>2286.000000</td>\n",
       "    </tr>\n",
       "    <tr>\n",
       "      <th>mean</th>\n",
       "      <td>22.972003</td>\n",
       "      <td>11.290464</td>\n",
       "      <td>7.912073</td>\n",
       "      <td>4.247594</td>\n",
       "    </tr>\n",
       "    <tr>\n",
       "      <th>std</th>\n",
       "      <td>49.687189</td>\n",
       "      <td>30.904449</td>\n",
       "      <td>21.691585</td>\n",
       "      <td>11.273909</td>\n",
       "    </tr>\n",
       "    <tr>\n",
       "      <th>min</th>\n",
       "      <td>-1.000000</td>\n",
       "      <td>0.000000</td>\n",
       "      <td>0.000000</td>\n",
       "      <td>0.000000</td>\n",
       "    </tr>\n",
       "    <tr>\n",
       "      <th>25%</th>\n",
       "      <td>0.000000</td>\n",
       "      <td>0.000000</td>\n",
       "      <td>0.000000</td>\n",
       "      <td>0.000000</td>\n",
       "    </tr>\n",
       "    <tr>\n",
       "      <th>50%</th>\n",
       "      <td>5.000000</td>\n",
       "      <td>3.000000</td>\n",
       "      <td>2.000000</td>\n",
       "      <td>1.000000</td>\n",
       "    </tr>\n",
       "    <tr>\n",
       "      <th>75%</th>\n",
       "      <td>23.000000</td>\n",
       "      <td>9.000000</td>\n",
       "      <td>5.000000</td>\n",
       "      <td>3.000000</td>\n",
       "    </tr>\n",
       "    <tr>\n",
       "      <th>max</th>\n",
       "      <td>332.000000</td>\n",
       "      <td>227.000000</td>\n",
       "      <td>156.000000</td>\n",
       "      <td>80.000000</td>\n",
       "    </tr>\n",
       "  </tbody>\n",
       "</table>\n",
       "</div>"
      ],
      "text/plain": [
       "       30_sep_cases  last_14_days_cases  last_30_days_cases  last_60_days_cases\n",
       "count   2286.000000         2286.000000         2286.000000         2286.000000\n",
       "mean      22.972003           11.290464            7.912073            4.247594\n",
       "std       49.687189           30.904449           21.691585           11.273909\n",
       "min       -1.000000            0.000000            0.000000            0.000000\n",
       "25%        0.000000            0.000000            0.000000            0.000000\n",
       "50%        5.000000            3.000000            2.000000            1.000000\n",
       "75%       23.000000            9.000000            5.000000            3.000000\n",
       "max      332.000000          227.000000          156.000000           80.000000"
      ]
     },
     "execution_count": 358,
     "metadata": {},
     "output_type": "execute_result"
    }
   ],
   "source": [
    "# Show basic statistics\n",
    "lm_df.describe()"
   ]
  },
  {
   "cell_type": "markdown",
   "metadata": {
    "id": "qgCVEp25e-Wg"
   },
   "source": [
    "We found that 30_sep_cases have minimum value at -1, which might come from number adjustment from previous days. Intuiatively, this does not make sense to include data that had negative target variable (number of cases on 30 sep) because we want to predict the number of COVID cases, which cannot be negative.However, negative cases also happened in other days including days that we use for caculating features (last_x_days_cases), but because we use more than 14 days to calculate mean so that these negative cases cancel out making min of features have minimum value at 0.\n",
    "\n",
    "In conclusion, we design to exclude data that had negative target variable (number of cases on 30 sep) (45 rows)"
   ]
  },
  {
   "cell_type": "code",
   "execution_count": 359,
   "metadata": {
    "colab": {
     "base_uri": "https://localhost:8080/"
    },
    "id": "PBPAA6Itdvcg",
    "outputId": "3b000d4e-3244-471d-e247-c693dd92a25c"
   },
   "outputs": [
    {
     "data": {
      "text/plain": [
       "(45, 4)"
      ]
     },
     "execution_count": 359,
     "metadata": {},
     "output_type": "execute_result"
    }
   ],
   "source": [
    "# Look at shape of data where 30_sep_cases is negative\n",
    "lm_df[lm_df['30_sep_cases'] < 0].shape"
   ]
  },
  {
   "cell_type": "code",
   "execution_count": 360,
   "metadata": {
    "id": "J_Meu9S9hiXz"
   },
   "outputs": [],
   "source": [
    "lm_df = lm_df[lm_df['30_sep_cases'] >= 0]"
   ]
  },
  {
   "cell_type": "code",
   "execution_count": 361,
   "metadata": {
    "colab": {
     "base_uri": "https://localhost:8080/",
     "height": 297
    },
    "id": "uCC5WH2yhqme",
    "outputId": "cb558edb-7b4b-4eaa-8ce5-2f1e33397fa0"
   },
   "outputs": [
    {
     "data": {
      "text/html": [
       "<div>\n",
       "<style scoped>\n",
       "    .dataframe tbody tr th:only-of-type {\n",
       "        vertical-align: middle;\n",
       "    }\n",
       "\n",
       "    .dataframe tbody tr th {\n",
       "        vertical-align: top;\n",
       "    }\n",
       "\n",
       "    .dataframe thead th {\n",
       "        text-align: right;\n",
       "    }\n",
       "</style>\n",
       "<table border=\"1\" class=\"dataframe\">\n",
       "  <thead>\n",
       "    <tr style=\"text-align: right;\">\n",
       "      <th></th>\n",
       "      <th>30_sep_cases</th>\n",
       "      <th>last_14_days_cases</th>\n",
       "      <th>last_30_days_cases</th>\n",
       "      <th>last_60_days_cases</th>\n",
       "    </tr>\n",
       "  </thead>\n",
       "  <tbody>\n",
       "    <tr>\n",
       "      <th>count</th>\n",
       "      <td>2241.000000</td>\n",
       "      <td>2241.000000</td>\n",
       "      <td>2241.000000</td>\n",
       "      <td>2241.000000</td>\n",
       "    </tr>\n",
       "    <tr>\n",
       "      <th>mean</th>\n",
       "      <td>23.453369</td>\n",
       "      <td>11.517180</td>\n",
       "      <td>8.070950</td>\n",
       "      <td>4.332887</td>\n",
       "    </tr>\n",
       "    <tr>\n",
       "      <th>std</th>\n",
       "      <td>50.066328</td>\n",
       "      <td>31.171455</td>\n",
       "      <td>21.879089</td>\n",
       "      <td>11.370342</td>\n",
       "    </tr>\n",
       "    <tr>\n",
       "      <th>min</th>\n",
       "      <td>0.000000</td>\n",
       "      <td>0.000000</td>\n",
       "      <td>0.000000</td>\n",
       "      <td>0.000000</td>\n",
       "    </tr>\n",
       "    <tr>\n",
       "      <th>25%</th>\n",
       "      <td>1.000000</td>\n",
       "      <td>0.000000</td>\n",
       "      <td>0.000000</td>\n",
       "      <td>0.000000</td>\n",
       "    </tr>\n",
       "    <tr>\n",
       "      <th>50%</th>\n",
       "      <td>5.000000</td>\n",
       "      <td>3.000000</td>\n",
       "      <td>2.000000</td>\n",
       "      <td>1.000000</td>\n",
       "    </tr>\n",
       "    <tr>\n",
       "      <th>75%</th>\n",
       "      <td>23.000000</td>\n",
       "      <td>9.000000</td>\n",
       "      <td>5.000000</td>\n",
       "      <td>3.000000</td>\n",
       "    </tr>\n",
       "    <tr>\n",
       "      <th>max</th>\n",
       "      <td>332.000000</td>\n",
       "      <td>227.000000</td>\n",
       "      <td>156.000000</td>\n",
       "      <td>80.000000</td>\n",
       "    </tr>\n",
       "  </tbody>\n",
       "</table>\n",
       "</div>"
      ],
      "text/plain": [
       "       30_sep_cases  last_14_days_cases  last_30_days_cases  last_60_days_cases\n",
       "count   2241.000000         2241.000000         2241.000000         2241.000000\n",
       "mean      23.453369           11.517180            8.070950            4.332887\n",
       "std       50.066328           31.171455           21.879089           11.370342\n",
       "min        0.000000            0.000000            0.000000            0.000000\n",
       "25%        1.000000            0.000000            0.000000            0.000000\n",
       "50%        5.000000            3.000000            2.000000            1.000000\n",
       "75%       23.000000            9.000000            5.000000            3.000000\n",
       "max      332.000000          227.000000          156.000000           80.000000"
      ]
     },
     "execution_count": 361,
     "metadata": {},
     "output_type": "execute_result"
    }
   ],
   "source": [
    "# Show basic statistics\n",
    "lm_df.describe()"
   ]
  },
  {
   "cell_type": "markdown",
   "metadata": {
    "id": "rC8BB7FOhx2h"
   },
   "source": [
    "Plot Boxplot of 4 selected attributes to see their distribution"
   ]
  },
  {
   "cell_type": "code",
   "execution_count": 362,
   "metadata": {
    "colab": {
     "base_uri": "https://localhost:8080/",
     "height": 259
    },
    "id": "jdw933-4HE-J",
    "outputId": "15ed1041-c5d9-4e65-bf37-8bc77df4bd77"
   },
   "outputs": [
    {
     "data": {
      "text/plain": [
       "Text(0, 0.5, 'Number of Cases')"
      ]
     },
     "execution_count": 362,
     "metadata": {},
     "output_type": "execute_result"
    },
    {
     "data": {
      "image/png": "[encoded data removed]",
      "text/plain": [
       "<Figure size 1080x216 with 1 Axes>"
      ]
     },
     "metadata": {
      "needs_background": "light"
     },
     "output_type": "display_data"
    }
   ],
   "source": [
    "# Plot Boxplot of 4 selected attributes to see their distribution\n",
    "lm_df.boxplot(figsize = (15,3))\n",
    "plt.title('Boxplot of COVID Columns')\n",
    "plt.xlabel('Columns')\n",
    "plt.ylabel('Number of Cases')"
   ]
  },
  {
   "cell_type": "markdown",
   "metadata": {
    "id": "JUgXPUZkh3XS"
   },
   "source": [
    "Plot histrogram of 4 selected attributes to see their distribution"
   ]
  },
  {
   "cell_type": "code",
   "execution_count": 363,
   "metadata": {
    "colab": {
     "base_uri": "https://localhost:8080/",
     "height": 312
    },
    "id": "jeDMhmQBPKyc",
    "outputId": "6861968a-c0d7-4cc5-cdb5-5557e9320549"
   },
   "outputs": [
    {
     "data": {
      "text/plain": [
       "array([[<matplotlib.axes._subplots.AxesSubplot object at 0x7f82ba2497d0>,\n",
       "        <matplotlib.axes._subplots.AxesSubplot object at 0x7f82ba1a9d50>,\n",
       "        <matplotlib.axes._subplots.AxesSubplot object at 0x7f82ba1820d0>,\n",
       "        <matplotlib.axes._subplots.AxesSubplot object at 0x7f82b9ef2750>]],\n",
       "      dtype=object)"
      ]
     },
     "execution_count": 363,
     "metadata": {},
     "output_type": "execute_result"
    },
    {
     "data": {
      "image/png": "[encoded data removed]",
      "text/plain": [
       "<Figure size 1080x216 with 4 Axes>"
      ]
     },
     "metadata": {
      "needs_background": "light"
     },
     "output_type": "display_data"
    }
   ],
   "source": [
    "# PLot histrogram of 4 selected attributes to see their distribution\n",
    "lm_df.hist(layout=(1,4),figsize = (15,3),bins = 100)\n"
   ]
  },
  {
   "cell_type": "markdown",
   "metadata": {
    "id": "aYUlzFxvh9st"
   },
   "source": [
    "Plot scatterplot of 4 attributes to see how each attribute relates to each other"
   ]
  },
  {
   "cell_type": "code",
   "execution_count": 364,
   "metadata": {
    "colab": {
     "base_uri": "https://localhost:8080/",
     "height": 243
    },
    "id": "96gbdIJ1JBbh",
    "outputId": "ad056d67-eb51-47f7-d93c-2ade6aa5f68b"
   },
   "outputs": [
    {
     "data": {
      "text/plain": [
       "<matplotlib.axes._subplots.AxesSubplot at 0x7f82bafe98d0>"
      ]
     },
     "execution_count": 364,
     "metadata": {},
     "output_type": "execute_result"
    },
    {
     "data": {
      "image/png": "[encoded data removed]",
      "text/plain": [
       "<Figure size 1080x216 with 6 Axes>"
      ]
     },
     "metadata": {
      "needs_background": "light"
     },
     "output_type": "display_data"
    }
   ],
   "source": [
    "# Plot scatterplot of 4 attributes to see how each attribute relates to each other\n",
    "fig, axes = plt.subplots(nrows=2, ncols=3,figsize = (15,3),)\n",
    "lm_df.plot.scatter(x= 'last_14_days_cases',y = '30_sep_cases',ax=axes[0,0])\n",
    "lm_df.plot.scatter(x= 'last_30_days_cases',y = '30_sep_cases',ax=axes[0,1])\n",
    "lm_df.plot.scatter(x= 'last_60_days_cases',y = '30_sep_cases',ax=axes[0,2])\n",
    "\n",
    "lm_df.plot.scatter(x= 'last_14_days_cases',y = 'last_30_days_cases',ax=axes[1,0])\n",
    "lm_df.plot.scatter(x= 'last_14_days_cases',y = 'last_60_days_cases',ax=axes[1,1])\n",
    "lm_df.plot.scatter(x= 'last_30_days_cases',y = 'last_60_days_cases',ax=axes[1,2])"
   ]
  },
  {
   "cell_type": "markdown",
   "metadata": {
    "id": "aj7YKX7KZ6vB"
   },
   "source": [
    "Key Takeaway from EDA\n",
    "\n",
    "- 30_sep_cases distribution was more scatter compared to last_14_days_cases and it became more dense when the window size increased (The most dense was at last_60_days_cases)\n",
    "\n",
    "- Normalising data can potentially play a role to help these columns comparable in linear regression model\n",
    "\n",
    "- All attributes had right-skewed distribution, we will try to do some trasformation later on\n",
    "\n",
    "- From the scatterplot, all pairs of data showed linear relationship with one possible outlier. \n",
    "\n",
    "- They seemed to have linear relationship between target variable and features\n",
    "\n",
    "- However, features showed relationship among themselve. This will potentially lead to multicolinearity problem, once we develop linear model"
   ]
  },
  {
   "cell_type": "markdown",
   "metadata": {
    "id": "0jfX4osOgM9_"
   },
   "source": [
    "## 2.Data Transformation"
   ]
  },
  {
   "cell_type": "markdown",
   "metadata": {
    "id": "z9fAj5aWUVNS"
   },
   "source": [
    "\n",
    "\n",
    "In this section, we will study effect of different transformations. The effects that we want to look at are effect on distribution and relationship of features to target variables. The subtask is divided into \n",
    "\n",
    "2.1 Adjusted Log Transformation\n",
    "\n",
    "2.2 Cube Root Transformation\n",
    "\n",
    "2.3 Adjusted Box-Cox Transformation\n",
    "\n",
    "2.4 Power Transformation\n",
    "\n",
    "2.5 Visualisation on Distributions\n",
    "\n",
    "2.6 Visualisation on relationships\n",
    "\n",
    "source : https://www.listendata.com/2015/09/regression-transform-negative-values.html"
   ]
  },
  {
   "cell_type": "markdown",
   "metadata": {
    "id": "emdqdRsmhG9X"
   },
   "source": [
    "### 2.1 Adjusted Log Transformation"
   ]
  },
  {
   "cell_type": "markdown",
   "metadata": {
    "id": "IDjKWW8-lFs9"
   },
   "source": [
    "We will do log transformation in this part. However, there are some zero values on attributes, which are not applicable on log transformation. To solve this probelm, we add some constant (1) when doing log transformation mentioned in the following link.\n",
    "\n",
    "https://discuss.analyticsvidhya.com/t/methods-to-deal-with-zero-values-while-performing-log-transformation-of-variable/2431/2\n",
    "https://blogs.sas.com/content/iml/2011/04/27/log-transformations-how-to-handle-negative-data-values.html\n",
    "\n",
    "The following code adds new columns with adjusted log transtormation to lm_df"
   ]
  },
  {
   "cell_type": "code",
   "execution_count": 365,
   "metadata": {
    "id": "k3XGa48WuzBd"
   },
   "outputs": [],
   "source": [
    "# Add new columns that apply log transformation\n",
    "\n",
    "lm_df['log_30_sep_cases']= np.log(lm_df[\"30_sep_cases\"]+1)\n",
    "lm_df['log_last_14_days_cases']= np.log(lm_df[\"last_14_days_cases\"]+1)\n",
    "lm_df['log_last_30_days_cases'] = np.log(lm_df[\"last_30_days_cases\"]+1)\n",
    "lm_df['log_last_60_days_cases'] = np.log(lm_df[\"last_60_days_cases\"]+1)"
   ]
  },
  {
   "cell_type": "markdown",
   "metadata": {
    "id": "PO79i8xLhL5o"
   },
   "source": [
    "### 2.2 Cube Root Transformation"
   ]
  },
  {
   "cell_type": "markdown",
   "metadata": {
    "id": "3Np-Xt-Koxzu"
   },
   "source": [
    "The following code adds new columns with cube root transtormation to lm_df"
   ]
  },
  {
   "cell_type": "code",
   "execution_count": 366,
   "metadata": {
    "id": "KInU-dokvWgg"
   },
   "outputs": [],
   "source": [
    "# Add new columns that apply  Cube Root transformation\n",
    "lm_df['cuberoot_30_sep_cases']= np.power(lm_df[\"30_sep_cases\"],1/3)\n",
    "lm_df['cuberoot_last_14_days_cases']= np.power(lm_df[\"last_14_days_cases\"],1/3)\n",
    "lm_df['cuberoot_last_30_days_cases']= np.power(lm_df[\"last_30_days_cases\"],1/3)\n",
    "lm_df['cuberoot_last_60_days_cases']= np.power(lm_df[\"last_60_days_cases\"],1/3)\n"
   ]
  },
  {
   "cell_type": "markdown",
   "metadata": {
    "id": "Y_cuwgpqmWhw"
   },
   "source": [
    "###2.3 Adjusted Box-cox Transformation"
   ]
  },
  {
   "cell_type": "markdown",
   "metadata": {
    "id": "EDKz07JsoJ-f"
   },
   "source": [
    "We will do box-cox transformation in this part. However, there are some zero values on attributes, which are not applicable on box-cox transformation. To solve this probelm, we add some constant (0.00001) when doing box-cox transformation mentioned in the following link\n",
    "\n",
    "https://data.princeton.edu/wws509/notes/c2s10\n",
    "\n",
    "The following code use PowerTransformer from sckit leanrn library to fit and transform the data and adds new columns with Adjusted Box-cox Transformation to lm_df"
   ]
  },
  {
   "cell_type": "code",
   "execution_count": 367,
   "metadata": {
    "id": "bs7S_N33mo8_"
   },
   "outputs": [],
   "source": [
    "# Fit box-cox Transformer to COVID data \n",
    "boxcox = PowerTransformer(method ='box-cox').fit(lm_df[['30_sep_cases','last_14_days_cases','last_30_days_cases','last_60_days_cases']]+0.00001)\n",
    "\n",
    "# Adjusted all value\n",
    "# Transform on lm_df\n",
    "df_boxcox = boxcox.transform(lm_df[['30_sep_cases','last_14_days_cases','last_30_days_cases','last_60_days_cases']]+0.00001)\n",
    "\n",
    "lm_df['boxcox_30_sep_cases']= df_boxcox[:,0]\n",
    "lm_df['boxcox_last_14_days_cases']= df_boxcox[:,1]\n",
    "lm_df['boxcox_last_30_days_cases'] = df_boxcox[:,2]\n",
    "lm_df['boxcox_last_60_days_cases'] = df_boxcox[:,3]"
   ]
  },
  {
   "cell_type": "markdown",
   "metadata": {
    "id": "fJ-cx3HEhRDM"
   },
   "source": [
    "### 2.4 Power Transformation (Yeo-Johnson)"
   ]
  },
  {
   "cell_type": "markdown",
   "metadata": {
    "id": "Yi-Ekmn0pKPK"
   },
   "source": [
    "The following code use PowerTransformer from sckit leanrn library to fit and transform the data and adds new columns with  Power Transformation to lm_df"
   ]
  },
  {
   "cell_type": "code",
   "execution_count": 368,
   "metadata": {
    "id": "Ba7GoHW6slGg"
   },
   "outputs": [],
   "source": [
    "# Fit Power Transformatior (yeo_Johnson) to COVID data after min-max scaling\n",
    "power = PowerTransformer(method ='yeo-johnson').fit(lm_df[['30_sep_cases','last_14_days_cases','last_30_days_cases','last_60_days_cases']])\n",
    "\n",
    "# Transform on lm_df\n",
    "df_power = power.transform(lm_df[['30_sep_cases','last_14_days_cases','last_30_days_cases','last_60_days_cases']])\n",
    "\n",
    "lm_df['power_30_sep_cases']= df_power[:,0]\n",
    "lm_df['power_last_14_days_cases']= df_power[:,1]\n",
    "lm_df['power_last_30_days_cases'] = df_power[:,2]\n",
    "lm_df['power_last_60_days_cases'] = df_power[:,3]"
   ]
  },
  {
   "cell_type": "markdown",
   "metadata": {
    "id": "5tTHfbuXbgM6"
   },
   "source": [
    "### 2.5 Visualisation on Distributions"
   ]
  },
  {
   "cell_type": "markdown",
   "metadata": {
    "id": "5VOWtAcbt_UK"
   },
   "source": [
    "After we do several transformation, we will plot histrogram and see how distributions look like in each transformation."
   ]
  },
  {
   "cell_type": "code",
   "execution_count": 369,
   "metadata": {
    "colab": {
     "base_uri": "https://localhost:8080/",
     "height": 959
    },
    "id": "0sPmPf3Bbtro",
    "outputId": "e04ea582-a8b3-4c79-aaa0-d9407464abae"
   },
   "outputs": [
    {
     "data": {
      "text/plain": [
       "array([[<matplotlib.axes._subplots.AxesSubplot object at 0x7f82c06954d0>,\n",
       "        <matplotlib.axes._subplots.AxesSubplot object at 0x7f82baef6990>,\n",
       "        <matplotlib.axes._subplots.AxesSubplot object at 0x7f82bb366c50>,\n",
       "        <matplotlib.axes._subplots.AxesSubplot object at 0x7f82b9f35210>,\n",
       "        <matplotlib.axes._subplots.AxesSubplot object at 0x7f82ba217790>]],\n",
       "      dtype=object)"
      ]
     },
     "execution_count": 369,
     "metadata": {},
     "output_type": "execute_result"
    },
    {
     "data": {
      "image/png": "[encoded data removed]",
      "text/plain": [
       "<Figure size 1080x216 with 5 Axes>"
      ]
     },
     "metadata": {
      "needs_background": "light"
     },
     "output_type": "display_data"
    },
    {
     "data": {
      "image/png": "[encoded data removed]",
      "text/plain": [
       "<Figure size 1080x216 with 5 Axes>"
      ]
     },
     "metadata": {
      "needs_background": "light"
     },
     "output_type": "display_data"
    },
    {
     "data": {
      "image/png": "[encoded data removed]",
      "text/plain": [
       "<Figure size 1080x216 with 5 Axes>"
      ]
     },
     "metadata": {
      "needs_background": "light"
     },
     "output_type": "display_data"
    },
    {
     "data": {
      "image/png": "[encoded data removed]",
      "text/plain": [
       "<Figure size 1080x216 with 5 Axes>"
      ]
     },
     "metadata": {
      "needs_background": "light"
     },
     "output_type": "display_data"
    }
   ],
   "source": [
    "# Plot histogram to see data distribution\n",
    "lm_df[['30_sep_cases','log_30_sep_cases','cuberoot_30_sep_cases','boxcox_30_sep_cases','power_30_sep_cases']].hist(layout=(1,5),figsize = (15,3),bins = 50)\n",
    "lm_df[['last_14_days_cases','log_last_14_days_cases','cuberoot_last_14_days_cases','boxcox_30_sep_cases','power_last_14_days_cases']].hist(layout=(1,5),figsize = (15,3),bins = 50)\n",
    "lm_df[['last_30_days_cases','log_last_30_days_cases','cuberoot_last_30_days_cases','boxcox_30_sep_cases','power_last_30_days_cases']].hist(layout=(1,5),figsize = (15,3),bins = 50)\n",
    "lm_df[['last_60_days_cases','log_last_60_days_cases','cuberoot_last_60_days_cases','boxcox_30_sep_cases','power_last_60_days_cases']].hist(layout=(1,5),figsize = (15,3),bins = 50)"
   ]
  },
  {
   "cell_type": "markdown",
   "metadata": {
    "id": "bVs0VfdeqtO3"
   },
   "source": [
    "Effect on Distribution After Data Transformation\n",
    "\n",
    "- After applying some transformation, we can observe that distriubtion of the data seems to be less skewed. However, the data is still heavily skewed where values are equal to zero and the shape of the distribution is still not normal"
   ]
  },
  {
   "cell_type": "markdown",
   "metadata": {
    "id": "S_EVAXq9r8xC"
   },
   "source": [
    "### 2.6 Visualisation on relationships"
   ]
  },
  {
   "cell_type": "markdown",
   "metadata": {
    "id": "tBplkguCuMQt"
   },
   "source": [
    "Next, we will plot scatterplot of each transformation to see how relationships of target variable and features look like"
   ]
  },
  {
   "cell_type": "code",
   "execution_count": 370,
   "metadata": {
    "colab": {
     "base_uri": "https://localhost:8080/",
     "height": 623
    },
    "id": "2t5GFky5OSHE",
    "outputId": "da2bb9ac-1a73-4699-c12b-c26baaf37495"
   },
   "outputs": [
    {
     "data": {
      "text/plain": [
       "<matplotlib.axes._subplots.AxesSubplot at 0x7f82bd0ef050>"
      ]
     },
     "execution_count": 370,
     "metadata": {},
     "output_type": "execute_result"
    },
    {
     "data": {
      "image/png": "[encoded data removed]",
      "text/plain": [
       "<Figure size 1440x720 with 12 Axes>"
      ]
     },
     "metadata": {
      "needs_background": "light"
     },
     "output_type": "display_data"
    }
   ],
   "source": [
    "# Plot scatterplots to see relationship after log transformation\n",
    "\n",
    "fig, axes = plt.subplots(nrows=4, ncols=3,figsize = (20,10))\n",
    "\n",
    "lm_df.plot.scatter(x= 'last_14_days_cases',y = '30_sep_cases',ax=axes[0,0])\n",
    "lm_df.plot.scatter(x= 'last_30_days_cases',y = '30_sep_cases',ax=axes[0,1])\n",
    "lm_df.plot.scatter(x= 'last_60_days_cases',y = '30_sep_cases',ax=axes[0,2])\n",
    "\n",
    "\n",
    "lm_df.plot.scatter(x= 'last_14_days_cases',y = 'log_30_sep_cases',ax=axes[1,0])\n",
    "lm_df.plot.scatter(x= 'last_30_days_cases',y = 'log_30_sep_cases',ax=axes[1,1])\n",
    "lm_df.plot.scatter(x= 'last_60_days_cases',y = 'log_30_sep_cases',ax=axes[1,2])\n",
    "\n",
    "\n",
    "lm_df.plot.scatter(x= 'log_last_14_days_cases',y = '30_sep_cases',ax=axes[2,0])\n",
    "lm_df.plot.scatter(x= 'log_last_30_days_cases',y = '30_sep_cases',ax=axes[2,1])\n",
    "lm_df.plot.scatter(x= 'log_last_60_days_cases',y = '30_sep_cases',ax=axes[2,2])\n",
    "\n",
    "\n",
    "lm_df.plot.scatter(x= 'log_last_14_days_cases',y = 'log_30_sep_cases',ax=axes[3,0])\n",
    "lm_df.plot.scatter(x= 'log_last_30_days_cases',y = 'log_30_sep_cases',ax=axes[3,1])\n",
    "lm_df.plot.scatter(x= 'log_last_60_days_cases',y = 'log_30_sep_cases',ax=axes[3,2])\n"
   ]
  },
  {
   "cell_type": "code",
   "execution_count": 371,
   "metadata": {
    "colab": {
     "base_uri": "https://localhost:8080/",
     "height": 623
    },
    "id": "VxlhWSXKV9qS",
    "outputId": "26be6eb4-5351-442b-a386-b12da9eea72d"
   },
   "outputs": [
    {
     "data": {
      "text/plain": [
       "<matplotlib.axes._subplots.AxesSubplot at 0x7f829011d5d0>"
      ]
     },
     "execution_count": 371,
     "metadata": {},
     "output_type": "execute_result"
    },
    {
     "data": {
      "image/png": "[encoded data removed]",
      "text/plain": [
       "<Figure size 1440x720 with 12 Axes>"
      ]
     },
     "metadata": {
      "needs_background": "light"
     },
     "output_type": "display_data"
    }
   ],
   "source": [
    "# Plot scatterplots to see relationship after cuberoot transformation \n",
    "fig, axes = plt.subplots(nrows=4, ncols=3,figsize = (20,10))\n",
    "\n",
    "lm_df.plot.scatter(x= 'last_14_days_cases',y = '30_sep_cases',ax=axes[0,0])\n",
    "lm_df.plot.scatter(x= 'last_30_days_cases',y = '30_sep_cases',ax=axes[0,1])\n",
    "lm_df.plot.scatter(x= 'last_60_days_cases',y = '30_sep_cases',ax=axes[0,2])\n",
    "\n",
    "\n",
    "lm_df.plot.scatter(x= 'last_14_days_cases',y = 'cuberoot_30_sep_cases',ax=axes[1,0])\n",
    "lm_df.plot.scatter(x= 'last_30_days_cases',y = 'cuberoot_30_sep_cases',ax=axes[1,1])\n",
    "lm_df.plot.scatter(x= 'last_60_days_cases',y = 'cuberoot_30_sep_cases',ax=axes[1,2])\n",
    "\n",
    "\n",
    "lm_df.plot.scatter(x= 'cuberoot_last_14_days_cases',y = '30_sep_cases',ax=axes[2,0])\n",
    "lm_df.plot.scatter(x= 'cuberoot_last_30_days_cases',y = '30_sep_cases',ax=axes[2,1])\n",
    "lm_df.plot.scatter(x= 'cuberoot_last_60_days_cases',y = '30_sep_cases',ax=axes[2,2])\n",
    "\n",
    "\n",
    "lm_df.plot.scatter(x= 'cuberoot_last_14_days_cases',y = 'cuberoot_30_sep_cases',ax=axes[3,0])\n",
    "lm_df.plot.scatter(x= 'cuberoot_last_30_days_cases',y = 'cuberoot_30_sep_cases',ax=axes[3,1])\n",
    "lm_df.plot.scatter(x= 'cuberoot_last_60_days_cases',y = 'cuberoot_30_sep_cases',ax=axes[3,2])\n"
   ]
  },
  {
   "cell_type": "code",
   "execution_count": 372,
   "metadata": {
    "colab": {
     "base_uri": "https://localhost:8080/",
     "height": 623
    },
    "id": "tmWXp36AsvTa",
    "outputId": "569b5d46-c0f2-4286-bdbc-7430047af241"
   },
   "outputs": [
    {
     "data": {
      "text/plain": [
       "<matplotlib.axes._subplots.AxesSubplot at 0x7f82b9ea1690>"
      ]
     },
     "execution_count": 372,
     "metadata": {},
     "output_type": "execute_result"
    },
    {
     "data": {
      "image/png": "[encoded data removed]",
      "text/plain": [
       "<Figure size 1440x720 with 12 Axes>"
      ]
     },
     "metadata": {
      "needs_background": "light"
     },
     "output_type": "display_data"
    }
   ],
   "source": [
    "# Plot scatterplots to see relationship after boxcox transformation \n",
    "fig, axes = plt.subplots(nrows=4, ncols=3,figsize = (20,10))\n",
    "\n",
    "lm_df.plot.scatter(x= 'last_14_days_cases',y = '30_sep_cases',ax=axes[0,0])\n",
    "lm_df.plot.scatter(x= 'last_30_days_cases',y = '30_sep_cases',ax=axes[0,1])\n",
    "lm_df.plot.scatter(x= 'last_60_days_cases',y = '30_sep_cases',ax=axes[0,2])\n",
    "\n",
    "\n",
    "lm_df.plot.scatter(x= 'last_14_days_cases',y = 'boxcox_30_sep_cases',ax=axes[1,0])\n",
    "lm_df.plot.scatter(x= 'last_30_days_cases',y = 'boxcox_30_sep_cases',ax=axes[1,1])\n",
    "lm_df.plot.scatter(x= 'last_60_days_cases',y = 'boxcox_30_sep_cases',ax=axes[1,2])\n",
    "\n",
    "\n",
    "lm_df.plot.scatter(x= 'boxcox_last_14_days_cases',y = '30_sep_cases',ax=axes[2,0])\n",
    "lm_df.plot.scatter(x= 'boxcox_last_30_days_cases',y = '30_sep_cases',ax=axes[2,1])\n",
    "lm_df.plot.scatter(x= 'boxcox_last_60_days_cases',y = '30_sep_cases',ax=axes[2,2])\n",
    "\n",
    "\n",
    "lm_df.plot.scatter(x= 'boxcox_last_14_days_cases',y = 'boxcox_30_sep_cases',ax=axes[3,0])\n",
    "lm_df.plot.scatter(x= 'boxcox_last_30_days_cases',y = 'boxcox_30_sep_cases',ax=axes[3,1])\n",
    "lm_df.plot.scatter(x= 'boxcox_last_60_days_cases',y = 'boxcox_30_sep_cases',ax=axes[3,2])"
   ]
  },
  {
   "cell_type": "code",
   "execution_count": 373,
   "metadata": {
    "colab": {
     "base_uri": "https://localhost:8080/",
     "height": 623
    },
    "id": "HE_GqhK5tHlV",
    "outputId": "b7ff9a52-23d3-4a53-873c-31125a988a4e"
   },
   "outputs": [
    {
     "data": {
      "text/plain": [
       "<matplotlib.axes._subplots.AxesSubplot at 0x7f82bca346d0>"
      ]
     },
     "execution_count": 373,
     "metadata": {},
     "output_type": "execute_result"
    },
    {
     "data": {
      "image/png": "[encoded data removed]",
      "text/plain": [
       "<Figure size 1440x720 with 12 Axes>"
      ]
     },
     "metadata": {
      "needs_background": "light"
     },
     "output_type": "display_data"
    }
   ],
   "source": [
    "# Plot scatterplots to see relationship after power transformation \n",
    "fig, axes = plt.subplots(nrows=4, ncols=3,figsize = (20,10))\n",
    "\n",
    "lm_df.plot.scatter(x= 'last_14_days_cases',y = '30_sep_cases',ax=axes[0,0])\n",
    "lm_df.plot.scatter(x= 'last_30_days_cases',y = '30_sep_cases',ax=axes[0,1])\n",
    "lm_df.plot.scatter(x= 'last_60_days_cases',y = '30_sep_cases',ax=axes[0,2])\n",
    "\n",
    "\n",
    "lm_df.plot.scatter(x= 'last_14_days_cases',y = 'power_30_sep_cases',ax=axes[1,0])\n",
    "lm_df.plot.scatter(x= 'last_30_days_cases',y = 'power_30_sep_cases',ax=axes[1,1])\n",
    "lm_df.plot.scatter(x= 'last_60_days_cases',y = 'power_30_sep_cases',ax=axes[1,2])\n",
    "\n",
    "\n",
    "lm_df.plot.scatter(x= 'power_last_14_days_cases',y = '30_sep_cases',ax=axes[2,0])\n",
    "lm_df.plot.scatter(x= 'power_last_30_days_cases',y = '30_sep_cases',ax=axes[2,1])\n",
    "lm_df.plot.scatter(x= 'power_last_60_days_cases',y = '30_sep_cases',ax=axes[2,2])\n",
    "\n",
    "\n",
    "lm_df.plot.scatter(x= 'power_last_14_days_cases',y = 'power_30_sep_cases',ax=axes[3,0])\n",
    "lm_df.plot.scatter(x= 'power_last_30_days_cases',y = 'power_30_sep_cases',ax=axes[3,1])\n",
    "lm_df.plot.scatter(x= 'power_last_60_days_cases',y = 'power_30_sep_cases',ax=axes[3,2])"
   ]
  },
  {
   "cell_type": "markdown",
   "metadata": {
    "id": "riuNQ0pD6lyg"
   },
   "source": [
    "Effect on Relationship After Data Transformation\n",
    "\n",
    "- Before transforming the data, it can be observed that last_X_days_cases features have some linear relationship with the target variable (30_sep_cases). However, there are some possible outlier in the original data.\n",
    "\n",
    "- Then, we tried several transformations mentioned above and we found that linear relationship occured when transforming both target variable and feautures in all transformations.\n",
    "\n",
    "- We will fit the linear model with/without transformation of pairs that we see potential linear relationships observed from the plot in this part in the later section (section 4) to measure goodness of fit and select the best model to see whether transformation is necessary or not and if it is, which one is the most appropriate one"
   ]
  },
  {
   "cell_type": "markdown",
   "metadata": {
    "id": "9w7uyl1RYveE"
   },
   "source": [
    "## 3.Data Normalisation"
   ]
  },
  {
   "cell_type": "markdown",
   "metadata": {
    "id": "mEFNRnnXzL8x"
   },
   "source": [
    "In this section, we will study effect of different normalisations. The subtask is divided into\n",
    "\n",
    "3.1 Standardisation (Z-score)\n",
    "\n",
    "3.2 MinMax Normalisation\n",
    "\n",
    "3.3 Visualisation for Data Distrubtion After Normalisation"
   ]
  },
  {
   "cell_type": "markdown",
   "metadata": {
    "id": "MAfC0HApZTwI"
   },
   "source": [
    "### 3.1 Standardisation (Z-score)"
   ]
  },
  {
   "cell_type": "markdown",
   "metadata": {
    "id": "i2cm31U_0iuf"
   },
   "source": [
    "We will use preprocessing.StandardScaler() from sckit learn library to standardised all attributes and add to new dataframe std_lm_df"
   ]
  },
  {
   "cell_type": "code",
   "execution_count": 374,
   "metadata": {
    "id": "zOwiAE-cS3jC"
   },
   "outputs": [],
   "source": [
    "# Fit the standardisation on lm_df\n",
    "std_scale = preprocessing.StandardScaler().fit(lm_df)\n",
    "\n",
    "# Transform on lm_df\n",
    "df_std = std_scale.transform(lm_df) \n",
    "\n",
    "std_lm_df= pd.DataFrame()\n",
    "\n",
    "# Add standardised column to lm_df\n",
    "std_lm_df['std_30_sep_cases'] = df_std[:,0]\n",
    "std_lm_df['std_last_14_days_cases'] = df_std[:,1]\n",
    "std_lm_df['std_last_30_days_cases'] = df_std[:,2]\n",
    "std_lm_df['std_last_60_days_cases'] = df_std[:,3]\n",
    "\n",
    "std_lm_df['std_log_30_sep_cases'] = df_std[:,4]\n",
    "std_lm_df['std_log_last_14_days_cases'] = df_std[:,5]\n",
    "std_lm_df['std_log_last_30_days_cases'] = df_std[:,6]\n",
    "std_lm_df['std_log_last_60_days_cases'] = df_std[:,7]\n",
    "\n",
    "std_lm_df['std_cuberoot_30_sep_cases'] = df_std[:,8]\n",
    "std_lm_df['std_cuberoot_last_14_days_cases'] = df_std[:,9]\n",
    "std_lm_df['std_cuberoot_last_30_days_cases'] = df_std[:,10]\n",
    "std_lm_df['std_cuberoot_last_60_days_cases'] = df_std[:,11]\n",
    "\n",
    "std_lm_df['std_boxcox_30_sep_cases'] = df_std[:,12]\n",
    "std_lm_df['std_boxcox_last_14_days_cases'] = df_std[:,13]\n",
    "std_lm_df['std_boxcox_last_30_days_cases'] = df_std[:,14]\n",
    "std_lm_df['std_boxcox_last_60_days_cases'] = df_std[:,15]\n",
    "\n",
    "std_lm_df['std_power_30_sep_cases'] = df_std[:,16]\n",
    "std_lm_df['std_power_last_14_days_cases'] = df_std[:,17]\n",
    "std_lm_df['std_power_last_30_days_cases'] = df_std[:,18]\n",
    "std_lm_df['std_power_last_60_days_cases'] = df_std[:,19]\n",
    "\n",
    "\n"
   ]
  },
  {
   "cell_type": "markdown",
   "metadata": {
    "id": "JQTGBSLKZyaf"
   },
   "source": [
    "### 3.2 MinMax Normalisation"
   ]
  },
  {
   "cell_type": "markdown",
   "metadata": {
    "id": "5xgrk37O077U"
   },
   "source": [
    "We will use preprocessing.MinMaxScaler() from sckit learn library to do MinMax normalisation all attributes and add to new dataframe minmax_lm_df\n"
   ]
  },
  {
   "cell_type": "code",
   "execution_count": 375,
   "metadata": {
    "id": "4XkmoN5WXpoU"
   },
   "outputs": [],
   "source": [
    "# Fit the MinMax Normalisation on lm_df\n",
    "minmax_scale = preprocessing.MinMaxScaler().fit(lm_df)\n",
    "\n",
    "# Transform on lm_df\n",
    "df_minmax = minmax_scale.transform(lm_df)\n",
    "\n",
    "minmax_lm_df = pd.DataFrame()\n",
    "\n",
    "# Add minmax column to lm_df\n",
    "minmax_lm_df['minmax_30_sep_cases'] = df_minmax[:,0]\n",
    "minmax_lm_df['minmax_last_14_days_cases'] = df_minmax[:,1]\n",
    "minmax_lm_df['minmax_last_30_days_cases'] = df_minmax[:,2]\n",
    "minmax_lm_df['minmax_last_60_days_cases'] = df_minmax[:,3]\n",
    "\n",
    "minmax_lm_df['minmax_log_30_sep_cases'] = df_minmax[:,4]\n",
    "minmax_lm_df['minmax_log_last_14_days_cases'] = df_minmax[:,5]\n",
    "minmax_lm_df['minmax_log_last_30_days_cases'] = df_minmax[:,6]\n",
    "minmax_lm_df['minmax_log_last_60_days_cases'] = df_minmax[:,7]\n",
    "\n",
    "minmax_lm_df['minmax_cuberoot_30_sep_cases'] = df_minmax[:,8]\n",
    "minmax_lm_df['minmax_cuberoot_last_14_days_cases'] = df_minmax[:,9]\n",
    "minmax_lm_df['minmax_cuberoot_last_30_days_cases'] = df_minmax[:,10]\n",
    "minmax_lm_df['minmax_cuberoot_last_60_days_cases'] = df_minmax[:,11]\n",
    "\n",
    "minmax_lm_df['minmax_boxcox_30_sep_cases'] = df_minmax[:,12]\n",
    "minmax_lm_df['minmax_boxcox_last_14_days_cases'] = df_minmax[:,13]\n",
    "minmax_lm_df['minmax_boxcox_last_30_days_cases'] = df_minmax[:,14]\n",
    "minmax_lm_df['minmax_boxcox_last_60_days_cases'] = df_minmax[:,15]\n",
    "\n",
    "minmax_lm_df['minmax_power_30_sep_cases'] = df_minmax[:,16]\n",
    "minmax_lm_df['minmax_power_last_14_days_cases'] = df_minmax[:,17]\n",
    "minmax_lm_df['minmax_power_last_30_days_cases'] = df_minmax[:,18]\n",
    "minmax_lm_df['minmax_power_last_60_days_cases'] = df_minmax[:,19]\n"
   ]
  },
  {
   "cell_type": "markdown",
   "metadata": {
    "id": "-Ht94I8_cBNn"
   },
   "source": [
    "### 3.3 Visualisation for Data Distrubtion After Normalisation"
   ]
  },
  {
   "cell_type": "code",
   "execution_count": 376,
   "metadata": {
    "colab": {
     "base_uri": "https://localhost:8080/",
     "height": 749
    },
    "id": "WbgpYzNKmySH",
    "outputId": "ef4b3bfa-007e-4187-c59a-7835f4089dec"
   },
   "outputs": [
    {
     "data": {
      "text/plain": [
       "array([[<matplotlib.axes._subplots.AxesSubplot object at 0x7f82bc07cf90>,\n",
       "        <matplotlib.axes._subplots.AxesSubplot object at 0x7f82bcb4aa10>,\n",
       "        <matplotlib.axes._subplots.AxesSubplot object at 0x7f82bd03a610>,\n",
       "        <matplotlib.axes._subplots.AxesSubplot object at 0x7f828fd3c3d0>,\n",
       "        <matplotlib.axes._subplots.AxesSubplot object at 0x7f82be7ec9d0>]],\n",
       "      dtype=object)"
      ]
     },
     "execution_count": 376,
     "metadata": {},
     "output_type": "execute_result"
    },
    {
     "data": {
      "image/png": "[encoded data removed]",
      "text/plain": [
       "<Figure size 1440x216 with 5 Axes>"
      ]
     },
     "metadata": {
      "needs_background": "light"
     },
     "output_type": "display_data"
    },
    {
     "data": {
      "image/png": "[encoded data removed]",
      "text/plain": [
       "<Figure size 1440x216 with 5 Axes>"
      ]
     },
     "metadata": {
      "needs_background": "light"
     },
     "output_type": "display_data"
    },
    {
     "data": {
      "image/png": "[encoded data removed]",
      "text/plain": [
       "<Figure size 1440x216 with 5 Axes>"
      ]
     },
     "metadata": {
      "needs_background": "light"
     },
     "output_type": "display_data"
    }
   ],
   "source": [
    "# Plot of histogram for 30_sep_cases with their transformation, standardised and minmax scaling of them\n",
    "\n",
    "lm_df[['30_sep_cases','log_30_sep_cases','cuberoot_30_sep_cases','boxcox_30_sep_cases','power_30_sep_cases']].hist(layout=(1,5),figsize = (20,3),bins = 50)\n",
    "std_lm_df[['std_30_sep_cases','std_log_30_sep_cases','std_cuberoot_30_sep_cases','std_boxcox_30_sep_cases','std_power_30_sep_cases']].hist(layout=(1,5),figsize = (20,3),bins = 50)\n",
    "minmax_lm_df[['minmax_30_sep_cases','minmax_log_30_sep_cases','minmax_cuberoot_30_sep_cases','minmax_boxcox_30_sep_cases','minmax_power_30_sep_cases']].hist(layout=(1,5),figsize = (20,3),bins = 50)"
   ]
  },
  {
   "cell_type": "code",
   "execution_count": 377,
   "metadata": {
    "colab": {
     "base_uri": "https://localhost:8080/",
     "height": 749
    },
    "id": "nRbLnGgvf8C1",
    "outputId": "8aab8833-5ffd-4691-ce73-763e8de0bd2e"
   },
   "outputs": [
    {
     "data": {
      "text/plain": [
       "array([[<matplotlib.axes._subplots.AxesSubplot object at 0x7f82bc0547d0>,\n",
       "        <matplotlib.axes._subplots.AxesSubplot object at 0x7f82bb9d7ed0>,\n",
       "        <matplotlib.axes._subplots.AxesSubplot object at 0x7f82bb8d9490>,\n",
       "        <matplotlib.axes._subplots.AxesSubplot object at 0x7f82bb90fa10>,\n",
       "        <matplotlib.axes._subplots.AxesSubplot object at 0x7f82bb8c7f90>]],\n",
       "      dtype=object)"
      ]
     },
     "execution_count": 377,
     "metadata": {},
     "output_type": "execute_result"
    },
    {
     "data": {
      "image/png": "[encoded data removed]",
      "text/plain": [
       "<Figure size 1440x216 with 5 Axes>"
      ]
     },
     "metadata": {
      "needs_background": "light"
     },
     "output_type": "display_data"
    },
    {
     "data": {
      "image/png": "[encoded data removed]",
      "text/plain": [
       "<Figure size 1440x216 with 5 Axes>"
      ]
     },
     "metadata": {
      "needs_background": "light"
     },
     "output_type": "display_data"
    },
    {
     "data": {
      "image/png": "[encoded data removed]",
      "text/plain": [
       "<Figure size 1440x216 with 5 Axes>"
      ]
     },
     "metadata": {
      "needs_background": "light"
     },
     "output_type": "display_data"
    }
   ],
   "source": [
    "# Plot of histogram for last_14_days_cases with their transformation, standardised and minmax scaling of them\n",
    "\n",
    "lm_df[['last_14_days_cases','log_last_14_days_cases','cuberoot_last_14_days_cases','boxcox_last_14_days_cases','power_last_14_days_cases']].hist(layout=(1,5),figsize = (20,3),bins = 50)\n",
    "std_lm_df[['std_last_14_days_cases','std_log_last_14_days_cases','std_cuberoot_last_14_days_cases','std_boxcox_last_14_days_cases','std_power_last_14_days_cases']].hist(layout=(1,5),figsize = (20,3),bins = 50)\n",
    "minmax_lm_df[['minmax_last_14_days_cases','minmax_log_last_14_days_cases','minmax_cuberoot_last_14_days_cases','minmax_boxcox_last_14_days_cases','minmax_power_last_14_days_cases']].hist(layout=(1,5),figsize = (20,3),bins = 50)"
   ]
  },
  {
   "cell_type": "code",
   "execution_count": 378,
   "metadata": {
    "colab": {
     "base_uri": "https://localhost:8080/",
     "height": 749
    },
    "id": "YQiSxkPbnqa3",
    "outputId": "8cbc756b-32ee-44db-be51-13b5839da331"
   },
   "outputs": [
    {
     "data": {
      "text/plain": [
       "array([[<matplotlib.axes._subplots.AxesSubplot object at 0x7f82b9cfc510>,\n",
       "        <matplotlib.axes._subplots.AxesSubplot object at 0x7f82b96746d0>,\n",
       "        <matplotlib.axes._subplots.AxesSubplot object at 0x7f82b9628c50>,\n",
       "        <matplotlib.axes._subplots.AxesSubplot object at 0x7f82b95ea210>,\n",
       "        <matplotlib.axes._subplots.AxesSubplot object at 0x7f82b95a0790>]],\n",
       "      dtype=object)"
      ]
     },
     "execution_count": 378,
     "metadata": {},
     "output_type": "execute_result"
    },
    {
     "data": {
      "image/png": "[encoded data removed]",
      "text/plain": [
       "<Figure size 1440x216 with 5 Axes>"
      ]
     },
     "metadata": {
      "needs_background": "light"
     },
     "output_type": "display_data"
    },
    {
     "data": {
      "image/png": "[encoded data removed]",
      "text/plain": [
       "<Figure size 1440x216 with 5 Axes>"
      ]
     },
     "metadata": {
      "needs_background": "light"
     },
     "output_type": "display_data"
    },
    {
     "data": {
      "image/png": "[encoded data removed]",
      "text/plain": [
       "<Figure size 1440x216 with 5 Axes>"
      ]
     },
     "metadata": {
      "needs_background": "light"
     },
     "output_type": "display_data"
    }
   ],
   "source": [
    "# Plot of histogram for last_30_days_cases with their transformation, standardised and minmax scaling of them\n",
    "\n",
    "lm_df[['last_30_days_cases','log_last_30_days_cases','cuberoot_last_30_days_cases','boxcox_last_30_days_cases','power_last_30_days_cases']].hist(layout=(1,5),figsize = (20,3),bins = 50)\n",
    "std_lm_df[['std_last_30_days_cases','std_log_last_30_days_cases','std_cuberoot_last_30_days_cases','std_boxcox_last_30_days_cases','std_power_last_30_days_cases']].hist(layout=(1,5),figsize = (20,3),bins = 50)\n",
    "minmax_lm_df[['minmax_last_30_days_cases','minmax_log_last_30_days_cases','minmax_cuberoot_last_30_days_cases','minmax_boxcox_last_30_days_cases','minmax_power_last_30_days_cases']].hist(layout=(1,5),figsize = (20,3),bins = 50)"
   ]
  },
  {
   "cell_type": "code",
   "execution_count": 379,
   "metadata": {
    "colab": {
     "base_uri": "https://localhost:8080/",
     "height": 749
    },
    "id": "-a3-PEkRonis",
    "outputId": "4ad68981-8e7d-4704-85ab-78df8a8f33d0"
   },
   "outputs": [
    {
     "data": {
      "text/plain": [
       "array([[<matplotlib.axes._subplots.AxesSubplot object at 0x7f82b92b1f10>,\n",
       "        <matplotlib.axes._subplots.AxesSubplot object at 0x7f82bc23f490>,\n",
       "        <matplotlib.axes._subplots.AxesSubplot object at 0x7f82a214ed90>,\n",
       "        <matplotlib.axes._subplots.AxesSubplot object at 0x7f82bb79d8d0>,\n",
       "        <matplotlib.axes._subplots.AxesSubplot object at 0x7f82bbb7a2d0>]],\n",
       "      dtype=object)"
      ]
     },
     "execution_count": 379,
     "metadata": {},
     "output_type": "execute_result"
    },
    {
     "data": {
      "image/png": "[encoded data removed]",
      "text/plain": [
       "<Figure size 1440x216 with 5 Axes>"
      ]
     },
     "metadata": {
      "needs_background": "light"
     },
     "output_type": "display_data"
    },
    {
     "data": {
      "image/png": "[encoded data removed]",
      "text/plain": [
       "<Figure size 1440x216 with 5 Axes>"
      ]
     },
     "metadata": {
      "needs_background": "light"
     },
     "output_type": "display_data"
    },
    {
     "data": {
      "image/png": "[encoded data removed]",
      "text/plain": [
       "<Figure size 1440x216 with 5 Axes>"
      ]
     },
     "metadata": {
      "needs_background": "light"
     },
     "output_type": "display_data"
    }
   ],
   "source": [
    "# Plot of histogram for last_60_days_cases with their transformation, standardised and minmax scaling of them\n",
    "\n",
    "lm_df[['last_60_days_cases','log_last_60_days_cases','cuberoot_last_60_days_cases','boxcox_last_60_days_cases','power_last_60_days_cases']].hist(layout=(1,5),figsize = (20,3),bins = 50)\n",
    "std_lm_df[['std_last_60_days_cases','std_log_last_60_days_cases','std_cuberoot_last_60_days_cases','std_boxcox_last_60_days_cases','std_power_last_60_days_cases']].hist(layout=(1,5),figsize = (20,3),bins = 50)\n",
    "minmax_lm_df[['minmax_last_60_days_cases','minmax_log_last_60_days_cases','minmax_cuberoot_last_60_days_cases','minmax_boxcox_last_60_days_cases','minmax_power_last_60_days_cases']].hist(layout=(1,5),figsize = (20,3),bins = 50)"
   ]
  },
  {
   "cell_type": "markdown",
   "metadata": {
    "id": "ZLZ1IVWI1Jwo"
   },
   "source": [
    "Effect on Normalisation\n",
    "\n",
    "- After we plot several histogram to compare the shape of distribution before and after normalisation (standardisation and minmax scaling), we found the shape remains approximately the same.\n",
    "\n",
    "- The data after standardised demonstrated the same distribution shape, but have mean = 0 and variance =1\n",
    "\n",
    "- While the minmax scaling rescale values to specific range (0-1 in this case)\n"
   ]
  },
  {
   "cell_type": "markdown",
   "metadata": {
    "id": "n0T69LcRGOGr"
   },
   "source": [
    "## 4.Model Evaluation"
   ]
  },
  {
   "cell_type": "markdown",
   "metadata": {
    "id": "vJsmDAxREDog"
   },
   "source": [
    "In the previous sections, we already studied effect on distributions and relationships after data transformation and normalisation. Now, we want to fit linear models with different transformations and look at the model performance (R square and MSE) to see whether transformation is required in this task or not. On the normalisation part, there is requirement on the specification saying that \"First, we want our features to be in the same scale \". Even though linear regression does not require normalisation, it is a good practice to do anyway, which can improve computation efficiency since it helps algorithm to converge faster. Also, normalisation before fitting linear regression can help us interpret the model with fair competition among features. In this case, we will use standardisation as a normalisation method. In this section, it is divided into :\n",
    "\n",
    "4.1 Linear Model of Standardised Original Data\n",
    "\n",
    "4.2 Linear Model of Standardised Data with Log Transformation\n",
    "\n",
    "4.3 Linear Model of Standardised Data with Cube Root Transformation\n",
    "\n",
    "4.4 Linear Model of Standardised Data with Box-cox Transformation\n",
    "\n",
    "4.5 Linear Model of Standardised Data with Power Transformation\n",
    "\n",
    "4.6 Linear Model of Standardised Original Data with Outlier Removal\n",
    "\n",
    "4.7 Summary\n"
   ]
  },
  {
   "cell_type": "markdown",
   "metadata": {
    "id": "wJ7jNnBn507v"
   },
   "source": [
    "### 4.1 Linear Model of Standardised Original Data"
   ]
  },
  {
   "cell_type": "code",
   "execution_count": 380,
   "metadata": {
    "colab": {
     "base_uri": "https://localhost:8080/",
     "height": 920
    },
    "id": "5EhggwWmWvXh",
    "outputId": "58d02178-3e57-437d-d239-4a1dcc7882e4"
   },
   "outputs": [
    {
     "name": "stdout",
     "output_type": "stream",
     "text": [
      "R-Square of the model without transformation is 0.9716\n",
      "Mean Square Errors(MSE) of the model without transformation is 0.0397\n"
     ]
    },
    {
     "data": {
      "text/html": [
       "<div>\n",
       "<style scoped>\n",
       "    .dataframe tbody tr th:only-of-type {\n",
       "        vertical-align: middle;\n",
       "    }\n",
       "\n",
       "    .dataframe tbody tr th {\n",
       "        vertical-align: top;\n",
       "    }\n",
       "\n",
       "    .dataframe thead th {\n",
       "        text-align: right;\n",
       "    }\n",
       "</style>\n",
       "<table border=\"1\" class=\"dataframe\">\n",
       "  <thead>\n",
       "    <tr style=\"text-align: right;\">\n",
       "      <th></th>\n",
       "      <th>y_pred</th>\n",
       "      <th>y_test</th>\n",
       "      <th>residual</th>\n",
       "    </tr>\n",
       "  </thead>\n",
       "  <tbody>\n",
       "    <tr>\n",
       "      <th>count</th>\n",
       "      <td>673.000000</td>\n",
       "      <td>673.000000</td>\n",
       "      <td>673.000000</td>\n",
       "    </tr>\n",
       "    <tr>\n",
       "      <th>mean</th>\n",
       "      <td>0.077335</td>\n",
       "      <td>0.076138</td>\n",
       "      <td>0.001197</td>\n",
       "    </tr>\n",
       "    <tr>\n",
       "      <th>std</th>\n",
       "      <td>1.197365</td>\n",
       "      <td>1.183593</td>\n",
       "      <td>0.199298</td>\n",
       "    </tr>\n",
       "    <tr>\n",
       "      <th>min</th>\n",
       "      <td>-0.395788</td>\n",
       "      <td>-0.468551</td>\n",
       "      <td>-0.710191</td>\n",
       "    </tr>\n",
       "    <tr>\n",
       "      <th>25%</th>\n",
       "      <td>-0.380552</td>\n",
       "      <td>-0.448573</td>\n",
       "      <td>-0.086607</td>\n",
       "    </tr>\n",
       "    <tr>\n",
       "      <th>50%</th>\n",
       "      <td>-0.288871</td>\n",
       "      <td>-0.368661</td>\n",
       "      <td>0.068021</td>\n",
       "    </tr>\n",
       "    <tr>\n",
       "      <th>75%</th>\n",
       "      <td>-0.061633</td>\n",
       "      <td>-0.009057</td>\n",
       "      <td>0.087999</td>\n",
       "    </tr>\n",
       "    <tr>\n",
       "      <th>max</th>\n",
       "      <td>6.757100</td>\n",
       "      <td>6.164133</td>\n",
       "      <td>0.592967</td>\n",
       "    </tr>\n",
       "  </tbody>\n",
       "</table>\n",
       "</div>"
      ],
      "text/plain": [
       "           y_pred      y_test    residual\n",
       "count  673.000000  673.000000  673.000000\n",
       "mean     0.077335    0.076138    0.001197\n",
       "std      1.197365    1.183593    0.199298\n",
       "min     -0.395788   -0.468551   -0.710191\n",
       "25%     -0.380552   -0.448573   -0.086607\n",
       "50%     -0.288871   -0.368661    0.068021\n",
       "75%     -0.061633   -0.009057    0.087999\n",
       "max      6.757100    6.164133    0.592967"
      ]
     },
     "execution_count": 380,
     "metadata": {},
     "output_type": "execute_result"
    },
    {
     "data": {
      "image/png": "[encoded data removed]",
      "text/plain": [
       "<Figure size 1080x720 with 3 Axes>"
      ]
     },
     "metadata": {
      "needs_background": "light"
     },
     "output_type": "display_data"
    }
   ],
   "source": [
    "# Select features from std_lm_df\n",
    "x = std_lm_df[['std_last_14_days_cases','std_last_30_days_cases','std_last_60_days_cases']]\n",
    "\n",
    "# Select target variable from std_lm_df\n",
    "y = std_lm_df['std_30_sep_cases']\n",
    "\n",
    "# Split train and test data \n",
    "x_train, x_test, y_train, y_test = train_test_split(x,y,test_size=0.3,random_state =  123)\n",
    "\n",
    "x_train.reset_index(drop = True,inplace = True)\n",
    "x_test.reset_index(drop = True,inplace = True)\n",
    "y_train.reset_index(drop = True,inplace = True)\n",
    "y_test.reset_index(drop = True,inplace = True)\n",
    "y_test.reset_index(drop = True,inplace = True)\n",
    "\n",
    "# Fit linear regression on train data\n",
    "lm = LinearRegression()\n",
    "lm.fit(x_train,y_train)\n",
    "\n",
    "# Use the model to predict on test data\n",
    "y_pred = lm.predict(x_test)\n",
    "\n",
    "# Calculate R-square on test data\n",
    "print('R-Square of the model without transformation is '+str(round(r2_score(y_test,y_pred),4)))\n",
    "\n",
    "# Calculate MSE  on test data\n",
    "print('Mean Square Errors(MSE) of the model without transformation is '+str(round(mean_squared_error(y_test,y_pred),4)))\n",
    "\n",
    "# Create residual dataframe used for ploting\n",
    "residual_df = pd.DataFrame()\n",
    "residual_df['y_pred']= y_pred\n",
    "residual_df['y_test']= y_test\n",
    "residual_df['residual'] = y_pred-y_test\n",
    "\n",
    "# Plot 3 graphs to check linear model assumption\n",
    "fig, axes = plt.subplots(nrows=3, ncols=1,figsize = (15,10))\n",
    "residual_df['residual'].plot.hist(bins = 50,ax=axes[0])\n",
    "residual_df.plot.scatter(x='y_test', y= 'residual',ax=axes[1])\n",
    "residual_df.plot.scatter(x='y_test', y= 'y_pred',ax=axes[2]) \n",
    "\n",
    "# residual stat\n",
    "residual_df.describe()"
   ]
  },
  {
   "cell_type": "markdown",
   "metadata": {
    "id": "Bg9KmIiGAWGE"
   },
   "source": [
    "### 4.2 Linear Model of Standardised Data with Log Transformation"
   ]
  },
  {
   "cell_type": "code",
   "execution_count": 381,
   "metadata": {
    "colab": {
     "base_uri": "https://localhost:8080/",
     "height": 920
    },
    "id": "L3kjlNvsYcPP",
    "outputId": "eba7ef29-8c2a-4686-ba6d-7e94697f3aaa"
   },
   "outputs": [
    {
     "name": "stdout",
     "output_type": "stream",
     "text": [
      "R-Square of the model with log transformation is 0.9264\n",
      "Mean Square Errors(MSE) of the model with log  transformation is 0.0792\n"
     ]
    },
    {
     "data": {
      "text/html": [
       "<div>\n",
       "<style scoped>\n",
       "    .dataframe tbody tr th:only-of-type {\n",
       "        vertical-align: middle;\n",
       "    }\n",
       "\n",
       "    .dataframe tbody tr th {\n",
       "        vertical-align: top;\n",
       "    }\n",
       "\n",
       "    .dataframe thead th {\n",
       "        text-align: right;\n",
       "    }\n",
       "</style>\n",
       "<table border=\"1\" class=\"dataframe\">\n",
       "  <thead>\n",
       "    <tr style=\"text-align: right;\">\n",
       "      <th></th>\n",
       "      <th>y_pred</th>\n",
       "      <th>y_test</th>\n",
       "      <th>residual</th>\n",
       "    </tr>\n",
       "  </thead>\n",
       "  <tbody>\n",
       "    <tr>\n",
       "      <th>count</th>\n",
       "      <td>673.000000</td>\n",
       "      <td>673.000000</td>\n",
       "      <td>673.000000</td>\n",
       "    </tr>\n",
       "    <tr>\n",
       "      <th>mean</th>\n",
       "      <td>0.037072</td>\n",
       "      <td>0.019737</td>\n",
       "      <td>0.017335</td>\n",
       "    </tr>\n",
       "    <tr>\n",
       "      <th>std</th>\n",
       "      <td>1.004002</td>\n",
       "      <td>1.038087</td>\n",
       "      <td>0.281052</td>\n",
       "    </tr>\n",
       "    <tr>\n",
       "      <th>min</th>\n",
       "      <td>-0.992556</td>\n",
       "      <td>-1.236686</td>\n",
       "      <td>-0.631457</td>\n",
       "    </tr>\n",
       "    <tr>\n",
       "      <th>25%</th>\n",
       "      <td>-0.992556</td>\n",
       "      <td>-0.798893</td>\n",
       "      <td>-0.193663</td>\n",
       "    </tr>\n",
       "    <tr>\n",
       "      <th>50%</th>\n",
       "      <td>0.042128</td>\n",
       "      <td>-0.105006</td>\n",
       "      <td>0.094916</td>\n",
       "    </tr>\n",
       "    <tr>\n",
       "      <th>75%</th>\n",
       "      <td>0.776145</td>\n",
       "      <td>0.770581</td>\n",
       "      <td>0.244130</td>\n",
       "    </tr>\n",
       "    <tr>\n",
       "      <th>max</th>\n",
       "      <td>2.726540</td>\n",
       "      <td>2.431752</td>\n",
       "      <td>0.483542</td>\n",
       "    </tr>\n",
       "  </tbody>\n",
       "</table>\n",
       "</div>"
      ],
      "text/plain": [
       "           y_pred      y_test    residual\n",
       "count  673.000000  673.000000  673.000000\n",
       "mean     0.037072    0.019737    0.017335\n",
       "std      1.004002    1.038087    0.281052\n",
       "min     -0.992556   -1.236686   -0.631457\n",
       "25%     -0.992556   -0.798893   -0.193663\n",
       "50%      0.042128   -0.105006    0.094916\n",
       "75%      0.776145    0.770581    0.244130\n",
       "max      2.726540    2.431752    0.483542"
      ]
     },
     "execution_count": 381,
     "metadata": {},
     "output_type": "execute_result"
    },
    {
     "data": {
      "image/png": "[encoded data removed]",
      "text/plain": [
       "<Figure size 1080x720 with 3 Axes>"
      ]
     },
     "metadata": {
      "needs_background": "light"
     },
     "output_type": "display_data"
    }
   ],
   "source": [
    "# Select features from std_lm_df\n",
    "x = std_lm_df[['std_log_last_14_days_cases','std_log_last_30_days_cases','std_log_last_60_days_cases']]\n",
    "\n",
    "# Select target variable from std_lm_df\n",
    "y = std_lm_df['std_log_30_sep_cases']\n",
    "\n",
    "# Split train and test data \n",
    "x_train, x_test, y_train, y_test = train_test_split(x,y,test_size=0.3,random_state =  123)\n",
    "\n",
    "x_train.reset_index(drop = True,inplace = True)\n",
    "x_test.reset_index(drop = True,inplace = True)\n",
    "y_train.reset_index(drop = True,inplace = True)\n",
    "y_test.reset_index(drop = True,inplace = True)\n",
    "y_test.reset_index(drop = True,inplace = True)\n",
    "\n",
    "# Fit linear regression on train data\n",
    "lm = LinearRegression()\n",
    "lm.fit(x_train,y_train)\n",
    "\n",
    "# Use the model to predict on test data\n",
    "y_pred = lm.predict(x_test)\n",
    "\n",
    "# Calculate R-square on test data\n",
    "print('R-Square of the model with log transformation is '+str(round(r2_score(y_test,y_pred),4)))\n",
    "\n",
    "# Calculate MSE  on test data\n",
    "print('Mean Square Errors(MSE) of the model with log  transformation is '+str(round(mean_squared_error(y_test,y_pred),4)))\n",
    "\n",
    "# Create residual dataframe used for ploting\n",
    "residual_df = pd.DataFrame()\n",
    "residual_df['y_pred']= y_pred\n",
    "residual_df['y_test']= y_test\n",
    "residual_df['residual'] = y_pred-y_test\n",
    "\n",
    "# Plot 3 graphs to check linear model assumption\n",
    "fig, axes = plt.subplots(nrows=3, ncols=1,figsize = (15,10))\n",
    "residual_df['residual'].plot.hist(bins = 50,ax=axes[0])\n",
    "residual_df.plot.scatter(x='y_test', y= 'residual',ax=axes[1])\n",
    "residual_df.plot.scatter(x='y_test', y= 'y_pred',ax=axes[2]) \n",
    "\n",
    "# residual stat\n",
    "residual_df.describe()"
   ]
  },
  {
   "cell_type": "markdown",
   "metadata": {
    "id": "0TSC0Y_WAfB4"
   },
   "source": [
    "### 4.3 Linear Model of Standardised Data with Cube Root Transfromation"
   ]
  },
  {
   "cell_type": "code",
   "execution_count": 382,
   "metadata": {
    "colab": {
     "base_uri": "https://localhost:8080/",
     "height": 920
    },
    "id": "7m-ILviueudv",
    "outputId": "0886689f-f403-4b6e-a3d0-1898926f2eab"
   },
   "outputs": [
    {
     "name": "stdout",
     "output_type": "stream",
     "text": [
      "R-Square of the model with log transformation is 0.9272\n",
      "Mean Square Errors(MSE) of the model with log  transformation is 0.0823\n"
     ]
    },
    {
     "data": {
      "text/html": [
       "<div>\n",
       "<style scoped>\n",
       "    .dataframe tbody tr th:only-of-type {\n",
       "        vertical-align: middle;\n",
       "    }\n",
       "\n",
       "    .dataframe tbody tr th {\n",
       "        vertical-align: top;\n",
       "    }\n",
       "\n",
       "    .dataframe thead th {\n",
       "        text-align: right;\n",
       "    }\n",
       "</style>\n",
       "<table border=\"1\" class=\"dataframe\">\n",
       "  <thead>\n",
       "    <tr style=\"text-align: right;\">\n",
       "      <th></th>\n",
       "      <th>y_pred</th>\n",
       "      <th>y_test</th>\n",
       "      <th>residual</th>\n",
       "    </tr>\n",
       "  </thead>\n",
       "  <tbody>\n",
       "    <tr>\n",
       "      <th>count</th>\n",
       "      <td>673.000000</td>\n",
       "      <td>673.000000</td>\n",
       "      <td>673.000000</td>\n",
       "    </tr>\n",
       "    <tr>\n",
       "      <th>mean</th>\n",
       "      <td>0.045568</td>\n",
       "      <td>0.032411</td>\n",
       "      <td>0.013157</td>\n",
       "    </tr>\n",
       "    <tr>\n",
       "      <th>std</th>\n",
       "      <td>1.023909</td>\n",
       "      <td>1.063879</td>\n",
       "      <td>0.286794</td>\n",
       "    </tr>\n",
       "    <tr>\n",
       "      <th>min</th>\n",
       "      <td>-0.956628</td>\n",
       "      <td>-1.229394</td>\n",
       "      <td>-0.656308</td>\n",
       "    </tr>\n",
       "    <tr>\n",
       "      <th>25%</th>\n",
       "      <td>-0.956628</td>\n",
       "      <td>-0.585210</td>\n",
       "      <td>-0.138290</td>\n",
       "    </tr>\n",
       "    <tr>\n",
       "      <th>50%</th>\n",
       "      <td>0.086293</td>\n",
       "      <td>-0.127855</td>\n",
       "      <td>0.084413</td>\n",
       "    </tr>\n",
       "    <tr>\n",
       "      <th>75%</th>\n",
       "      <td>0.599237</td>\n",
       "      <td>0.602579</td>\n",
       "      <td>0.272766</td>\n",
       "    </tr>\n",
       "    <tr>\n",
       "      <th>max</th>\n",
       "      <td>3.451939</td>\n",
       "      <td>3.231164</td>\n",
       "      <td>0.500392</td>\n",
       "    </tr>\n",
       "  </tbody>\n",
       "</table>\n",
       "</div>"
      ],
      "text/plain": [
       "           y_pred      y_test    residual\n",
       "count  673.000000  673.000000  673.000000\n",
       "mean     0.045568    0.032411    0.013157\n",
       "std      1.023909    1.063879    0.286794\n",
       "min     -0.956628   -1.229394   -0.656308\n",
       "25%     -0.956628   -0.585210   -0.138290\n",
       "50%      0.086293   -0.127855    0.084413\n",
       "75%      0.599237    0.602579    0.272766\n",
       "max      3.451939    3.231164    0.500392"
      ]
     },
     "execution_count": 382,
     "metadata": {},
     "output_type": "execute_result"
    },
    {
     "data": {
      "image/png": "[encoded data removed]",
      "text/plain": [
       "<Figure size 1080x720 with 3 Axes>"
      ]
     },
     "metadata": {
      "needs_background": "light"
     },
     "output_type": "display_data"
    }
   ],
   "source": [
    "# Select features from std_lm_df\n",
    "x = std_lm_df[['std_cuberoot_last_14_days_cases','std_cuberoot_last_30_days_cases','std_cuberoot_last_60_days_cases']]\n",
    "\n",
    "# Select target variable from std_lm_df\n",
    "y = std_lm_df['std_cuberoot_30_sep_cases']\n",
    "\n",
    "# Split train and test data \n",
    "x_train, x_test, y_train, y_test = train_test_split(x,y,test_size=0.3,random_state =  123)\n",
    "\n",
    "x_train.reset_index(drop = True,inplace = True)\n",
    "x_test.reset_index(drop = True,inplace = True)\n",
    "y_train.reset_index(drop = True,inplace = True)\n",
    "y_test.reset_index(drop = True,inplace = True)\n",
    "y_test.reset_index(drop = True,inplace = True)\n",
    "\n",
    "# Fit linear regression on train data\n",
    "lm = LinearRegression()\n",
    "lm.fit(x_train,y_train)\n",
    "\n",
    "# Use the model to predict on test data\n",
    "y_pred = lm.predict(x_test)\n",
    "\n",
    "# Calculate R-square on test data\n",
    "print('R-Square of the model with log transformation is '+str(round(r2_score(y_test,y_pred),4)))\n",
    "\n",
    "# Calculate MSE  on test data\n",
    "print('Mean Square Errors(MSE) of the model with log  transformation is '+str(round(mean_squared_error(y_test,y_pred),4)))\n",
    "\n",
    "# Create residual dataframe used for ploting\n",
    "residual_df = pd.DataFrame()\n",
    "residual_df['y_pred']= y_pred\n",
    "residual_df['y_test']= y_test\n",
    "residual_df['residual'] = y_pred-y_test\n",
    "\n",
    "# Plot 3 graphs to check linear model assumption\n",
    "fig, axes = plt.subplots(nrows=3, ncols=1,figsize = (15,10))\n",
    "residual_df['residual'].plot.hist(bins = 50,ax=axes[0])\n",
    "residual_df.plot.scatter(x='y_test', y= 'residual',ax=axes[1])\n",
    "residual_df.plot.scatter(x='y_test', y= 'y_pred',ax=axes[2]) \n",
    "\n",
    "# residual stat\n",
    "residual_df.describe()"
   ]
  },
  {
   "cell_type": "markdown",
   "metadata": {
    "id": "T0v8OqjjAyoO"
   },
   "source": [
    "### 4.4 Linear Model of Standardised Data with Box-cox Transformation"
   ]
  },
  {
   "cell_type": "code",
   "execution_count": 383,
   "metadata": {
    "colab": {
     "base_uri": "https://localhost:8080/",
     "height": 920
    },
    "id": "YNsSq6ORfMgu",
    "outputId": "3b1b774a-ed1a-4818-d012-d610a5b62516"
   },
   "outputs": [
    {
     "name": "stdout",
     "output_type": "stream",
     "text": [
      "R-Square of the model with log transformation is 0.7855\n",
      "Mean Square Errors(MSE) of the model with log  transformation is 0.2256\n"
     ]
    },
    {
     "data": {
      "text/html": [
       "<div>\n",
       "<style scoped>\n",
       "    .dataframe tbody tr th:only-of-type {\n",
       "        vertical-align: middle;\n",
       "    }\n",
       "\n",
       "    .dataframe tbody tr th {\n",
       "        vertical-align: top;\n",
       "    }\n",
       "\n",
       "    .dataframe thead th {\n",
       "        text-align: right;\n",
       "    }\n",
       "</style>\n",
       "<table border=\"1\" class=\"dataframe\">\n",
       "  <thead>\n",
       "    <tr style=\"text-align: right;\">\n",
       "      <th></th>\n",
       "      <th>y_pred</th>\n",
       "      <th>y_test</th>\n",
       "      <th>residual</th>\n",
       "    </tr>\n",
       "  </thead>\n",
       "  <tbody>\n",
       "    <tr>\n",
       "      <th>count</th>\n",
       "      <td>673.000000</td>\n",
       "      <td>673.000000</td>\n",
       "      <td>673.000000</td>\n",
       "    </tr>\n",
       "    <tr>\n",
       "      <th>mean</th>\n",
       "      <td>0.018854</td>\n",
       "      <td>0.012768</td>\n",
       "      <td>0.006086</td>\n",
       "    </tr>\n",
       "    <tr>\n",
       "      <th>std</th>\n",
       "      <td>0.881512</td>\n",
       "      <td>1.026107</td>\n",
       "      <td>0.475240</td>\n",
       "    </tr>\n",
       "    <tr>\n",
       "      <th>min</th>\n",
       "      <td>-1.071793</td>\n",
       "      <td>-1.579335</td>\n",
       "      <td>-1.103565</td>\n",
       "    </tr>\n",
       "    <tr>\n",
       "      <th>25%</th>\n",
       "      <td>-1.071793</td>\n",
       "      <td>-0.256728</td>\n",
       "      <td>-0.247733</td>\n",
       "    </tr>\n",
       "    <tr>\n",
       "      <th>50%</th>\n",
       "      <td>0.490595</td>\n",
       "      <td>0.183021</td>\n",
       "      <td>0.019776</td>\n",
       "    </tr>\n",
       "    <tr>\n",
       "      <th>75%</th>\n",
       "      <td>0.693590</td>\n",
       "      <td>0.710591</td>\n",
       "      <td>0.507542</td>\n",
       "    </tr>\n",
       "    <tr>\n",
       "      <th>max</th>\n",
       "      <td>1.461654</td>\n",
       "      <td>1.981134</td>\n",
       "      <td>0.721348</td>\n",
       "    </tr>\n",
       "  </tbody>\n",
       "</table>\n",
       "</div>"
      ],
      "text/plain": [
       "           y_pred      y_test    residual\n",
       "count  673.000000  673.000000  673.000000\n",
       "mean     0.018854    0.012768    0.006086\n",
       "std      0.881512    1.026107    0.475240\n",
       "min     -1.071793   -1.579335   -1.103565\n",
       "25%     -1.071793   -0.256728   -0.247733\n",
       "50%      0.490595    0.183021    0.019776\n",
       "75%      0.693590    0.710591    0.507542\n",
       "max      1.461654    1.981134    0.721348"
      ]
     },
     "execution_count": 383,
     "metadata": {},
     "output_type": "execute_result"
    },
    {
     "data": {
      "image/png": "[encoded data removed]",
      "text/plain": [
       "<Figure size 1080x720 with 3 Axes>"
      ]
     },
     "metadata": {
      "needs_background": "light"
     },
     "output_type": "display_data"
    }
   ],
   "source": [
    "# Select features from std_lm_df\n",
    "x = std_lm_df[['std_boxcox_last_14_days_cases','std_boxcox_last_30_days_cases','std_boxcox_last_60_days_cases']]\n",
    "\n",
    "# Select target variable from std_lm_df\n",
    "y = std_lm_df['std_boxcox_30_sep_cases']\n",
    "\n",
    "# Split train and test data \n",
    "x_train, x_test, y_train, y_test = train_test_split(x,y,test_size=0.3,random_state =  123)\n",
    "\n",
    "x_train.reset_index(drop = True,inplace = True)\n",
    "x_test.reset_index(drop = True,inplace = True)\n",
    "y_train.reset_index(drop = True,inplace = True)\n",
    "y_test.reset_index(drop = True,inplace = True)\n",
    "y_test.reset_index(drop = True,inplace = True)\n",
    "\n",
    "# Fit linear regression on train data\n",
    "lm = LinearRegression()\n",
    "lm.fit(x_train,y_train)\n",
    "\n",
    "# Use the model to predict on test data\n",
    "y_pred = lm.predict(x_test)\n",
    "\n",
    "# Calculate R-square on test data\n",
    "print('R-Square of the model with log transformation is '+str(round(r2_score(y_test,y_pred),4)))\n",
    "\n",
    "# Calculate MSE  on test data\n",
    "print('Mean Square Errors(MSE) of the model with log  transformation is '+str(round(mean_squared_error(y_test,y_pred),4)))\n",
    "\n",
    "# Create residual dataframe used for ploting\n",
    "residual_df = pd.DataFrame()\n",
    "residual_df['y_pred']= y_pred\n",
    "residual_df['y_test']= y_test\n",
    "residual_df['residual'] = y_pred-y_test\n",
    "\n",
    "# Plot 3 graphs to check linear model assumption\n",
    "fig, axes = plt.subplots(nrows=3, ncols=1,figsize = (15,10))\n",
    "residual_df['residual'].plot.hist(bins = 50,ax=axes[0])\n",
    "residual_df.plot.scatter(x='y_test', y= 'residual',ax=axes[1])\n",
    "residual_df.plot.scatter(x='y_test', y= 'y_pred',ax=axes[2]) \n",
    "\n",
    "# residual stat\n",
    "residual_df.describe()"
   ]
  },
  {
   "cell_type": "markdown",
   "metadata": {
    "id": "3gB_B8FxA_AQ"
   },
   "source": [
    "### 4.5 Linear Model of Standardised Data with Power Transformation"
   ]
  },
  {
   "cell_type": "code",
   "execution_count": 384,
   "metadata": {
    "colab": {
     "base_uri": "https://localhost:8080/",
     "height": 920
    },
    "id": "Ld7GqzY1fZXb",
    "outputId": "6332b246-52a1-49b7-edf1-759c0c1fa2b5"
   },
   "outputs": [
    {
     "name": "stdout",
     "output_type": "stream",
     "text": [
      "R-Square of the model with log transformation is 0.9096\n",
      "Mean Square Errors(MSE) of the model with log  transformation is 0.0953\n"
     ]
    },
    {
     "data": {
      "text/html": [
       "<div>\n",
       "<style scoped>\n",
       "    .dataframe tbody tr th:only-of-type {\n",
       "        vertical-align: middle;\n",
       "    }\n",
       "\n",
       "    .dataframe tbody tr th {\n",
       "        vertical-align: top;\n",
       "    }\n",
       "\n",
       "    .dataframe thead th {\n",
       "        text-align: right;\n",
       "    }\n",
       "</style>\n",
       "<table border=\"1\" class=\"dataframe\">\n",
       "  <thead>\n",
       "    <tr style=\"text-align: right;\">\n",
       "      <th></th>\n",
       "      <th>y_pred</th>\n",
       "      <th>y_test</th>\n",
       "      <th>residual</th>\n",
       "    </tr>\n",
       "  </thead>\n",
       "  <tbody>\n",
       "    <tr>\n",
       "      <th>count</th>\n",
       "      <td>673.000000</td>\n",
       "      <td>673.000000</td>\n",
       "      <td>673.000000</td>\n",
       "    </tr>\n",
       "    <tr>\n",
       "      <th>mean</th>\n",
       "      <td>0.023916</td>\n",
       "      <td>0.013606</td>\n",
       "      <td>0.010310</td>\n",
       "    </tr>\n",
       "    <tr>\n",
       "      <th>std</th>\n",
       "      <td>0.966702</td>\n",
       "      <td>1.027786</td>\n",
       "      <td>0.308814</td>\n",
       "    </tr>\n",
       "    <tr>\n",
       "      <th>min</th>\n",
       "      <td>-1.046678</td>\n",
       "      <td>-1.320981</td>\n",
       "      <td>-0.762406</td>\n",
       "    </tr>\n",
       "    <tr>\n",
       "      <th>25%</th>\n",
       "      <td>-1.046678</td>\n",
       "      <td>-0.781007</td>\n",
       "      <td>-0.155036</td>\n",
       "    </tr>\n",
       "    <tr>\n",
       "      <th>50%</th>\n",
       "      <td>0.175977</td>\n",
       "      <td>-0.012350</td>\n",
       "      <td>0.045538</td>\n",
       "    </tr>\n",
       "    <tr>\n",
       "      <th>75%</th>\n",
       "      <td>0.841678</td>\n",
       "      <td>0.823172</td>\n",
       "      <td>0.274303</td>\n",
       "    </tr>\n",
       "    <tr>\n",
       "      <th>max</th>\n",
       "      <td>1.972429</td>\n",
       "      <td>2.071602</td>\n",
       "      <td>0.662302</td>\n",
       "    </tr>\n",
       "  </tbody>\n",
       "</table>\n",
       "</div>"
      ],
      "text/plain": [
       "           y_pred      y_test    residual\n",
       "count  673.000000  673.000000  673.000000\n",
       "mean     0.023916    0.013606    0.010310\n",
       "std      0.966702    1.027786    0.308814\n",
       "min     -1.046678   -1.320981   -0.762406\n",
       "25%     -1.046678   -0.781007   -0.155036\n",
       "50%      0.175977   -0.012350    0.045538\n",
       "75%      0.841678    0.823172    0.274303\n",
       "max      1.972429    2.071602    0.662302"
      ]
     },
     "execution_count": 384,
     "metadata": {},
     "output_type": "execute_result"
    },
    {
     "data": {
      "image/png": "[encoded data removed]",
      "text/plain": [
       "<Figure size 1080x720 with 3 Axes>"
      ]
     },
     "metadata": {
      "needs_background": "light"
     },
     "output_type": "display_data"
    }
   ],
   "source": [
    "# Select features from std_lm_df\n",
    "x = std_lm_df[['std_power_last_14_days_cases','std_power_last_30_days_cases','std_power_last_60_days_cases']]\n",
    "\n",
    "# Select target variable from std_lm_df\n",
    "y = std_lm_df['std_power_30_sep_cases']\n",
    "\n",
    "# Split train and test data \n",
    "x_train, x_test, y_train, y_test = train_test_split(x,y,test_size=0.3,random_state =  123)\n",
    "\n",
    "x_train.reset_index(drop = True,inplace = True)\n",
    "x_test.reset_index(drop = True,inplace = True)\n",
    "y_train.reset_index(drop = True,inplace = True)\n",
    "y_test.reset_index(drop = True,inplace = True)\n",
    "y_test.reset_index(drop = True,inplace = True)\n",
    "\n",
    "# Fit linear regression on train data\n",
    "lm = LinearRegression()\n",
    "lm.fit(x_train,y_train)\n",
    "\n",
    "# Use the model to predict on test data\n",
    "y_pred = lm.predict(x_test)\n",
    "\n",
    "# Calculate R-square on test data\n",
    "print('R-Square of the model with log transformation is '+str(round(r2_score(y_test,y_pred),4)))\n",
    "\n",
    "# Calculate MSE  on test data\n",
    "print('Mean Square Errors(MSE) of the model with log  transformation is '+str(round(mean_squared_error(y_test,y_pred),4)))\n",
    "\n",
    "# Create residual dataframe used for ploting\n",
    "residual_df = pd.DataFrame()\n",
    "residual_df['y_pred']= y_pred\n",
    "residual_df['y_test']= y_test\n",
    "residual_df['residual'] = y_pred-y_test\n",
    "\n",
    "# Plot 3 graphs to check linear model assumption\n",
    "fig, axes = plt.subplots(nrows=3, ncols=1,figsize = (15,10))\n",
    "residual_df['residual'].plot.hist(bins = 50,ax=axes[0])\n",
    "residual_df.plot.scatter(x='y_test', y= 'residual',ax=axes[1])\n",
    "residual_df.plot.scatter(x='y_test', y= 'y_pred',ax=axes[2]) \n",
    "\n",
    "# residual stat\n",
    "residual_df.describe()"
   ]
  },
  {
   "cell_type": "markdown",
   "metadata": {
    "id": "oCBx-7RIatxq"
   },
   "source": [
    "### 4.6 Linear Model of Standardised Original Data with Outlier Removal"
   ]
  },
  {
   "cell_type": "code",
   "execution_count": 385,
   "metadata": {
    "colab": {
     "base_uri": "https://localhost:8080/",
     "height": 920
    },
    "id": "iDIYAByV1FMT",
    "outputId": "7133e775-5c7d-40c3-c962-01a84850eed2"
   },
   "outputs": [
    {
     "name": "stdout",
     "output_type": "stream",
     "text": [
      "R-Square of the model without transformation is 0.9841\n",
      "Mean Square Errors(MSE) of the model without transformation is 0.0065\n"
     ]
    },
    {
     "data": {
      "text/html": [
       "<div>\n",
       "<style scoped>\n",
       "    .dataframe tbody tr th:only-of-type {\n",
       "        vertical-align: middle;\n",
       "    }\n",
       "\n",
       "    .dataframe tbody tr th {\n",
       "        vertical-align: top;\n",
       "    }\n",
       "\n",
       "    .dataframe thead th {\n",
       "        text-align: right;\n",
       "    }\n",
       "</style>\n",
       "<table border=\"1\" class=\"dataframe\">\n",
       "  <thead>\n",
       "    <tr style=\"text-align: right;\">\n",
       "      <th></th>\n",
       "      <th>y_pred</th>\n",
       "      <th>y_test</th>\n",
       "      <th>residual</th>\n",
       "    </tr>\n",
       "  </thead>\n",
       "  <tbody>\n",
       "    <tr>\n",
       "      <th>count</th>\n",
       "      <td>662.000000</td>\n",
       "      <td>662.000000</td>\n",
       "      <td>662.000000</td>\n",
       "    </tr>\n",
       "    <tr>\n",
       "      <th>mean</th>\n",
       "      <td>-0.098449</td>\n",
       "      <td>-0.111060</td>\n",
       "      <td>0.012611</td>\n",
       "    </tr>\n",
       "    <tr>\n",
       "      <th>std</th>\n",
       "      <td>0.639512</td>\n",
       "      <td>0.643066</td>\n",
       "      <td>0.079978</td>\n",
       "    </tr>\n",
       "    <tr>\n",
       "      <th>min</th>\n",
       "      <td>-0.435045</td>\n",
       "      <td>-0.468551</td>\n",
       "      <td>-0.388565</td>\n",
       "    </tr>\n",
       "    <tr>\n",
       "      <th>25%</th>\n",
       "      <td>-0.435045</td>\n",
       "      <td>-0.468551</td>\n",
       "      <td>-0.014685</td>\n",
       "    </tr>\n",
       "    <tr>\n",
       "      <th>50%</th>\n",
       "      <td>-0.304447</td>\n",
       "      <td>-0.388639</td>\n",
       "      <td>0.033506</td>\n",
       "    </tr>\n",
       "    <tr>\n",
       "      <th>75%</th>\n",
       "      <td>-0.118380</td>\n",
       "      <td>-0.029035</td>\n",
       "      <td>0.053910</td>\n",
       "    </tr>\n",
       "    <tr>\n",
       "      <th>max</th>\n",
       "      <td>2.745145</td>\n",
       "      <td>2.568100</td>\n",
       "      <td>0.181889</td>\n",
       "    </tr>\n",
       "  </tbody>\n",
       "</table>\n",
       "</div>"
      ],
      "text/plain": [
       "           y_pred      y_test    residual\n",
       "count  662.000000  662.000000  662.000000\n",
       "mean    -0.098449   -0.111060    0.012611\n",
       "std      0.639512    0.643066    0.079978\n",
       "min     -0.435045   -0.468551   -0.388565\n",
       "25%     -0.435045   -0.468551   -0.014685\n",
       "50%     -0.304447   -0.388639    0.033506\n",
       "75%     -0.118380   -0.029035    0.053910\n",
       "max      2.745145    2.568100    0.181889"
      ]
     },
     "execution_count": 385,
     "metadata": {},
     "output_type": "execute_result"
    },
    {
     "data": {
      "image/png": "[encoded data removed]",
      "text/plain": [
       "<Figure size 1080x720 with 3 Axes>"
      ]
     },
     "metadata": {
      "needs_background": "light"
     },
     "output_type": "display_data"
    }
   ],
   "source": [
    "#  Select features from std_lm_df with outlier removal\n",
    "x = std_lm_df.loc[(std_lm_df['std_30_sep_cases']<=3)  & (std_lm_df['std_30_sep_cases']>= -3),['std_last_14_days_cases','std_last_30_days_cases','std_last_60_days_cases']]\n",
    "\n",
    "# Select target variable from std_lm_df with outlier removal\n",
    "y = std_lm_df.loc[(std_lm_df['std_30_sep_cases']<=3)  & (std_lm_df['std_30_sep_cases']>= -3),'std_30_sep_cases']\n",
    "\n",
    "# Split train and test data \n",
    "x_train, x_test, y_train, y_test = train_test_split(x,y,test_size=0.3,random_state =  123)\n",
    "\n",
    "x_train.reset_index(drop = True,inplace = True)\n",
    "x_test.reset_index(drop = True,inplace = True)\n",
    "y_train.reset_index(drop = True,inplace = True)\n",
    "y_test.reset_index(drop = True,inplace = True)\n",
    "y_test.reset_index(drop = True,inplace = True)\n",
    "\n",
    "# Fit linear regression on train data\n",
    "lm = LinearRegression()\n",
    "lm.fit(x_train,y_train)\n",
    "\n",
    "# Use the model to predict on test data\n",
    "y_pred = lm.predict(x_test)\n",
    "\n",
    "# Calculate R-square on test data\n",
    "print('R-Square of the model without transformation is '+str(round(r2_score(y_test,y_pred),4)))\n",
    "\n",
    "# Calculate MSE  on test data\n",
    "print('Mean Square Errors(MSE) of the model without transformation is '+str(round(mean_squared_error(y_test,y_pred),4)))\n",
    "\n",
    "# Create residual dataframe used for ploting\n",
    "residual_df = pd.DataFrame()\n",
    "residual_df['y_pred']= y_pred\n",
    "residual_df['y_test']= y_test\n",
    "residual_df['residual'] = y_pred-y_test\n",
    "\n",
    "# Plot 3 graphs to check linear model assumption\n",
    "fig, axes = plt.subplots(nrows=3, ncols=1,figsize = (15,10))\n",
    "residual_df['residual'].plot.hist(bins = 50,ax=axes[0])\n",
    "residual_df.plot.scatter(x='y_test', y= 'residual',ax=axes[1])\n",
    "residual_df.plot.scatter(x='y_test', y= 'y_pred',ax=axes[2]) \n",
    "\n",
    "# residual stat\n",
    "residual_df.describe()"
   ]
  },
  {
   "cell_type": "markdown",
   "metadata": {
    "id": "tzP7lr84Gbxt"
   },
   "source": [
    "### 4.7 Model Summary"
   ]
  },
  {
   "cell_type": "markdown",
   "metadata": {
    "id": "TNoACAJKAz1d"
   },
   "source": [
    "In summary, all model performances are shown in the table below using R square and MSE on testing data. As a result, transforming the data did not improve model performance as testing R square did not increase and MSE did not decrease. However, removing outlier from the dataset and use original data did improve model performance \n",
    "\n",
    "\n",
    "\n",
    "| Model| R square\t| MSE | \n",
    "|:-:   |:-:\t      |:-:\t|\n",
    "| 4.1 Linear Model of Standardised Original Data | 0.9716  | 0.0397  | \n",
    "| 4.2 Linear Model of Standardised Data with Log Transformation|0.9264| 0.0792|\n",
    "| 4.3 Linear Model of Standardised Data with Cube Root Transformation | 0.9272| 0.0823    |\n",
    "| 4.4 Linear Model of Standardised Data with Box-cox Transformation                                             | 0.7855       | 0.2256    | \n",
    "| 4.5 Linear Model of Standardised Data with Power Transformation                                              | 0.9096      | 0.0953    | \n",
    "| 4.6 Linear Model of Standardised Original Data with Outlier Removal                                              | 0.9841      | 0.0065   | \n",
    "\n",
    "\n"
   ]
  },
  {
   "cell_type": "markdown",
   "metadata": {
    "id": "oDsJwNCE6pse"
   },
   "source": [
    "## 5.Summary"
   ]
  },
  {
   "cell_type": "markdown",
   "metadata": {
    "id": "IP-fBwVd6tvl"
   },
   "source": [
    "In summary, we perform several subtasks, which are\n",
    "\n",
    "1.  Exploratory Data Analysis (EDA) on COVID Attributes\n",
    "2.  Data Transformation\n",
    "* 2.1 Adjusted Log Transformation\n",
    "* 2.2 Cube Root Transformation\n",
    "* 2.3 Adjusted Box-cox Transformation\n",
    "* 2.4 Power Transformation (Yeo-Johnson)\n",
    "* 2.5 Visualisation on Distributions\n",
    "* 2.6 Visualisation on relationships\n",
    "\n",
    "3.  Data Normalisation\n",
    "* 3.1 Standardisation (Z-score)\n",
    "3.2 MinMax Normalisation\n",
    "3.3 Visualisation for Data Distrubtion After Normalisation\n",
    "\n",
    "4.  Model Evaluation\n",
    "\n",
    "* 4.1 Linear Model of Standardised Original Data\n",
    "* 4.2 Linear Model of Standardised Data with Log Transformation\n",
    "* 4.3 Linear Model of Standardised Data with Cube Root Transfromation\n",
    "* 4.4 Linear Model of Standardised Data with Box-cox Transformation\n",
    "* 4.5 Linear Model of Standardised Data with Power Transformation\n",
    "* 4.6 Linear Model of Standardised Original Data with Outlier Removal\n",
    "* 4.7 Model Summary\n",
    "\n",
    "To answer the question from the specification \"You need to first explore the data to see if any scaling or transformation is necessary (if yes why? and if not, also why? \", this can be concluded that scaling(standardisation) is necessary, while transformation is not. In scaling perspective, it is said in the requirement that \"We want features to be in the same scale\" so to do that scaling/ normalisation is necessary since when we do EDA, we found that COVID attributes have different means and variancs. Also, even linear regression does not require us to do scaling, it is a good practice to do it beforehand since it can potentially increase efficiency on computation. On the other side, which is data transformation, it is not required in this case because doing that cannot lead to better linear model performance as shown in the section 4 above. However, linear model can be improved from other ways such as removing outlier (as we did in 4.6) or include more relevant features.\n",
    "\n"
   ]
  },
  {
   "cell_type": "markdown",
   "metadata": {
    "id": "lT7joUCiPlZ8"
   },
   "source": [
    "# Reference"
   ]
  },
  {
   "cell_type": "markdown",
   "metadata": {
    "id": "nlK-1vZLP_Ax"
   },
   "source": [
    "- Extract text from a PDF using python - part 2. Extract text from a PDF using Python - part 2 - pdfminer.six 20201018 documentation. (n.d.). Retrieved October 27, 2021, from https://pdfminersix.readthedocs.io/en/latest/tutorial/composable.html. \n",
    "\n",
    "-  Using pandas to calculate distance between coordinates from imported CSV. Stack Overflow. Retrieved October 27, 2021, from https://stackoverflow.com/questions/33029396/using-pandas-to-calculate-distance-between-coordinates-from-imported-csv. \n",
    "\n",
    "- Wikimedia Foundation. (2021, September 24). Haversine formula. Wikipedia. Retrieved October 27, 2021, from https://en.wikipedia.org/wiki/Haversine_formula. \n",
    "\n",
    "- Macali, A. (n.d.). Cases by LGA in Victoria - Covid Live. 163,866 Coronavirus cases in Australia - COVID Live. Retrieved October 27, 2021, from https://covidlive.com.au/report/cases-by-lga/vic. \n",
    "\n",
    "- Bhalla, D. (n.d.). Regression : Transform negative values. ListenData. Retrieved October 27, 2021, from https://www.listendata.com/2015/09/regression-transform-negative-values.html. \n",
    "\n",
    "- Steve, Imran, Aayushmnit, hinduja1234, Dhamraj, mehmood64, huseyin60, Ilker, &amp; tony888. (2015, July 23). Methods to deal with zero values while performing log transformation of variable. Data Science, Analytics and Big Data discussions. Retrieved October 27, 2021, from https://discuss.analyticsvidhya.com/t/methods-to-deal-with-zero-values-while-performing-log-transformation-of-variable/2431/2. \n",
    "\n",
    "- Rick Wicklin on The DO Loop. (2011, April 27). Log transformations: How to handle negative data values? The DO Loop. Retrieved October 27, 2021, from https://blogs.sas.com/content/iml/2011/04/27/log-transformations-how-to-handle-negative-data-values.html.\n",
    "\n",
    "- The Trustees of Princeton University. (n.d.). GR's website. Princeton University. Retrieved October 27, 2021, from https://data.princeton.edu/wws509/notes/c2s10. "
   ]
  }
 ],
 "metadata": {
  "colab": {
   "collapsed_sections": [],
   "name": "31258301_ass3.ipynb",
   "provenance": [],
   "toc_visible": true
  },
  "kernelspec": {
   "display_name": "Python 3",
   "language": "python",
   "name": "python3"
  },
  "language_info": {
   "codemirror_mode": {
    "name": "ipython",
    "version": 3
   },
   "file_extension": ".py",
   "mimetype": "text/x-python",
   "name": "python",
   "nbconvert_exporter": "python",
   "pygments_lexer": "ipython3",
   "version": "3.8.8"
  }
 },
 "nbformat": 4,
 "nbformat_minor": 1
}
