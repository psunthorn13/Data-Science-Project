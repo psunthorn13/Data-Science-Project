{
 "cells": [
  {
   "cell_type": "markdown",
   "metadata": {
    "id": "XjTb3wFfY44E"
   },
   "source": [
    "# FIT5196 Assessment 2 \n",
    "#### Student Name: Pichaphop Sunthornjittanon\n",
    "#### Student ID: 31258301\n",
    "\n",
    "Date: 30/9/21\n",
    " ##############################\n",
    "\n",
    "Environment: Python 3.6.0 and Google Colab\n",
    "\n",
    "## Introduction\n",
    "\n",
    "Exploring and understanding the data is one of the most important parts of the data wrangling\n",
    "process. You are required to perform graphical and/or non-graphical EDA methods to understand\n",
    "the data first and then find the data problems. You are required to:\n",
    "\n",
    "● Detect and fix errors in <student_id>_dirty.csv\n",
    "\n",
    "● Impute the missing values in <student_id>_missing.csv\n",
    "\n",
    "● Detect and remove outlier rows in <student_id>_outlier.csv\n",
    "(outliers are to be found w.r.t. delivery_charges attribute)"
   ]
  },
  {
   "cell_type": "markdown",
   "metadata": {
    "id": "fHWzXW5PuYIj"
   },
   "source": [
    "## Importing libraries "
   ]
  },
  {
   "cell_type": "code",
   "execution_count": 5,
   "metadata": {
    "colab": {
     "base_uri": "https://localhost:8080/"
    },
    "id": "E4rGv5bfvmSH",
    "outputId": "2e82f42b-3a19-41c4-a9fd-d88958b14bd4"
   },
   "outputs": [
    {
     "name": "stdout",
     "output_type": "stream",
     "text": [
      "[nltk_data] Downloading package vader_lexicon to /root/nltk_data...\n",
      "[nltk_data]   Package vader_lexicon is already up-to-date!\n"
     ]
    }
   ],
   "source": [
    "# Import required library\n",
    "\n",
    "# Use for working with dataframe\n",
    "import pandas as pd\n",
    "\n",
    "# Use for regex\n",
    "import re\n",
    "\n",
    "# Use for working with multi-dimensional arrays and matrices\n",
    "import numpy as np\n",
    "\n",
    "# Use for dealing with sentimental analysis\n",
    "import nltk\n",
    "from nltk.sentiment.vader import SentimentIntensityAnalyzer\n",
    "nltk.download('vader_lexicon')\n",
    "\n",
    "# Use for converting string of list to list\n",
    "import ast\n",
    "\n",
    "# Use for working with network \n",
    "import networkx as nx\n",
    "\n",
    "# Use for training linear regression model\n",
    "from sklearn.linear_model import LinearRegression\n",
    "\n",
    "import matplotlib.pyplot as plt\n",
    "%matplotlib inline"
   ]
  },
  {
   "cell_type": "markdown",
   "metadata": {
    "id": "sSnmAqMQudDD"
   },
   "source": [
    "## Loading dataset"
   ]
  },
  {
   "cell_type": "markdown",
   "metadata": {
    "id": "fUegpcJP4M3R"
   },
   "source": [
    "Firstly, we have to load datasets, which are :\n",
    "\n",
    "1.31258301_dirty.csv\n",
    "\n",
    "2.31258301_missing.csv \n",
    "\n",
    "3.31258301_outlier.csv\n",
    "\n",
    "4.restaurant_data_student.csv\n",
    "\n",
    "5.edges.csv\n",
    "\n",
    "6.nodes.csv\n",
    "\n",
    " from the specified google drive directories and store them in dataframe format"
   ]
  },
  {
   "cell_type": "code",
   "execution_count": 6,
   "metadata": {
    "colab": {
     "base_uri": "https://localhost:8080/"
    },
    "id": "J6TykZaRugeZ",
    "outputId": "26442119-cfbb-450d-d2b5-f20c20e05db1"
   },
   "outputs": [
    {
     "name": "stdout",
     "output_type": "stream",
     "text": [
      "Drive already mounted at /content/drive; to attempt to forcibly remount, call drive.mount(\"/content/drive\", force_remount=True).\n"
     ]
    }
   ],
   "source": [
    "# Mount Google Drive in the colab environment\n",
    "from google.colab import drive\n",
    "\n",
    "drive.mount('/content/drive') "
   ]
  },
  {
   "cell_type": "code",
   "execution_count": 7,
   "metadata": {
    "id": "uq_pXhiMvHLx"
   },
   "outputs": [],
   "source": [
    "#### Load customised data from the share drive #### \n",
    "# Load 31258301_dirty to dirty_df\n",
    "dirty_df = pd.read_csv('/content/drive/Shareddrives/FIT5196-s2-2021-tutorials/Assessment 2/student_data/31258301_dirty.csv')\n",
    "\n",
    "# Load 31258301_missing to missing_df\n",
    "missing_df = pd.read_csv('/content/drive/Shareddrives/FIT5196-s2-2021-tutorials/Assessment 2/student_data/31258301_missing.csv')\n",
    "\n",
    "# Load 31258301_outlier to outlier_df\n",
    "outlier_df = pd.read_csv('/content/drive/Shareddrives/FIT5196-s2-2021-tutorials/Assessment 2/student_data/31258301_outlier.csv')"
   ]
  },
  {
   "cell_type": "code",
   "execution_count": 8,
   "metadata": {
    "id": "HMpQhiz3q7d7"
   },
   "outputs": [],
   "source": [
    "#### Load supplementary data #### \n",
    "# Load restaurant data to restaurant_df\n",
    "restaurant_df =  pd.read_csv('restaurant_data_student.csv')\n",
    "\n",
    "# Load edge data to edge_df\n",
    "edge_df =  pd.read_csv('edges.csv')\n",
    "\n",
    "# Load node data to node_df\n",
    "node_df =  pd.read_csv('nodes.csv')"
   ]
  },
  {
   "cell_type": "markdown",
   "metadata": {
    "id": "B4emVpBa41X6"
   },
   "source": [
    "## Task 1: Detecting and Fixing Anomalies in Dirty Dataset"
   ]
  },
  {
   "cell_type": "markdown",
   "metadata": {
    "id": "unCG3Udg9Gcn"
   },
   "source": [
    "Detect and fix errors in 31258301_dirty.csv"
   ]
  },
  {
   "cell_type": "markdown",
   "metadata": {
    "id": "6i_nleq4454y"
   },
   "source": [
    "###1.1 Overall Exploratory Data Analysis(EDA) "
   ]
  },
  {
   "cell_type": "markdown",
   "metadata": {
    "id": "LM96KlYT7Mwf"
   },
   "source": [
    "After the data has been loaded and stored into dataframe, we look at an overview of the data. First, we explore the dimensionality of the data and an example of how data looks like"
   ]
  },
  {
   "cell_type": "code",
   "execution_count": 9,
   "metadata": {
    "colab": {
     "base_uri": "https://localhost:8080/"
    },
    "id": "xy4CwfNa1Zwl",
    "outputId": "92d6929b-b4e6-4bcd-e4eb-51de9dc27a4d"
   },
   "outputs": [
    {
     "name": "stdout",
     "output_type": "stream",
     "text": [
      "(500, 18)\n"
     ]
    }
   ],
   "source": [
    "# Look at the shape of the data (500 rows and 18 column)\n",
    "print(dirty_df.shape)\n"
   ]
  },
  {
   "cell_type": "code",
   "execution_count": 10,
   "metadata": {
    "colab": {
     "base_uri": "https://localhost:8080/",
     "height": 0
    },
    "id": "YfCX7FnIwEa8",
    "outputId": "e58b7405-df6c-432a-905e-8a4635e8ffb3"
   },
   "outputs": [
    {
     "data": {
      "text/html": [
       "<div>\n",
       "<style scoped>\n",
       "    .dataframe tbody tr th:only-of-type {\n",
       "        vertical-align: middle;\n",
       "    }\n",
       "\n",
       "    .dataframe tbody tr th {\n",
       "        vertical-align: top;\n",
       "    }\n",
       "\n",
       "    .dataframe thead th {\n",
       "        text-align: right;\n",
       "    }\n",
       "</style>\n",
       "<table border=\"1\" class=\"dataframe\">\n",
       "  <thead>\n",
       "    <tr style=\"text-align: right;\">\n",
       "      <th></th>\n",
       "      <th>order_id</th>\n",
       "      <th>restaurant_id</th>\n",
       "      <th>customer_id</th>\n",
       "      <th>carrier_id</th>\n",
       "      <th>customer_lat</th>\n",
       "      <th>customer_lon</th>\n",
       "      <th>date</th>\n",
       "      <th>time</th>\n",
       "      <th>is_peak_time</th>\n",
       "      <th>is_weekend</th>\n",
       "      <th>carrier_vehicle</th>\n",
       "      <th>shopping_cart</th>\n",
       "      <th>coupon_discount</th>\n",
       "      <th>order_price</th>\n",
       "      <th>shortest_distance_to_customer</th>\n",
       "      <th>travel_time_minutes</th>\n",
       "      <th>restaurant_rating</th>\n",
       "      <th>delivery_charges</th>\n",
       "    </tr>\n",
       "  </thead>\n",
       "  <tbody>\n",
       "    <tr>\n",
       "      <th>0</th>\n",
       "      <td>ORD287671</td>\n",
       "      <td>REST0231</td>\n",
       "      <td>CUST03708</td>\n",
       "      <td>COUR2658</td>\n",
       "      <td>-37.807909</td>\n",
       "      <td>144.995935</td>\n",
       "      <td>2020-06-01</td>\n",
       "      <td>23:20:26</td>\n",
       "      <td>0</td>\n",
       "      <td>0</td>\n",
       "      <td>Car</td>\n",
       "      <td>[('barbeque chicken', 1), ('pepper bbq chicken...</td>\n",
       "      <td>0</td>\n",
       "      <td>50.670</td>\n",
       "      <td>4065</td>\n",
       "      <td>10</td>\n",
       "      <td>7.21</td>\n",
       "      <td>3.6372</td>\n",
       "    </tr>\n",
       "    <tr>\n",
       "      <th>1</th>\n",
       "      <td>ORD251937</td>\n",
       "      <td>REST0944</td>\n",
       "      <td>CUST07692</td>\n",
       "      <td>COUR2647</td>\n",
       "      <td>-37.814212</td>\n",
       "      <td>145.011677</td>\n",
       "      <td>2020-09-06</td>\n",
       "      <td>13:15:09</td>\n",
       "      <td>1</td>\n",
       "      <td>1</td>\n",
       "      <td>Car</td>\n",
       "      <td>[('pasta', 1), ('ginger tea', 1), ('pizza', 2)...</td>\n",
       "      <td>20</td>\n",
       "      <td>52.256</td>\n",
       "      <td>6610</td>\n",
       "      <td>16</td>\n",
       "      <td>8.30</td>\n",
       "      <td>7.0637</td>\n",
       "    </tr>\n",
       "    <tr>\n",
       "      <th>2</th>\n",
       "      <td>ORD138059</td>\n",
       "      <td>REST0231</td>\n",
       "      <td>CUST10327</td>\n",
       "      <td>COUR2639</td>\n",
       "      <td>-37.821490</td>\n",
       "      <td>145.005260</td>\n",
       "      <td>2020-09-03</td>\n",
       "      <td>04:13:11</td>\n",
       "      <td>0</td>\n",
       "      <td>0</td>\n",
       "      <td>Car</td>\n",
       "      <td>[('paneer tikka', 3), ('hummus falafel', 1), (...</td>\n",
       "      <td>0</td>\n",
       "      <td>125.560</td>\n",
       "      <td>5855</td>\n",
       "      <td>14</td>\n",
       "      <td>9.01</td>\n",
       "      <td>3.9516</td>\n",
       "    </tr>\n",
       "    <tr>\n",
       "      <th>3</th>\n",
       "      <td>ORD069767</td>\n",
       "      <td>REST0677</td>\n",
       "      <td>CUST04780</td>\n",
       "      <td>COUR3599</td>\n",
       "      <td>-37.804762</td>\n",
       "      <td>144.924148</td>\n",
       "      <td>2020-10-07</td>\n",
       "      <td>01:30:59</td>\n",
       "      <td>0</td>\n",
       "      <td>0</td>\n",
       "      <td>Motorbike</td>\n",
       "      <td>[('bamboo chicken biryani', 1), ('pasta', 2), ...</td>\n",
       "      <td>0</td>\n",
       "      <td>72.030</td>\n",
       "      <td>4051</td>\n",
       "      <td>8</td>\n",
       "      <td>8.59</td>\n",
       "      <td>3.7907</td>\n",
       "    </tr>\n",
       "    <tr>\n",
       "      <th>4</th>\n",
       "      <td>ORD133689</td>\n",
       "      <td>REST0761</td>\n",
       "      <td>CUST00284</td>\n",
       "      <td>COUR0186</td>\n",
       "      <td>-37.800288</td>\n",
       "      <td>144.936736</td>\n",
       "      <td>2020-08-10</td>\n",
       "      <td>16:01:19</td>\n",
       "      <td>0</td>\n",
       "      <td>0</td>\n",
       "      <td>Bike</td>\n",
       "      <td>[('pita bread', 1), ('french fries', 2)]</td>\n",
       "      <td>45</td>\n",
       "      <td>26.675</td>\n",
       "      <td>1878</td>\n",
       "      <td>9</td>\n",
       "      <td>7.45</td>\n",
       "      <td>3.7900</td>\n",
       "    </tr>\n",
       "  </tbody>\n",
       "</table>\n",
       "</div>"
      ],
      "text/plain": [
       "    order_id restaurant_id  ... restaurant_rating delivery_charges\n",
       "0  ORD287671      REST0231  ...              7.21           3.6372\n",
       "1  ORD251937      REST0944  ...              8.30           7.0637\n",
       "2  ORD138059      REST0231  ...              9.01           3.9516\n",
       "3  ORD069767      REST0677  ...              8.59           3.7907\n",
       "4  ORD133689      REST0761  ...              7.45           3.7900\n",
       "\n",
       "[5 rows x 18 columns]"
      ]
     },
     "execution_count": 10,
     "metadata": {},
     "output_type": "execute_result"
    }
   ],
   "source": [
    "# Look at first 5 rows\n",
    "dirty_df.head(5)"
   ]
  },
  {
   "cell_type": "markdown",
   "metadata": {
    "id": "pYh91RMG73Np"
   },
   "source": [
    "We are working with 500 observations and 18 attributes. Next, we further look at data type and basic statistics in each column"
   ]
  },
  {
   "cell_type": "code",
   "execution_count": 11,
   "metadata": {
    "colab": {
     "base_uri": "https://localhost:8080/"
    },
    "id": "K1WWeP6--h1Y",
    "outputId": "94487f74-61a3-406e-89e1-b76e91999a94"
   },
   "outputs": [
    {
     "name": "stdout",
     "output_type": "stream",
     "text": [
      "<class 'pandas.core.frame.DataFrame'>\n",
      "RangeIndex: 500 entries, 0 to 499\n",
      "Data columns (total 18 columns):\n",
      " #   Column                         Non-Null Count  Dtype  \n",
      "---  ------                         --------------  -----  \n",
      " 0   order_id                       500 non-null    object \n",
      " 1   restaurant_id                  500 non-null    object \n",
      " 2   customer_id                    500 non-null    object \n",
      " 3   carrier_id                     500 non-null    object \n",
      " 4   customer_lat                   500 non-null    float64\n",
      " 5   customer_lon                   500 non-null    float64\n",
      " 6   date                           500 non-null    object \n",
      " 7   time                           500 non-null    object \n",
      " 8   is_peak_time                   500 non-null    int64  \n",
      " 9   is_weekend                     500 non-null    int64  \n",
      " 10  carrier_vehicle                500 non-null    object \n",
      " 11  shopping_cart                  500 non-null    object \n",
      " 12  coupon_discount                500 non-null    int64  \n",
      " 13  order_price                    500 non-null    float64\n",
      " 14  shortest_distance_to_customer  500 non-null    int64  \n",
      " 15  travel_time_minutes            500 non-null    int64  \n",
      " 16  restaurant_rating              500 non-null    float64\n",
      " 17  delivery_charges               500 non-null    float64\n",
      "dtypes: float64(5), int64(5), object(8)\n",
      "memory usage: 70.4+ KB\n"
     ]
    }
   ],
   "source": [
    "# Inspect data type in each column\n",
    "dirty_df.info()"
   ]
  },
  {
   "cell_type": "code",
   "execution_count": 12,
   "metadata": {
    "colab": {
     "base_uri": "https://localhost:8080/",
     "height": 0
    },
    "id": "itPi99C7_EmE",
    "outputId": "f4322a14-022c-4055-9a6c-d8bd63c894cf"
   },
   "outputs": [
    {
     "data": {
      "text/html": [
       "<div>\n",
       "<style scoped>\n",
       "    .dataframe tbody tr th:only-of-type {\n",
       "        vertical-align: middle;\n",
       "    }\n",
       "\n",
       "    .dataframe tbody tr th {\n",
       "        vertical-align: top;\n",
       "    }\n",
       "\n",
       "    .dataframe thead th {\n",
       "        text-align: right;\n",
       "    }\n",
       "</style>\n",
       "<table border=\"1\" class=\"dataframe\">\n",
       "  <thead>\n",
       "    <tr style=\"text-align: right;\">\n",
       "      <th></th>\n",
       "      <th>customer_lat</th>\n",
       "      <th>customer_lon</th>\n",
       "      <th>is_peak_time</th>\n",
       "      <th>is_weekend</th>\n",
       "      <th>coupon_discount</th>\n",
       "      <th>order_price</th>\n",
       "      <th>shortest_distance_to_customer</th>\n",
       "      <th>travel_time_minutes</th>\n",
       "      <th>restaurant_rating</th>\n",
       "      <th>delivery_charges</th>\n",
       "    </tr>\n",
       "  </thead>\n",
       "  <tbody>\n",
       "    <tr>\n",
       "      <th>count</th>\n",
       "      <td>500.000000</td>\n",
       "      <td>500.000000</td>\n",
       "      <td>500.000000</td>\n",
       "      <td>500.000000</td>\n",
       "      <td>500.000000</td>\n",
       "      <td>500.000000</td>\n",
       "      <td>500.000000</td>\n",
       "      <td>500.000000</td>\n",
       "      <td>500.000000</td>\n",
       "      <td>500.000000</td>\n",
       "    </tr>\n",
       "    <tr>\n",
       "      <th>mean</th>\n",
       "      <td>-35.619269</td>\n",
       "      <td>142.775957</td>\n",
       "      <td>0.200000</td>\n",
       "      <td>0.288000</td>\n",
       "      <td>15.100000</td>\n",
       "      <td>73.418234</td>\n",
       "      <td>2994.042000</td>\n",
       "      <td>9.626000</td>\n",
       "      <td>7.771980</td>\n",
       "      <td>4.258625</td>\n",
       "    </tr>\n",
       "    <tr>\n",
       "      <th>std</th>\n",
       "      <td>19.920844</td>\n",
       "      <td>19.922089</td>\n",
       "      <td>0.400401</td>\n",
       "      <td>0.453285</td>\n",
       "      <td>18.164523</td>\n",
       "      <td>36.184711</td>\n",
       "      <td>1631.744798</td>\n",
       "      <td>7.234002</td>\n",
       "      <td>1.041874</td>\n",
       "      <td>1.063719</td>\n",
       "    </tr>\n",
       "    <tr>\n",
       "      <th>min</th>\n",
       "      <td>-37.833267</td>\n",
       "      <td>-37.822472</td>\n",
       "      <td>0.000000</td>\n",
       "      <td>0.000000</td>\n",
       "      <td>0.000000</td>\n",
       "      <td>10.890000</td>\n",
       "      <td>94.000000</td>\n",
       "      <td>0.000000</td>\n",
       "      <td>5.960000</td>\n",
       "      <td>2.373200</td>\n",
       "    </tr>\n",
       "    <tr>\n",
       "      <th>25%</th>\n",
       "      <td>-37.818784</td>\n",
       "      <td>144.951949</td>\n",
       "      <td>0.000000</td>\n",
       "      <td>0.000000</td>\n",
       "      <td>0.000000</td>\n",
       "      <td>45.934500</td>\n",
       "      <td>1751.500000</td>\n",
       "      <td>4.750000</td>\n",
       "      <td>6.870000</td>\n",
       "      <td>3.416550</td>\n",
       "    </tr>\n",
       "    <tr>\n",
       "      <th>50%</th>\n",
       "      <td>-37.812772</td>\n",
       "      <td>144.966871</td>\n",
       "      <td>0.000000</td>\n",
       "      <td>0.000000</td>\n",
       "      <td>5.000000</td>\n",
       "      <td>67.617000</td>\n",
       "      <td>2771.500000</td>\n",
       "      <td>8.000000</td>\n",
       "      <td>7.630000</td>\n",
       "      <td>4.113800</td>\n",
       "    </tr>\n",
       "    <tr>\n",
       "      <th>75%</th>\n",
       "      <td>-37.806025</td>\n",
       "      <td>144.985091</td>\n",
       "      <td>0.000000</td>\n",
       "      <td>1.000000</td>\n",
       "      <td>40.000000</td>\n",
       "      <td>98.366000</td>\n",
       "      <td>4052.750000</td>\n",
       "      <td>12.250000</td>\n",
       "      <td>8.590000</td>\n",
       "      <td>4.952375</td>\n",
       "    </tr>\n",
       "    <tr>\n",
       "      <th>max</th>\n",
       "      <td>144.969411</td>\n",
       "      <td>145.020271</td>\n",
       "      <td>1.000000</td>\n",
       "      <td>1.000000</td>\n",
       "      <td>45.000000</td>\n",
       "      <td>224.130000</td>\n",
       "      <td>7689.000000</td>\n",
       "      <td>36.000000</td>\n",
       "      <td>9.540000</td>\n",
       "      <td>7.828400</td>\n",
       "    </tr>\n",
       "  </tbody>\n",
       "</table>\n",
       "</div>"
      ],
      "text/plain": [
       "       customer_lat  customer_lon  ...  restaurant_rating  delivery_charges\n",
       "count    500.000000    500.000000  ...         500.000000        500.000000\n",
       "mean     -35.619269    142.775957  ...           7.771980          4.258625\n",
       "std       19.920844     19.922089  ...           1.041874          1.063719\n",
       "min      -37.833267    -37.822472  ...           5.960000          2.373200\n",
       "25%      -37.818784    144.951949  ...           6.870000          3.416550\n",
       "50%      -37.812772    144.966871  ...           7.630000          4.113800\n",
       "75%      -37.806025    144.985091  ...           8.590000          4.952375\n",
       "max      144.969411    145.020271  ...           9.540000          7.828400\n",
       "\n",
       "[8 rows x 10 columns]"
      ]
     },
     "execution_count": 12,
     "metadata": {},
     "output_type": "execute_result"
    }
   ],
   "source": [
    "# Basic statistics for numerical data\n",
    "dirty_df.describe()"
   ]
  },
  {
   "cell_type": "code",
   "execution_count": 13,
   "metadata": {
    "colab": {
     "base_uri": "https://localhost:8080/",
     "height": 0
    },
    "id": "RK4UJ6-y_ONl",
    "outputId": "dd2d63e1-cd1d-46a0-b6a0-f2b19a88baf9"
   },
   "outputs": [
    {
     "data": {
      "text/html": [
       "<div>\n",
       "<style scoped>\n",
       "    .dataframe tbody tr th:only-of-type {\n",
       "        vertical-align: middle;\n",
       "    }\n",
       "\n",
       "    .dataframe tbody tr th {\n",
       "        vertical-align: top;\n",
       "    }\n",
       "\n",
       "    .dataframe thead th {\n",
       "        text-align: right;\n",
       "    }\n",
       "</style>\n",
       "<table border=\"1\" class=\"dataframe\">\n",
       "  <thead>\n",
       "    <tr style=\"text-align: right;\">\n",
       "      <th></th>\n",
       "      <th>order_id</th>\n",
       "      <th>restaurant_id</th>\n",
       "      <th>customer_id</th>\n",
       "      <th>carrier_id</th>\n",
       "      <th>date</th>\n",
       "      <th>time</th>\n",
       "      <th>carrier_vehicle</th>\n",
       "      <th>shopping_cart</th>\n",
       "    </tr>\n",
       "  </thead>\n",
       "  <tbody>\n",
       "    <tr>\n",
       "      <th>count</th>\n",
       "      <td>500</td>\n",
       "      <td>500</td>\n",
       "      <td>500</td>\n",
       "      <td>500</td>\n",
       "      <td>500</td>\n",
       "      <td>500</td>\n",
       "      <td>500</td>\n",
       "      <td>500</td>\n",
       "    </tr>\n",
       "    <tr>\n",
       "      <th>unique</th>\n",
       "      <td>500</td>\n",
       "      <td>5</td>\n",
       "      <td>490</td>\n",
       "      <td>467</td>\n",
       "      <td>289</td>\n",
       "      <td>280</td>\n",
       "      <td>6</td>\n",
       "      <td>493</td>\n",
       "    </tr>\n",
       "    <tr>\n",
       "      <th>top</th>\n",
       "      <td>ORD176013</td>\n",
       "      <td>REST0231</td>\n",
       "      <td>CUST06645</td>\n",
       "      <td>COUR3366</td>\n",
       "      <td>2020-04-28</td>\n",
       "      <td>19:27:01</td>\n",
       "      <td>Bike</td>\n",
       "      <td>[('brownie', 2), ('buttermilk', 3)]</td>\n",
       "    </tr>\n",
       "    <tr>\n",
       "      <th>freq</th>\n",
       "      <td>1</td>\n",
       "      <td>115</td>\n",
       "      <td>2</td>\n",
       "      <td>3</td>\n",
       "      <td>6</td>\n",
       "      <td>7</td>\n",
       "      <td>175</td>\n",
       "      <td>2</td>\n",
       "    </tr>\n",
       "  </tbody>\n",
       "</table>\n",
       "</div>"
      ],
      "text/plain": [
       "         order_id  ...                        shopping_cart\n",
       "count         500  ...                                  500\n",
       "unique        500  ...                                  493\n",
       "top     ORD176013  ...  [('brownie', 2), ('buttermilk', 3)]\n",
       "freq            1  ...                                    2\n",
       "\n",
       "[4 rows x 8 columns]"
      ]
     },
     "execution_count": 13,
     "metadata": {},
     "output_type": "execute_result"
    }
   ],
   "source": [
    "# Basic statistics for categorical data\n",
    "dirty_df.describe(include= 'O')"
   ]
  },
  {
   "cell_type": "markdown",
   "metadata": {
    "id": "4RKIX-rGJgoe"
   },
   "source": [
    "According to specification,  numerical and categorical statistics summary, we found that:\n",
    "\n",
    "- Max customer_lat  is unreasonably high (144.969411). Melbourn latitude is around - 37.8 and maximum possible latutude is 90, so we suspect this column to contain anomaly (maybe swap between latitude and longtitude)\n",
    "\n",
    "- Min customer_lon is unreasonably low (-37.822472). Melbourn longtitude is around 144.96. Having too low longtitude is suspicious\n",
    "\n",
    "- is_peak_time is a boolean denoting if order is delivered during peak time (Peak periods are the intervals 12:00:00pm - 1:59:59pm and 6:00:00pm - 7:59:59pm). we can investigate further whether this flag is contradict to time or not. The current statistics indicates that 20% of the order occured during peak time.\n",
    "\n",
    "- is_weekend is a boolean denoting if order is delivered on a weekend (Saturday\n",
    "or Sunday). we can investigate further whether this flag is contradict to date or not. The current statistics indicates that 29% of the order occured during weekend.\n",
    "\n",
    "- coupon_discount is an integer denoting the percentage discount to be applied to the order. One of [0, 10, 20, 40, 45]. We have to make sure that the values are in the domain\n",
    "\n",
    "- Order price is a price of items in shopping cart after applying coupon discount.\n",
    "\n",
    "- Shortest Distance to Customer is derived from Dijkstra algorithm based on the nodes and edges found in node.csv and edges so we can calculate these values and match those to the shortest distance to customer.\n",
    "\n",
    "- Travel time minutes is derived from carrier vehicle type and distance from restaurant to customer\n",
    "\n",
    "- Delivery charges are assumed to be error-free refered to the forum https://edstem.org/au/courses/6037/discussion/604989\n",
    "\n",
    "\n",
    "- order_id, restaurant_id, customer_id, carrier_id are assumed to be error-free refered to the forum https://edstem.org/au/courses/6037/discussion/604989\n",
    "\n",
    "- Date is supposed to be in YYYY-MM-DD format. We can check for consistency of the format\n",
    "\n",
    "- Time is supposed to be in HH:MM:SS format. We can check for consistency of the format\n",
    "\n",
    "- Carrier Vehicle specified the data dictionary stated only 3 vehicle types (Bike, Motorbike, Car), but summary statistics show 6 unique types so we have to check further.\n",
    "\n",
    "- Shopping cart is assumed to be error-free\n"
   ]
  },
  {
   "cell_type": "markdown",
   "metadata": {
    "id": "Ke_ZenzxM7D2"
   },
   "source": [
    "###1.2 Checking ID Columns (order_id, restaurant_id,customer_id,carrier_id, carrier_id)"
   ]
  },
  {
   "cell_type": "markdown",
   "metadata": {
    "id": "UCCrRXTnNmG_"
   },
   "source": [
    "- **Checking duplication for primary key (order_id)  since it mentions in the data dictionary that each row should represent each order** - No duplication due to the table in EDA part, which count and unique values are equivalent (500)"
   ]
  },
  {
   "cell_type": "markdown",
   "metadata": {
    "id": "nDsR0ZIVOdMv"
   },
   "source": [
    "- **Checking for consistency of data format of all ID columns**   "
   ]
  },
  {
   "cell_type": "code",
   "execution_count": 14,
   "metadata": {
    "colab": {
     "base_uri": "https://localhost:8080/"
    },
    "id": "a7OIz3JqxoKp",
    "outputId": "7d00579c-a5e0-43d6-9a77-5041027b5eec"
   },
   "outputs": [
    {
     "name": "stdout",
     "output_type": "stream",
     "text": [
      "order_id\n",
      "ORD176013    1\n",
      "ORD046146    1\n",
      "ORD327796    1\n",
      "ORD173211    1\n",
      "ORD330719    1\n",
      "Name: order_id, dtype: int64\n",
      "\n",
      "restaurant_id\n",
      "REST0231    115\n",
      "REST0677    105\n",
      "REST0944     99\n",
      "REST0761     93\n",
      "REST0423     88\n",
      "Name: restaurant_id, dtype: int64\n",
      "\n",
      "customer_id\n",
      "CUST06645    2\n",
      "CUST08193    2\n",
      "CUST11437    2\n",
      "CUST07901    2\n",
      "CUST12414    2\n",
      "CUST01503    2\n",
      "CUST01254    2\n",
      "CUST05816    2\n",
      "CUST04138    2\n",
      "CUST00208    2\n",
      "CUST09353    1\n",
      "Name: customer_id, dtype: int64\n",
      "\n",
      "carrier_id\n",
      "COUR3366    3\n",
      "COUR3664    2\n",
      "COUR4267    2\n",
      "COUR0192    2\n",
      "COUR1688    2\n",
      "Name: carrier_id, dtype: int64\n"
     ]
    }
   ],
   "source": [
    "# Print example data of each ID column to get a sense of data format along with\n",
    "# number of occurance sorted descending. \n",
    "print('order_id')\n",
    "print(dirty_df['order_id'].value_counts().head(),end='\\n\\n')\n",
    "\n",
    "print('restaurant_id')\n",
    "print(dirty_df['restaurant_id'].value_counts().head(),end='\\n\\n')\n",
    "\n",
    "print('customer_id')\n",
    "print(dirty_df['customer_id'].value_counts().head(11),end='\\n\\n')\n",
    "\n",
    "print('carrier_id')\n",
    "print(dirty_df['carrier_id'].value_counts().head(5))"
   ]
  },
  {
   "cell_type": "code",
   "execution_count": 15,
   "metadata": {
    "colab": {
     "base_uri": "https://localhost:8080/"
    },
    "id": "G0HuZFnMPXtC",
    "outputId": "89ef2ea5-a941-45fc-9148-f3b43f218c32"
   },
   "outputs": [
    {
     "name": "stdout",
     "output_type": "stream",
     "text": [
      "True    500\n",
      "Name: order_id, dtype: int64\n",
      "True    500\n",
      "Name: restaurant_id, dtype: int64\n",
      "True    500\n",
      "Name: customer_id, dtype: int64\n",
      "True    500\n",
      "Name: carrier_id, dtype: int64\n"
     ]
    }
   ],
   "source": [
    "# Check whether all order_id follow the same format or not\n",
    "print(dirty_df['order_id'].apply(lambda x : True if re.fullmatch(r'ORD\\d{6}',x) else False).value_counts())\n",
    "print(dirty_df['restaurant_id'].apply(lambda x : True if re.fullmatch(r'REST\\d{4}',x) else False).value_counts())\n",
    "print(dirty_df['customer_id'].apply(lambda x : True if re.fullmatch(r'CUST\\d{5}',x) else False).value_counts())\n",
    "print(dirty_df['carrier_id'].apply(lambda x : True if re.fullmatch(r'COUR\\d{4}',x) else False).value_counts())\n"
   ]
  },
  {
   "cell_type": "markdown",
   "metadata": {
    "id": "sXwYIaCHAD0A"
   },
   "source": [
    "There is no error in ID columns"
   ]
  },
  {
   "cell_type": "markdown",
   "metadata": {
    "id": "ZZrJQ6JFQUit"
   },
   "source": [
    "###1.3 Checking Customer's Latitude and Longtitude Columns"
   ]
  },
  {
   "cell_type": "markdown",
   "metadata": {
    "id": "9ZsGK-D5wKEQ"
   },
   "source": [
    "From the EDA section we found that :\n",
    "\n",
    "- Max customer_lat is unreasonably high (144.969411). Melbourn latitude is around 37.8 and maximum possible latutude is 90, so we suspect this column to contain anomaly (maybe swap between latitude and longtitude)\n",
    "\n",
    "- Min customer_lon is unreasonably low (-37.822472). Melbourn longtitude is around 144.96. Having too low longtitude is suspicious"
   ]
  },
  {
   "cell_type": "code",
   "execution_count": 16,
   "metadata": {
    "colab": {
     "base_uri": "https://localhost:8080/",
     "height": 0
    },
    "id": "-y91SJmJ1dq3",
    "outputId": "ce906f4b-5ac8-45a6-8df6-2d850f1809c8"
   },
   "outputs": [
    {
     "data": {
      "text/plain": [
       "<matplotlib.axes._subplots.AxesSubplot at 0x7fd9a1fe5e90>"
      ]
     },
     "execution_count": 16,
     "metadata": {},
     "output_type": "execute_result"
    },
    {
     "data": {
      "image/png": "[encoded data removed]",
      "text/plain": [
       "<Figure size 432x288 with 1 Axes>"
      ]
     },
     "metadata": {
      "needs_background": "light"
     },
     "output_type": "display_data"
    }
   ],
   "source": [
    "# Show boxplot of customer_lat and customer_lon\n",
    "dirty_df[['customer_lat','customer_lon']].boxplot()"
   ]
  },
  {
   "cell_type": "code",
   "execution_count": 17,
   "metadata": {
    "colab": {
     "base_uri": "https://localhost:8080/"
    },
    "id": "j0Zr_nfg2WM7",
    "outputId": "262d2083-5165-4d61-fad7-2d9b97e56432"
   },
   "outputs": [
    {
     "name": "stdout",
     "output_type": "stream",
     "text": [
      "      order_id  customer_lat  customer_lon\n",
      "76   ORD296239    144.948589    -37.800020\n",
      "141  ORD157228    144.956536    -37.811791\n",
      "281  ORD049480    144.969411    -37.822472\n",
      "385  ORD131469    144.957766    -37.800658\n",
      "393  ORD068595    144.953359    -37.812306\n",
      "460  ORD146532    144.956734    -37.822105\n",
      "      order_id  customer_lat  customer_lon\n",
      "76   ORD296239    144.948589    -37.800020\n",
      "141  ORD157228    144.956536    -37.811791\n",
      "281  ORD049480    144.969411    -37.822472\n",
      "385  ORD131469    144.957766    -37.800658\n",
      "393  ORD068595    144.953359    -37.812306\n",
      "460  ORD146532    144.956734    -37.822105\n"
     ]
    }
   ],
   "source": [
    "# Print data that looks suspicious for customer_lat (have extreme value)  \n",
    "print(dirty_df.loc[dirty_df['customer_lat'] > 0,['order_id','customer_lat','customer_lon']])\n",
    "\n",
    "# Print data that looks suspicious for customer_lon (have extreme value)\n",
    "print(dirty_df.loc[dirty_df['customer_lon'] < 0,['order_id','customer_lat','customer_lon']])"
   ]
  },
  {
   "cell_type": "markdown",
   "metadata": {
    "id": "t6vP7JHB5Gn8"
   },
   "source": [
    "**## Error 1 : Extreme values for customer_lat and customer_lon (suspicious to be swapped between lat and lon) ##**\n"
   ]
  },
  {
   "cell_type": "markdown",
   "metadata": {
    "id": "DAvA3iiL99sZ"
   },
   "source": [
    "**Fix 1 : Swapping values between customer_lat and customer_lon**\n",
    "\n",
    "- Create conditions for the row that we want to swap lat and lon (customer latitude and longtitude to be greater than and less than 0.) \n",
    "\n",
    "- Swap the columns for the specified rows based on swap conditions\n",
    "\n",
    "- Recheck customer latitude and longtitude again after swaping visually and numerically"
   ]
  },
  {
   "cell_type": "code",
   "execution_count": 18,
   "metadata": {
    "id": "p2TrXIw_3kE5"
   },
   "outputs": [],
   "source": [
    "# Create conditions for the row that we want to swap lat and lon \n",
    "swap_conditions = (dirty_df['customer_lat'] > 0) & (dirty_df['customer_lon'] < 0)\n",
    "\n",
    "# Swap lat and lon for the specified rows \n",
    "dirty_df.loc[swap_conditions,['customer_lat','customer_lon']] = (dirty_df.loc[swap_conditions,['customer_lon','customer_lat']].values)"
   ]
  },
  {
   "cell_type": "code",
   "execution_count": 19,
   "metadata": {
    "colab": {
     "base_uri": "https://localhost:8080/",
     "height": 0
    },
    "id": "VwdKQp6G9bvu",
    "outputId": "724d0e4d-9f32-4610-c287-3d9ac0a87927"
   },
   "outputs": [
    {
     "data": {
      "text/plain": [
       "<matplotlib.axes._subplots.AxesSubplot at 0x7fd9a1a99910>"
      ]
     },
     "execution_count": 19,
     "metadata": {},
     "output_type": "execute_result"
    },
    {
     "data": {
      "image/png": "[encoded data removed]",
      "text/plain": [
       "<Figure size 432x288 with 1 Axes>"
      ]
     },
     "metadata": {
      "needs_background": "light"
     },
     "output_type": "display_data"
    }
   ],
   "source": [
    "# Show boxplot of customer_lat and customer_lon\n",
    "dirty_df[['customer_lat']].boxplot()"
   ]
  },
  {
   "cell_type": "code",
   "execution_count": 20,
   "metadata": {
    "colab": {
     "base_uri": "https://localhost:8080/",
     "height": 0
    },
    "id": "L6J_8z1k9rBW",
    "outputId": "6315b109-166a-41d4-d242-8d8421b438a5"
   },
   "outputs": [
    {
     "data": {
      "text/plain": [
       "<matplotlib.axes._subplots.AxesSubplot at 0x7fd9a1a93ed0>"
      ]
     },
     "execution_count": 20,
     "metadata": {},
     "output_type": "execute_result"
    },
    {
     "data": {
      "image/png": "[encoded data removed]",
      "text/plain": [
       "<Figure size 432x288 with 1 Axes>"
      ]
     },
     "metadata": {
      "needs_background": "light"
     },
     "output_type": "display_data"
    }
   ],
   "source": [
    "# Show boxplot of customer_lat and customer_lon\n",
    "dirty_df[['customer_lon']].boxplot()"
   ]
  },
  {
   "cell_type": "code",
   "execution_count": 21,
   "metadata": {
    "colab": {
     "base_uri": "https://localhost:8080/"
    },
    "id": "hl9CRhCL8p3j",
    "outputId": "dc350fd6-9643-4175-9f14-552b22f96349"
   },
   "outputs": [
    {
     "name": "stdout",
     "output_type": "stream",
     "text": [
      "Empty DataFrame\n",
      "Columns: [order_id, customer_lat, customer_lon]\n",
      "Index: []\n",
      "Empty DataFrame\n",
      "Columns: [order_id, customer_lat, customer_lon]\n",
      "Index: []\n"
     ]
    }
   ],
   "source": [
    "# Print data that looks suspicious for customer_lat (No more extreme value)  \n",
    "print(dirty_df.loc[dirty_df['customer_lat'] > 0,['order_id','customer_lat','customer_lon']])\n",
    "\n",
    "# Print data that looks suspicious for customer_lon (No more extreme value)\n",
    "print(dirty_df.loc[dirty_df['customer_lon'] < 0,['order_id','customer_lat','customer_lon']])"
   ]
  },
  {
   "cell_type": "markdown",
   "metadata": {
    "id": "gcpqMv0bV3Cq"
   },
   "source": [
    "###1.4 Checking Date and Time Columns"
   ]
  },
  {
   "cell_type": "markdown",
   "metadata": {
    "id": "S1lz3eNrJW7r"
   },
   "source": [
    "The date and time are supposed to follow the formats specified in the data dictionary. which are :\n",
    "\n",
    "-  YYYY-MM-DD format for date column\n",
    "\n",
    "- HH:MM:SS format for time column\n",
    "\n",
    "Therefore, we initally perform date format checking "
   ]
  },
  {
   "cell_type": "markdown",
   "metadata": {
    "id": "WPFmV66I0iz7"
   },
   "source": [
    "**Date Format Checking**"
   ]
  },
  {
   "cell_type": "code",
   "execution_count": 22,
   "metadata": {
    "colab": {
     "base_uri": "https://localhost:8080/"
    },
    "id": "S4b2QUMRPoHS",
    "outputId": "df072028-2a78-473f-e838-ebfb05e36164"
   },
   "outputs": [
    {
     "data": {
      "text/plain": [
       "True     490\n",
       "False     10\n",
       "Name: date, dtype: int64"
      ]
     },
     "execution_count": 22,
     "metadata": {},
     "output_type": "execute_result"
    }
   ],
   "source": [
    "# Check for date format errors\n",
    "\n",
    "# Regex pattern that matches correct date format\n",
    "correct_format_regex= r'\\d{4}-(?:0\\d|1[0-2])-(?:[0-3]\\d)'\n",
    "\n",
    "# Check whether each date rows follow the correct format or not\n",
    "is_correct_format = dirty_df['date'].apply(lambda x : True if re.fullmatch(correct_format_regex,x) else False)\n",
    "\n",
    "# Show the number of dates that follows correct(True) and incorrect format(False)\n",
    "is_correct_format.value_counts()"
   ]
  },
  {
   "cell_type": "code",
   "execution_count": 23,
   "metadata": {
    "colab": {
     "base_uri": "https://localhost:8080/"
    },
    "id": "4YlWBLd4Tlf_",
    "outputId": "5e3430d7-96fc-427c-a31c-f03191370f51"
   },
   "outputs": [
    {
     "name": "stdout",
     "output_type": "stream",
     "text": [
      "10                   2020-25-05\n",
      "28                   2020-19-07\n",
      "30                  2020-Aug-07\n",
      "97                   2020-14-01\n",
      "182                  2020-15-02\n",
      "189                  2020-24-02\n",
      "299    Thu Dec 10 00:00:00 2020\n",
      "382    Fri Dec 11 00:00:00 2020\n",
      "424                 2020-Apr-07\n",
      "495                  2020-24-07\n",
      "Name: date, dtype: object\n"
     ]
    }
   ],
   "source": [
    "# Show dates that do not follow correct format\n",
    "incorrect_format_date = dirty_df.loc[-is_correct_format,'date']\n",
    "print(incorrect_format_date)"
   ]
  },
  {
   "cell_type": "markdown",
   "metadata": {
    "id": "R73UryEC01ly"
   },
   "source": [
    "**## Error 2 : Inconsistent date format##**"
   ]
  },
  {
   "cell_type": "markdown",
   "metadata": {
    "id": "MubYkyCo3h8M"
   },
   "source": [
    "**Fix 2 : Identifying all existing date formats and replacing with the correct one (YYYY-MM-DD )**"
   ]
  },
  {
   "cell_type": "markdown",
   "metadata": {
    "id": "SXSeTIMWVkEF"
   },
   "source": [
    "After we detect some format error, we have to identify all existing date format in the dataset, which does not match to the correct format. The incorrect formats are :\n",
    "\n",
    "- YYYY-DD-MM (2020-25-05)\n",
    "\n",
    "- YYYY-Mon-DD (2020-Aug-07)\n",
    "\n",
    "- ddd Mon hh mm:ss.s YYYY (Thu Dec 10 00:00:00 2020)\n",
    "\n",
    "To change the date format, we perform several steps :\n",
    "\n",
    " - Identify patterns and match incorrect format dates using regular expression\n",
    " - Fix the date formats utilising datetime datatype and replace with the correct format\n",
    " - Recheck the date format after fixing"
   ]
  },
  {
   "cell_type": "code",
   "execution_count": 24,
   "metadata": {
    "id": "j81-XrZWMrYs"
   },
   "outputs": [],
   "source": [
    "# Identify patterns and match incorrect format dates \n",
    "\n",
    "# Write regular expression for each format specified above\n",
    "YYYY_DD_MM_regex= r'\\d{4}-(?:[0-3]\\d)-(?:0\\d|1[0-2])'\n",
    "YYYY_Mon_DD_regex = r'\\d{4}-(?:\\w{3})-(?:[0-3]\\d)'\n",
    "withtime_regex = r'\\w{3} \\w{3} \\d{2} \\d{2}:\\d{2}:\\d{2} \\d{4}'\n",
    "\n",
    "# Match dates that have incorrect format and follow YYYY-DD-MM format \n",
    "YYYY_DD_MM_format = dirty_df['date'].apply(lambda x : True if re.fullmatch(YYYY_DD_MM_regex,x)  else False)\n",
    "YYYY_DD_MM_format = ((YYYY_DD_MM_format) & (-is_correct_format))\n",
    "\n",
    "# Match dates that have incorrect format and follow YYYY-Mon-DD format\n",
    "YYYY_Mon_DD_format = dirty_df['date'].apply(lambda x : True if re.fullmatch(YYYY_Mon_DD_regex,x) else False)\n",
    "YYYY_Mon_DD_format = ((YYYY_Mon_DD_format) & (-is_correct_format))\n",
    "\n",
    "# Match dates that have incorrect format and ddd Mon hh mm:ss.s YYYY format \n",
    "# or Locale’s appropriate date and time representation (%c for Python)\n",
    "withtime_format = dirty_df['date'].apply(lambda x : True if re.fullmatch(withtime_regex,x) else False)\n",
    "withtime_format = ((withtime_format) & (-is_correct_format))\n",
    "\n",
    "\n"
   ]
  },
  {
   "cell_type": "code",
   "execution_count": 25,
   "metadata": {
    "id": "sSPQijR5nHuh"
   },
   "outputs": [],
   "source": [
    "# Fix the date formats \n",
    "\n",
    "# Replace YYYY-DD-MM with YYYY-MM-DD format\n",
    "dirty_df.loc[YYYY_DD_MM_format,'date'] =pd.to_datetime(dirty_df['date'][YYYY_DD_MM_format], \n",
    "                                                       format='%Y-%d-%m').dt.strftime(\"%Y-%m-%d\")\n",
    "\n",
    "# Replace YYYY-Mon-DD with YYYY-MM-DD format\n",
    "dirty_df.loc[YYYY_Mon_DD_format,'date'] =pd.to_datetime(dirty_df['date'][YYYY_Mon_DD_format],\n",
    "                                                        format='%Y-%b-%d').dt.strftime(\"%Y-%m-%d\")\n",
    "                                                        \n",
    "# Replace Locale’s appropriate date and time representation with YYYY-MM-DD format\n",
    "dirty_df.loc[withtime_format,'date'] =pd.to_datetime(dirty_df['date'][withtime_format],\n",
    "                                                     format='%c').dt.strftime(\"%Y-%m-%d\")"
   ]
  },
  {
   "cell_type": "code",
   "execution_count": 26,
   "metadata": {
    "colab": {
     "base_uri": "https://localhost:8080/"
    },
    "id": "VxAmOinFytB3",
    "outputId": "aaf7bd1e-1281-485b-e00f-8d72242cc4c3"
   },
   "outputs": [
    {
     "name": "stdout",
     "output_type": "stream",
     "text": [
      "           date\n",
      "10   2020-05-25\n",
      "28   2020-07-19\n",
      "30   2020-08-07\n",
      "97   2020-01-14\n",
      "182  2020-02-15\n",
      "189  2020-02-24\n",
      "299  2020-12-10\n",
      "382  2020-12-11\n",
      "424  2020-04-07\n",
      "495  2020-07-24\n"
     ]
    }
   ],
   "source": [
    "# Show the format of dates that we just fixed\n",
    "print(dirty_df.loc[-is_correct_format,['date']])"
   ]
  },
  {
   "cell_type": "code",
   "execution_count": 27,
   "metadata": {
    "colab": {
     "base_uri": "https://localhost:8080/"
    },
    "id": "GZNDQzdCwsNH",
    "outputId": "3deef9d9-9207-46d7-9639-bff9437d617d"
   },
   "outputs": [
    {
     "data": {
      "text/plain": [
       "True    500\n",
       "Name: date, dtype: int64"
      ]
     },
     "execution_count": 27,
     "metadata": {},
     "output_type": "execute_result"
    }
   ],
   "source": [
    "# Recheck that date format is already consistent\n",
    "\n",
    "# Check again whether each date rows follow the correct format or not\n",
    "dirty_df['date'].apply(lambda x : True if re.fullmatch(correct_format_regex,x) else False).value_counts()"
   ]
  },
  {
   "cell_type": "markdown",
   "metadata": {
    "id": "vCJ3cO_U3B-8"
   },
   "source": [
    "**Time Format Checking**"
   ]
  },
  {
   "cell_type": "code",
   "execution_count": 28,
   "metadata": {
    "colab": {
     "base_uri": "https://localhost:8080/"
    },
    "id": "BR3plo-72B1o",
    "outputId": "13014167-53f1-4280-f24a-5e9dfadd93ed"
   },
   "outputs": [
    {
     "data": {
      "text/plain": [
       "True    500\n",
       "Name: time, dtype: int64"
      ]
     },
     "execution_count": 28,
     "metadata": {},
     "output_type": "execute_result"
    }
   ],
   "source": [
    "# Check for time format errors\n",
    "\n",
    "# Regex pattern that matches correct date format\n",
    "correct_time_format_regex= r'[0-2]\\d:[0-6]\\d:[0-6]\\d'\n",
    "\n",
    "# Check whether each date rows follow the correct format or not\n",
    "is_correct_time_format = dirty_df['time'].apply(lambda x : True if re.fullmatch(correct_time_format_regex,x) else False)\n",
    "\n",
    "# Show the number of dates that follows correct(True) and incorrect format(False)\n",
    "is_correct_time_format.value_counts()"
   ]
  },
  {
   "cell_type": "markdown",
   "metadata": {
    "id": "CK_9nx6R3NF8"
   },
   "source": [
    "There is no format inconsistency in time column"
   ]
  },
  {
   "cell_type": "markdown",
   "metadata": {
    "id": "1o7Sp-rqI_Ox"
   },
   "source": [
    "###1.5 Checking Boolean Columns Derived from Data and Time (is_peak_time, is_weekend)"
   ]
  },
  {
   "cell_type": "markdown",
   "metadata": {
    "id": "XmYoh22V3_CH"
   },
   "source": [
    "As we know that these two columns are dependent to date and time columns, we want to check sematic anomaly in this part, which is contradiction. "
   ]
  },
  {
   "cell_type": "markdown",
   "metadata": {
    "id": "APV-LBS14aFc"
   },
   "source": [
    "**Checking between is_weekend column from and is_weekend derived from date column**\n",
    "\n",
    "- Convert date column to date format and store to new variable\n",
    "- Create new df for is_weekend checking\n",
    "- Add date columns from dirty_df\n",
    "- Add day_of_week column extracted from date variable(datetime type)\n",
    "- Flag is_weekend from the day of week column\n",
    "- Add is_weekend column from the dirty_df\n",
    "- Compare the results "
   ]
  },
  {
   "cell_type": "code",
   "execution_count": 29,
   "metadata": {
    "colab": {
     "base_uri": "https://localhost:8080/",
     "height": 0
    },
    "id": "s2xQqJsS_Ps5",
    "outputId": "8969e433-8ee7-447f-829a-a2ca1cae490e"
   },
   "outputs": [
    {
     "data": {
      "text/html": [
       "<div>\n",
       "<style scoped>\n",
       "    .dataframe tbody tr th:only-of-type {\n",
       "        vertical-align: middle;\n",
       "    }\n",
       "\n",
       "    .dataframe tbody tr th {\n",
       "        vertical-align: top;\n",
       "    }\n",
       "\n",
       "    .dataframe thead th {\n",
       "        text-align: right;\n",
       "    }\n",
       "</style>\n",
       "<table border=\"1\" class=\"dataframe\">\n",
       "  <thead>\n",
       "    <tr style=\"text-align: right;\">\n",
       "      <th>is_weekend</th>\n",
       "      <th>0</th>\n",
       "      <th>1</th>\n",
       "    </tr>\n",
       "    <tr>\n",
       "      <th>is_weekend_from_day_of_week</th>\n",
       "      <th></th>\n",
       "      <th></th>\n",
       "    </tr>\n",
       "  </thead>\n",
       "  <tbody>\n",
       "    <tr>\n",
       "      <th>0</th>\n",
       "      <td>353</td>\n",
       "      <td>2</td>\n",
       "    </tr>\n",
       "    <tr>\n",
       "      <th>1</th>\n",
       "      <td>3</td>\n",
       "      <td>142</td>\n",
       "    </tr>\n",
       "  </tbody>\n",
       "</table>\n",
       "</div>"
      ],
      "text/plain": [
       "is_weekend                     0    1\n",
       "is_weekend_from_day_of_week          \n",
       "0                            353    2\n",
       "1                              3  142"
      ]
     },
     "execution_count": 29,
     "metadata": {},
     "output_type": "execute_result"
    }
   ],
   "source": [
    "# Convert date column to date format and store to new variable\n",
    "date = pd.to_datetime(dirty_df['date'],format='%Y-%m-%d')\n",
    "\n",
    "# Create new df for is_weekend checking\n",
    "is_weekend_check_df = pd.DataFrame()\n",
    "\n",
    "# Add date columns from dirty_df\n",
    "is_weekend_check_df['date'] = dirty_df['date']\n",
    "\n",
    "# Add day_of_week column extracted from date variable(datetime type)\n",
    "is_weekend_check_df['day_of_week'] = date.dt.dayofweek\n",
    "\n",
    "# Flag is_weekend from the day of week column\n",
    "is_weekend_check_df['is_weekend_from_day_of_week'] = np.where(is_weekend_check_df['day_of_week'].isin([5,6]),1,0)\n",
    "\n",
    "# add is_weekend from the dirty_df\n",
    "is_weekend_check_df['is_weekend_from_dirty_df'] = dirty_df['is_weekend']\n",
    "\n",
    "# compare the results \n",
    "pd.crosstab(is_weekend_check_df['is_weekend_from_day_of_week'],dirty_df['is_weekend'])\n"
   ]
  },
  {
   "cell_type": "code",
   "execution_count": 30,
   "metadata": {
    "colab": {
     "base_uri": "https://localhost:8080/",
     "height": 0
    },
    "id": "n--0cNEcJWyw",
    "outputId": "477c1c2a-742a-40aa-f59f-cddee9b32c86"
   },
   "outputs": [
    {
     "data": {
      "text/html": [
       "<div>\n",
       "<style scoped>\n",
       "    .dataframe tbody tr th:only-of-type {\n",
       "        vertical-align: middle;\n",
       "    }\n",
       "\n",
       "    .dataframe tbody tr th {\n",
       "        vertical-align: top;\n",
       "    }\n",
       "\n",
       "    .dataframe thead th {\n",
       "        text-align: right;\n",
       "    }\n",
       "</style>\n",
       "<table border=\"1\" class=\"dataframe\">\n",
       "  <thead>\n",
       "    <tr style=\"text-align: right;\">\n",
       "      <th></th>\n",
       "      <th>date</th>\n",
       "      <th>day_of_week</th>\n",
       "      <th>is_weekend_from_day_of_week</th>\n",
       "      <th>is_weekend_from_dirty_df</th>\n",
       "    </tr>\n",
       "  </thead>\n",
       "  <tbody>\n",
       "    <tr>\n",
       "      <th>74</th>\n",
       "      <td>2020-07-24</td>\n",
       "      <td>4</td>\n",
       "      <td>0</td>\n",
       "      <td>1</td>\n",
       "    </tr>\n",
       "    <tr>\n",
       "      <th>205</th>\n",
       "      <td>2020-08-22</td>\n",
       "      <td>5</td>\n",
       "      <td>1</td>\n",
       "      <td>0</td>\n",
       "    </tr>\n",
       "    <tr>\n",
       "      <th>266</th>\n",
       "      <td>2020-03-12</td>\n",
       "      <td>3</td>\n",
       "      <td>0</td>\n",
       "      <td>1</td>\n",
       "    </tr>\n",
       "    <tr>\n",
       "      <th>371</th>\n",
       "      <td>2020-05-16</td>\n",
       "      <td>5</td>\n",
       "      <td>1</td>\n",
       "      <td>0</td>\n",
       "    </tr>\n",
       "    <tr>\n",
       "      <th>455</th>\n",
       "      <td>2020-02-08</td>\n",
       "      <td>5</td>\n",
       "      <td>1</td>\n",
       "      <td>0</td>\n",
       "    </tr>\n",
       "  </tbody>\n",
       "</table>\n",
       "</div>"
      ],
      "text/plain": [
       "           date  ...  is_weekend_from_dirty_df\n",
       "74   2020-07-24  ...                         1\n",
       "205  2020-08-22  ...                         0\n",
       "266  2020-03-12  ...                         1\n",
       "371  2020-05-16  ...                         0\n",
       "455  2020-02-08  ...                         0\n",
       "\n",
       "[5 rows x 4 columns]"
      ]
     },
     "execution_count": 30,
     "metadata": {},
     "output_type": "execute_result"
    }
   ],
   "source": [
    "# Create criteria if is_weekend_from_day_of_week is not equal to is_weekend from the dirty_df\n",
    "wrong_is_weekend = is_weekend_check_df['is_weekend_from_day_of_week'] != is_weekend_check_df['is_weekend_from_dirty_df']\n",
    "\n",
    "# Show the records that have different is_weekend \n",
    "is_weekend_check_df[wrong_is_weekend]"
   ]
  },
  {
   "cell_type": "markdown",
   "metadata": {
    "id": "vyGsHP1-5Ihv"
   },
   "source": [
    "**## Error 3 : Contradiction between is_weekend and date##**"
   ]
  },
  {
   "cell_type": "markdown",
   "metadata": {
    "id": "y-j8bomy7BQk"
   },
   "source": [
    "**Fix 3: Replace is_weekend that is extracted from the date to the wrong is_weekend**\n",
    "\n",
    "- Replace is_weekend that is extracted from the date to the wrong is_weekend\n",
    "- Recheck the results"
   ]
  },
  {
   "cell_type": "code",
   "execution_count": 31,
   "metadata": {
    "colab": {
     "base_uri": "https://localhost:8080/",
     "height": 0
    },
    "id": "eGs0bd6WFgh-",
    "outputId": "4494a5ac-db1c-40df-c43b-11dcd9de13bd"
   },
   "outputs": [
    {
     "data": {
      "text/html": [
       "<div>\n",
       "<style scoped>\n",
       "    .dataframe tbody tr th:only-of-type {\n",
       "        vertical-align: middle;\n",
       "    }\n",
       "\n",
       "    .dataframe tbody tr th {\n",
       "        vertical-align: top;\n",
       "    }\n",
       "\n",
       "    .dataframe thead th {\n",
       "        text-align: right;\n",
       "    }\n",
       "</style>\n",
       "<table border=\"1\" class=\"dataframe\">\n",
       "  <thead>\n",
       "    <tr style=\"text-align: right;\">\n",
       "      <th>is_weekend</th>\n",
       "      <th>0</th>\n",
       "      <th>1</th>\n",
       "    </tr>\n",
       "    <tr>\n",
       "      <th>is_weekend_from_day_of_week</th>\n",
       "      <th></th>\n",
       "      <th></th>\n",
       "    </tr>\n",
       "  </thead>\n",
       "  <tbody>\n",
       "    <tr>\n",
       "      <th>0</th>\n",
       "      <td>355</td>\n",
       "      <td>0</td>\n",
       "    </tr>\n",
       "    <tr>\n",
       "      <th>1</th>\n",
       "      <td>0</td>\n",
       "      <td>145</td>\n",
       "    </tr>\n",
       "  </tbody>\n",
       "</table>\n",
       "</div>"
      ],
      "text/plain": [
       "is_weekend                     0    1\n",
       "is_weekend_from_day_of_week          \n",
       "0                            355    0\n",
       "1                              0  145"
      ]
     },
     "execution_count": 31,
     "metadata": {},
     "output_type": "execute_result"
    }
   ],
   "source": [
    "# Replace the right is_weekend derived from day of week\n",
    "dirty_df.loc[wrong_is_weekend,'is_weekend'] = is_weekend_check_df.loc[wrong_is_weekend,'is_weekend_from_day_of_week']\n",
    "\n",
    "# Compare the results\n",
    "pd.crosstab(is_weekend_check_df['is_weekend_from_day_of_week'],dirty_df['is_weekend'] )"
   ]
  },
  {
   "cell_type": "code",
   "execution_count": 32,
   "metadata": {
    "colab": {
     "base_uri": "https://localhost:8080/",
     "height": 0
    },
    "id": "EUOwaI3uGe_T",
    "outputId": "f0872917-4da3-423e-b8a6-41b7f10e3ab1"
   },
   "outputs": [
    {
     "data": {
      "text/html": [
       "<div>\n",
       "<style scoped>\n",
       "    .dataframe tbody tr th:only-of-type {\n",
       "        vertical-align: middle;\n",
       "    }\n",
       "\n",
       "    .dataframe tbody tr th {\n",
       "        vertical-align: top;\n",
       "    }\n",
       "\n",
       "    .dataframe thead th {\n",
       "        text-align: right;\n",
       "    }\n",
       "</style>\n",
       "<table border=\"1\" class=\"dataframe\">\n",
       "  <thead>\n",
       "    <tr style=\"text-align: right;\">\n",
       "      <th></th>\n",
       "      <th>date</th>\n",
       "      <th>is_weekend</th>\n",
       "    </tr>\n",
       "  </thead>\n",
       "  <tbody>\n",
       "    <tr>\n",
       "      <th>74</th>\n",
       "      <td>2020-07-24</td>\n",
       "      <td>0</td>\n",
       "    </tr>\n",
       "    <tr>\n",
       "      <th>205</th>\n",
       "      <td>2020-08-22</td>\n",
       "      <td>1</td>\n",
       "    </tr>\n",
       "    <tr>\n",
       "      <th>266</th>\n",
       "      <td>2020-03-12</td>\n",
       "      <td>0</td>\n",
       "    </tr>\n",
       "    <tr>\n",
       "      <th>371</th>\n",
       "      <td>2020-05-16</td>\n",
       "      <td>1</td>\n",
       "    </tr>\n",
       "    <tr>\n",
       "      <th>455</th>\n",
       "      <td>2020-02-08</td>\n",
       "      <td>1</td>\n",
       "    </tr>\n",
       "  </tbody>\n",
       "</table>\n",
       "</div>"
      ],
      "text/plain": [
       "           date  is_weekend\n",
       "74   2020-07-24           0\n",
       "205  2020-08-22           1\n",
       "266  2020-03-12           0\n",
       "371  2020-05-16           1\n",
       "455  2020-02-08           1"
      ]
     },
     "execution_count": 32,
     "metadata": {},
     "output_type": "execute_result"
    }
   ],
   "source": [
    "# Check for the change\n",
    "dirty_df.loc[wrong_is_weekend,['date','is_weekend']]"
   ]
  },
  {
   "cell_type": "markdown",
   "metadata": {
    "id": "_1dhGD9eRoBv"
   },
   "source": [
    "**Checking between is_peak_from_hour column from and is_peak_from_hour derived from time column with given criteria from specification**\n",
    "\n",
    "- Convert time column to datetime format and store to new variable\n",
    "- Create new df for is_peak_time checking\n",
    "- Add time column from dirty_df\n",
    "- Add hour column extracted from time variable(datetime type)\n",
    "- Flag is_peak_time from hour column (condition is given in the specification)\n",
    "- Add is_peak_time from the dirty_df\n",
    "- Compare the results "
   ]
  },
  {
   "cell_type": "code",
   "execution_count": 33,
   "metadata": {
    "colab": {
     "base_uri": "https://localhost:8080/",
     "height": 0
    },
    "id": "Ll5TnATKRd9_",
    "outputId": "2445f023-9266-4b0e-d2a2-708cd9d5e276"
   },
   "outputs": [
    {
     "data": {
      "text/html": [
       "<div>\n",
       "<style scoped>\n",
       "    .dataframe tbody tr th:only-of-type {\n",
       "        vertical-align: middle;\n",
       "    }\n",
       "\n",
       "    .dataframe tbody tr th {\n",
       "        vertical-align: top;\n",
       "    }\n",
       "\n",
       "    .dataframe thead th {\n",
       "        text-align: right;\n",
       "    }\n",
       "</style>\n",
       "<table border=\"1\" class=\"dataframe\">\n",
       "  <thead>\n",
       "    <tr style=\"text-align: right;\">\n",
       "      <th>is_peak_time</th>\n",
       "      <th>0</th>\n",
       "      <th>1</th>\n",
       "    </tr>\n",
       "    <tr>\n",
       "      <th>is_peak_from_hour</th>\n",
       "      <th></th>\n",
       "      <th></th>\n",
       "    </tr>\n",
       "  </thead>\n",
       "  <tbody>\n",
       "    <tr>\n",
       "      <th>0</th>\n",
       "      <td>400</td>\n",
       "      <td>6</td>\n",
       "    </tr>\n",
       "    <tr>\n",
       "      <th>1</th>\n",
       "      <td>0</td>\n",
       "      <td>94</td>\n",
       "    </tr>\n",
       "  </tbody>\n",
       "</table>\n",
       "</div>"
      ],
      "text/plain": [
       "is_peak_time         0   1\n",
       "is_peak_from_hour         \n",
       "0                  400   6\n",
       "1                    0  94"
      ]
     },
     "execution_count": 33,
     "metadata": {},
     "output_type": "execute_result"
    }
   ],
   "source": [
    "# Convert time column to datetime format and store to new variable\n",
    "time = pd.to_datetime(dirty_df['time'],format='%X')\n",
    "\n",
    "# Create new df for is_peak_from_hour checking\n",
    "is_peak_check_df = pd.DataFrame()\n",
    "\n",
    "# Add time column from dirty_df\n",
    "is_peak_check_df['time'] = dirty_df['time']\n",
    "\n",
    "# Add hour column extracted from time variable(datetime type)\n",
    "is_peak_check_df['hour'] = time.dt.hour\n",
    "\n",
    "# Flag is_peak_from_hour from hour column (condition is given in the specification)\n",
    "is_peak_check_df['is_peak_from_hour'] = np.where(is_peak_check_df['hour'].isin([12,13,18,19]),1,0)\n",
    "\n",
    "# Add is_peak_from_hour from the dirty_df\n",
    "is_peak_check_df['is_peak_from_dirty_df'] = dirty_df['is_peak_time']\n",
    "\n",
    "# compare the results \n",
    "pd.crosstab(is_peak_check_df['is_peak_from_hour'],dirty_df['is_peak_time'])\n"
   ]
  },
  {
   "cell_type": "code",
   "execution_count": 34,
   "metadata": {
    "colab": {
     "base_uri": "https://localhost:8080/",
     "height": 0
    },
    "id": "YJUPKD19UllZ",
    "outputId": "3f4c6314-7164-4ddb-b685-0576ac48b5f4"
   },
   "outputs": [
    {
     "data": {
      "text/html": [
       "<div>\n",
       "<style scoped>\n",
       "    .dataframe tbody tr th:only-of-type {\n",
       "        vertical-align: middle;\n",
       "    }\n",
       "\n",
       "    .dataframe tbody tr th {\n",
       "        vertical-align: top;\n",
       "    }\n",
       "\n",
       "    .dataframe thead th {\n",
       "        text-align: right;\n",
       "    }\n",
       "</style>\n",
       "<table border=\"1\" class=\"dataframe\">\n",
       "  <thead>\n",
       "    <tr style=\"text-align: right;\">\n",
       "      <th></th>\n",
       "      <th>time</th>\n",
       "      <th>hour</th>\n",
       "      <th>is_peak_from_hour</th>\n",
       "      <th>is_peak_from_dirty_df</th>\n",
       "    </tr>\n",
       "  </thead>\n",
       "  <tbody>\n",
       "    <tr>\n",
       "      <th>26</th>\n",
       "      <td>17:44:10</td>\n",
       "      <td>17</td>\n",
       "      <td>0</td>\n",
       "      <td>1</td>\n",
       "    </tr>\n",
       "    <tr>\n",
       "      <th>83</th>\n",
       "      <td>01:27:01</td>\n",
       "      <td>1</td>\n",
       "      <td>0</td>\n",
       "      <td>1</td>\n",
       "    </tr>\n",
       "    <tr>\n",
       "      <th>137</th>\n",
       "      <td>09:49:27</td>\n",
       "      <td>9</td>\n",
       "      <td>0</td>\n",
       "      <td>1</td>\n",
       "    </tr>\n",
       "    <tr>\n",
       "      <th>176</th>\n",
       "      <td>15:09:53</td>\n",
       "      <td>15</td>\n",
       "      <td>0</td>\n",
       "      <td>1</td>\n",
       "    </tr>\n",
       "    <tr>\n",
       "      <th>186</th>\n",
       "      <td>04:32:58</td>\n",
       "      <td>4</td>\n",
       "      <td>0</td>\n",
       "      <td>1</td>\n",
       "    </tr>\n",
       "    <tr>\n",
       "      <th>380</th>\n",
       "      <td>00:51:25</td>\n",
       "      <td>0</td>\n",
       "      <td>0</td>\n",
       "      <td>1</td>\n",
       "    </tr>\n",
       "  </tbody>\n",
       "</table>\n",
       "</div>"
      ],
      "text/plain": [
       "         time  hour  is_peak_from_hour  is_peak_from_dirty_df\n",
       "26   17:44:10    17                  0                      1\n",
       "83   01:27:01     1                  0                      1\n",
       "137  09:49:27     9                  0                      1\n",
       "176  15:09:53    15                  0                      1\n",
       "186  04:32:58     4                  0                      1\n",
       "380  00:51:25     0                  0                      1"
      ]
     },
     "execution_count": 34,
     "metadata": {},
     "output_type": "execute_result"
    }
   ],
   "source": [
    "# Create criteria if is_peak_from_hour is not equal to is_peak_from_dirty_df\n",
    "wrong_is_peak = is_peak_check_df['is_peak_from_hour'] != is_peak_check_df['is_peak_from_dirty_df']\n",
    "\n",
    "# Show the records that have different is_peak\n",
    "is_peak_check_df[wrong_is_peak]"
   ]
  },
  {
   "cell_type": "markdown",
   "metadata": {
    "id": "2gpS57bLAFHt"
   },
   "source": [
    "**## Error 4 : Contradiction between is_peak_time and hour##**"
   ]
  },
  {
   "cell_type": "markdown",
   "metadata": {
    "id": "DDQrEp0pAMun"
   },
   "source": [
    "**Fix 4: Replace is_peak_time that is extracted from the hour to the wrong is_peak_time**\n",
    "\n",
    "- Replace is_peak_time that is extracted from the date to the wrong is_peak_time\n",
    "- Recheck the results"
   ]
  },
  {
   "cell_type": "code",
   "execution_count": 35,
   "metadata": {
    "colab": {
     "base_uri": "https://localhost:8080/",
     "height": 0
    },
    "id": "XTGF_Z6ZVERk",
    "outputId": "d8483ffe-6817-4e91-e6bd-94510e93b290"
   },
   "outputs": [
    {
     "data": {
      "text/html": [
       "<div>\n",
       "<style scoped>\n",
       "    .dataframe tbody tr th:only-of-type {\n",
       "        vertical-align: middle;\n",
       "    }\n",
       "\n",
       "    .dataframe tbody tr th {\n",
       "        vertical-align: top;\n",
       "    }\n",
       "\n",
       "    .dataframe thead th {\n",
       "        text-align: right;\n",
       "    }\n",
       "</style>\n",
       "<table border=\"1\" class=\"dataframe\">\n",
       "  <thead>\n",
       "    <tr style=\"text-align: right;\">\n",
       "      <th>is_peak_time</th>\n",
       "      <th>0</th>\n",
       "      <th>1</th>\n",
       "    </tr>\n",
       "    <tr>\n",
       "      <th>is_peak_from_hour</th>\n",
       "      <th></th>\n",
       "      <th></th>\n",
       "    </tr>\n",
       "  </thead>\n",
       "  <tbody>\n",
       "    <tr>\n",
       "      <th>0</th>\n",
       "      <td>406</td>\n",
       "      <td>0</td>\n",
       "    </tr>\n",
       "    <tr>\n",
       "      <th>1</th>\n",
       "      <td>0</td>\n",
       "      <td>94</td>\n",
       "    </tr>\n",
       "  </tbody>\n",
       "</table>\n",
       "</div>"
      ],
      "text/plain": [
       "is_peak_time         0   1\n",
       "is_peak_from_hour         \n",
       "0                  406   0\n",
       "1                    0  94"
      ]
     },
     "execution_count": 35,
     "metadata": {},
     "output_type": "execute_result"
    }
   ],
   "source": [
    "# Replace the right is_peak_time derived from hours\n",
    "dirty_df.loc[wrong_is_peak,'is_peak_time'] = is_peak_check_df.loc[wrong_is_peak,'is_peak_from_hour']\n",
    "\n",
    "# compare the results \n",
    "pd.crosstab(is_peak_check_df['is_peak_from_hour'],dirty_df['is_peak_time'])"
   ]
  },
  {
   "cell_type": "markdown",
   "metadata": {
    "id": "BNtIxw9z6nQy"
   },
   "source": [
    "###1.6 Checking Carrier Vehicle columns\n"
   ]
  },
  {
   "cell_type": "markdown",
   "metadata": {
    "id": "UTJgvKotN6bc"
   },
   "source": [
    "Carrier Vehicle specified the data dictionary stated only 3 vehicle types (Bike, Motorbike, Car), but summary statistics show 6 unique types so we have to check further."
   ]
  },
  {
   "cell_type": "code",
   "execution_count": 36,
   "metadata": {
    "colab": {
     "base_uri": "https://localhost:8080/"
    },
    "id": "UCUy6_Z73cia",
    "outputId": "7510d55d-64f6-43f4-c345-b1f5de0a9709"
   },
   "outputs": [
    {
     "data": {
      "text/plain": [
       "Bike         175\n",
       "Car          161\n",
       "Motorbike    157\n",
       "bike           4\n",
       "car            2\n",
       "motorbike      1\n",
       "Name: carrier_vehicle, dtype: int64"
      ]
     },
     "execution_count": 36,
     "metadata": {},
     "output_type": "execute_result"
    }
   ],
   "source": [
    "# Use value counts to show unique values with count\n",
    "dirty_df['carrier_vehicle'].value_counts()"
   ]
  },
  {
   "cell_type": "markdown",
   "metadata": {
    "id": "c5XxOzjYUN7k"
   },
   "source": [
    "**## Error 5 : Cases Inconsistency in Carrier Vehicle##**"
   ]
  },
  {
   "cell_type": "markdown",
   "metadata": {
    "id": "UqvohPNqUrsN"
   },
   "source": [
    "**Fix 5: Replace the Correct Cases to Carrier Vehicle**\n",
    "\n",
    "- Replace the Correct Cases(specified in data dictionary) to Carrier Vehicle\n",
    "- Check the result"
   ]
  },
  {
   "cell_type": "code",
   "execution_count": 37,
   "metadata": {
    "id": "-aWoWrmg7nPS"
   },
   "outputs": [],
   "source": [
    "# Replace the Correct Cases(specified in data dictionary) to Carrier Vehicle \n",
    "dirty_df.carrier_vehicle.replace({'bike' : 'Bike','car': 'Car','motorbike': 'Motorbike'},inplace=True)"
   ]
  },
  {
   "cell_type": "code",
   "execution_count": 38,
   "metadata": {
    "colab": {
     "base_uri": "https://localhost:8080/"
    },
    "id": "_fzolKs48BAF",
    "outputId": "f3015fd4-b43a-4c2c-f9de-44e6df10db0c"
   },
   "outputs": [
    {
     "data": {
      "text/plain": [
       "Bike         179\n",
       "Car          163\n",
       "Motorbike    158\n",
       "Name: carrier_vehicle, dtype: int64"
      ]
     },
     "execution_count": 38,
     "metadata": {},
     "output_type": "execute_result"
    }
   ],
   "source": [
    "# Check the result\n",
    "dirty_df['carrier_vehicle'].value_counts()"
   ]
  },
  {
   "cell_type": "markdown",
   "metadata": {
    "id": "0D9Nov_JizGI"
   },
   "source": [
    "###1.7 Checking Restaurant Rating"
   ]
  },
  {
   "cell_type": "markdown",
   "metadata": {
    "id": "EAq0pEgEN-eu"
   },
   "source": [
    "Restaurant rating is calculated based on given criteria in the requirement. Firstly, we check the restaurant rating in the dirty dataset"
   ]
  },
  {
   "cell_type": "code",
   "execution_count": 39,
   "metadata": {
    "colab": {
     "base_uri": "https://localhost:8080/",
     "height": 237
    },
    "id": "QbedizSDWjBk",
    "outputId": "f3ab10a0-2fce-4b3d-86ac-514b633c2086"
   },
   "outputs": [
    {
     "data": {
      "text/html": [
       "<div>\n",
       "<style scoped>\n",
       "    .dataframe tbody tr th:only-of-type {\n",
       "        vertical-align: middle;\n",
       "    }\n",
       "\n",
       "    .dataframe tbody tr th {\n",
       "        vertical-align: top;\n",
       "    }\n",
       "\n",
       "    .dataframe thead th {\n",
       "        text-align: right;\n",
       "    }\n",
       "</style>\n",
       "<table border=\"1\" class=\"dataframe\">\n",
       "  <thead>\n",
       "    <tr style=\"text-align: right;\">\n",
       "      <th>restaurant_rating</th>\n",
       "      <th>5.96</th>\n",
       "      <th>6.64</th>\n",
       "      <th>6.87</th>\n",
       "      <th>7.21</th>\n",
       "      <th>7.45</th>\n",
       "      <th>7.63</th>\n",
       "      <th>8.30</th>\n",
       "      <th>8.59</th>\n",
       "      <th>9.01</th>\n",
       "      <th>9.54</th>\n",
       "    </tr>\n",
       "    <tr>\n",
       "      <th>restaurant_id</th>\n",
       "      <th></th>\n",
       "      <th></th>\n",
       "      <th></th>\n",
       "      <th></th>\n",
       "      <th></th>\n",
       "      <th></th>\n",
       "      <th></th>\n",
       "      <th></th>\n",
       "      <th></th>\n",
       "      <th></th>\n",
       "    </tr>\n",
       "  </thead>\n",
       "  <tbody>\n",
       "    <tr>\n",
       "      <th>REST0231</th>\n",
       "      <td>0</td>\n",
       "      <td>0</td>\n",
       "      <td>0</td>\n",
       "      <td>52</td>\n",
       "      <td>0</td>\n",
       "      <td>0</td>\n",
       "      <td>0</td>\n",
       "      <td>0</td>\n",
       "      <td>63</td>\n",
       "      <td>0</td>\n",
       "    </tr>\n",
       "    <tr>\n",
       "      <th>REST0423</th>\n",
       "      <td>0</td>\n",
       "      <td>0</td>\n",
       "      <td>0</td>\n",
       "      <td>0</td>\n",
       "      <td>0</td>\n",
       "      <td>48</td>\n",
       "      <td>0</td>\n",
       "      <td>0</td>\n",
       "      <td>0</td>\n",
       "      <td>40</td>\n",
       "    </tr>\n",
       "    <tr>\n",
       "      <th>REST0677</th>\n",
       "      <td>0</td>\n",
       "      <td>0</td>\n",
       "      <td>38</td>\n",
       "      <td>0</td>\n",
       "      <td>0</td>\n",
       "      <td>0</td>\n",
       "      <td>0</td>\n",
       "      <td>67</td>\n",
       "      <td>0</td>\n",
       "      <td>0</td>\n",
       "    </tr>\n",
       "    <tr>\n",
       "      <th>REST0761</th>\n",
       "      <td>42</td>\n",
       "      <td>0</td>\n",
       "      <td>0</td>\n",
       "      <td>0</td>\n",
       "      <td>51</td>\n",
       "      <td>0</td>\n",
       "      <td>0</td>\n",
       "      <td>0</td>\n",
       "      <td>0</td>\n",
       "      <td>0</td>\n",
       "    </tr>\n",
       "    <tr>\n",
       "      <th>REST0944</th>\n",
       "      <td>0</td>\n",
       "      <td>56</td>\n",
       "      <td>0</td>\n",
       "      <td>0</td>\n",
       "      <td>0</td>\n",
       "      <td>0</td>\n",
       "      <td>43</td>\n",
       "      <td>0</td>\n",
       "      <td>0</td>\n",
       "      <td>0</td>\n",
       "    </tr>\n",
       "  </tbody>\n",
       "</table>\n",
       "</div>"
      ],
      "text/plain": [
       "restaurant_rating  5.96  6.64  6.87  7.21  7.45  7.63  8.30  8.59  9.01  9.54\n",
       "restaurant_id                                                                \n",
       "REST0231              0     0     0    52     0     0     0     0    63     0\n",
       "REST0423              0     0     0     0     0    48     0     0     0    40\n",
       "REST0677              0     0    38     0     0     0     0    67     0     0\n",
       "REST0761             42     0     0     0    51     0     0     0     0     0\n",
       "REST0944              0    56     0     0     0     0    43     0     0     0"
      ]
     },
     "execution_count": 39,
     "metadata": {},
     "output_type": "execute_result"
    }
   ],
   "source": [
    "# Check the unique restaurant_id crossing with restaurant_rating\n",
    "pd.crosstab(dirty_df['restaurant_id'],dirty_df['restaurant_rating'])"
   ]
  },
  {
   "cell_type": "markdown",
   "metadata": {
    "id": "IVA7Z6azWBt9"
   },
   "source": [
    "**## Error 6 : Restaurant Rating is not Matched with Calculattion criteria##**\n",
    "\n",
    "- Each restaurant is supposed to have each restaurant rating based on sentimental analysis on reviews given in the specification"
   ]
  },
  {
   "cell_type": "markdown",
   "metadata": {
    "id": "JAzTNZnMXX0K"
   },
   "source": [
    "**Fix 6: Recalculating Restaurant Ratings and Replace them back**\n",
    "\n",
    "- Find the unique restaurant id that exists in dirty_df\n",
    "- Select only restaurant that exists in dirty_df from restaurant dataset\n",
    "- Convert review_list column datatype from string to list\n",
    "- Create function for calculating rating based on given criteria\n",
    "- Apply calculate_rating function to generate restaurant_rating\n",
    "- Drop old restaurant_rating column\n",
    "- Join with select_rest_df to get new rating column\n",
    "- Check the result"
   ]
  },
  {
   "cell_type": "code",
   "execution_count": 40,
   "metadata": {
    "colab": {
     "base_uri": "https://localhost:8080/"
    },
    "id": "lboQamzrmMzg",
    "outputId": "aea1f4c8-c367-4f3f-c9aa-bd532b68d122"
   },
   "outputs": [
    {
     "name": "stderr",
     "output_type": "stream",
     "text": [
      "/usr/local/lib/python3.7/dist-packages/pandas/core/indexing.py:1743: SettingWithCopyWarning: \n",
      "A value is trying to be set on a copy of a slice from a DataFrame.\n",
      "Try using .loc[row_indexer,col_indexer] = value instead\n",
      "\n",
      "See the caveats in the documentation: https://pandas.pydata.org/pandas-docs/stable/user_guide/indexing.html#returning-a-view-versus-a-copy\n",
      "  isetter(ilocs[0], value)\n"
     ]
    }
   ],
   "source": [
    "# Find the unique restaurant id that exists in dirty_df\n",
    "rest_in_dirtydf = list(dirty_df['restaurant_id'].unique())\n",
    "\n",
    "# Select only restaurant that exists in dirty_df from restaurant dataset\n",
    "select_rest_df = restaurant_df.loc[restaurant_df['restaurant_id'].isin(rest_in_dirtydf),:]\n",
    "\n",
    "# Convert review_list column datatype from string to list\n",
    "select_rest_df.loc[:,'reviews_list'] = select_rest_df.loc[:,'reviews_list'].apply(lambda x:ast.literal_eval(x))"
   ]
  },
  {
   "cell_type": "code",
   "execution_count": 41,
   "metadata": {
    "colab": {
     "base_uri": "https://localhost:8080/"
    },
    "id": "f423kkD_swSY",
    "outputId": "cc2836b1-2657-4a7a-e73e-2890697cf91d"
   },
   "outputs": [
    {
     "name": "stderr",
     "output_type": "stream",
     "text": [
      "/usr/local/lib/python3.7/dist-packages/ipykernel_launcher.py:30: SettingWithCopyWarning: \n",
      "A value is trying to be set on a copy of a slice from a DataFrame.\n",
      "Try using .loc[row_indexer,col_indexer] = value instead\n",
      "\n",
      "See the caveats in the documentation: https://pandas.pydata.org/pandas-docs/stable/user_guide/indexing.html#returning-a-view-versus-a-copy\n"
     ]
    }
   ],
   "source": [
    "# Create function for calculating rating\n",
    "def calculate_rating(review_list) :\n",
    "  \n",
    "  # Create list of compound polarity score\n",
    "  compound_score_list = []\n",
    "\n",
    "  # Initialise SentimentIntensityAnalyzer\n",
    "  analyser = SentimentIntensityAnalyzer()\n",
    "\n",
    "  # For review in review list\n",
    "  for review in review_list :\n",
    "\n",
    "    # Calculate polarity score \n",
    "    score = analyser.polarity_scores(review)\n",
    "\n",
    "    # Add to compound list\n",
    "    compound_score_list.append(score['compound'])\n",
    "  \n",
    "  # Average compound list\n",
    "  avg_polarity = sum(compound_score_list)/len(compound_score_list)\n",
    "  \n",
    "  # Calculate rating based on given formula\n",
    "  rating = 10*(avg_polarity+0.9623)/(1.9533)\n",
    "\n",
    "  # Return the rating\n",
    "  return round(rating,2)\n",
    "  \n",
    "\n",
    "# Apply calculate_rating function to generate restaurant_rating\n",
    "select_rest_df['restaurant_rating'] = select_rest_df['reviews_list'].apply(calculate_rating)"
   ]
  },
  {
   "cell_type": "code",
   "execution_count": 42,
   "metadata": {
    "id": "XAIIAKSDI3_5"
   },
   "outputs": [],
   "source": [
    "# Drop old restaurant_rating column\n",
    "dirty_df.drop('restaurant_rating', axis='columns', inplace=True)\n",
    "\n",
    "# Join with select_rest_df to get new rating column\n",
    "dirty_df =dirty_df.merge(select_rest_df[['restaurant_id','restaurant_rating']],how ='left',on ='restaurant_id')"
   ]
  },
  {
   "cell_type": "code",
   "execution_count": 43,
   "metadata": {
    "colab": {
     "base_uri": "https://localhost:8080/",
     "height": 237
    },
    "id": "8Yn4fPxxW8UW",
    "outputId": "cb0275d4-b5a8-42ef-80b1-3325d41bc87b"
   },
   "outputs": [
    {
     "data": {
      "text/html": [
       "<div>\n",
       "<style scoped>\n",
       "    .dataframe tbody tr th:only-of-type {\n",
       "        vertical-align: middle;\n",
       "    }\n",
       "\n",
       "    .dataframe tbody tr th {\n",
       "        vertical-align: top;\n",
       "    }\n",
       "\n",
       "    .dataframe thead th {\n",
       "        text-align: right;\n",
       "    }\n",
       "</style>\n",
       "<table border=\"1\" class=\"dataframe\">\n",
       "  <thead>\n",
       "    <tr style=\"text-align: right;\">\n",
       "      <th>restaurant_rating</th>\n",
       "      <th>7.45</th>\n",
       "      <th>8.30</th>\n",
       "      <th>8.59</th>\n",
       "      <th>9.01</th>\n",
       "      <th>9.54</th>\n",
       "    </tr>\n",
       "    <tr>\n",
       "      <th>restaurant_id</th>\n",
       "      <th></th>\n",
       "      <th></th>\n",
       "      <th></th>\n",
       "      <th></th>\n",
       "      <th></th>\n",
       "    </tr>\n",
       "  </thead>\n",
       "  <tbody>\n",
       "    <tr>\n",
       "      <th>REST0231</th>\n",
       "      <td>0</td>\n",
       "      <td>0</td>\n",
       "      <td>0</td>\n",
       "      <td>115</td>\n",
       "      <td>0</td>\n",
       "    </tr>\n",
       "    <tr>\n",
       "      <th>REST0423</th>\n",
       "      <td>0</td>\n",
       "      <td>0</td>\n",
       "      <td>0</td>\n",
       "      <td>0</td>\n",
       "      <td>88</td>\n",
       "    </tr>\n",
       "    <tr>\n",
       "      <th>REST0677</th>\n",
       "      <td>0</td>\n",
       "      <td>0</td>\n",
       "      <td>105</td>\n",
       "      <td>0</td>\n",
       "      <td>0</td>\n",
       "    </tr>\n",
       "    <tr>\n",
       "      <th>REST0761</th>\n",
       "      <td>93</td>\n",
       "      <td>0</td>\n",
       "      <td>0</td>\n",
       "      <td>0</td>\n",
       "      <td>0</td>\n",
       "    </tr>\n",
       "    <tr>\n",
       "      <th>REST0944</th>\n",
       "      <td>0</td>\n",
       "      <td>99</td>\n",
       "      <td>0</td>\n",
       "      <td>0</td>\n",
       "      <td>0</td>\n",
       "    </tr>\n",
       "  </tbody>\n",
       "</table>\n",
       "</div>"
      ],
      "text/plain": [
       "restaurant_rating  7.45  8.30  8.59  9.01  9.54\n",
       "restaurant_id                                  \n",
       "REST0231              0     0     0   115     0\n",
       "REST0423              0     0     0     0    88\n",
       "REST0677              0     0   105     0     0\n",
       "REST0761             93     0     0     0     0\n",
       "REST0944              0    99     0     0     0"
      ]
     },
     "execution_count": 43,
     "metadata": {},
     "output_type": "execute_result"
    }
   ],
   "source": [
    "# Check the result\n",
    "pd.crosstab(dirty_df['restaurant_id'],dirty_df['restaurant_rating'])"
   ]
  },
  {
   "cell_type": "markdown",
   "metadata": {
    "id": "C3-BxfA6Rqwo"
   },
   "source": [
    "###1.8 Checking Shortest Distance to Customer Column\n",
    "\n"
   ]
  },
  {
   "cell_type": "markdown",
   "metadata": {
    "id": "4E3FgHYXOD0y"
   },
   "source": [
    "- Shortest Distance to Customer is derived from Dijkstra algorithm based on the nes and edges found in node.csv and edges so we can calculate these values and match those to the shortest distance to customer."
   ]
  },
  {
   "cell_type": "markdown",
   "metadata": {
    "id": "QUiyGLQ0cZqa"
   },
   "source": [
    "**## Error 7 : Shortest Distance to Customer is not Matched with Calculation Criteria##**"
   ]
  },
  {
   "cell_type": "markdown",
   "metadata": {
    "id": "sgPgwlTHcqG5"
   },
   "source": [
    "**Fix 7: Recalculating Shortest Distances to Customer and Replace them back**\n",
    "\n",
    "- Create graph and add node,edge and weight(distance) to the graph\n",
    "- Create dataframe that contains restaurant and customer latitude and longtitude\n",
    "- Round latitude and longtitude of every columns to 7 decimal places in order to be consistent in every datasources\n",
    "- Remove duplicates from node datset\n",
    "- Join and manipulte data to get customer node and restaurant node\n",
    "- Create shortest distance list and append the shortest path using dijkstra algorithm  for each route\n",
    "- Replace old shortest_distance_to_customer to the new one derived by the given algorithm"
   ]
  },
  {
   "cell_type": "code",
   "execution_count": 44,
   "metadata": {
    "id": "8Sqmo2L4WtQE"
   },
   "outputs": [],
   "source": [
    "### Create graph and add node,edge and weight(distance) to the graph ###\n",
    "# Initialise graph object\n",
    "G = nx.Graph()\n",
    "for i in  range(0,len(edge_df.index)) :\n",
    "\n",
    "  # Add graph, edge and weight \n",
    "  G.add_weighted_edges_from([(edge_df['u'][i], edge_df['v'][i], edge_df['distance(m)'][i])])"
   ]
  },
  {
   "cell_type": "code",
   "execution_count": 45,
   "metadata": {
    "id": "iHENrP_whaAm"
   },
   "outputs": [],
   "source": [
    "### Create dataframe that contains restaurant and customer latitude and longtitude ###\n",
    "\n",
    "# Select restaurant_id customer_lat customer_lon from dirty dataset\n",
    "distance_df = dirty_df[['restaurant_id','customer_lat','customer_lon']]\n",
    "\n",
    "# Join to restaurant dataset to get restaurant_lat and restaurant_lon\n",
    "distance_df = distance_df.merge(select_rest_df[['restaurant_id','lat','lon']],how ='left',on ='restaurant_id')\n",
    "\n",
    "# Change the column names\n",
    "distance_df.rename(columns = {'lat': 'restaurant_lat', 'lon': 'restaurant_lon'}, inplace = True)"
   ]
  },
  {
   "cell_type": "code",
   "execution_count": 46,
   "metadata": {
    "id": "8WpLMFeGk13M"
   },
   "outputs": [],
   "source": [
    "### Round latitude and longtitude of every columns to 7 decimal places in order to be consistent in every datasources ###\n",
    "distance_df['restaurant_lat'] = distance_df['restaurant_lat'].apply(lambda x: round(x,7))\n",
    "distance_df['restaurant_lon'] = distance_df['restaurant_lon'].apply(lambda x: round(x,7))\n",
    "distance_df['customer_lat'] = distance_df['customer_lat'].apply(lambda x: round(x,7))\n",
    "distance_df['customer_lon'] = distance_df['customer_lon'].apply(lambda x: round(x,7))\n",
    "node_df['lat'] = node_df['lat'].apply(lambda x: round(x,7))\n",
    "node_df['lon'] = node_df['lon'].apply(lambda x: round(x,7))"
   ]
  },
  {
   "cell_type": "code",
   "execution_count": 47,
   "metadata": {
    "colab": {
     "base_uri": "https://localhost:8080/"
    },
    "id": "bePzQ3lcnNe3",
    "outputId": "aecf2874-18bf-47ca-c58b-2f54ea47ff7c"
   },
   "outputs": [
    {
     "name": "stdout",
     "output_type": "stream",
     "text": [
      "             node        lat         lon\n",
      "5320    243963290 -37.819726  144.969655\n",
      "12603  6182893637 -37.819726  144.969655\n",
      "12604  6182893638 -37.819726  144.969655\n",
      "Empty DataFrame\n",
      "Columns: [node, lat, lon]\n",
      "Index: []\n"
     ]
    }
   ],
   "source": [
    "### We found that there is node duplication in node dataset so we keep only one ###\n",
    "\n",
    "# Print duplicate nodes with the same lat and lon in node_df\n",
    "print(node_df[node_df.duplicated(['lat','lon'],keep =False)])\n",
    "\n",
    "# Drop duplicate\n",
    "node_df.drop_duplicates(['lat','lon'],inplace =True)\n",
    "\n",
    "# Print duplicate nodes with the same lat and lon in node_df\n",
    "print(node_df[node_df.duplicated(['lat','lon'],keep =False)])"
   ]
  },
  {
   "cell_type": "code",
   "execution_count": 48,
   "metadata": {
    "id": "b7xFRgnFnAf3"
   },
   "outputs": [],
   "source": [
    "### Join and manipulte data to get customer node and restaurant node ###\n",
    "\n",
    "# Join distance df with node_df to get node id for restaurant\n",
    "distance_df = distance_df.merge(node_df,how ='left',left_on =['restaurant_lat','restaurant_lon'],right_on=['lat','lon'])\n",
    "\n",
    "# rename node column name to restaurant_node\n",
    "distance_df.rename(columns = {'node': 'restaurant_node'}, inplace = True)\n",
    "\n",
    "# Drop lat lon columns\n",
    "distance_df.drop(columns=['lat','lon'], inplace = True)\n",
    "\n",
    "# Join distance df with node_df to get node id for customer\n",
    "distance_df = distance_df.merge(node_df,how ='left',left_on =['customer_lat','customer_lon'],right_on=['lat','lon'])\n",
    "\n",
    "# rename node column name to customer_node\n",
    "distance_df.rename(columns = {'node': 'customer_node'}, inplace = True)\n",
    "\n",
    "# Drop lat lon columns\n",
    "distance_df.drop(columns=['lat','lon'], inplace = True)"
   ]
  },
  {
   "cell_type": "code",
   "execution_count": 49,
   "metadata": {
    "id": "ljy3YsgT1_e2"
   },
   "outputs": [],
   "source": [
    "### Create shortest distance list and append the shortest path using dijkstra algorithm  for each route ###\n",
    "shortest_distance_list = []\n",
    "for i in  range(0,len(distance_df.index)) :\n",
    "\n",
    "  # Use dijkstra algorithm to find the shortest path given restaurant node and customer node\n",
    "  shortest_distance = nx.single_source_dijkstra(G,source = distance_df['restaurant_node'][i], target = distance_df['customer_node'][i])\n",
    "  \n",
    "  # Append the shortest distance to  shortest distance list\n",
    "  shortest_distance_list.append(shortest_distance[0])"
   ]
  },
  {
   "cell_type": "code",
   "execution_count": 50,
   "metadata": {
    "colab": {
     "base_uri": "https://localhost:8080/"
    },
    "id": "uk_OkDO2o8Au",
    "outputId": "91993c01-a852-4eb3-e5b0-b57d9d00924f"
   },
   "outputs": [
    {
     "data": {
      "text/plain": [
       "count     500.000000\n",
       "mean      -27.496000\n",
       "std       344.153869\n",
       "min     -5004.000000\n",
       "25%         0.000000\n",
       "50%         0.000000\n",
       "75%         0.000000\n",
       "max      1874.000000\n",
       "Name: shortest_distance_to_customer, dtype: float64"
      ]
     },
     "execution_count": 50,
     "metadata": {},
     "output_type": "execute_result"
    }
   ],
   "source": [
    "# Show that statistics of differences between exiting dirty data \n",
    "# and shortest distance to customer\n",
    "(dirty_df['shortest_distance_to_customer'] -shortest_distance_list).describe()"
   ]
  },
  {
   "cell_type": "code",
   "execution_count": 51,
   "metadata": {
    "colab": {
     "base_uri": "https://localhost:8080/"
    },
    "id": "qdbOi6Ver3dS",
    "outputId": "e7d7b0b2-ce8c-4339-d143-872615f70e14"
   },
   "outputs": [
    {
     "data": {
      "text/plain": [
       "12"
      ]
     },
     "execution_count": 51,
     "metadata": {},
     "output_type": "execute_result"
    }
   ],
   "source": [
    "# Check number of mismatch between exiting dirty data and shortest distance to\n",
    "# customer\n",
    "((dirty_df['shortest_distance_to_customer'] -shortest_distance_list)!= 0).sum()"
   ]
  },
  {
   "cell_type": "code",
   "execution_count": 52,
   "metadata": {
    "id": "YaKvX8EAAnay"
   },
   "outputs": [],
   "source": [
    "# Replace old shortest_distance_to_customer to the new one derived by the given algorithm\n",
    "dirty_df['shortest_distance_to_customer'] = shortest_distance_list"
   ]
  },
  {
   "cell_type": "markdown",
   "metadata": {
    "id": "BS5rZoRuRvh9"
   },
   "source": [
    "###1.9 Checking Travel Time Minutes Column\n",
    "\n"
   ]
  },
  {
   "cell_type": "markdown",
   "metadata": {
    "id": "NV3JD2fROHuF"
   },
   "source": [
    "Travel time minutes is derived from carrier vehicle type and distance from restaurant to customer"
   ]
  },
  {
   "cell_type": "markdown",
   "metadata": {
    "id": "oOO_2_YXqiZ4"
   },
   "source": [
    "**## Error 8 : Travel time minutes is not Matched with Calculation Criteria##**"
   ]
  },
  {
   "cell_type": "markdown",
   "metadata": {
    "id": "ZSj5A7k7qrzL"
   },
   "source": [
    "**Fix 8: Recalculating travel time minutes and replace them back**\n",
    "\n",
    "- Initialise travel time list\n",
    "- Assign avg speeds for different vehicles\n",
    "- Calculate travel time(min) = [Distance(M)/1000] / avg_speed(km/hr)]*60 \n",
    "- Append the result to the list\n",
    "- Replace old travel_time_minutes to the new one derived by the given rule from specification"
   ]
  },
  {
   "cell_type": "code",
   "execution_count": 53,
   "metadata": {
    "id": "GaQmCiTJD4n4"
   },
   "outputs": [],
   "source": [
    "# Initialise travel time list\n",
    "travel_time_list =[]\n",
    "\n",
    "# for each record\n",
    "for i in range(0,len(dirty_df.index)) :\n",
    "  \n",
    "  # If carrier_vehicle = Bike ,average speed = 12\n",
    "  if dirty_df['carrier_vehicle'][i] == 'Bike' :\n",
    "    average_speed = 12\n",
    "\n",
    "  # If carrier_vehicle = Motobike ,average speed = 30\n",
    "  elif dirty_df['carrier_vehicle'][i] == 'Motorbike' :\n",
    "    average_speed = 30\n",
    "\n",
    "  # If carrier_vehicle = Car ,average speed = 25 \n",
    "  elif dirty_df['carrier_vehicle'][i] == 'Car' :\n",
    "    average_speed = 25  \n",
    "  \n",
    "  # Calculate travel time(min) = [Distance(M)/1000] / avg_speed(km/hr)]*60  \n",
    "  travel_time = round(((dirty_df['shortest_distance_to_customer'][i]/1000)/average_speed)*60)\n",
    "\n",
    "  # Append the result to the list\n",
    "  travel_time_list.append(travel_time)\n"
   ]
  },
  {
   "cell_type": "code",
   "execution_count": 54,
   "metadata": {
    "colab": {
     "base_uri": "https://localhost:8080/"
    },
    "id": "tAgx9QvEtAo-",
    "outputId": "15bbc316-dde1-4bae-8b72-96f3852facdb"
   },
   "outputs": [
    {
     "data": {
      "text/plain": [
       "count    500.000000\n",
       "mean      -0.088000\n",
       "std        1.080088\n",
       "min      -13.000000\n",
       "25%        0.000000\n",
       "50%        0.000000\n",
       "75%        0.000000\n",
       "max        5.000000\n",
       "Name: travel_time_minutes, dtype: float64"
      ]
     },
     "execution_count": 54,
     "metadata": {},
     "output_type": "execute_result"
    }
   ],
   "source": [
    "# Show that statistics of differences between exiting dirty data \n",
    "# and shortest distance to customer\n",
    "(dirty_df['travel_time_minutes'] -travel_time_list).describe()"
   ]
  },
  {
   "cell_type": "code",
   "execution_count": 55,
   "metadata": {
    "colab": {
     "base_uri": "https://localhost:8080/"
    },
    "id": "eF7oE1YotHh3",
    "outputId": "0bf8165b-23ca-4e1c-c25f-8e43e3c92c6a"
   },
   "outputs": [
    {
     "data": {
      "text/plain": [
       "18"
      ]
     },
     "execution_count": 55,
     "metadata": {},
     "output_type": "execute_result"
    }
   ],
   "source": [
    "# Check number of mismatch between exiting dirty data and shortest distance to\n",
    "# customer\n",
    "((dirty_df['travel_time_minutes'] -travel_time_list)!= 0).sum()"
   ]
  },
  {
   "cell_type": "code",
   "execution_count": 56,
   "metadata": {
    "id": "eO7_gZIpINzW"
   },
   "outputs": [],
   "source": [
    "# Replace old travel_time_minutes to the new one derived by the given rule from specification\n",
    "dirty_df['travel_time_minutes'] = travel_time_list"
   ]
  },
  {
   "cell_type": "markdown",
   "metadata": {
    "id": "dPR9SdtMWMys"
   },
   "source": [
    "###1.10 Checking Order Price"
   ]
  },
  {
   "cell_type": "markdown",
   "metadata": {
    "id": "APbNTlqVwoJ3"
   },
   "source": [
    "**## Error 9 : There is Inconsistent Order Price Given the Product Price##**"
   ]
  },
  {
   "cell_type": "markdown",
   "metadata": {
    "id": "HO13DVP6xW5V"
   },
   "source": [
    "**Fix 9 : Create Product Master and Recalculate Order Price for Dirty Dataset**"
   ]
  },
  {
   "cell_type": "markdown",
   "metadata": {
    "id": "MZ850NdTbd6c"
   },
   "source": [
    "####1.10.1 Creating Product Master"
   ]
  },
  {
   "cell_type": "markdown",
   "metadata": {
    "id": "mmLd2CezA_Y7"
   },
   "source": [
    "Before we can check the correctness of order price, which is  the\n",
    "price of items in the shopping cart after applying coupon discount, price of each product is still missing. In practice, price of the products can be obtained from product master or product table that has detail about products. In this case, we will utilise data from missing dataset not the dirty dataset because we know that the missing dataset is assumed to be error-free except missing value. Our objective is to build product table that has product name and price inside. \n",
    "\n",
    "To do that we perform several step below :\n",
    "- Check available products in the given restaurant (Product name is not unique or same product name can contain in multiple restaurants)\n",
    "- Set the linear system equations that we want to solve. In this case, it is a multiplication of matrices\n",
    "\n",
    "**All Product Units X  All Product Prices = Total Order Price** (We use full price before discount to calculate this equation),We know All Product Units and  Total Order Price, and want to solve for product prices\n",
    "- Create order_product_df that each row represents product+restaurant level\n",
    "- Pivot the order_product_df, which row represents order_id and column represents product + restaurant and value represent unit - **All Product Units**\n",
    "- Create table that contains order price with order_id as an index and maintain the same order as order_product_pivot -  **Total Order Price**\n",
    "- Convert two tables above to matrix (pivot order_product_df (**All Product Units**) and order_price (**Total Order Price**) ) to prepare for solving linear system equation\n",
    "- Solve multiple linear equations toget **All Product Prices**\n",
    "- Create **Product Master Table** that contains product name, restaurant ID and price used the results obtained from multiple linear equations\n",
    "- Recheck with missing dataset"
   ]
  },
  {
   "cell_type": "code",
   "execution_count": 57,
   "metadata": {
    "colab": {
     "base_uri": "https://localhost:8080/",
     "height": 0
    },
    "id": "243ZbfRtd6Jd",
    "outputId": "7fa4f03a-e493-433d-e114-da63e63ab937"
   },
   "outputs": [
    {
     "name": "stderr",
     "output_type": "stream",
     "text": [
      "/usr/local/lib/python3.7/dist-packages/ipykernel_launcher.py:3: SettingWithCopyWarning: \n",
      "A value is trying to be set on a copy of a slice from a DataFrame.\n",
      "Try using .loc[row_indexer,col_indexer] = value instead\n",
      "\n",
      "See the caveats in the documentation: https://pandas.pydata.org/pandas-docs/stable/user_guide/indexing.html#returning-a-view-versus-a-copy\n",
      "  This is separate from the ipykernel package so we can avoid doing imports until\n"
     ]
    },
    {
     "data": {
      "text/html": [
       "<div>\n",
       "<style scoped>\n",
       "    .dataframe tbody tr th:only-of-type {\n",
       "        vertical-align: middle;\n",
       "    }\n",
       "\n",
       "    .dataframe tbody tr th {\n",
       "        vertical-align: top;\n",
       "    }\n",
       "\n",
       "    .dataframe thead th {\n",
       "        text-align: right;\n",
       "    }\n",
       "</style>\n",
       "<table border=\"1\" class=\"dataframe\">\n",
       "  <thead>\n",
       "    <tr style=\"text-align: right;\">\n",
       "      <th>restaurant_id</th>\n",
       "      <th>REST0231</th>\n",
       "      <th>REST0423</th>\n",
       "      <th>REST0677</th>\n",
       "      <th>REST0761</th>\n",
       "      <th>REST0944</th>\n",
       "    </tr>\n",
       "    <tr>\n",
       "      <th>menu_items</th>\n",
       "      <th></th>\n",
       "      <th></th>\n",
       "      <th></th>\n",
       "      <th></th>\n",
       "      <th></th>\n",
       "    </tr>\n",
       "  </thead>\n",
       "  <tbody>\n",
       "    <tr>\n",
       "      <th>bamboo chicken biryani</th>\n",
       "      <td>0</td>\n",
       "      <td>0</td>\n",
       "      <td>1</td>\n",
       "      <td>0</td>\n",
       "      <td>0</td>\n",
       "    </tr>\n",
       "    <tr>\n",
       "      <th>barbeque chicken</th>\n",
       "      <td>1</td>\n",
       "      <td>0</td>\n",
       "      <td>0</td>\n",
       "      <td>0</td>\n",
       "      <td>0</td>\n",
       "    </tr>\n",
       "    <tr>\n",
       "      <th>bbq chicken</th>\n",
       "      <td>1</td>\n",
       "      <td>0</td>\n",
       "      <td>0</td>\n",
       "      <td>0</td>\n",
       "      <td>0</td>\n",
       "    </tr>\n",
       "    <tr>\n",
       "      <th>brownie</th>\n",
       "      <td>0</td>\n",
       "      <td>1</td>\n",
       "      <td>0</td>\n",
       "      <td>0</td>\n",
       "      <td>0</td>\n",
       "    </tr>\n",
       "    <tr>\n",
       "      <th>burgers</th>\n",
       "      <td>0</td>\n",
       "      <td>0</td>\n",
       "      <td>0</td>\n",
       "      <td>1</td>\n",
       "      <td>0</td>\n",
       "    </tr>\n",
       "    <tr>\n",
       "      <th>buttermilk</th>\n",
       "      <td>0</td>\n",
       "      <td>1</td>\n",
       "      <td>0</td>\n",
       "      <td>0</td>\n",
       "      <td>0</td>\n",
       "    </tr>\n",
       "    <tr>\n",
       "      <th>cappuccino</th>\n",
       "      <td>0</td>\n",
       "      <td>0</td>\n",
       "      <td>0</td>\n",
       "      <td>0</td>\n",
       "      <td>1</td>\n",
       "    </tr>\n",
       "    <tr>\n",
       "      <th>cheese sticks</th>\n",
       "      <td>0</td>\n",
       "      <td>0</td>\n",
       "      <td>0</td>\n",
       "      <td>0</td>\n",
       "      <td>1</td>\n",
       "    </tr>\n",
       "    <tr>\n",
       "      <th>chicken biryani</th>\n",
       "      <td>1</td>\n",
       "      <td>0</td>\n",
       "      <td>0</td>\n",
       "      <td>0</td>\n",
       "      <td>0</td>\n",
       "    </tr>\n",
       "    <tr>\n",
       "      <th>chicken grill</th>\n",
       "      <td>0</td>\n",
       "      <td>0</td>\n",
       "      <td>0</td>\n",
       "      <td>1</td>\n",
       "      <td>0</td>\n",
       "    </tr>\n",
       "    <tr>\n",
       "      <th>cocktails</th>\n",
       "      <td>0</td>\n",
       "      <td>0</td>\n",
       "      <td>1</td>\n",
       "      <td>0</td>\n",
       "      <td>0</td>\n",
       "    </tr>\n",
       "    <tr>\n",
       "      <th>coconut soup</th>\n",
       "      <td>0</td>\n",
       "      <td>0</td>\n",
       "      <td>1</td>\n",
       "      <td>0</td>\n",
       "      <td>0</td>\n",
       "    </tr>\n",
       "    <tr>\n",
       "      <th>cucumber juice</th>\n",
       "      <td>0</td>\n",
       "      <td>1</td>\n",
       "      <td>0</td>\n",
       "      <td>0</td>\n",
       "      <td>0</td>\n",
       "    </tr>\n",
       "    <tr>\n",
       "      <th>cup cake</th>\n",
       "      <td>0</td>\n",
       "      <td>0</td>\n",
       "      <td>0</td>\n",
       "      <td>0</td>\n",
       "      <td>1</td>\n",
       "    </tr>\n",
       "    <tr>\n",
       "      <th>dragon chicken</th>\n",
       "      <td>1</td>\n",
       "      <td>0</td>\n",
       "      <td>0</td>\n",
       "      <td>0</td>\n",
       "      <td>0</td>\n",
       "    </tr>\n",
       "    <tr>\n",
       "      <th>french fries</th>\n",
       "      <td>0</td>\n",
       "      <td>0</td>\n",
       "      <td>0</td>\n",
       "      <td>1</td>\n",
       "      <td>0</td>\n",
       "    </tr>\n",
       "    <tr>\n",
       "      <th>ginger tea</th>\n",
       "      <td>0</td>\n",
       "      <td>0</td>\n",
       "      <td>0</td>\n",
       "      <td>0</td>\n",
       "      <td>1</td>\n",
       "    </tr>\n",
       "    <tr>\n",
       "      <th>gulab jamun</th>\n",
       "      <td>1</td>\n",
       "      <td>0</td>\n",
       "      <td>0</td>\n",
       "      <td>0</td>\n",
       "      <td>0</td>\n",
       "    </tr>\n",
       "    <tr>\n",
       "      <th>hummus falafel</th>\n",
       "      <td>1</td>\n",
       "      <td>0</td>\n",
       "      <td>0</td>\n",
       "      <td>0</td>\n",
       "      <td>0</td>\n",
       "    </tr>\n",
       "    <tr>\n",
       "      <th>jowar roti</th>\n",
       "      <td>0</td>\n",
       "      <td>1</td>\n",
       "      <td>0</td>\n",
       "      <td>0</td>\n",
       "      <td>0</td>\n",
       "    </tr>\n",
       "    <tr>\n",
       "      <th>khichda</th>\n",
       "      <td>0</td>\n",
       "      <td>1</td>\n",
       "      <td>0</td>\n",
       "      <td>0</td>\n",
       "      <td>0</td>\n",
       "    </tr>\n",
       "    <tr>\n",
       "      <th>manchow soup</th>\n",
       "      <td>1</td>\n",
       "      <td>0</td>\n",
       "      <td>0</td>\n",
       "      <td>0</td>\n",
       "      <td>0</td>\n",
       "    </tr>\n",
       "    <tr>\n",
       "      <th>mocktails</th>\n",
       "      <td>0</td>\n",
       "      <td>0</td>\n",
       "      <td>1</td>\n",
       "      <td>0</td>\n",
       "      <td>0</td>\n",
       "    </tr>\n",
       "    <tr>\n",
       "      <th>mojito</th>\n",
       "      <td>1</td>\n",
       "      <td>0</td>\n",
       "      <td>0</td>\n",
       "      <td>0</td>\n",
       "      <td>0</td>\n",
       "    </tr>\n",
       "    <tr>\n",
       "      <th>palak soup</th>\n",
       "      <td>0</td>\n",
       "      <td>1</td>\n",
       "      <td>0</td>\n",
       "      <td>0</td>\n",
       "      <td>0</td>\n",
       "    </tr>\n",
       "    <tr>\n",
       "      <th>paneer tikka</th>\n",
       "      <td>1</td>\n",
       "      <td>0</td>\n",
       "      <td>0</td>\n",
       "      <td>0</td>\n",
       "      <td>0</td>\n",
       "    </tr>\n",
       "    <tr>\n",
       "      <th>pasta</th>\n",
       "      <td>0</td>\n",
       "      <td>0</td>\n",
       "      <td>1</td>\n",
       "      <td>0</td>\n",
       "      <td>1</td>\n",
       "    </tr>\n",
       "    <tr>\n",
       "      <th>pepper bbq chicken</th>\n",
       "      <td>1</td>\n",
       "      <td>0</td>\n",
       "      <td>0</td>\n",
       "      <td>0</td>\n",
       "      <td>0</td>\n",
       "    </tr>\n",
       "    <tr>\n",
       "      <th>peri peri chicken</th>\n",
       "      <td>0</td>\n",
       "      <td>0</td>\n",
       "      <td>0</td>\n",
       "      <td>1</td>\n",
       "      <td>0</td>\n",
       "    </tr>\n",
       "    <tr>\n",
       "      <th>pita bread</th>\n",
       "      <td>0</td>\n",
       "      <td>0</td>\n",
       "      <td>0</td>\n",
       "      <td>1</td>\n",
       "      <td>0</td>\n",
       "    </tr>\n",
       "    <tr>\n",
       "      <th>pizza</th>\n",
       "      <td>0</td>\n",
       "      <td>0</td>\n",
       "      <td>0</td>\n",
       "      <td>0</td>\n",
       "      <td>1</td>\n",
       "    </tr>\n",
       "    <tr>\n",
       "      <th>sandwich</th>\n",
       "      <td>0</td>\n",
       "      <td>0</td>\n",
       "      <td>0</td>\n",
       "      <td>0</td>\n",
       "      <td>1</td>\n",
       "    </tr>\n",
       "    <tr>\n",
       "      <th>sea food</th>\n",
       "      <td>0</td>\n",
       "      <td>0</td>\n",
       "      <td>1</td>\n",
       "      <td>0</td>\n",
       "      <td>0</td>\n",
       "    </tr>\n",
       "    <tr>\n",
       "      <th>sushi</th>\n",
       "      <td>0</td>\n",
       "      <td>0</td>\n",
       "      <td>1</td>\n",
       "      <td>0</td>\n",
       "      <td>0</td>\n",
       "    </tr>\n",
       "    <tr>\n",
       "      <th>thali</th>\n",
       "      <td>0</td>\n",
       "      <td>1</td>\n",
       "      <td>0</td>\n",
       "      <td>0</td>\n",
       "      <td>0</td>\n",
       "    </tr>\n",
       "  </tbody>\n",
       "</table>\n",
       "</div>"
      ],
      "text/plain": [
       "restaurant_id           REST0231  REST0423  REST0677  REST0761  REST0944\n",
       "menu_items                                                              \n",
       "bamboo chicken biryani         0         0         1         0         0\n",
       "barbeque chicken               1         0         0         0         0\n",
       "bbq chicken                    1         0         0         0         0\n",
       "brownie                        0         1         0         0         0\n",
       "burgers                        0         0         0         1         0\n",
       "buttermilk                     0         1         0         0         0\n",
       "cappuccino                     0         0         0         0         1\n",
       "cheese sticks                  0         0         0         0         1\n",
       "chicken biryani                1         0         0         0         0\n",
       "chicken grill                  0         0         0         1         0\n",
       "cocktails                      0         0         1         0         0\n",
       "coconut soup                   0         0         1         0         0\n",
       "cucumber juice                 0         1         0         0         0\n",
       "cup cake                       0         0         0         0         1\n",
       "dragon chicken                 1         0         0         0         0\n",
       "french fries                   0         0         0         1         0\n",
       "ginger tea                     0         0         0         0         1\n",
       "gulab jamun                    1         0         0         0         0\n",
       "hummus falafel                 1         0         0         0         0\n",
       "jowar roti                     0         1         0         0         0\n",
       "khichda                        0         1         0         0         0\n",
       "manchow soup                   1         0         0         0         0\n",
       "mocktails                      0         0         1         0         0\n",
       "mojito                         1         0         0         0         0\n",
       "palak soup                     0         1         0         0         0\n",
       "paneer tikka                   1         0         0         0         0\n",
       "pasta                          0         0         1         0         1\n",
       "pepper bbq chicken             1         0         0         0         0\n",
       "peri peri chicken              0         0         0         1         0\n",
       "pita bread                     0         0         0         1         0\n",
       "pizza                          0         0         0         0         1\n",
       "sandwich                       0         0         0         0         1\n",
       "sea food                       0         0         1         0         0\n",
       "sushi                          0         0         1         0         0\n",
       "thali                          0         1         0         0         0"
      ]
     },
     "execution_count": 57,
     "metadata": {},
     "output_type": "execute_result"
    }
   ],
   "source": [
    "# Check available products in each restaurant \n",
    "rest_product_list = select_rest_df[['restaurant_id','menu_items']]\n",
    "rest_product_list['menu_items'] = rest_product_list['menu_items'].apply(lambda x:ast.literal_eval(x))\n",
    "\n",
    "rest_product_list =  rest_product_list.explode('menu_items').reset_index(drop = True)\n",
    "\n",
    "# Explore available products in each restaurant \n",
    "pd.crosstab(rest_product_list['menu_items'],rest_product_list['restaurant_id'])\n",
    "\n",
    "# Remark that pasta is available to multiple restaurant so product name is not unique across restuarant "
   ]
  },
  {
   "cell_type": "code",
   "execution_count": 58,
   "metadata": {
    "id": "n3xmHhdeWgGW"
   },
   "outputs": [],
   "source": [
    "### Create order_product_df that each row represent product+restaurant level ###\n",
    "\n",
    "# Create order product df by obtaining order_id and shopping_cart from missing dataset\n",
    "order_product_df = missing_df.loc[:,['order_id','shopping_cart','restaurant_id']]\n",
    "\n",
    "# Change the shopping_cart type to list\n",
    "order_product_df.loc[:,'shopping_cart'] = order_product_df.loc[:,'shopping_cart'].apply(lambda x:ast.literal_eval(x))\n",
    "\n",
    "# Create new columns namely product and unit obtained from exploding shopping cart\n",
    "order_product_df =  order_product_df.explode('shopping_cart').reset_index(drop = True)\n",
    "order_product_df.loc[:,'product'] = order_product_df.loc[:,'shopping_cart'].apply(lambda x: x[0])\n",
    "order_product_df.loc[:,'unit'] = order_product_df.loc[:,'shopping_cart'].apply(lambda x: x[1])\n",
    "\n",
    "# Drop shopping cart column\n",
    "order_product_df.drop(columns='shopping_cart', inplace = True)\n",
    "\n",
    "# Create product_res that is a concatenation between product and restaurant ID\n",
    "order_product_df['product_res'] = order_product_df['product'] +'_'+ order_product_df['restaurant_id']"
   ]
  },
  {
   "cell_type": "code",
   "execution_count": 59,
   "metadata": {
    "id": "3nlvHfJhgSLd"
   },
   "outputs": [],
   "source": [
    "# Create pivot table which row = order_id, columns = product+restaurant and value = unit\n",
    "order_product_pivot = order_product_df.pivot_table(index='order_id', columns='product_res', values= 'unit').fillna(0)\n",
    "\n",
    "# Create table that contains order price with order_id as an index and maintain the same order as order_product_pivot\n",
    "order_price_pivot = pd.DataFrame(missing_df[['order_price','order_id','coupon_discount']]) \n",
    "order_price_pivot['full_order_price'] = order_price_pivot['order_price'] /(1-(order_price_pivot['coupon_discount']/100))\n",
    "order_price_pivot.drop(columns= ['order_price','coupon_discount'] ,inplace= True)\n",
    "order_price_pivot.set_index('order_id',inplace= True)\n",
    "order_price_pivot= order_product_pivot.join(order_price_pivot)[['full_order_price']]\n",
    "\n",
    "# Convert to matrices\n",
    "order_product_matrix = order_product_pivot.to_numpy()\n",
    "order_price_matrix = order_price_pivot.to_numpy()"
   ]
  },
  {
   "cell_type": "code",
   "execution_count": 60,
   "metadata": {
    "colab": {
     "base_uri": "https://localhost:8080/"
    },
    "id": "4VXPwxv5mVUA",
    "outputId": "7b30c717-d231-42d5-d929-6bfe94669bbe"
   },
   "outputs": [
    {
     "name": "stderr",
     "output_type": "stream",
     "text": [
      "/usr/local/lib/python3.7/dist-packages/ipykernel_launcher.py:2: FutureWarning: `rcond` parameter will change to the default of machine precision times ``max(M, N)`` where M and N are the input matrix dimensions.\n",
      "To use the future default and silence this warning we advise to pass `rcond=None`, to keep using the old, explicitly pass `rcond=-1`.\n",
      "  \n"
     ]
    }
   ],
   "source": [
    "#Solving multiple linear equations\n",
    "product_price = np.linalg.lstsq(order_product_matrix,order_price_matrix)[0]"
   ]
  },
  {
   "cell_type": "code",
   "execution_count": 61,
   "metadata": {
    "id": "auqncU_wmukl"
   },
   "outputs": [],
   "source": [
    "### Create Product Master Table that contains product name, restaurant ID and price \n",
    "# used the results obtained from multiple linear equations ###\n",
    "\n",
    "# Initialise product master df\n",
    "product_master = pd.DataFrame()\n",
    "\n",
    "# Get the product+ restaurant column from order_product_pivot\n",
    "product_master['product_res'] = order_product_pivot.columns\n",
    "\n",
    "# Get the product price from Solving multiple linear equations\n",
    "product_master['product_price']  = product_price\n",
    "\n",
    "# Round the results to 2 decimal places\n",
    "product_master['product_price']  = product_master['product_price'].round(2)\n",
    "\n",
    "# Split product_res to product and restaurant_id columns\n",
    "product_master['product_res'] = product_master['product_res'].str.split('_')\n",
    "product_master['product'] = product_master['product_res'].apply(lambda x: x[0])\n",
    "product_master['restaurant_id'] = product_master['product_res'].apply(lambda x: x[1])\n",
    "\n",
    "# Drop the product_res\n",
    "product_master.drop(columns='product_res',inplace= True)"
   ]
  },
  {
   "cell_type": "code",
   "execution_count": 62,
   "metadata": {
    "id": "ZktHu3G34xeg"
   },
   "outputs": [],
   "source": [
    " ### Recheck the correctness of price from product master in missing dataset ###\n",
    "\n",
    "# Join order_product_df with product master to get price of each product\n",
    " join_product_master_df = order_product_df.merge(product_master,how ='left',on=['product','restaurant_id'])\n",
    "\n",
    " # Calculate total price of each order + product\n",
    " join_product_master_df['order_price_before_discount(master)'] =  join_product_master_df['unit']*join_product_master_df['product_price']\n",
    "\n",
    " # Group by order_id and get total order price using price from product master\n",
    " order_total_price_from_master_df= join_product_master_df[['order_id','order_price_before_discount(master)']].groupby(by='order_id').sum()\n",
    "\n",
    " # Left join to the missing datset with the order price derived using product master\n",
    "check_order_price_df =missing_df[['order_id','order_price','coupon_discount']].merge(order_total_price_from_master_df\n",
    "                                                                                     ,how ='left'\n",
    "                                                                                    ,on='order_id')\n",
    "# Apply coupon discount to order_price_before_discount(master)\n",
    "check_order_price_df['order_price_after_discount(master)'] = check_order_price_df['order_price_before_discount(master)'] *(1-check_order_price_df['coupon_discount']/100)\n",
    "\n",
    "# Round order price to get similar decimal to order_price\n",
    "check_order_price_df['order_price_after_discount(master)'] = check_order_price_df['order_price_after_discount(master)'].round(3)\n",
    "\n",
    "# Find the differences between order price from the dataset and from using price from product master\n",
    "check_order_price_df['diff']= round(check_order_price_df['order_price'] - check_order_price_df['order_price_after_discount(master)'],3)"
   ]
  },
  {
   "cell_type": "code",
   "execution_count": 63,
   "metadata": {
    "colab": {
     "base_uri": "https://localhost:8080/",
     "height": 0
    },
    "id": "exBr3WAMCPxY",
    "outputId": "84d87a43-95b3-46a6-d196-64c6ff8b164f"
   },
   "outputs": [
    {
     "data": {
      "text/html": [
       "<div>\n",
       "<style scoped>\n",
       "    .dataframe tbody tr th:only-of-type {\n",
       "        vertical-align: middle;\n",
       "    }\n",
       "\n",
       "    .dataframe tbody tr th {\n",
       "        vertical-align: top;\n",
       "    }\n",
       "\n",
       "    .dataframe thead th {\n",
       "        text-align: right;\n",
       "    }\n",
       "</style>\n",
       "<table border=\"1\" class=\"dataframe\">\n",
       "  <thead>\n",
       "    <tr style=\"text-align: right;\">\n",
       "      <th></th>\n",
       "      <th>order_id</th>\n",
       "      <th>order_price</th>\n",
       "      <th>coupon_discount</th>\n",
       "      <th>order_price_before_discount(master)</th>\n",
       "      <th>order_price_after_discount(master)</th>\n",
       "      <th>diff</th>\n",
       "    </tr>\n",
       "  </thead>\n",
       "  <tbody>\n",
       "    <tr>\n",
       "      <th>0</th>\n",
       "      <td>ORD255084</td>\n",
       "      <td>50.760</td>\n",
       "      <td>45</td>\n",
       "      <td>92.29</td>\n",
       "      <td>50.760</td>\n",
       "      <td>0.0</td>\n",
       "    </tr>\n",
       "    <tr>\n",
       "      <th>1</th>\n",
       "      <td>ORD321060</td>\n",
       "      <td>28.944</td>\n",
       "      <td>20</td>\n",
       "      <td>36.18</td>\n",
       "      <td>28.944</td>\n",
       "      <td>0.0</td>\n",
       "    </tr>\n",
       "    <tr>\n",
       "      <th>2</th>\n",
       "      <td>ORD133085</td>\n",
       "      <td>95.370</td>\n",
       "      <td>0</td>\n",
       "      <td>95.37</td>\n",
       "      <td>95.370</td>\n",
       "      <td>0.0</td>\n",
       "    </tr>\n",
       "    <tr>\n",
       "      <th>3</th>\n",
       "      <td>ORD026466</td>\n",
       "      <td>84.440</td>\n",
       "      <td>0</td>\n",
       "      <td>84.44</td>\n",
       "      <td>84.440</td>\n",
       "      <td>0.0</td>\n",
       "    </tr>\n",
       "    <tr>\n",
       "      <th>4</th>\n",
       "      <td>ORD190801</td>\n",
       "      <td>52.980</td>\n",
       "      <td>0</td>\n",
       "      <td>52.98</td>\n",
       "      <td>52.980</td>\n",
       "      <td>0.0</td>\n",
       "    </tr>\n",
       "    <tr>\n",
       "      <th>5</th>\n",
       "      <td>ORD287556</td>\n",
       "      <td>34.524</td>\n",
       "      <td>45</td>\n",
       "      <td>62.77</td>\n",
       "      <td>34.524</td>\n",
       "      <td>0.0</td>\n",
       "    </tr>\n",
       "    <tr>\n",
       "      <th>6</th>\n",
       "      <td>ORD082330</td>\n",
       "      <td>36.430</td>\n",
       "      <td>0</td>\n",
       "      <td>36.43</td>\n",
       "      <td>36.430</td>\n",
       "      <td>0.0</td>\n",
       "    </tr>\n",
       "    <tr>\n",
       "      <th>7</th>\n",
       "      <td>ORD082337</td>\n",
       "      <td>33.250</td>\n",
       "      <td>0</td>\n",
       "      <td>33.25</td>\n",
       "      <td>33.250</td>\n",
       "      <td>0.0</td>\n",
       "    </tr>\n",
       "    <tr>\n",
       "      <th>8</th>\n",
       "      <td>ORD126320</td>\n",
       "      <td>81.054</td>\n",
       "      <td>10</td>\n",
       "      <td>90.06</td>\n",
       "      <td>81.054</td>\n",
       "      <td>0.0</td>\n",
       "    </tr>\n",
       "    <tr>\n",
       "      <th>9</th>\n",
       "      <td>ORD009011</td>\n",
       "      <td>42.480</td>\n",
       "      <td>0</td>\n",
       "      <td>42.48</td>\n",
       "      <td>42.480</td>\n",
       "      <td>0.0</td>\n",
       "    </tr>\n",
       "  </tbody>\n",
       "</table>\n",
       "</div>"
      ],
      "text/plain": [
       "    order_id  order_price  ...  order_price_after_discount(master)  diff\n",
       "0  ORD255084       50.760  ...                              50.760   0.0\n",
       "1  ORD321060       28.944  ...                              28.944   0.0\n",
       "2  ORD133085       95.370  ...                              95.370   0.0\n",
       "3  ORD026466       84.440  ...                              84.440   0.0\n",
       "4  ORD190801       52.980  ...                              52.980   0.0\n",
       "5  ORD287556       34.524  ...                              34.524   0.0\n",
       "6  ORD082330       36.430  ...                              36.430   0.0\n",
       "7  ORD082337       33.250  ...                              33.250   0.0\n",
       "8  ORD126320       81.054  ...                              81.054   0.0\n",
       "9  ORD009011       42.480  ...                              42.480   0.0\n",
       "\n",
       "[10 rows x 6 columns]"
      ]
     },
     "execution_count": 63,
     "metadata": {},
     "output_type": "execute_result"
    }
   ],
   "source": [
    "# Show  sample comparison between order price and order price derived from solved price\n",
    "check_order_price_df.head(10)"
   ]
  },
  {
   "cell_type": "code",
   "execution_count": 64,
   "metadata": {
    "colab": {
     "base_uri": "https://localhost:8080/",
     "height": 0
    },
    "id": "Dxi_BTmuFlcg",
    "outputId": "25ef4834-4669-4a77-9193-3fbdac17d10f"
   },
   "outputs": [
    {
     "data": {
      "text/html": [
       "<div>\n",
       "<style scoped>\n",
       "    .dataframe tbody tr th:only-of-type {\n",
       "        vertical-align: middle;\n",
       "    }\n",
       "\n",
       "    .dataframe tbody tr th {\n",
       "        vertical-align: top;\n",
       "    }\n",
       "\n",
       "    .dataframe thead th {\n",
       "        text-align: right;\n",
       "    }\n",
       "</style>\n",
       "<table border=\"1\" class=\"dataframe\">\n",
       "  <thead>\n",
       "    <tr style=\"text-align: right;\">\n",
       "      <th></th>\n",
       "      <th>order_price</th>\n",
       "      <th>coupon_discount</th>\n",
       "      <th>order_price_before_discount(master)</th>\n",
       "      <th>order_price_after_discount(master)</th>\n",
       "      <th>diff</th>\n",
       "    </tr>\n",
       "  </thead>\n",
       "  <tbody>\n",
       "    <tr>\n",
       "      <th>count</th>\n",
       "      <td>500.000000</td>\n",
       "      <td>500.000000</td>\n",
       "      <td>500.000000</td>\n",
       "      <td>500.000000</td>\n",
       "      <td>500.0</td>\n",
       "    </tr>\n",
       "    <tr>\n",
       "      <th>mean</th>\n",
       "      <td>73.545930</td>\n",
       "      <td>14.900000</td>\n",
       "      <td>86.549480</td>\n",
       "      <td>73.545930</td>\n",
       "      <td>0.0</td>\n",
       "    </tr>\n",
       "    <tr>\n",
       "      <th>std</th>\n",
       "      <td>34.476343</td>\n",
       "      <td>17.894984</td>\n",
       "      <td>35.746871</td>\n",
       "      <td>34.476343</td>\n",
       "      <td>0.0</td>\n",
       "    </tr>\n",
       "    <tr>\n",
       "      <th>min</th>\n",
       "      <td>11.676000</td>\n",
       "      <td>0.000000</td>\n",
       "      <td>18.230000</td>\n",
       "      <td>11.676000</td>\n",
       "      <td>0.0</td>\n",
       "    </tr>\n",
       "    <tr>\n",
       "      <th>25%</th>\n",
       "      <td>48.363750</td>\n",
       "      <td>0.000000</td>\n",
       "      <td>57.500000</td>\n",
       "      <td>48.363750</td>\n",
       "      <td>0.0</td>\n",
       "    </tr>\n",
       "    <tr>\n",
       "      <th>50%</th>\n",
       "      <td>70.121000</td>\n",
       "      <td>10.000000</td>\n",
       "      <td>85.810000</td>\n",
       "      <td>70.121000</td>\n",
       "      <td>0.0</td>\n",
       "    </tr>\n",
       "    <tr>\n",
       "      <th>75%</th>\n",
       "      <td>94.685000</td>\n",
       "      <td>40.000000</td>\n",
       "      <td>110.795000</td>\n",
       "      <td>94.685000</td>\n",
       "      <td>0.0</td>\n",
       "    </tr>\n",
       "    <tr>\n",
       "      <th>max</th>\n",
       "      <td>197.480000</td>\n",
       "      <td>45.000000</td>\n",
       "      <td>197.480000</td>\n",
       "      <td>197.480000</td>\n",
       "      <td>0.0</td>\n",
       "    </tr>\n",
       "  </tbody>\n",
       "</table>\n",
       "</div>"
      ],
      "text/plain": [
       "       order_price  coupon_discount  ...  order_price_after_discount(master)   diff\n",
       "count   500.000000       500.000000  ...                          500.000000  500.0\n",
       "mean     73.545930        14.900000  ...                           73.545930    0.0\n",
       "std      34.476343        17.894984  ...                           34.476343    0.0\n",
       "min      11.676000         0.000000  ...                           11.676000    0.0\n",
       "25%      48.363750         0.000000  ...                           48.363750    0.0\n",
       "50%      70.121000        10.000000  ...                           70.121000    0.0\n",
       "75%      94.685000        40.000000  ...                           94.685000    0.0\n",
       "max     197.480000        45.000000  ...                          197.480000    0.0\n",
       "\n",
       "[8 rows x 5 columns]"
      ]
     },
     "execution_count": 64,
     "metadata": {},
     "output_type": "execute_result"
    }
   ],
   "source": [
    "# Check the statistics\n",
    "check_order_price_df.describe()"
   ]
  },
  {
   "cell_type": "markdown",
   "metadata": {
    "id": "QpDxR73YVpTw"
   },
   "source": [
    "As a result, we get the product master, which contains price information and is proven to give a correct order price in missing dataset. Therefore, price from the product master will be used to fix anomaly in dirty dataset"
   ]
  },
  {
   "cell_type": "markdown",
   "metadata": {
    "id": "ReR7HGA3WXcr"
   },
   "source": [
    "####1.10.2 Recalculate Order Price in Dirty Dataset"
   ]
  },
  {
   "cell_type": "markdown",
   "metadata": {
    "id": "muc5IVNTBLBl"
   },
   "source": [
    "After the product master has been created, we can use price data along with product units in the shopping cart column with coupon discount to calculate total order price in each order. To do that we start from :\n",
    "\n",
    "- Create order_product_dirty_df that each row represents product+restaurant level from dirty dataset\n",
    "- Join order_product_dirty_df with product master to get price of each product and create join_dirty_product_master_df\n",
    "- Calculate total price of each order + product in join_dirty_product_master_df\n",
    "- Group by order_id and get total order price using price from product master and create dirty_order_total_price_from_master_df\n",
    "- Left join to the dirty datset with the order price derived using product master to get order price and coupon discount and create check_dirty_order_price_df\n",
    "- Apply coupon discount to order_price_before_discount(master)\n",
    "- Round order price to get similar decimal to order_price\n",
    "- Find the differences between order price from the dataset and from using price from product master\n",
    "- Check records that contain mismatch (only 6 records)\n",
    "- Replace order price in dirty dataset with order_price_after_discount(master) used price from product master\n"
   ]
  },
  {
   "cell_type": "code",
   "execution_count": 65,
   "metadata": {
    "id": "taH7ggr1Xh7m"
   },
   "outputs": [],
   "source": [
    "### Create order_product_dirty_df that each row represents product+restaurant level ###\n",
    "\n",
    "# Create order product dirty df by obtaining order_id and shopping_cart from dirty dataset\n",
    "order_product_dirty_df = dirty_df.loc[:,['order_id','shopping_cart','restaurant_id']]\n",
    "\n",
    "# Change the shopping_cart type to list\n",
    "order_product_dirty_df.loc[:,'shopping_cart'] = order_product_dirty_df.loc[:,'shopping_cart'].apply(lambda x:ast.literal_eval(x))\n",
    "\n",
    "# Create new columns namely product and unit obtained from exploding shopping cart\n",
    "order_product_dirty_df =  order_product_dirty_df.explode('shopping_cart').reset_index(drop = True)\n",
    "order_product_dirty_df.loc[:,'product'] = order_product_dirty_df.loc[:,'shopping_cart'].apply(lambda x: x[0])\n",
    "order_product_dirty_df.loc[:,'unit'] = order_product_dirty_df.loc[:,'shopping_cart'].apply(lambda x: x[1])\n",
    "\n",
    "# Drop shopping cart column\n",
    "order_product_dirty_df.drop(columns='shopping_cart', inplace = True)"
   ]
  },
  {
   "cell_type": "code",
   "execution_count": 66,
   "metadata": {
    "id": "mQcDUMxeYPZU"
   },
   "outputs": [],
   "source": [
    "# Join order_product_dirty_df with product master to get price of each product\n",
    "join_dirty_product_master_df = order_product_dirty_df.merge(product_master,how ='left',on=['product','restaurant_id'])\n",
    "\n",
    " # Calculate total price of each order + product\n",
    "join_dirty_product_master_df['order_price_before_discount(master)'] =  join_dirty_product_master_df['unit']\\\n",
    "                                                                        *join_dirty_product_master_df['product_price']\n",
    "\n",
    "# Group by order_id and get total order price using price from product master\n",
    "dirty_order_total_price_from_master_df= join_dirty_product_master_df[['order_id','order_price_before_discount(master)']]\\\n",
    "                                      .groupby(by='order_id').sum() \n",
    "\n",
    "\n",
    "# Left join to the dirty datset with the order price derived using product master to get order price and coupon discount\n",
    "check_dirty_order_price_df =dirty_df[['order_id','order_price','coupon_discount']].merge(dirty_order_total_price_from_master_df\n",
    "                                                                                     ,how ='left'\n",
    "                                                                                    ,on='order_id')\n",
    "\n",
    "# Apply coupon discount to order_price_before_discount(master)\n",
    "check_dirty_order_price_df['order_price_after_discount(master)'] = check_dirty_order_price_df['order_price_before_discount(master)'] *(1-check_dirty_order_price_df['coupon_discount']/100)\n",
    "\n",
    "# Round order price to get similar decimal to order_price\n",
    "check_dirty_order_price_df['order_price_after_discount(master)'] = check_dirty_order_price_df['order_price_after_discount(master)'].round(3)\n",
    "\n",
    "# Find the differences between order price from the dataset and from using price from product master\n",
    "check_dirty_order_price_df['diff']= round(check_dirty_order_price_df['order_price'] - check_dirty_order_price_df['order_price_after_discount(master)'],3)"
   ]
  },
  {
   "cell_type": "code",
   "execution_count": 67,
   "metadata": {
    "colab": {
     "base_uri": "https://localhost:8080/",
     "height": 0
    },
    "id": "rfQ91xqBaA94",
    "outputId": "c46bbe24-c849-494b-a5ec-7bc1c6142c1b"
   },
   "outputs": [
    {
     "data": {
      "text/html": [
       "<div>\n",
       "<style scoped>\n",
       "    .dataframe tbody tr th:only-of-type {\n",
       "        vertical-align: middle;\n",
       "    }\n",
       "\n",
       "    .dataframe tbody tr th {\n",
       "        vertical-align: top;\n",
       "    }\n",
       "\n",
       "    .dataframe thead th {\n",
       "        text-align: right;\n",
       "    }\n",
       "</style>\n",
       "<table border=\"1\" class=\"dataframe\">\n",
       "  <thead>\n",
       "    <tr style=\"text-align: right;\">\n",
       "      <th></th>\n",
       "      <th>order_id</th>\n",
       "      <th>order_price</th>\n",
       "      <th>coupon_discount</th>\n",
       "      <th>order_price_before_discount(master)</th>\n",
       "      <th>order_price_after_discount(master)</th>\n",
       "      <th>diff</th>\n",
       "    </tr>\n",
       "  </thead>\n",
       "  <tbody>\n",
       "    <tr>\n",
       "      <th>15</th>\n",
       "      <td>ORD204890</td>\n",
       "      <td>31.740</td>\n",
       "      <td>0</td>\n",
       "      <td>104.18</td>\n",
       "      <td>104.180</td>\n",
       "      <td>-72.440</td>\n",
       "    </tr>\n",
       "    <tr>\n",
       "      <th>348</th>\n",
       "      <td>ORD060842</td>\n",
       "      <td>46.730</td>\n",
       "      <td>0</td>\n",
       "      <td>113.34</td>\n",
       "      <td>113.340</td>\n",
       "      <td>-66.610</td>\n",
       "    </tr>\n",
       "    <tr>\n",
       "      <th>5</th>\n",
       "      <td>ORD184022</td>\n",
       "      <td>91.056</td>\n",
       "      <td>0</td>\n",
       "      <td>151.76</td>\n",
       "      <td>151.760</td>\n",
       "      <td>-60.704</td>\n",
       "    </tr>\n",
       "    <tr>\n",
       "      <th>227</th>\n",
       "      <td>ORD170555</td>\n",
       "      <td>74.085</td>\n",
       "      <td>20</td>\n",
       "      <td>134.70</td>\n",
       "      <td>107.760</td>\n",
       "      <td>-33.675</td>\n",
       "    </tr>\n",
       "    <tr>\n",
       "      <th>384</th>\n",
       "      <td>ORD133203</td>\n",
       "      <td>96.201</td>\n",
       "      <td>0</td>\n",
       "      <td>117.86</td>\n",
       "      <td>117.860</td>\n",
       "      <td>-21.659</td>\n",
       "    </tr>\n",
       "    <tr>\n",
       "      <th>152</th>\n",
       "      <td>ORD319415</td>\n",
       "      <td>64.108</td>\n",
       "      <td>40</td>\n",
       "      <td>116.56</td>\n",
       "      <td>69.936</td>\n",
       "      <td>-5.828</td>\n",
       "    </tr>\n",
       "    <tr>\n",
       "      <th>0</th>\n",
       "      <td>ORD287671</td>\n",
       "      <td>50.670</td>\n",
       "      <td>0</td>\n",
       "      <td>50.67</td>\n",
       "      <td>50.670</td>\n",
       "      <td>0.000</td>\n",
       "    </tr>\n",
       "    <tr>\n",
       "      <th>331</th>\n",
       "      <td>ORD338002</td>\n",
       "      <td>72.290</td>\n",
       "      <td>0</td>\n",
       "      <td>72.29</td>\n",
       "      <td>72.290</td>\n",
       "      <td>0.000</td>\n",
       "    </tr>\n",
       "    <tr>\n",
       "      <th>332</th>\n",
       "      <td>ORD041637</td>\n",
       "      <td>28.989</td>\n",
       "      <td>10</td>\n",
       "      <td>32.21</td>\n",
       "      <td>28.989</td>\n",
       "      <td>0.000</td>\n",
       "    </tr>\n",
       "    <tr>\n",
       "      <th>333</th>\n",
       "      <td>ORD173200</td>\n",
       "      <td>116.790</td>\n",
       "      <td>0</td>\n",
       "      <td>116.79</td>\n",
       "      <td>116.790</td>\n",
       "      <td>0.000</td>\n",
       "    </tr>\n",
       "  </tbody>\n",
       "</table>\n",
       "</div>"
      ],
      "text/plain": [
       "      order_id  order_price  ...  order_price_after_discount(master)    diff\n",
       "15   ORD204890       31.740  ...                             104.180 -72.440\n",
       "348  ORD060842       46.730  ...                             113.340 -66.610\n",
       "5    ORD184022       91.056  ...                             151.760 -60.704\n",
       "227  ORD170555       74.085  ...                             107.760 -33.675\n",
       "384  ORD133203       96.201  ...                             117.860 -21.659\n",
       "152  ORD319415       64.108  ...                              69.936  -5.828\n",
       "0    ORD287671       50.670  ...                              50.670   0.000\n",
       "331  ORD338002       72.290  ...                              72.290   0.000\n",
       "332  ORD041637       28.989  ...                              28.989   0.000\n",
       "333  ORD173200      116.790  ...                             116.790   0.000\n",
       "\n",
       "[10 rows x 6 columns]"
      ]
     },
     "execution_count": 67,
     "metadata": {},
     "output_type": "execute_result"
    }
   ],
   "source": [
    "# Check records that contain mismatch (only 6 records)\n",
    "check_dirty_order_price_df.sort_values(by = 'diff').head(10)"
   ]
  },
  {
   "cell_type": "code",
   "execution_count": 68,
   "metadata": {
    "id": "Hcs-zcGgXyTc"
   },
   "outputs": [],
   "source": [
    "# Replace order price with order_price_after_discount(master) used price from product master \n",
    "dirty_df['order_price'] = check_dirty_order_price_df['order_price_after_discount(master)'] "
   ]
  },
  {
   "cell_type": "markdown",
   "metadata": {
    "id": "-o6qP4qrRYvW"
   },
   "source": [
    "###1.10 Writing CSV Output for Dirty Dataset Solution"
   ]
  },
  {
   "cell_type": "code",
   "execution_count": 69,
   "metadata": {
    "id": "Ef-0UgdFrW9Z"
   },
   "outputs": [],
   "source": [
    "# Writing CSV Output for Dirty Dataset Solution\n",
    "dirty_df.to_csv('31258301_dirty_solution.csv', index = False)"
   ]
  },
  {
   "cell_type": "markdown",
   "metadata": {
    "id": "lWBxa2kzTa69"
   },
   "source": [
    "###1.11 Summary for Task 1(Dirty Dataset)"
   ]
  },
  {
   "cell_type": "markdown",
   "metadata": {
    "id": "eF0HIuDHxt6H"
   },
   "source": [
    "In summary, we perform several checkings in the dirty dataset, which are:\n",
    "\n",
    "- Overall Exploratory Data Analysis(EDA)\n",
    "- Checking ID Columns (order_id, restaurant_id,customer_id,carrier_id, carrier_id)\n",
    "- Checking Customer's Latitude and Longtitude Columns\n",
    "- Checking Date and Time Columns\n",
    "- Checking Boolean Columns Derived from Data and Time (is_peak_time, is_weekend)\n",
    "- Checking Carrier Vehicle columns\n",
    "- Checking Restaurant Rating\n",
    "- Checking Shortest Distance to Customer Column\n",
    "- Checking Travel Time Minutes Column\n",
    "- Checking Order Price\n",
    "\n",
    "\n",
    "We found 9 errors in dirty dataset consisting of :\n",
    "\n",
    "- Error 1 : Extreme values for customer_lat and customer_lon (suspicious to be swapped between lat and lon)\n",
    "- Error 2 : Inconsistent date format\n",
    "- Error 3 : Contradiction between is_weekend and date\n",
    "- Error 4 : Contradiction between is_peak_time and hour\n",
    "- Error 5 : Cases Inconsistency in Carrier Vehicle\n",
    "- Error 6 : Restaurant Rating is not Matched with Calculation criteria\n",
    "- Error 7 : Shortest Distance to Customer is not Matched with Calculation Criteria\n",
    "- Error 8 : Travel time minutes is not Matched with Calculation Criteria\n",
    "- Error 9 : There is Inconsistent Order Price Given the Product Price\n",
    "\n",
    "So we fix each error by :\n",
    "- Fix 1 : Swapping values between customer_lat and customer_lon\n",
    "- Fix 2 : Identifying all existing date formats and replacing with the correct one (YYYY-MM-DD )\n",
    "- Fix 3: Replace is_weekend that is extracted from the date to the wrong is_weekend\n",
    "- Fix 4: Replace is_peak_time that is extracted from the hour to the wrong is_peak_time\n",
    "- Fix 5: Replace the Correct Cases to Carrier Vehicle\n",
    "- Fix 6: Recalculating Restaurant Ratings and Replace them back\n",
    "- Fix 7: Recalculating Shortest Distances to Customer and Replace them back\n",
    "- Fix 8: Recalculating travel time minutes and replace them back\n",
    "- Fix 9 : Create Product Master and Recalculate Order Price for Dirty Dataset\n",
    "\n",
    "Finally, we write the output in CSV format of cleaned dirty dataset"
   ]
  },
  {
   "cell_type": "markdown",
   "metadata": {
    "id": "6DtsaYmMupGW"
   },
   "source": [
    "## Task 2: Imputing the Missing Values in Missing Dataset"
   ]
  },
  {
   "cell_type": "markdown",
   "metadata": {
    "id": "Wtz1qlcFQ-jD"
   },
   "source": [
    "###2.1 Checking Columns that Contain Missing Values"
   ]
  },
  {
   "cell_type": "markdown",
   "metadata": {
    "id": "5EYpWh-r1yjC"
   },
   "source": [
    "In the part,we know that only error type that we have to fix is missing values so we focus on checking columns that contain missing values. "
   ]
  },
  {
   "cell_type": "code",
   "execution_count": 70,
   "metadata": {
    "colab": {
     "base_uri": "https://localhost:8080/"
    },
    "id": "EY-YIC0xQ1WI",
    "outputId": "3f294cc3-fa9c-4a9b-aeae-b1b388808a13"
   },
   "outputs": [
    {
     "data": {
      "text/plain": [
       "order_id                           0\n",
       "restaurant_id                      0\n",
       "customer_id                        0\n",
       "carrier_id                         0\n",
       "customer_lat                       0\n",
       "customer_lon                       0\n",
       "date                               0\n",
       "time                               0\n",
       "is_peak_time                       0\n",
       "is_weekend                         0\n",
       "carrier_vehicle                    0\n",
       "shopping_cart                      0\n",
       "coupon_discount                    0\n",
       "order_price                        0\n",
       "shortest_distance_to_customer    150\n",
       "travel_time_minutes                0\n",
       "restaurant_rating                500\n",
       "delivery_charges                 150\n",
       "dtype: int64"
      ]
     },
     "execution_count": 70,
     "metadata": {},
     "output_type": "execute_result"
    }
   ],
   "source": [
    "# Check for missing columns\n",
    "missing_df.isnull().sum()"
   ]
  },
  {
   "cell_type": "code",
   "execution_count": 71,
   "metadata": {
    "colab": {
     "base_uri": "https://localhost:8080/",
     "height": 320
    },
    "id": "9myWT1eKSqEp",
    "outputId": "a65000f7-641a-497e-dae9-0866bf216ef3"
   },
   "outputs": [
    {
     "data": {
      "text/html": [
       "<div>\n",
       "<style scoped>\n",
       "    .dataframe tbody tr th:only-of-type {\n",
       "        vertical-align: middle;\n",
       "    }\n",
       "\n",
       "    .dataframe tbody tr th {\n",
       "        vertical-align: top;\n",
       "    }\n",
       "\n",
       "    .dataframe thead th {\n",
       "        text-align: right;\n",
       "    }\n",
       "</style>\n",
       "<table border=\"1\" class=\"dataframe\">\n",
       "  <thead>\n",
       "    <tr style=\"text-align: right;\">\n",
       "      <th></th>\n",
       "      <th>customer_lat</th>\n",
       "      <th>customer_lon</th>\n",
       "      <th>is_peak_time</th>\n",
       "      <th>is_weekend</th>\n",
       "      <th>coupon_discount</th>\n",
       "      <th>order_price</th>\n",
       "      <th>shortest_distance_to_customer</th>\n",
       "      <th>travel_time_minutes</th>\n",
       "      <th>restaurant_rating</th>\n",
       "      <th>delivery_charges</th>\n",
       "    </tr>\n",
       "  </thead>\n",
       "  <tbody>\n",
       "    <tr>\n",
       "      <th>count</th>\n",
       "      <td>500.000000</td>\n",
       "      <td>500.000000</td>\n",
       "      <td>500.000000</td>\n",
       "      <td>500.000000</td>\n",
       "      <td>500.000000</td>\n",
       "      <td>500.000000</td>\n",
       "      <td>350.000000</td>\n",
       "      <td>500.000000</td>\n",
       "      <td>0.0</td>\n",
       "      <td>350.000000</td>\n",
       "    </tr>\n",
       "    <tr>\n",
       "      <th>mean</th>\n",
       "      <td>-37.812132</td>\n",
       "      <td>144.965504</td>\n",
       "      <td>0.138000</td>\n",
       "      <td>0.264000</td>\n",
       "      <td>14.900000</td>\n",
       "      <td>73.545930</td>\n",
       "      <td>2751.108571</td>\n",
       "      <td>8.660000</td>\n",
       "      <td>NaN</td>\n",
       "      <td>4.023825</td>\n",
       "    </tr>\n",
       "    <tr>\n",
       "      <th>std</th>\n",
       "      <td>0.007685</td>\n",
       "      <td>0.020730</td>\n",
       "      <td>0.345245</td>\n",
       "      <td>0.441241</td>\n",
       "      <td>17.894984</td>\n",
       "      <td>34.476343</td>\n",
       "      <td>1560.585013</td>\n",
       "      <td>6.427677</td>\n",
       "      <td>NaN</td>\n",
       "      <td>0.970639</td>\n",
       "    </tr>\n",
       "    <tr>\n",
       "      <th>min</th>\n",
       "      <td>-37.827489</td>\n",
       "      <td>144.910992</td>\n",
       "      <td>0.000000</td>\n",
       "      <td>0.000000</td>\n",
       "      <td>0.000000</td>\n",
       "      <td>11.676000</td>\n",
       "      <td>84.000000</td>\n",
       "      <td>0.000000</td>\n",
       "      <td>NaN</td>\n",
       "      <td>2.076000</td>\n",
       "    </tr>\n",
       "    <tr>\n",
       "      <th>25%</th>\n",
       "      <td>-37.819036</td>\n",
       "      <td>144.951554</td>\n",
       "      <td>0.000000</td>\n",
       "      <td>0.000000</td>\n",
       "      <td>0.000000</td>\n",
       "      <td>48.363750</td>\n",
       "      <td>1613.250000</td>\n",
       "      <td>4.000000</td>\n",
       "      <td>NaN</td>\n",
       "      <td>3.289250</td>\n",
       "    </tr>\n",
       "    <tr>\n",
       "      <th>50%</th>\n",
       "      <td>-37.812473</td>\n",
       "      <td>144.962698</td>\n",
       "      <td>0.000000</td>\n",
       "      <td>0.000000</td>\n",
       "      <td>10.000000</td>\n",
       "      <td>70.121000</td>\n",
       "      <td>2551.500000</td>\n",
       "      <td>7.000000</td>\n",
       "      <td>NaN</td>\n",
       "      <td>3.812900</td>\n",
       "    </tr>\n",
       "    <tr>\n",
       "      <th>75%</th>\n",
       "      <td>-37.805681</td>\n",
       "      <td>144.980390</td>\n",
       "      <td>0.000000</td>\n",
       "      <td>1.000000</td>\n",
       "      <td>40.000000</td>\n",
       "      <td>94.685000</td>\n",
       "      <td>3743.000000</td>\n",
       "      <td>11.000000</td>\n",
       "      <td>NaN</td>\n",
       "      <td>4.573800</td>\n",
       "    </tr>\n",
       "    <tr>\n",
       "      <th>max</th>\n",
       "      <td>-37.787433</td>\n",
       "      <td>145.016065</td>\n",
       "      <td>1.000000</td>\n",
       "      <td>1.000000</td>\n",
       "      <td>45.000000</td>\n",
       "      <td>197.480000</td>\n",
       "      <td>8654.000000</td>\n",
       "      <td>38.000000</td>\n",
       "      <td>NaN</td>\n",
       "      <td>7.782300</td>\n",
       "    </tr>\n",
       "  </tbody>\n",
       "</table>\n",
       "</div>"
      ],
      "text/plain": [
       "       customer_lat  customer_lon  ...  restaurant_rating  delivery_charges\n",
       "count    500.000000    500.000000  ...                0.0        350.000000\n",
       "mean     -37.812132    144.965504  ...                NaN          4.023825\n",
       "std        0.007685      0.020730  ...                NaN          0.970639\n",
       "min      -37.827489    144.910992  ...                NaN          2.076000\n",
       "25%      -37.819036    144.951554  ...                NaN          3.289250\n",
       "50%      -37.812473    144.962698  ...                NaN          3.812900\n",
       "75%      -37.805681    144.980390  ...                NaN          4.573800\n",
       "max      -37.787433    145.016065  ...                NaN          7.782300\n",
       "\n",
       "[8 rows x 10 columns]"
      ]
     },
     "execution_count": 71,
     "metadata": {},
     "output_type": "execute_result"
    }
   ],
   "source": [
    "# Show statistics for numerical values\n",
    "missing_df.describe()"
   ]
  },
  {
   "cell_type": "code",
   "execution_count": 72,
   "metadata": {
    "colab": {
     "base_uri": "https://localhost:8080/",
     "height": 229
    },
    "id": "vmAuevemS70S",
    "outputId": "7754fe80-aaff-4764-91f7-b088fed26615"
   },
   "outputs": [
    {
     "data": {
      "text/html": [
       "<div>\n",
       "<style scoped>\n",
       "    .dataframe tbody tr th:only-of-type {\n",
       "        vertical-align: middle;\n",
       "    }\n",
       "\n",
       "    .dataframe tbody tr th {\n",
       "        vertical-align: top;\n",
       "    }\n",
       "\n",
       "    .dataframe thead th {\n",
       "        text-align: right;\n",
       "    }\n",
       "</style>\n",
       "<table border=\"1\" class=\"dataframe\">\n",
       "  <thead>\n",
       "    <tr style=\"text-align: right;\">\n",
       "      <th></th>\n",
       "      <th>order_id</th>\n",
       "      <th>restaurant_id</th>\n",
       "      <th>customer_id</th>\n",
       "      <th>carrier_id</th>\n",
       "      <th>date</th>\n",
       "      <th>time</th>\n",
       "      <th>carrier_vehicle</th>\n",
       "      <th>shopping_cart</th>\n",
       "    </tr>\n",
       "  </thead>\n",
       "  <tbody>\n",
       "    <tr>\n",
       "      <th>count</th>\n",
       "      <td>500</td>\n",
       "      <td>500</td>\n",
       "      <td>500</td>\n",
       "      <td>500</td>\n",
       "      <td>500</td>\n",
       "      <td>500</td>\n",
       "      <td>500</td>\n",
       "      <td>500</td>\n",
       "    </tr>\n",
       "    <tr>\n",
       "      <th>unique</th>\n",
       "      <td>500</td>\n",
       "      <td>5</td>\n",
       "      <td>490</td>\n",
       "      <td>478</td>\n",
       "      <td>269</td>\n",
       "      <td>258</td>\n",
       "      <td>3</td>\n",
       "      <td>490</td>\n",
       "    </tr>\n",
       "    <tr>\n",
       "      <th>top</th>\n",
       "      <td>ORD229840</td>\n",
       "      <td>REST0761</td>\n",
       "      <td>CUST01783</td>\n",
       "      <td>COUR3085</td>\n",
       "      <td>2020-07-29</td>\n",
       "      <td>12:43:30</td>\n",
       "      <td>Car</td>\n",
       "      <td>[('pita bread', 2), ('peri peri chicken', 3)]</td>\n",
       "    </tr>\n",
       "    <tr>\n",
       "      <th>freq</th>\n",
       "      <td>1</td>\n",
       "      <td>113</td>\n",
       "      <td>2</td>\n",
       "      <td>3</td>\n",
       "      <td>6</td>\n",
       "      <td>6</td>\n",
       "      <td>179</td>\n",
       "      <td>2</td>\n",
       "    </tr>\n",
       "  </tbody>\n",
       "</table>\n",
       "</div>"
      ],
      "text/plain": [
       "         order_id  ...                                  shopping_cart\n",
       "count         500  ...                                            500\n",
       "unique        500  ...                                            490\n",
       "top     ORD229840  ...  [('pita bread', 2), ('peri peri chicken', 3)]\n",
       "freq            1  ...                                              2\n",
       "\n",
       "[4 rows x 8 columns]"
      ]
     },
     "execution_count": 72,
     "metadata": {},
     "output_type": "execute_result"
    }
   ],
   "source": [
    "# Show statistics for categorical values\n",
    "missing_df.describe(include= 'O')"
   ]
  },
  {
   "cell_type": "markdown",
   "metadata": {
    "id": "pLt692BJRLzK"
   },
   "source": [
    "From the table above, the following columns have missing values, which are :\n",
    "\n",
    "1.restaurant_rating\n",
    "\n",
    "2.shortest_distance_to_customer\n",
    "\n",
    "3.delivery_charges\n",
    "\n",
    "In the following parts, we will impute each missing column with  appropriate approach"
   ]
  },
  {
   "cell_type": "markdown",
   "metadata": {
    "id": "OgsFe808STvs"
   },
   "source": [
    "###2.2 Imputing Restaurant Rating Values"
   ]
  },
  {
   "cell_type": "markdown",
   "metadata": {
    "id": "XCcX90viUfpl"
   },
   "source": [
    "In restaurant rating column, it contains all null values, but fortunately, we know how to calculate the rating. The process is similar to section 1.7 Checking Restaurant Rating above when dealing with rating with dirty data. In this part, we will calculate rating from restaurant dataset and join back to missing dataset."
   ]
  },
  {
   "cell_type": "code",
   "execution_count": 73,
   "metadata": {
    "colab": {
     "base_uri": "https://localhost:8080/"
    },
    "id": "skPArXB-SbxM",
    "outputId": "368868f2-5086-45ba-c4b3-21438412745e"
   },
   "outputs": [
    {
     "name": "stderr",
     "output_type": "stream",
     "text": [
      "/usr/local/lib/python3.7/dist-packages/pandas/core/indexing.py:1743: SettingWithCopyWarning: \n",
      "A value is trying to be set on a copy of a slice from a DataFrame.\n",
      "Try using .loc[row_indexer,col_indexer] = value instead\n",
      "\n",
      "See the caveats in the documentation: https://pandas.pydata.org/pandas-docs/stable/user_guide/indexing.html#returning-a-view-versus-a-copy\n",
      "  isetter(ilocs[0], value)\n"
     ]
    }
   ],
   "source": [
    "# Find the unique restaurant id that exists in missing_df\n",
    "rest_in_missingdf = list(missing_df['restaurant_id'].unique())\n",
    "\n",
    "# select only data that exists in missing_df\n",
    "select_rest_missdf = restaurant_df.loc[restaurant_df['restaurant_id'].isin(rest_in_missingdf),:]\n",
    "\n",
    "# Convert review_list column to list\n",
    "select_rest_missdf.loc[:,'reviews_list'] = select_rest_missdf.loc[:,'reviews_list'].apply(lambda x:ast.literal_eval(x))"
   ]
  },
  {
   "cell_type": "code",
   "execution_count": 74,
   "metadata": {
    "colab": {
     "base_uri": "https://localhost:8080/"
    },
    "id": "mOZcfXtPTaRM",
    "outputId": "d70aebd1-0b5f-4968-8ae6-dcdc218bd1cf"
   },
   "outputs": [
    {
     "name": "stderr",
     "output_type": "stream",
     "text": [
      "/usr/local/lib/python3.7/dist-packages/ipykernel_launcher.py:3: SettingWithCopyWarning: \n",
      "A value is trying to be set on a copy of a slice from a DataFrame.\n",
      "Try using .loc[row_indexer,col_indexer] = value instead\n",
      "\n",
      "See the caveats in the documentation: https://pandas.pydata.org/pandas-docs/stable/user_guide/indexing.html#returning-a-view-versus-a-copy\n",
      "  This is separate from the ipykernel package so we can avoid doing imports until\n"
     ]
    }
   ],
   "source": [
    "# Apply calculate_rating function to generate restaurant_rating \n",
    "# (Function is generated in 1.7 Checking Restaurant Rating ) when dealing with dirty data\n",
    "select_rest_missdf['restaurant_rating'] = select_rest_missdf['reviews_list'].apply(calculate_rating)"
   ]
  },
  {
   "cell_type": "code",
   "execution_count": 75,
   "metadata": {
    "id": "mn3hBQQoYqxE"
   },
   "outputs": [],
   "source": [
    "# Drop old restaurant_rating column\n",
    "missing_df.drop('restaurant_rating', axis='columns', inplace=True)\n",
    "\n",
    "# Join with select_rest_missdf to get new rating column\n",
    "missing_df =missing_df.merge(select_rest_missdf[['restaurant_id','restaurant_rating']],how ='left',on ='restaurant_id')"
   ]
  },
  {
   "cell_type": "markdown",
   "metadata": {
    "id": "aifmWyK2ajKG"
   },
   "source": [
    "###2.3 Imputing Shortest Distance to Customer"
   ]
  },
  {
   "cell_type": "markdown",
   "metadata": {
    "id": "2CWqp9pm3N0Q"
   },
   "source": [
    "For this part, we want to impute shortest distance to customer.This field can be derived from the algorithm specified in specification that is similar to section 1.8 Checking Shortest Distance to Customer Column To tackle this problem, we use the same approaches as section 1.8"
   ]
  },
  {
   "cell_type": "code",
   "execution_count": 76,
   "metadata": {
    "id": "uMqpKeNDVvyj"
   },
   "outputs": [],
   "source": [
    "### Create dataframe that contains restaurant and customer latitude and longtitude ###\n",
    "\n",
    "# Select restaurant_id customer_lat customer_lon from dirty dataset\n",
    "distance_df_missing = missing_df[['restaurant_id','customer_lat','customer_lon']]\n",
    "\n",
    "# Join to restaurant dataset to get restaurant_lat and restaurant_lon\n",
    "distance_df_missing = distance_df_missing.merge(select_rest_df[['restaurant_id','lat','lon']],how ='left',on ='restaurant_id')\n",
    "\n",
    "# Change the column names\n",
    "distance_df_missing.rename(columns = {'lat': 'restaurant_lat', 'lon': 'restaurant_lon'}, inplace = True)"
   ]
  },
  {
   "cell_type": "code",
   "execution_count": 77,
   "metadata": {
    "id": "FEaIcKMiWEAS"
   },
   "outputs": [],
   "source": [
    "### Round latitude and longtitude of every columns to 7 decimal places in order to be consistent in every datasources ###\n",
    "distance_df_missing['restaurant_lat'] = distance_df_missing['restaurant_lat'].apply(lambda x: round(x,7))\n",
    "distance_df_missing['restaurant_lon'] = distance_df_missing['restaurant_lon'].apply(lambda x: round(x,7))\n",
    "distance_df_missing['customer_lat'] = distance_df_missing['customer_lat'].apply(lambda x: round(x,7))\n",
    "distance_df_missing['customer_lon'] = distance_df_missing['customer_lon'].apply(lambda x: round(x,7))\n"
   ]
  },
  {
   "cell_type": "code",
   "execution_count": 78,
   "metadata": {
    "id": "6RYgFIyQWYSe"
   },
   "outputs": [],
   "source": [
    "### Join and manipulte data to get customer node and restaurant node ###\n",
    "\n",
    "# Join distance df with node_df to get node id for restaurant\n",
    "distance_df_missing = distance_df_missing.merge(node_df,how ='left',left_on =['restaurant_lat','restaurant_lon'],right_on=['lat','lon'])\n",
    "\n",
    "# rename node column name to restaurant_node\n",
    "distance_df_missing.rename(columns = {'node': 'restaurant_node'}, inplace = True)\n",
    "\n",
    "# Drop lat lon columns\n",
    "distance_df_missing.drop(columns=['lat','lon'], inplace = True)\n",
    "\n",
    "# Join distance df with node_df to get node id for customer\n",
    "distance_df_missing = distance_df_missing.merge(node_df,how ='left',left_on =['customer_lat','customer_lon'],right_on=['lat','lon'])\n",
    "\n",
    "# rename node column name to customer_node\n",
    "distance_df_missing.rename(columns = {'node': 'customer_node'}, inplace = True)\n",
    "\n",
    "# # Drop lat lon columns\n",
    "distance_df_missing.drop(columns=['lat','lon'], inplace = True)\n"
   ]
  },
  {
   "cell_type": "code",
   "execution_count": 79,
   "metadata": {
    "id": "ioUP7MzhWqg9"
   },
   "outputs": [],
   "source": [
    "### Create shortest distance list and append the shortest path using dijkstra algorithm  for each route ###\n",
    "# Remark G is a graph instance that's already created in sectio 1.8 Checking shortest distan to customer\n",
    "shortest_distance_missing_list = []\n",
    "\n",
    "for i in  range(0,len(distance_df_missing.index)) :\n",
    "\n",
    "  # Use dijkstra algorithm to find the shortest path given restaurant node and customer node\n",
    "  shortest_distance_missing = nx.single_source_dijkstra(G,source = distance_df_missing['restaurant_node'][i], target = distance_df_missing['customer_node'][i])\n",
    "  # Append the shortest distance to  shortest distance list\n",
    "  shortest_distance_missing_list.append(shortest_distance_missing[0])"
   ]
  },
  {
   "cell_type": "code",
   "execution_count": 80,
   "metadata": {
    "colab": {
     "base_uri": "https://localhost:8080/"
    },
    "id": "MtoNsF92XJok",
    "outputId": "b3b846f5-ee62-4bba-d0eb-529ded80ab92"
   },
   "outputs": [
    {
     "name": "stderr",
     "output_type": "stream",
     "text": [
      "/usr/local/lib/python3.7/dist-packages/ipykernel_launcher.py:2: SettingWithCopyWarning: \n",
      "A value is trying to be set on a copy of a slice from a DataFrame\n",
      "\n",
      "See the caveats in the documentation: https://pandas.pydata.org/pandas-docs/stable/user_guide/indexing.html#returning-a-view-versus-a-copy\n",
      "  \n"
     ]
    }
   ],
   "source": [
    "# Impute shortest_distance_to_customer by using the given algorithm\n",
    "missing_df['shortest_distance_to_customer'][missing_df['shortest_distance_to_customer'].isnull()] = shortest_distance_missing_list"
   ]
  },
  {
   "cell_type": "markdown",
   "metadata": {
    "id": "XsXfhhul7DQE"
   },
   "source": [
    "###2.4 Imputing Delivery Charges"
   ]
  },
  {
   "cell_type": "markdown",
   "metadata": {
    "id": "vUm6jPOa5LuH"
   },
   "source": [
    "Delivery chareges can be calculated by linear regression with 'travel_time_minutes','is_peak_time','is_weekend' and 'restaurant_rating' as features (given in the requirement). Therefore, we train model on the rows that have complete data on these features and target variable (delivery charges) to get linear model. After that, we use that model to predict delivery charges and use these values for imputation"
   ]
  },
  {
   "cell_type": "code",
   "execution_count": 81,
   "metadata": {
    "id": "kvDivUqH8ZxO"
   },
   "outputs": [],
   "source": [
    "# Create new dataframe that we will drop all row that contain null value in missing_impute_df['delivery_charges']\n",
    "missing_dropna_df =missing_df.copy()\n",
    "missing_dropna_df.dropna(subset=['delivery_charges'],axis = 0, inplace=True)\n",
    "\n",
    "# Subset for feature X and output Y that use for the model\n",
    "lm_fitting_df_X = missing_dropna_df[['travel_time_minutes','is_peak_time','is_weekend','restaurant_rating']]\n",
    "lm_fitting_df_Y = missing_dropna_df['delivery_charges']\n"
   ]
  },
  {
   "cell_type": "code",
   "execution_count": 82,
   "metadata": {
    "id": "72W74X-h7gK7"
   },
   "outputs": [],
   "source": [
    "# Initialise linear regression\n",
    "lm_for_impute = LinearRegression()\n",
    "\n",
    "# Fit the model on the missing_dropna_df\n",
    "lm_for_impute.fit(lm_fitting_df_X,lm_fitting_df_Y)\n",
    "\n",
    "# Use the model to predict delivery charges\n",
    "pred = lm_for_impute.predict(missing_df[['travel_time_minutes','is_peak_time','is_weekend','restaurant_rating']])"
   ]
  },
  {
   "cell_type": "code",
   "execution_count": 83,
   "metadata": {
    "colab": {
     "base_uri": "https://localhost:8080/"
    },
    "id": "TEH5jPcvLJE1",
    "outputId": "513a1a5e-2645-46c0-9ca1-031356df39ce"
   },
   "outputs": [
    {
     "data": {
      "text/plain": [
       "0         NaN\n",
       "1      4.2142\n",
       "2      2.7626\n",
       "3      4.9467\n",
       "4         NaN\n",
       "        ...  \n",
       "495       NaN\n",
       "496    5.8584\n",
       "497    3.9738\n",
       "498    4.5963\n",
       "499       NaN\n",
       "Name: delivery_charges, Length: 500, dtype: float64"
      ]
     },
     "execution_count": 83,
     "metadata": {},
     "output_type": "execute_result"
    }
   ],
   "source": [
    "# Show delivery_charges before imputation\n",
    "missing_df['delivery_charges']"
   ]
  },
  {
   "cell_type": "code",
   "execution_count": 84,
   "metadata": {
    "colab": {
     "base_uri": "https://localhost:8080/"
    },
    "id": "7YziOlJwLiAV",
    "outputId": "caf5b390-b586-462b-98e3-e8aebcacc204"
   },
   "outputs": [
    {
     "name": "stdout",
     "output_type": "stream",
     "text": [
      "[4.63940251 4.40105522 2.96987465 4.85013308 4.89026367 3.80218263\n",
      " 3.44511474 5.46297403 3.8921427  5.65804404]\n"
     ]
    }
   ],
   "source": [
    "# show first 5 prediction results\n",
    "print(pred[:10])"
   ]
  },
  {
   "cell_type": "code",
   "execution_count": 85,
   "metadata": {
    "colab": {
     "base_uri": "https://localhost:8080/"
    },
    "id": "61xJdv-DL6kX",
    "outputId": "d68ed1af-9510-47fb-9f40-7aa3890ed46f"
   },
   "outputs": [
    {
     "name": "stderr",
     "output_type": "stream",
     "text": [
      "/usr/local/lib/python3.7/dist-packages/ipykernel_launcher.py:2: SettingWithCopyWarning: \n",
      "A value is trying to be set on a copy of a slice from a DataFrame\n",
      "\n",
      "See the caveats in the documentation: https://pandas.pydata.org/pandas-docs/stable/user_guide/indexing.html#returning-a-view-versus-a-copy\n",
      "  \n"
     ]
    },
    {
     "data": {
      "text/plain": [
       "0      4.639403\n",
       "1      4.214200\n",
       "2      2.762600\n",
       "3      4.946700\n",
       "4      4.890264\n",
       "         ...   \n",
       "495    3.065133\n",
       "496    5.858400\n",
       "497    3.973800\n",
       "498    4.596300\n",
       "499    4.101619\n",
       "Name: delivery_charges, Length: 500, dtype: float64"
      ]
     },
     "execution_count": 85,
     "metadata": {},
     "output_type": "execute_result"
    }
   ],
   "source": [
    "# Impute the columns that contain missing values\n",
    "missing_df['delivery_charges'][missing_df['delivery_charges'].isnull()] =pred\n",
    "\n",
    "# Show delivery_charges after imputation\n",
    "missing_df['delivery_charges']"
   ]
  },
  {
   "cell_type": "markdown",
   "metadata": {
    "id": "E4aOoo8bNtm1"
   },
   "source": [
    "###2.5 Writing CSV Output for Missing Dataset Solution"
   ]
  },
  {
   "cell_type": "code",
   "execution_count": 86,
   "metadata": {
    "id": "IZRtWaaUr-Pe"
   },
   "outputs": [],
   "source": [
    "# Writing CSV Output for Missing Dataset Solution\n",
    "missing_df.to_csv('31258301_missing_solution.csv', index = False)"
   ]
  },
  {
   "cell_type": "markdown",
   "metadata": {
    "id": "aYWW4FV7OLWH"
   },
   "source": [
    "###2.6 Summary for Task 2 (Missing Dataset)"
   ]
  },
  {
   "cell_type": "code",
   "execution_count": 87,
   "metadata": {
    "colab": {
     "base_uri": "https://localhost:8080/"
    },
    "id": "dIao2kM9NUwo",
    "outputId": "28d71e30-afef-467d-aa0b-5c3216332271"
   },
   "outputs": [
    {
     "data": {
      "text/plain": [
       "order_id                         0\n",
       "restaurant_id                    0\n",
       "customer_id                      0\n",
       "carrier_id                       0\n",
       "customer_lat                     0\n",
       "customer_lon                     0\n",
       "date                             0\n",
       "time                             0\n",
       "is_peak_time                     0\n",
       "is_weekend                       0\n",
       "carrier_vehicle                  0\n",
       "shopping_cart                    0\n",
       "coupon_discount                  0\n",
       "order_price                      0\n",
       "shortest_distance_to_customer    0\n",
       "travel_time_minutes              0\n",
       "delivery_charges                 0\n",
       "restaurant_rating                0\n",
       "dtype: int64"
      ]
     },
     "execution_count": 87,
     "metadata": {},
     "output_type": "execute_result"
    }
   ],
   "source": [
    "# Check for missing columns\n",
    "missing_df.isnull().sum()"
   ]
  },
  {
   "cell_type": "markdown",
   "metadata": {
    "id": "yFe6NdUm6Ryd"
   },
   "source": [
    "In summary, we explore the missing dataset and investigate attributes that contain null values. We impute 3 columns, which are :\n",
    "\n",
    "- Imputing Restaurant Rating Values -  use similar approach as section 1.7 Checking Restaurant Rating\n",
    "- Imputing Shortest Distance to Customer - use similar approach assection 1.8 Checking Shortest Distance to Customer Column\n",
    "- Imputing Delivery Charges - train model on the rows that have complete data on these features and target variable (delivery charges) to get linear model. After that, we use that model to predict delivery charges and use these values for imputation\n",
    "\n",
    "As a result, final output contains no null columns shown in table above and we export cleaned output to csv file"
   ]
  },
  {
   "cell_type": "markdown",
   "metadata": {
    "id": "RqTbQ9g1uYcN"
   },
   "source": [
    "## Task 3: Detecting and Removing Outlier Rows in Outlier Dataset"
   ]
  },
  {
   "cell_type": "markdown",
   "metadata": {
    "id": "HU5hUiuQaF4J"
   },
   "source": [
    "In this task, we are asked to remove outliers with respect to delivery charges attribute in outlier dataset"
   ]
  },
  {
   "cell_type": "markdown",
   "metadata": {
    "id": "Fzdv2vr7SCwY"
   },
   "source": [
    "####3.1 EDA for Outliers"
   ]
  },
  {
   "cell_type": "markdown",
   "metadata": {
    "id": "SOmJVTRybVhs"
   },
   "source": [
    "Firstly, we start from exploring outlier dataset. Fortunately, we have information that delivery charge is calculated using linear model, which depends on travel_time_minutes, is_peak_time, is_weekend and restaurant rating. In other words, delivery charge is dependent on other factors. In this part, we use boxplot and scatterplot to give an overview of delivery charge distribution and delivery charge VS other factors "
   ]
  },
  {
   "cell_type": "code",
   "execution_count": 88,
   "metadata": {
    "colab": {
     "base_uri": "https://localhost:8080/"
    },
    "id": "wIgtJkLQLeBQ",
    "outputId": "41b208da-2ded-48d2-af77-6ef8d3801d64"
   },
   "outputs": [
    {
     "name": "stdout",
     "output_type": "stream",
     "text": [
      "<class 'pandas.core.frame.DataFrame'>\n",
      "RangeIndex: 500 entries, 0 to 499\n",
      "Data columns (total 17 columns):\n",
      " #   Column                         Non-Null Count  Dtype  \n",
      "---  ------                         --------------  -----  \n",
      " 0   order_id                       500 non-null    object \n",
      " 1   restaurant_id                  500 non-null    object \n",
      " 2   customer_id                    500 non-null    object \n",
      " 3   carrier_id                     500 non-null    object \n",
      " 4   customer_lat                   500 non-null    float64\n",
      " 5   customer_lon                   500 non-null    float64\n",
      " 6   date                           500 non-null    object \n",
      " 7   time                           500 non-null    object \n",
      " 8   is_peak_time                   500 non-null    int64  \n",
      " 9   is_weekend                     500 non-null    int64  \n",
      " 10  carrier_vehicle                500 non-null    object \n",
      " 11  shopping_cart                  500 non-null    object \n",
      " 12  coupon_discount                500 non-null    int64  \n",
      " 13  order_price                    500 non-null    float64\n",
      " 14  shortest_distance_to_customer  500 non-null    int64  \n",
      " 15  travel_time_minutes            500 non-null    int64  \n",
      " 16  delivery_charges               500 non-null    float64\n",
      "dtypes: float64(4), int64(5), object(8)\n",
      "memory usage: 66.5+ KB\n"
     ]
    }
   ],
   "source": [
    "# Briefly look at information about this dataset (No restaurant rating) \n",
    "outlier_df.info()"
   ]
  },
  {
   "cell_type": "code",
   "execution_count": 89,
   "metadata": {
    "colab": {
     "base_uri": "https://localhost:8080/",
     "height": 0
    },
    "id": "cdmgQWS3R8Mt",
    "outputId": "d12337f6-72ad-4310-91f7-e2f546139946"
   },
   "outputs": [
    {
     "data": {
      "text/plain": [
       "<matplotlib.axes._subplots.AxesSubplot at 0x7fd9a1f511d0>"
      ]
     },
     "execution_count": 89,
     "metadata": {},
     "output_type": "execute_result"
    },
    {
     "data": {
      "image/png": "[encoded data removed]",
      "text/plain": [
       "<Figure size 432x288 with 1 Axes>"
      ]
     },
     "metadata": {
      "needs_background": "light"
     },
     "output_type": "display_data"
    }
   ],
   "source": [
    "# Using boxplot to look at delivery charges distribution and potential outliers\n",
    "outlier_df.boxplot(column= 'delivery_charges')"
   ]
  },
  {
   "cell_type": "code",
   "execution_count": 90,
   "metadata": {
    "colab": {
     "base_uri": "https://localhost:8080/",
     "height": 0
    },
    "id": "ujf1AMRfSgvs",
    "outputId": "4f2ec692-2768-4c6f-b701-c2629a7cec37"
   },
   "outputs": [
    {
     "name": "stderr",
     "output_type": "stream",
     "text": [
      "/usr/local/lib/python3.7/dist-packages/numpy/core/_asarray.py:83: VisibleDeprecationWarning: Creating an ndarray from ragged nested sequences (which is a list-or-tuple of lists-or-tuples-or ndarrays with different lengths or shapes) is deprecated. If you meant to do this, you must specify 'dtype=object' when creating the ndarray\n",
      "  return array(a, dtype, copy=False, order=order)\n"
     ]
    },
    {
     "data": {
      "text/plain": [
       "<matplotlib.axes._subplots.AxesSubplot at 0x7fd9a07e0810>"
      ]
     },
     "execution_count": 90,
     "metadata": {},
     "output_type": "execute_result"
    },
    {
     "data": {
      "image/png": "[encoded data removed]",
      "text/plain": [
       "<Figure size 432x288 with 1 Axes>"
      ]
     },
     "metadata": {
      "needs_background": "light"
     },
     "output_type": "display_data"
    }
   ],
   "source": [
    "# Using boxplot to look at delivery charges by is_peak_time\n",
    "outlier_df.boxplot(column= 'delivery_charges', by = 'is_peak_time')"
   ]
  },
  {
   "cell_type": "code",
   "execution_count": 91,
   "metadata": {
    "colab": {
     "base_uri": "https://localhost:8080/",
     "height": 0
    },
    "id": "6auazkuqSuiH",
    "outputId": "cb15d42f-9a38-4fff-d553-cd10bd58a00b"
   },
   "outputs": [
    {
     "name": "stderr",
     "output_type": "stream",
     "text": [
      "/usr/local/lib/python3.7/dist-packages/numpy/core/_asarray.py:83: VisibleDeprecationWarning: Creating an ndarray from ragged nested sequences (which is a list-or-tuple of lists-or-tuples-or ndarrays with different lengths or shapes) is deprecated. If you meant to do this, you must specify 'dtype=object' when creating the ndarray\n",
      "  return array(a, dtype, copy=False, order=order)\n"
     ]
    },
    {
     "data": {
      "text/plain": [
       "<matplotlib.axes._subplots.AxesSubplot at 0x7fd9a0791b10>"
      ]
     },
     "execution_count": 91,
     "metadata": {},
     "output_type": "execute_result"
    },
    {
     "data": {
      "image/png": "[encoded data removed]",
      "text/plain": [
       "<Figure size 432x288 with 1 Axes>"
      ]
     },
     "metadata": {
      "needs_background": "light"
     },
     "output_type": "display_data"
    }
   ],
   "source": [
    " # Using boxplot to look at delivery charges by is_weekend\n",
    " outlier_df.boxplot(column= 'delivery_charges', by = 'is_weekend')"
   ]
  },
  {
   "cell_type": "code",
   "execution_count": 92,
   "metadata": {
    "colab": {
     "base_uri": "https://localhost:8080/",
     "height": 0
    },
    "id": "p95hB9KLT8S2",
    "outputId": "e132286c-903e-4c36-e87c-0d154f2cb566"
   },
   "outputs": [
    {
     "name": "stderr",
     "output_type": "stream",
     "text": [
      "/usr/local/lib/python3.7/dist-packages/numpy/core/_asarray.py:83: VisibleDeprecationWarning: Creating an ndarray from ragged nested sequences (which is a list-or-tuple of lists-or-tuples-or ndarrays with different lengths or shapes) is deprecated. If you meant to do this, you must specify 'dtype=object' when creating the ndarray\n",
      "  return array(a, dtype, copy=False, order=order)\n"
     ]
    },
    {
     "data": {
      "text/plain": [
       "<matplotlib.axes._subplots.AxesSubplot at 0x7fd9a060f350>"
      ]
     },
     "execution_count": 92,
     "metadata": {},
     "output_type": "execute_result"
    },
    {
     "data": {
      "image/png": "[encoded data removed]",
      "text/plain": [
       "<Figure size 432x288 with 1 Axes>"
      ]
     },
     "metadata": {
      "needs_background": "light"
     },
     "output_type": "display_data"
    }
   ],
   "source": [
    "# Using boxplot to look at delivery charges by restaurant_id\n",
    "outlier_df.boxplot(column= 'delivery_charges', by = 'restaurant_id') "
   ]
  },
  {
   "cell_type": "code",
   "execution_count": 93,
   "metadata": {
    "colab": {
     "base_uri": "https://localhost:8080/",
     "height": 0
    },
    "id": "cR3B4l5dTDRJ",
    "outputId": "3a1b3f06-eb78-4fd9-85e4-eb0f1455c21b"
   },
   "outputs": [
    {
     "data": {
      "text/plain": [
       "<matplotlib.axes._subplots.AxesSubplot at 0x7fd9a0507090>"
      ]
     },
     "execution_count": 93,
     "metadata": {},
     "output_type": "execute_result"
    },
    {
     "data": {
      "image/png": "[encoded data removed]",
      "text/plain": [
       "<Figure size 432x288 with 1 Axes>"
      ]
     },
     "metadata": {
      "needs_background": "light"
     },
     "output_type": "display_data"
    }
   ],
   "source": [
    "# Using boxplot to look at delivery charges by restaurant_id\n",
    "outlier_df.plot.scatter(x= 'delivery_charges', y = 'shortest_distance_to_customer')"
   ]
  },
  {
   "cell_type": "markdown",
   "metadata": {
    "id": "vMb_FQiKc54K"
   },
   "source": [
    "From the figures above,they illustrate only one or two dimensional data, which gives an overview of delivery charge and how the varible relates to other factors with potetial outliers. However, outliers in higher dimension cannot be easily detected from the previous graphs, so we will utilise linear regression, which we know that delivery charge is derived from this model, and look at distribution of residuals."
   ]
  },
  {
   "cell_type": "markdown",
   "metadata": {
    "id": "_AlQ0YEheTZp"
   },
   "source": [
    "####3.2 Detecting Outlier from Linear Model"
   ]
  },
  {
   "cell_type": "markdown",
   "metadata": {
    "id": "PgkrOAMqeYpO"
   },
   "source": [
    "As we mention in the previous section, we will train linear model and look at residual distribution from the model to identify potential outliers. The following steps are performed\n",
    "\n",
    "- Prepare features for linear model\n",
    "- Fit the model \n",
    "- Use the model to predict delivery charges\n",
    "- Create residual df to compare predicted and actual results with residual\n",
    "- Visualise residual using boxplot\n",
    "- Visualise residual VS predicted delivery charge using scatterplot\n",
    "- Visualise actual VS predicted delivery charge using scatterplot\n"
   ]
  },
  {
   "cell_type": "code",
   "execution_count": 94,
   "metadata": {
    "id": "ZxFxgPTrTZ6J"
   },
   "outputs": [],
   "source": [
    "# Prepare features for linear model\n",
    "outlier_features = outlier_df[['travel_time_minutes','is_peak_time','is_weekend','restaurant_id']]\n",
    "outlier_features = outlier_features.merge(select_rest_df[['restaurant_id','restaurant_rating']],how ='left',on ='restaurant_id')\n",
    "outlier_features.drop(columns= 'restaurant_id',inplace=True)\n",
    "\n",
    "# Prepare labels for linear model\n",
    "outlier_label = outlier_df['delivery_charges']"
   ]
  },
  {
   "cell_type": "code",
   "execution_count": 95,
   "metadata": {
    "id": "wzsW2LPxTSoQ"
   },
   "outputs": [],
   "source": [
    "# Initialise linear regression\n",
    "lm_for_outlier = LinearRegression()\n",
    "\n",
    "# Fit the model \n",
    "lm_for_outlier.fit(outlier_features,outlier_label)\n",
    "\n",
    "# Use the model to predict delivery charges\n",
    "pred_outlier = lm_for_outlier.predict(outlier_features[['travel_time_minutes','is_peak_time','is_weekend','restaurant_rating']])\n"
   ]
  },
  {
   "cell_type": "code",
   "execution_count": 96,
   "metadata": {
    "id": "Z7kVmjgdV1eS"
   },
   "outputs": [],
   "source": [
    "# Create residual df to compare predicted and actual results with residual\n",
    "residual_df = pd.DataFrame()\n",
    "residual_df['actual_delivery_charges'] = outlier_label\n",
    "residual_df['predicted_delivery_charges'] = pred_outlier\n",
    "residual_df['residual'] = outlier_label-pred_outlier"
   ]
  },
  {
   "cell_type": "code",
   "execution_count": 97,
   "metadata": {
    "colab": {
     "base_uri": "https://localhost:8080/",
     "height": 282
    },
    "id": "jAzx2bATWrqB",
    "outputId": "1b03e427-c4f4-4b28-b5a4-67c6af00cc50"
   },
   "outputs": [
    {
     "data": {
      "text/plain": [
       "<matplotlib.axes._subplots.AxesSubplot at 0x7fd9a0394610>"
      ]
     },
     "execution_count": 97,
     "metadata": {},
     "output_type": "execute_result"
    },
    {
     "data": {
      "image/png": "[encoded data removed]",
      "text/plain": [
       "<Figure size 432x288 with 1 Axes>"
      ]
     },
     "metadata": {
      "needs_background": "light"
     },
     "output_type": "display_data"
    }
   ],
   "source": [
    "# Visualise residual using boxplot\n",
    "residual_df[['residual']].boxplot()"
   ]
  },
  {
   "cell_type": "code",
   "execution_count": 98,
   "metadata": {
    "colab": {
     "base_uri": "https://localhost:8080/",
     "height": 298
    },
    "id": "VXRch11Uknw3",
    "outputId": "6b954a1a-5080-496c-c9da-13aad473ff00"
   },
   "outputs": [
    {
     "data": {
      "text/plain": [
       "<matplotlib.axes._subplots.AxesSubplot at 0x7fd9a051d490>"
      ]
     },
     "execution_count": 98,
     "metadata": {},
     "output_type": "execute_result"
    },
    {
     "data": {
      "image/png": "[encoded data removed]",
      "text/plain": [
       "<Figure size 432x288 with 1 Axes>"
      ]
     },
     "metadata": {
      "needs_background": "light"
     },
     "output_type": "display_data"
    }
   ],
   "source": [
    "# Visualise residual VS predicted delivery charge using scatterplot\n",
    "residual_df.plot.scatter(x= 'predicted_delivery_charges', y = 'residual')"
   ]
  },
  {
   "cell_type": "code",
   "execution_count": 99,
   "metadata": {
    "colab": {
     "base_uri": "https://localhost:8080/",
     "height": 298
    },
    "id": "Unh83GLotv_2",
    "outputId": "7a8ea757-3433-4366-ea4b-d2d7577c3d40"
   },
   "outputs": [
    {
     "data": {
      "text/plain": [
       "<matplotlib.axes._subplots.AxesSubplot at 0x7fd9a06c0350>"
      ]
     },
     "execution_count": 99,
     "metadata": {},
     "output_type": "execute_result"
    },
    {
     "data": {
      "image/png": "[encoded data removed]",
      "text/plain": [
       "<Figure size 432x288 with 1 Axes>"
      ]
     },
     "metadata": {
      "needs_background": "light"
     },
     "output_type": "display_data"
    }
   ],
   "source": [
    "# Visualise actual VS predicted delivery charge using scatterplot\n",
    "residual_df.plot.scatter(x= 'predicted_delivery_charges', y = 'actual_delivery_charges')"
   ]
  },
  {
   "cell_type": "markdown",
   "metadata": {
    "id": "ze2lJxgqp5RW"
   },
   "source": [
    "####3.3 Removing Outlier "
   ]
  },
  {
   "cell_type": "markdown",
   "metadata": {
    "id": "UDJKs-fL7x2D"
   },
   "source": [
    "After the linear model is trained, we can use residual from the predicted vs actual results as a measurement to identify outliers. Detecting outliers can be done several ways, in this case, we will use :\n",
    "\n",
    "- Quartile-based Detection and Boxplot\n",
    "- The 3 std edit rule\n",
    "- The Hampel Identifier\n",
    "\n",
    "on the residual from the linear model. After that we will try to remove outliers for each criteria and use graphic visualisation to look at residual distribution, residual VS predicted delivery charge and actual VS predicted delivery charge."
   ]
  },
  {
   "cell_type": "markdown",
   "metadata": {
    "id": "Ff4EVwsTqAgi"
   },
   "source": [
    "Quartile-based Detection and Boxplot"
   ]
  },
  {
   "cell_type": "code",
   "execution_count": 100,
   "metadata": {
    "id": "bdpbSTXyUdDt"
   },
   "outputs": [],
   "source": [
    "  # Find q1 and q3\n",
    "  quantile1 = residual_df['residual'].quantile(0.25)\n",
    "  quantile3 = residual_df['residual'].quantile(0.75)\n",
    "\n",
    "  # Calculate Interquatile range\n",
    "  IQR = quantile3 - quantile1\n",
    "\n",
    "  # Find lower and upper whisker\n",
    "  lower_whisker = quantile1 - (1.5*IQR)\n",
    "  upper_whisker = (quantile3 + (1.5 * IQR))\n",
    "\n",
    "# Identify outliers\n",
    "  outlier_boxplot_check = (residual_df['residual'] > upper_whisker) | (residual_df['residual'] < lower_whisker)\n",
    " \n",
    " # Remove outlier using quartile based detection\n",
    "  without_boxplot_outlier_df = residual_df[~outlier_boxplot_check]"
   ]
  },
  {
   "cell_type": "code",
   "execution_count": 101,
   "metadata": {
    "colab": {
     "base_uri": "https://localhost:8080/",
     "height": 0
    },
    "id": "OWung67aWZm-",
    "outputId": "9e6605ee-2beb-4ef6-877d-dd7ee2e75e75"
   },
   "outputs": [
    {
     "data": {
      "text/plain": [
       "<matplotlib.axes._subplots.AxesSubplot at 0x7fd9a04a6510>"
      ]
     },
     "execution_count": 101,
     "metadata": {},
     "output_type": "execute_result"
    },
    {
     "data": {
      "image/png": "[encoded data removed]",
      "text/plain": [
       "<Figure size 432x288 with 1 Axes>"
      ]
     },
     "metadata": {
      "needs_background": "light"
     },
     "output_type": "display_data"
    }
   ],
   "source": [
    "# Visualise residual using boxplot\n",
    "without_boxplot_outlier_df[['residual']].boxplot()"
   ]
  },
  {
   "cell_type": "code",
   "execution_count": 102,
   "metadata": {
    "colab": {
     "base_uri": "https://localhost:8080/",
     "height": 0
    },
    "id": "tDCtNMEkWzJC",
    "outputId": "11c0ca14-1e95-4c19-ac57-e0f88a1f7b12"
   },
   "outputs": [
    {
     "data": {
      "text/plain": [
       "<matplotlib.axes._subplots.AxesSubplot at 0x7fd997a29b50>"
      ]
     },
     "execution_count": 102,
     "metadata": {},
     "output_type": "execute_result"
    },
    {
     "data": {
      "image/png": "[encoded data removed]",
      "text/plain": [
       "<Figure size 432x288 with 1 Axes>"
      ]
     },
     "metadata": {
      "needs_background": "light"
     },
     "output_type": "display_data"
    }
   ],
   "source": [
    "# Visualise residual VS predicted delivery charge using scatterplot\n",
    "without_boxplot_outlier_df.plot.scatter(x= 'predicted_delivery_charges', y = 'residual')"
   ]
  },
  {
   "cell_type": "code",
   "execution_count": 103,
   "metadata": {
    "colab": {
     "base_uri": "https://localhost:8080/",
     "height": 0
    },
    "id": "Jj62djRgW8Re",
    "outputId": "d4ee28e2-8a1b-4107-a4a0-f334355793d5"
   },
   "outputs": [
    {
     "data": {
      "text/plain": [
       "<matplotlib.axes._subplots.AxesSubplot at 0x7fd99798f190>"
      ]
     },
     "execution_count": 103,
     "metadata": {},
     "output_type": "execute_result"
    },
    {
     "data": {
      "image/png": "[encoded data removed]",
      "text/plain": [
       "<Figure size 432x288 with 1 Axes>"
      ]
     },
     "metadata": {
      "needs_background": "light"
     },
     "output_type": "display_data"
    }
   ],
   "source": [
    "# Visualise actual VS predicted delivery charge using scatterplot\n",
    "without_boxplot_outlier_df.plot.scatter(x= 'predicted_delivery_charges', y = 'actual_delivery_charges')"
   ]
  },
  {
   "cell_type": "code",
   "execution_count": 104,
   "metadata": {
    "colab": {
     "base_uri": "https://localhost:8080/"
    },
    "id": "LyNJnlGXWs3e",
    "outputId": "869e64b0-9e7b-4a4e-edd3-6d47df4551e0"
   },
   "outputs": [
    {
     "data": {
      "text/plain": [
       "(450, 3)"
      ]
     },
     "execution_count": 104,
     "metadata": {},
     "output_type": "execute_result"
    }
   ],
   "source": [
    "# Show the shape of data after removing outlier\n",
    "without_boxplot_outlier_df.shape"
   ]
  },
  {
   "cell_type": "markdown",
   "metadata": {
    "id": "ZkNcv7O0qkwz"
   },
   "source": [
    "The 3 std edit rule"
   ]
  },
  {
   "cell_type": "code",
   "execution_count": 105,
   "metadata": {
    "id": "n5nZVJvEXn8A"
   },
   "outputs": [],
   "source": [
    "# Calculate mean\n",
    "rs_mean = np.mean(residual_df['residual'])\n",
    "\n",
    "# Calculate standard deviation\n",
    "rs_std = np.std(residual_df['residual'])\n",
    "\n",
    "# Find lower and upper bound (mu+3std)\n",
    "upper_bound_3std = rs_mean + 3*rs_std\n",
    "lower_bound_3std = rs_mean - 3*rs_std\n",
    "\n",
    "# Remove outlier using 3std rule\n",
    "outlier_check_std = (residual_df['residual'] > upper_bound_3std) | (residual_df['residual'] < lower_bound_3std)\n",
    "\n",
    "# Remove outlier using quartile based detection\n",
    "without_std_outlier_df = residual_df[~outlier_check_std]\n"
   ]
  },
  {
   "cell_type": "code",
   "execution_count": 106,
   "metadata": {
    "colab": {
     "base_uri": "https://localhost:8080/",
     "height": 0
    },
    "id": "fxM88zodvaTg",
    "outputId": "7a50227d-41d3-460b-c378-8d7ba52f124d"
   },
   "outputs": [
    {
     "data": {
      "text/plain": [
       "<matplotlib.axes._subplots.AxesSubplot at 0x7fd997a05f50>"
      ]
     },
     "execution_count": 106,
     "metadata": {},
     "output_type": "execute_result"
    },
    {
     "data": {
      "image/png": "[encoded data removed]",
      "text/plain": [
       "<Figure size 432x288 with 1 Axes>"
      ]
     },
     "metadata": {
      "needs_background": "light"
     },
     "output_type": "display_data"
    }
   ],
   "source": [
    "# Visualise residual using boxplot\n",
    "without_std_outlier_df[['residual']].boxplot()"
   ]
  },
  {
   "cell_type": "code",
   "execution_count": 107,
   "metadata": {
    "colab": {
     "base_uri": "https://localhost:8080/",
     "height": 0
    },
    "id": "plzh8eQiYmEn",
    "outputId": "01c95737-68c9-4c68-b0b6-58fa9f9aa8b5"
   },
   "outputs": [
    {
     "data": {
      "text/plain": [
       "<matplotlib.axes._subplots.AxesSubplot at 0x7fd9979d4310>"
      ]
     },
     "execution_count": 107,
     "metadata": {},
     "output_type": "execute_result"
    },
    {
     "data": {
      "image/png": "[encoded data removed]",
      "text/plain": [
       "<Figure size 432x288 with 1 Axes>"
      ]
     },
     "metadata": {
      "needs_background": "light"
     },
     "output_type": "display_data"
    }
   ],
   "source": [
    "#  Visualise residual VS predicted delivery charge using scatterplot\n",
    "without_std_outlier_df.plot.scatter(x= 'predicted_delivery_charges', y = 'actual_delivery_charges')"
   ]
  },
  {
   "cell_type": "code",
   "execution_count": 108,
   "metadata": {
    "colab": {
     "base_uri": "https://localhost:8080/",
     "height": 0
    },
    "id": "UJef7EyJY0CU",
    "outputId": "b387a97b-4b31-4e6c-d7fd-48ec84a16f93"
   },
   "outputs": [
    {
     "data": {
      "text/plain": [
       "<matplotlib.axes._subplots.AxesSubplot at 0x7fd997858610>"
      ]
     },
     "execution_count": 108,
     "metadata": {},
     "output_type": "execute_result"
    },
    {
     "data": {
      "image/png": "[encoded data removed]",
      "text/plain": [
       "<Figure size 432x288 with 1 Axes>"
      ]
     },
     "metadata": {
      "needs_background": "light"
     },
     "output_type": "display_data"
    }
   ],
   "source": [
    "# Visualise actual VS predicted delivery charge using scatterplot\n",
    "without_std_outlier_df.plot.scatter(x= 'predicted_delivery_charges', y = 'residual')"
   ]
  },
  {
   "cell_type": "code",
   "execution_count": 109,
   "metadata": {
    "colab": {
     "base_uri": "https://localhost:8080/"
    },
    "id": "idWXsAASzBN0",
    "outputId": "afb5a368-d452-4dcc-a2ba-2e60f4dce2fa"
   },
   "outputs": [
    {
     "data": {
      "text/plain": [
       "(478, 3)"
      ]
     },
     "execution_count": 109,
     "metadata": {},
     "output_type": "execute_result"
    }
   ],
   "source": [
    "without_std_outlier_df.shape"
   ]
  },
  {
   "cell_type": "markdown",
   "metadata": {
    "id": "z_toowxNzChO"
   },
   "source": [
    "The Hampel Identifier"
   ]
  },
  {
   "cell_type": "code",
   "execution_count": 110,
   "metadata": {
    "id": "7GOlnAJDzHcD"
   },
   "outputs": [],
   "source": [
    "# Caculating Zeta\n",
    "s = 1.4826 * np.median(np.absolute(residual_df['residual']- np.median(residual_df['residual'])))\n",
    "\n",
    "# Check the outliers\n",
    "outlier_check_hampel = (np.absolute(residual_df['residual'] - np.median(residual_df['residual'])) > 3*s)\n",
    "\n",
    "# Remove the outliers\n",
    "without_hampel_outlier_df = residual_df[~outlier_check_hampel]"
   ]
  },
  {
   "cell_type": "code",
   "execution_count": 111,
   "metadata": {
    "colab": {
     "base_uri": "https://localhost:8080/",
     "height": 0
    },
    "id": "50OZtt-x1e1c",
    "outputId": "3b999b55-04f6-4d28-b9d2-b08ff361cf79"
   },
   "outputs": [
    {
     "data": {
      "text/plain": [
       "<matplotlib.axes._subplots.AxesSubplot at 0x7fd99784c4d0>"
      ]
     },
     "execution_count": 111,
     "metadata": {},
     "output_type": "execute_result"
    },
    {
     "data": {
      "image/png": "[encoded data removed]",
      "text/plain": [
       "<Figure size 432x288 with 1 Axes>"
      ]
     },
     "metadata": {
      "needs_background": "light"
     },
     "output_type": "display_data"
    }
   ],
   "source": [
    "# Visualise residual using boxplot\n",
    "without_hampel_outlier_df[['residual']].boxplot()"
   ]
  },
  {
   "cell_type": "code",
   "execution_count": 112,
   "metadata": {
    "colab": {
     "base_uri": "https://localhost:8080/",
     "height": 0
    },
    "id": "RmBEV9El1l-j",
    "outputId": "397e9042-596f-4e7d-e200-7dae0722240e"
   },
   "outputs": [
    {
     "data": {
      "text/plain": [
       "<matplotlib.axes._subplots.AxesSubplot at 0x7fd9977afb10>"
      ]
     },
     "execution_count": 112,
     "metadata": {},
     "output_type": "execute_result"
    },
    {
     "data": {
      "image/png": "[encoded data removed]",
      "text/plain": [
       "<Figure size 432x288 with 1 Axes>"
      ]
     },
     "metadata": {
      "needs_background": "light"
     },
     "output_type": "display_data"
    }
   ],
   "source": [
    "# Visualise actual VS predicted delivery charge using scatterplot\n",
    "without_hampel_outlier_df.plot.scatter(x= 'predicted_delivery_charges', y = 'actual_delivery_charges')"
   ]
  },
  {
   "cell_type": "code",
   "execution_count": 113,
   "metadata": {
    "colab": {
     "base_uri": "https://localhost:8080/",
     "height": 0
    },
    "id": "sQlzh3_t1vpL",
    "outputId": "f3aa78cf-ef97-426d-cae7-6718cff10f2c"
   },
   "outputs": [
    {
     "data": {
      "text/plain": [
       "<matplotlib.axes._subplots.AxesSubplot at 0x7fd997720750>"
      ]
     },
     "execution_count": 113,
     "metadata": {},
     "output_type": "execute_result"
    },
    {
     "data": {
      "image/png": "[encoded data removed]",
      "text/plain": [
       "<Figure size 432x288 with 1 Axes>"
      ]
     },
     "metadata": {
      "needs_background": "light"
     },
     "output_type": "display_data"
    }
   ],
   "source": [
    "\n",
    "#  Visualise residual VS predicted delivery charge using scatterplot\n",
    "without_hampel_outlier_df.plot.scatter(x= 'predicted_delivery_charges', y = 'residual')"
   ]
  },
  {
   "cell_type": "code",
   "execution_count": 114,
   "metadata": {
    "colab": {
     "base_uri": "https://localhost:8080/"
    },
    "id": "EebJHa5w1XV5",
    "outputId": "d5fdc4e7-39f6-4b2f-aaad-1d412c0975a7"
   },
   "outputs": [
    {
     "data": {
      "text/plain": [
       "(450, 3)"
      ]
     },
     "execution_count": 114,
     "metadata": {},
     "output_type": "execute_result"
    }
   ],
   "source": [
    "without_hampel_outlier_df.shape"
   ]
  },
  {
   "cell_type": "markdown",
   "metadata": {
    "id": "LhPAQ0Dp387v"
   },
   "source": [
    "As a result, we design to remove outliers from outlier dataset using Quartile-based Detection and Boxplot since it gives satisfied results from the plots, which are :\n",
    "\n",
    "-Residual using boxplot - Most data is distributed between upper and lower whisker\n",
    "\n",
    "-Actual VS Predicted delivery charge scatterplot - these two values seem to have nice linear relationship\n",
    "\n",
    "-Residual VS Predicted delivery - The residual seems to be random as predicted value increases satisfying homoscedasticity assumption for linear regression"
   ]
  },
  {
   "cell_type": "code",
   "execution_count": 115,
   "metadata": {
    "id": "DftZa1_64NHa"
   },
   "outputs": [],
   "source": [
    "# Remove outlier\n",
    "outlier_df = outlier_df[~outlier_boxplot_check]"
   ]
  },
  {
   "cell_type": "code",
   "execution_count": 116,
   "metadata": {
    "colab": {
     "base_uri": "https://localhost:8080/"
    },
    "id": "xSBCG6T6joVX",
    "outputId": "712dd153-1b16-4c82-c5ed-f994c5198430"
   },
   "outputs": [
    {
     "data": {
      "text/plain": [
       "(450, 17)"
      ]
     },
     "execution_count": 116,
     "metadata": {},
     "output_type": "execute_result"
    }
   ],
   "source": [
    "outlier_df.shape"
   ]
  },
  {
   "cell_type": "markdown",
   "metadata": {
    "id": "gvVRz5FI5RmD"
   },
   "source": [
    "###3.3 Writing CSV Output for Outlier Dataset Solution"
   ]
  },
  {
   "cell_type": "code",
   "execution_count": 117,
   "metadata": {
    "id": "hPM5Xsii49iW"
   },
   "outputs": [],
   "source": [
    "# Writing CSV Output for outlier Dataset Solution\n",
    "outlier_df.to_csv('31258301_outlier_solution.csv', index = False)"
   ]
  },
  {
   "cell_type": "markdown",
   "metadata": {
    "id": "xIUGPzLKemSQ"
   },
   "source": [
    "###3.4 Summary for Task 3 (Outlier data)"
   ]
  },
  {
   "cell_type": "markdown",
   "metadata": {
    "id": "duCISiv1ev4i"
   },
   "source": [
    "First, we start from EDA for outliers in delivery charge column, then we develop linear model and obtain residual of each data point. After that, we use boxplot and scatterplot to visualise and detect potential outliers. Finally, we use quantile-based and boxplot method to remove those outliers and visualise the graph to make sure that removing outliers is a appropriate method for this column"
   ]
  }
 ],
 "metadata": {
  "colab": {
   "collapsed_sections": [
    "6i_nleq4454y",
    "Ke_ZenzxM7D2",
    "ZZrJQ6JFQUit",
    "gcpqMv0bV3Cq",
    "1o7Sp-rqI_Ox",
    "BNtIxw9z6nQy",
    "C3-BxfA6Rqwo",
    "BS5rZoRuRvh9",
    "MZ850NdTbd6c",
    "ReR7HGA3WXcr",
    "-o6qP4qrRYvW",
    "lWBxa2kzTa69",
    "OgsFe808STvs",
    "aifmWyK2ajKG",
    "XsXfhhul7DQE",
    "E4aOoo8bNtm1",
    "aYWW4FV7OLWH",
    "Fzdv2vr7SCwY",
    "ze2lJxgqp5RW"
   ],
   "name": "31258301_ass2.ipynb",
   "provenance": []
  },
  "kernelspec": {
   "display_name": "Python 3",
   "language": "python",
   "name": "python3"
  },
  "language_info": {
   "codemirror_mode": {
    "name": "ipython",
    "version": 3
   },
   "file_extension": ".py",
   "mimetype": "text/x-python",
   "name": "python",
   "nbconvert_exporter": "python",
   "pygments_lexer": "ipython3",
   "version": "3.8.8"
  }
 },
 "nbformat": 4,
 "nbformat_minor": 1
}
